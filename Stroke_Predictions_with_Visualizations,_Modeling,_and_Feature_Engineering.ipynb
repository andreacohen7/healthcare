{
  "cells": [
    {
      "cell_type": "markdown",
      "metadata": {
        "id": "view-in-github",
        "colab_type": "text"
      },
      "source": [
        "<a href=\"https://colab.research.google.com/github/andreacohen7/healthcare/blob/main/Stroke_Predictions_with_Visualizations%2C_Modeling%2C_and_Feature_Engineering.ipynb\" target=\"_parent\"><img src=\"https://colab.research.google.com/assets/colab-badge.svg\" alt=\"Open In Colab\"/></a>"
      ]
    },
    {
      "cell_type": "markdown",
      "metadata": {
        "id": "C4vR1D5m5qfE"
      },
      "source": [
        "# Stroke Predictions\n",
        "- Andrea Cohen\n",
        "- 01.25.23"
      ]
    },
    {
      "cell_type": "markdown",
      "metadata": {
        "id": "GAKy6uFR533Q"
      },
      "source": [
        "## Task\n",
        "  - To predict whether a patient is likely to have a stroke based on the input parameters like gender, age, various diseases, and smoking status."
      ]
    },
    {
      "cell_type": "markdown",
      "metadata": {
        "id": "qeKz02pX6EIJ"
      },
      "source": [
        "## Data\n",
        "Stroke Prediction Dataset.  \n",
        "11 clinical features for predicting stroke events\n",
        "- Source --\n",
        "  - https://www.kaggle.com/datasets/fedesoriano/stroke-prediction-dataset?resource=download\n",
        "- Context --\n",
        "  - According to the World Health Organization (WHO) stroke is the 2nd leading cause of death globally, responsible for approximately 11% of total deaths.  \n",
        "  - This dataset is used to predict whether a patient is likely to have a stroke based on the input parameters like gender, age, various diseases, and smoking status. Each row in the data provides relevent information about the patient.\n"
      ]
    },
    {
      "cell_type": "markdown",
      "metadata": {
        "id": "m37LzHor8zb9"
      },
      "source": [
        "## Data Dictionary\n",
        "\n",
        "Variable Name\t| Description\n",
        "---| ---\n",
        "id |\tunique identifier\n",
        "gender |\t\"Male\", \"Female\" or \"Other\"\n",
        "age |\tage of the patient\n",
        "hypertension |\t0 if the patient doesn't have hypertension, 1 if the patient has hypertension\n",
        "heart_disease |\t0 if the patient doesn't have any heart diseases, 1 if the patient has a heart disease\n",
        "ever_married |\t\"No\" or \"Yes\"\n",
        "work_type |\t\"children\", \"Govt_jov\", \"Never_worked\", \"Private\" or \"Self-employed\"\n",
        "Residence_type |\t\"Rural\" or \"Urban\"\n",
        "avg_glucose_level |\taverage glucose level in blood\n",
        "bmi |\tbody mass index\n",
        "smoking_status |\t\"formerly smoked\", \"never smoked\", \"smokes\" or \"Unknown\"*\n",
        "stroke |\t1 if the patient had a stroke or 0 if not\n",
        "\n",
        " *Note: \"Unknown\" in smoking_status means that the information is unavailable for this patient"
      ]
    },
    {
      "cell_type": "markdown",
      "metadata": {
        "id": "O_djEwCm_u3F"
      },
      "source": [
        "## Preliminary Steps"
      ]
    },
    {
      "cell_type": "markdown",
      "metadata": {
        "id": "PTL7RaWP_0ny"
      },
      "source": [
        "### Mount the drive"
      ]
    },
    {
      "cell_type": "code",
      "execution_count": 1,
      "metadata": {
        "colab": {
          "base_uri": "https://localhost:8080/"
        },
        "id": "YnhBEoOD_5wd",
        "outputId": "e6066190-12a3-4d22-ad7a-53ec4ed0a22b"
      },
      "outputs": [
        {
          "output_type": "stream",
          "name": "stdout",
          "text": [
            "Mounted at /content/drive\n"
          ]
        }
      ],
      "source": [
        "from google.colab import drive\n",
        "drive.mount('/content/drive')"
      ]
    },
    {
      "cell_type": "markdown",
      "metadata": {
        "id": "f6nkG5xHADT7"
      },
      "source": [
        "### Import libraries"
      ]
    },
    {
      "cell_type": "code",
      "execution_count": 2,
      "metadata": {
        "id": "5dH7JC83AGct"
      },
      "outputs": [],
      "source": [
        "import pandas as pd\n",
        "import numpy as np\n",
        "import matplotlib.pyplot as plt\n",
        "import seaborn as sns\n",
        "from sklearn.model_selection import train_test_split, GridSearchCV\n",
        "from sklearn.pipeline import make_pipeline\n",
        "from sklearn.preprocessing import OneHotEncoder, StandardScaler\n",
        "from sklearn.impute import SimpleImputer\n",
        "from sklearn.compose import make_column_selector, make_column_transformer\n",
        "from sklearn.ensemble import RandomForestClassifier\n",
        "from sklearn.linear_model import LogisticRegression\n",
        "from lightgbm import LGBMClassifier\n",
        "from sklearn.metrics import ConfusionMatrixDisplay, classification_report\n",
        "from imblearn.pipeline import make_pipeline as make_sampler_pipeline\n",
        "from imblearn.over_sampling import SMOTE\n",
        "from sklearn.decomposition import PCA\n",
        "from sklearn import set_config\n",
        "set_config(display='diagram')"
      ]
    },
    {
      "cell_type": "markdown",
      "metadata": {
        "id": "xneazDQDAL9y"
      },
      "source": [
        "## Load and inspect the data"
      ]
    },
    {
      "cell_type": "markdown",
      "metadata": {
        "id": "_Edj24CNAbh4"
      },
      "source": [
        "### Load the dataset"
      ]
    },
    {
      "cell_type": "code",
      "execution_count": 3,
      "metadata": {
        "colab": {
          "base_uri": "https://localhost:8080/",
          "height": 577
        },
        "id": "94d3W9w3AZQm",
        "outputId": "e4d9f9cc-0aa1-4783-f98e-53bf0cb3891a"
      },
      "outputs": [
        {
          "output_type": "display_data",
          "data": {
            "text/plain": [
              "       gender   age  hypertension  heart_disease ever_married      work_type  \\\n",
              "id                                                                             \n",
              "9046     Male  67.0             0              1          Yes        Private   \n",
              "51676  Female  61.0             0              0          Yes  Self-employed   \n",
              "31112    Male  80.0             0              1          Yes        Private   \n",
              "60182  Female  49.0             0              0          Yes        Private   \n",
              "1665   Female  79.0             1              0          Yes  Self-employed   \n",
              "\n",
              "      Residence_type  avg_glucose_level   bmi   smoking_status  stroke  \n",
              "id                                                                      \n",
              "9046           Urban             228.69  36.6  formerly smoked       1  \n",
              "51676          Rural             202.21   NaN     never smoked       1  \n",
              "31112          Rural             105.92  32.5     never smoked       1  \n",
              "60182          Urban             171.23  34.4           smokes       1  \n",
              "1665           Rural             174.12  24.0     never smoked       1  "
            ],
            "text/html": [
              "\n",
              "  <div id=\"df-8814eb29-eb08-49cd-b32e-9f6051ed4186\">\n",
              "    <div class=\"colab-df-container\">\n",
              "      <div>\n",
              "<style scoped>\n",
              "    .dataframe tbody tr th:only-of-type {\n",
              "        vertical-align: middle;\n",
              "    }\n",
              "\n",
              "    .dataframe tbody tr th {\n",
              "        vertical-align: top;\n",
              "    }\n",
              "\n",
              "    .dataframe thead th {\n",
              "        text-align: right;\n",
              "    }\n",
              "</style>\n",
              "<table border=\"1\" class=\"dataframe\">\n",
              "  <thead>\n",
              "    <tr style=\"text-align: right;\">\n",
              "      <th></th>\n",
              "      <th>gender</th>\n",
              "      <th>age</th>\n",
              "      <th>hypertension</th>\n",
              "      <th>heart_disease</th>\n",
              "      <th>ever_married</th>\n",
              "      <th>work_type</th>\n",
              "      <th>Residence_type</th>\n",
              "      <th>avg_glucose_level</th>\n",
              "      <th>bmi</th>\n",
              "      <th>smoking_status</th>\n",
              "      <th>stroke</th>\n",
              "    </tr>\n",
              "    <tr>\n",
              "      <th>id</th>\n",
              "      <th></th>\n",
              "      <th></th>\n",
              "      <th></th>\n",
              "      <th></th>\n",
              "      <th></th>\n",
              "      <th></th>\n",
              "      <th></th>\n",
              "      <th></th>\n",
              "      <th></th>\n",
              "      <th></th>\n",
              "      <th></th>\n",
              "    </tr>\n",
              "  </thead>\n",
              "  <tbody>\n",
              "    <tr>\n",
              "      <th>9046</th>\n",
              "      <td>Male</td>\n",
              "      <td>67.0</td>\n",
              "      <td>0</td>\n",
              "      <td>1</td>\n",
              "      <td>Yes</td>\n",
              "      <td>Private</td>\n",
              "      <td>Urban</td>\n",
              "      <td>228.69</td>\n",
              "      <td>36.6</td>\n",
              "      <td>formerly smoked</td>\n",
              "      <td>1</td>\n",
              "    </tr>\n",
              "    <tr>\n",
              "      <th>51676</th>\n",
              "      <td>Female</td>\n",
              "      <td>61.0</td>\n",
              "      <td>0</td>\n",
              "      <td>0</td>\n",
              "      <td>Yes</td>\n",
              "      <td>Self-employed</td>\n",
              "      <td>Rural</td>\n",
              "      <td>202.21</td>\n",
              "      <td>NaN</td>\n",
              "      <td>never smoked</td>\n",
              "      <td>1</td>\n",
              "    </tr>\n",
              "    <tr>\n",
              "      <th>31112</th>\n",
              "      <td>Male</td>\n",
              "      <td>80.0</td>\n",
              "      <td>0</td>\n",
              "      <td>1</td>\n",
              "      <td>Yes</td>\n",
              "      <td>Private</td>\n",
              "      <td>Rural</td>\n",
              "      <td>105.92</td>\n",
              "      <td>32.5</td>\n",
              "      <td>never smoked</td>\n",
              "      <td>1</td>\n",
              "    </tr>\n",
              "    <tr>\n",
              "      <th>60182</th>\n",
              "      <td>Female</td>\n",
              "      <td>49.0</td>\n",
              "      <td>0</td>\n",
              "      <td>0</td>\n",
              "      <td>Yes</td>\n",
              "      <td>Private</td>\n",
              "      <td>Urban</td>\n",
              "      <td>171.23</td>\n",
              "      <td>34.4</td>\n",
              "      <td>smokes</td>\n",
              "      <td>1</td>\n",
              "    </tr>\n",
              "    <tr>\n",
              "      <th>1665</th>\n",
              "      <td>Female</td>\n",
              "      <td>79.0</td>\n",
              "      <td>1</td>\n",
              "      <td>0</td>\n",
              "      <td>Yes</td>\n",
              "      <td>Self-employed</td>\n",
              "      <td>Rural</td>\n",
              "      <td>174.12</td>\n",
              "      <td>24.0</td>\n",
              "      <td>never smoked</td>\n",
              "      <td>1</td>\n",
              "    </tr>\n",
              "  </tbody>\n",
              "</table>\n",
              "</div>\n",
              "      <button class=\"colab-df-convert\" onclick=\"convertToInteractive('df-8814eb29-eb08-49cd-b32e-9f6051ed4186')\"\n",
              "              title=\"Convert this dataframe to an interactive table.\"\n",
              "              style=\"display:none;\">\n",
              "        \n",
              "  <svg xmlns=\"http://www.w3.org/2000/svg\" height=\"24px\"viewBox=\"0 0 24 24\"\n",
              "       width=\"24px\">\n",
              "    <path d=\"M0 0h24v24H0V0z\" fill=\"none\"/>\n",
              "    <path d=\"M18.56 5.44l.94 2.06.94-2.06 2.06-.94-2.06-.94-.94-2.06-.94 2.06-2.06.94zm-11 1L8.5 8.5l.94-2.06 2.06-.94-2.06-.94L8.5 2.5l-.94 2.06-2.06.94zm10 10l.94 2.06.94-2.06 2.06-.94-2.06-.94-.94-2.06-.94 2.06-2.06.94z\"/><path d=\"M17.41 7.96l-1.37-1.37c-.4-.4-.92-.59-1.43-.59-.52 0-1.04.2-1.43.59L10.3 9.45l-7.72 7.72c-.78.78-.78 2.05 0 2.83L4 21.41c.39.39.9.59 1.41.59.51 0 1.02-.2 1.41-.59l7.78-7.78 2.81-2.81c.8-.78.8-2.07 0-2.86zM5.41 20L4 18.59l7.72-7.72 1.47 1.35L5.41 20z\"/>\n",
              "  </svg>\n",
              "      </button>\n",
              "      \n",
              "  <style>\n",
              "    .colab-df-container {\n",
              "      display:flex;\n",
              "      flex-wrap:wrap;\n",
              "      gap: 12px;\n",
              "    }\n",
              "\n",
              "    .colab-df-convert {\n",
              "      background-color: #E8F0FE;\n",
              "      border: none;\n",
              "      border-radius: 50%;\n",
              "      cursor: pointer;\n",
              "      display: none;\n",
              "      fill: #1967D2;\n",
              "      height: 32px;\n",
              "      padding: 0 0 0 0;\n",
              "      width: 32px;\n",
              "    }\n",
              "\n",
              "    .colab-df-convert:hover {\n",
              "      background-color: #E2EBFA;\n",
              "      box-shadow: 0px 1px 2px rgba(60, 64, 67, 0.3), 0px 1px 3px 1px rgba(60, 64, 67, 0.15);\n",
              "      fill: #174EA6;\n",
              "    }\n",
              "\n",
              "    [theme=dark] .colab-df-convert {\n",
              "      background-color: #3B4455;\n",
              "      fill: #D2E3FC;\n",
              "    }\n",
              "\n",
              "    [theme=dark] .colab-df-convert:hover {\n",
              "      background-color: #434B5C;\n",
              "      box-shadow: 0px 1px 3px 1px rgba(0, 0, 0, 0.15);\n",
              "      filter: drop-shadow(0px 1px 2px rgba(0, 0, 0, 0.3));\n",
              "      fill: #FFFFFF;\n",
              "    }\n",
              "  </style>\n",
              "\n",
              "      <script>\n",
              "        const buttonEl =\n",
              "          document.querySelector('#df-8814eb29-eb08-49cd-b32e-9f6051ed4186 button.colab-df-convert');\n",
              "        buttonEl.style.display =\n",
              "          google.colab.kernel.accessAllowed ? 'block' : 'none';\n",
              "\n",
              "        async function convertToInteractive(key) {\n",
              "          const element = document.querySelector('#df-8814eb29-eb08-49cd-b32e-9f6051ed4186');\n",
              "          const dataTable =\n",
              "            await google.colab.kernel.invokeFunction('convertToInteractive',\n",
              "                                                     [key], {});\n",
              "          if (!dataTable) return;\n",
              "\n",
              "          const docLinkHtml = 'Like what you see? Visit the ' +\n",
              "            '<a target=\"_blank\" href=https://colab.research.google.com/notebooks/data_table.ipynb>data table notebook</a>'\n",
              "            + ' to learn more about interactive tables.';\n",
              "          element.innerHTML = '';\n",
              "          dataTable['output_type'] = 'display_data';\n",
              "          await google.colab.output.renderOutput(dataTable, element);\n",
              "          const docLink = document.createElement('div');\n",
              "          docLink.innerHTML = docLinkHtml;\n",
              "          element.appendChild(docLink);\n",
              "        }\n",
              "      </script>\n",
              "    </div>\n",
              "  </div>\n",
              "  "
            ]
          },
          "metadata": {}
        },
        {
          "output_type": "stream",
          "name": "stdout",
          "text": [
            "<class 'pandas.core.frame.DataFrame'>\n",
            "Int64Index: 5110 entries, 9046 to 44679\n",
            "Data columns (total 11 columns):\n",
            " #   Column             Non-Null Count  Dtype  \n",
            "---  ------             --------------  -----  \n",
            " 0   gender             5110 non-null   object \n",
            " 1   age                5110 non-null   float64\n",
            " 2   hypertension       5110 non-null   int64  \n",
            " 3   heart_disease      5110 non-null   int64  \n",
            " 4   ever_married       5110 non-null   object \n",
            " 5   work_type          5110 non-null   object \n",
            " 6   Residence_type     5110 non-null   object \n",
            " 7   avg_glucose_level  5110 non-null   float64\n",
            " 8   bmi                4909 non-null   float64\n",
            " 9   smoking_status     5110 non-null   object \n",
            " 10  stroke             5110 non-null   int64  \n",
            "dtypes: float64(3), int64(3), object(5)\n",
            "memory usage: 479.1+ KB\n"
          ]
        },
        {
          "output_type": "display_data",
          "data": {
            "text/plain": [
              "None"
            ]
          },
          "metadata": {}
        }
      ],
      "source": [
        "# load the dataset and check for unnecessary columns\n",
        "df = pd.read_csv('/content/healthcare-dataset-stroke-data.csv', index_col = 0)\n",
        "display(df.head())\n",
        "display(df.info())"
      ]
    },
    {
      "cell_type": "markdown",
      "metadata": {
        "id": "I0BtxbvwrcKX"
      },
      "source": [
        "  - There are no unnecessary columns."
      ]
    },
    {
      "cell_type": "markdown",
      "metadata": {
        "id": "-2kx-QALBAbV"
      },
      "source": [
        "### Inspect the data"
      ]
    },
    {
      "cell_type": "code",
      "execution_count": 4,
      "metadata": {
        "colab": {
          "base_uri": "https://localhost:8080/"
        },
        "id": "6iSbO88dBGDS",
        "outputId": "ed5ac8b8-98c9-40cf-9f7f-7d425e077425"
      },
      "outputs": [
        {
          "output_type": "execute_result",
          "data": {
            "text/plain": [
              "(5110, 11)"
            ]
          },
          "metadata": {},
          "execution_count": 4
        }
      ],
      "source": [
        "df.shape"
      ]
    },
    {
      "cell_type": "markdown",
      "metadata": {
        "id": "9DXQu2U5BM0U"
      },
      "source": [
        "  - There are 5110 rows and 11 columns."
      ]
    },
    {
      "cell_type": "code",
      "execution_count": 5,
      "metadata": {
        "colab": {
          "base_uri": "https://localhost:8080/"
        },
        "id": "WB235qIWBRO1",
        "outputId": "5ebccc43-6236-4f3e-d0a0-3d44c4527ad5"
      },
      "outputs": [
        {
          "output_type": "execute_result",
          "data": {
            "text/plain": [
              "gender                object\n",
              "age                  float64\n",
              "hypertension           int64\n",
              "heart_disease          int64\n",
              "ever_married          object\n",
              "work_type             object\n",
              "Residence_type        object\n",
              "avg_glucose_level    float64\n",
              "bmi                  float64\n",
              "smoking_status        object\n",
              "stroke                 int64\n",
              "dtype: object"
            ]
          },
          "metadata": {},
          "execution_count": 5
        }
      ],
      "source": [
        "# check datatypes and ensure that they match the data dictionary\n",
        "df.dtypes"
      ]
    },
    {
      "cell_type": "markdown",
      "metadata": {
        "id": "-N_6PE9HBVMx"
      },
      "source": [
        "  - gender, ever_married, work_type, Residence_type, and smoking_status are all datatype object\n",
        "  - age, avg_glucose_level, and bmi are all datatype float64\n",
        "  - hypertension, heart_disease, and stroke are all datatype int64\n",
        "  - All datatypes are consistent with the data dictionary."
      ]
    },
    {
      "cell_type": "code",
      "execution_count": 6,
      "metadata": {
        "colab": {
          "base_uri": "https://localhost:8080/",
          "height": 458
        },
        "id": "NFaFqmwNCdXY",
        "outputId": "b5250f1a-03c1-4c39-bc82-d1dbcddafc6f"
      },
      "outputs": [
        {
          "output_type": "display_data",
          "data": {
            "text/plain": [
              "               age  hypertension  heart_disease  avg_glucose_level  \\\n",
              "count  5110.000000   5110.000000    5110.000000        5110.000000   \n",
              "mean     43.226614      0.097456       0.054012         106.147677   \n",
              "std      22.612647      0.296607       0.226063          45.283560   \n",
              "min       0.080000      0.000000       0.000000          55.120000   \n",
              "25%      25.000000      0.000000       0.000000          77.245000   \n",
              "50%      45.000000      0.000000       0.000000          91.885000   \n",
              "75%      61.000000      0.000000       0.000000         114.090000   \n",
              "max      82.000000      1.000000       1.000000         271.740000   \n",
              "\n",
              "               bmi       stroke  \n",
              "count  4909.000000  5110.000000  \n",
              "mean     28.893237     0.048728  \n",
              "std       7.854067     0.215320  \n",
              "min      10.300000     0.000000  \n",
              "25%      23.500000     0.000000  \n",
              "50%      28.100000     0.000000  \n",
              "75%      33.100000     0.000000  \n",
              "max      97.600000     1.000000  "
            ],
            "text/html": [
              "\n",
              "  <div id=\"df-696c0f75-879a-491c-ad3b-53b9a4cbdda1\">\n",
              "    <div class=\"colab-df-container\">\n",
              "      <div>\n",
              "<style scoped>\n",
              "    .dataframe tbody tr th:only-of-type {\n",
              "        vertical-align: middle;\n",
              "    }\n",
              "\n",
              "    .dataframe tbody tr th {\n",
              "        vertical-align: top;\n",
              "    }\n",
              "\n",
              "    .dataframe thead th {\n",
              "        text-align: right;\n",
              "    }\n",
              "</style>\n",
              "<table border=\"1\" class=\"dataframe\">\n",
              "  <thead>\n",
              "    <tr style=\"text-align: right;\">\n",
              "      <th></th>\n",
              "      <th>age</th>\n",
              "      <th>hypertension</th>\n",
              "      <th>heart_disease</th>\n",
              "      <th>avg_glucose_level</th>\n",
              "      <th>bmi</th>\n",
              "      <th>stroke</th>\n",
              "    </tr>\n",
              "  </thead>\n",
              "  <tbody>\n",
              "    <tr>\n",
              "      <th>count</th>\n",
              "      <td>5110.000000</td>\n",
              "      <td>5110.000000</td>\n",
              "      <td>5110.000000</td>\n",
              "      <td>5110.000000</td>\n",
              "      <td>4909.000000</td>\n",
              "      <td>5110.000000</td>\n",
              "    </tr>\n",
              "    <tr>\n",
              "      <th>mean</th>\n",
              "      <td>43.226614</td>\n",
              "      <td>0.097456</td>\n",
              "      <td>0.054012</td>\n",
              "      <td>106.147677</td>\n",
              "      <td>28.893237</td>\n",
              "      <td>0.048728</td>\n",
              "    </tr>\n",
              "    <tr>\n",
              "      <th>std</th>\n",
              "      <td>22.612647</td>\n",
              "      <td>0.296607</td>\n",
              "      <td>0.226063</td>\n",
              "      <td>45.283560</td>\n",
              "      <td>7.854067</td>\n",
              "      <td>0.215320</td>\n",
              "    </tr>\n",
              "    <tr>\n",
              "      <th>min</th>\n",
              "      <td>0.080000</td>\n",
              "      <td>0.000000</td>\n",
              "      <td>0.000000</td>\n",
              "      <td>55.120000</td>\n",
              "      <td>10.300000</td>\n",
              "      <td>0.000000</td>\n",
              "    </tr>\n",
              "    <tr>\n",
              "      <th>25%</th>\n",
              "      <td>25.000000</td>\n",
              "      <td>0.000000</td>\n",
              "      <td>0.000000</td>\n",
              "      <td>77.245000</td>\n",
              "      <td>23.500000</td>\n",
              "      <td>0.000000</td>\n",
              "    </tr>\n",
              "    <tr>\n",
              "      <th>50%</th>\n",
              "      <td>45.000000</td>\n",
              "      <td>0.000000</td>\n",
              "      <td>0.000000</td>\n",
              "      <td>91.885000</td>\n",
              "      <td>28.100000</td>\n",
              "      <td>0.000000</td>\n",
              "    </tr>\n",
              "    <tr>\n",
              "      <th>75%</th>\n",
              "      <td>61.000000</td>\n",
              "      <td>0.000000</td>\n",
              "      <td>0.000000</td>\n",
              "      <td>114.090000</td>\n",
              "      <td>33.100000</td>\n",
              "      <td>0.000000</td>\n",
              "    </tr>\n",
              "    <tr>\n",
              "      <th>max</th>\n",
              "      <td>82.000000</td>\n",
              "      <td>1.000000</td>\n",
              "      <td>1.000000</td>\n",
              "      <td>271.740000</td>\n",
              "      <td>97.600000</td>\n",
              "      <td>1.000000</td>\n",
              "    </tr>\n",
              "  </tbody>\n",
              "</table>\n",
              "</div>\n",
              "      <button class=\"colab-df-convert\" onclick=\"convertToInteractive('df-696c0f75-879a-491c-ad3b-53b9a4cbdda1')\"\n",
              "              title=\"Convert this dataframe to an interactive table.\"\n",
              "              style=\"display:none;\">\n",
              "        \n",
              "  <svg xmlns=\"http://www.w3.org/2000/svg\" height=\"24px\"viewBox=\"0 0 24 24\"\n",
              "       width=\"24px\">\n",
              "    <path d=\"M0 0h24v24H0V0z\" fill=\"none\"/>\n",
              "    <path d=\"M18.56 5.44l.94 2.06.94-2.06 2.06-.94-2.06-.94-.94-2.06-.94 2.06-2.06.94zm-11 1L8.5 8.5l.94-2.06 2.06-.94-2.06-.94L8.5 2.5l-.94 2.06-2.06.94zm10 10l.94 2.06.94-2.06 2.06-.94-2.06-.94-.94-2.06-.94 2.06-2.06.94z\"/><path d=\"M17.41 7.96l-1.37-1.37c-.4-.4-.92-.59-1.43-.59-.52 0-1.04.2-1.43.59L10.3 9.45l-7.72 7.72c-.78.78-.78 2.05 0 2.83L4 21.41c.39.39.9.59 1.41.59.51 0 1.02-.2 1.41-.59l7.78-7.78 2.81-2.81c.8-.78.8-2.07 0-2.86zM5.41 20L4 18.59l7.72-7.72 1.47 1.35L5.41 20z\"/>\n",
              "  </svg>\n",
              "      </button>\n",
              "      \n",
              "  <style>\n",
              "    .colab-df-container {\n",
              "      display:flex;\n",
              "      flex-wrap:wrap;\n",
              "      gap: 12px;\n",
              "    }\n",
              "\n",
              "    .colab-df-convert {\n",
              "      background-color: #E8F0FE;\n",
              "      border: none;\n",
              "      border-radius: 50%;\n",
              "      cursor: pointer;\n",
              "      display: none;\n",
              "      fill: #1967D2;\n",
              "      height: 32px;\n",
              "      padding: 0 0 0 0;\n",
              "      width: 32px;\n",
              "    }\n",
              "\n",
              "    .colab-df-convert:hover {\n",
              "      background-color: #E2EBFA;\n",
              "      box-shadow: 0px 1px 2px rgba(60, 64, 67, 0.3), 0px 1px 3px 1px rgba(60, 64, 67, 0.15);\n",
              "      fill: #174EA6;\n",
              "    }\n",
              "\n",
              "    [theme=dark] .colab-df-convert {\n",
              "      background-color: #3B4455;\n",
              "      fill: #D2E3FC;\n",
              "    }\n",
              "\n",
              "    [theme=dark] .colab-df-convert:hover {\n",
              "      background-color: #434B5C;\n",
              "      box-shadow: 0px 1px 3px 1px rgba(0, 0, 0, 0.15);\n",
              "      filter: drop-shadow(0px 1px 2px rgba(0, 0, 0, 0.3));\n",
              "      fill: #FFFFFF;\n",
              "    }\n",
              "  </style>\n",
              "\n",
              "      <script>\n",
              "        const buttonEl =\n",
              "          document.querySelector('#df-696c0f75-879a-491c-ad3b-53b9a4cbdda1 button.colab-df-convert');\n",
              "        buttonEl.style.display =\n",
              "          google.colab.kernel.accessAllowed ? 'block' : 'none';\n",
              "\n",
              "        async function convertToInteractive(key) {\n",
              "          const element = document.querySelector('#df-696c0f75-879a-491c-ad3b-53b9a4cbdda1');\n",
              "          const dataTable =\n",
              "            await google.colab.kernel.invokeFunction('convertToInteractive',\n",
              "                                                     [key], {});\n",
              "          if (!dataTable) return;\n",
              "\n",
              "          const docLinkHtml = 'Like what you see? Visit the ' +\n",
              "            '<a target=\"_blank\" href=https://colab.research.google.com/notebooks/data_table.ipynb>data table notebook</a>'\n",
              "            + ' to learn more about interactive tables.';\n",
              "          element.innerHTML = '';\n",
              "          dataTable['output_type'] = 'display_data';\n",
              "          await google.colab.output.renderOutput(dataTable, element);\n",
              "          const docLink = document.createElement('div');\n",
              "          docLink.innerHTML = docLinkHtml;\n",
              "          element.appendChild(docLink);\n",
              "        }\n",
              "      </script>\n",
              "    </div>\n",
              "  </div>\n",
              "  "
            ]
          },
          "metadata": {}
        },
        {
          "output_type": "display_data",
          "data": {
            "text/plain": [
              "        gender ever_married work_type Residence_type smoking_status\n",
              "count     5110         5110      5110           5110           5110\n",
              "unique       3            2         5              2              4\n",
              "top     Female          Yes   Private          Urban   never smoked\n",
              "freq      2994         3353      2925           2596           1892"
            ],
            "text/html": [
              "\n",
              "  <div id=\"df-818ab5a1-9103-4fb7-9880-06eb3c3734fb\">\n",
              "    <div class=\"colab-df-container\">\n",
              "      <div>\n",
              "<style scoped>\n",
              "    .dataframe tbody tr th:only-of-type {\n",
              "        vertical-align: middle;\n",
              "    }\n",
              "\n",
              "    .dataframe tbody tr th {\n",
              "        vertical-align: top;\n",
              "    }\n",
              "\n",
              "    .dataframe thead th {\n",
              "        text-align: right;\n",
              "    }\n",
              "</style>\n",
              "<table border=\"1\" class=\"dataframe\">\n",
              "  <thead>\n",
              "    <tr style=\"text-align: right;\">\n",
              "      <th></th>\n",
              "      <th>gender</th>\n",
              "      <th>ever_married</th>\n",
              "      <th>work_type</th>\n",
              "      <th>Residence_type</th>\n",
              "      <th>smoking_status</th>\n",
              "    </tr>\n",
              "  </thead>\n",
              "  <tbody>\n",
              "    <tr>\n",
              "      <th>count</th>\n",
              "      <td>5110</td>\n",
              "      <td>5110</td>\n",
              "      <td>5110</td>\n",
              "      <td>5110</td>\n",
              "      <td>5110</td>\n",
              "    </tr>\n",
              "    <tr>\n",
              "      <th>unique</th>\n",
              "      <td>3</td>\n",
              "      <td>2</td>\n",
              "      <td>5</td>\n",
              "      <td>2</td>\n",
              "      <td>4</td>\n",
              "    </tr>\n",
              "    <tr>\n",
              "      <th>top</th>\n",
              "      <td>Female</td>\n",
              "      <td>Yes</td>\n",
              "      <td>Private</td>\n",
              "      <td>Urban</td>\n",
              "      <td>never smoked</td>\n",
              "    </tr>\n",
              "    <tr>\n",
              "      <th>freq</th>\n",
              "      <td>2994</td>\n",
              "      <td>3353</td>\n",
              "      <td>2925</td>\n",
              "      <td>2596</td>\n",
              "      <td>1892</td>\n",
              "    </tr>\n",
              "  </tbody>\n",
              "</table>\n",
              "</div>\n",
              "      <button class=\"colab-df-convert\" onclick=\"convertToInteractive('df-818ab5a1-9103-4fb7-9880-06eb3c3734fb')\"\n",
              "              title=\"Convert this dataframe to an interactive table.\"\n",
              "              style=\"display:none;\">\n",
              "        \n",
              "  <svg xmlns=\"http://www.w3.org/2000/svg\" height=\"24px\"viewBox=\"0 0 24 24\"\n",
              "       width=\"24px\">\n",
              "    <path d=\"M0 0h24v24H0V0z\" fill=\"none\"/>\n",
              "    <path d=\"M18.56 5.44l.94 2.06.94-2.06 2.06-.94-2.06-.94-.94-2.06-.94 2.06-2.06.94zm-11 1L8.5 8.5l.94-2.06 2.06-.94-2.06-.94L8.5 2.5l-.94 2.06-2.06.94zm10 10l.94 2.06.94-2.06 2.06-.94-2.06-.94-.94-2.06-.94 2.06-2.06.94z\"/><path d=\"M17.41 7.96l-1.37-1.37c-.4-.4-.92-.59-1.43-.59-.52 0-1.04.2-1.43.59L10.3 9.45l-7.72 7.72c-.78.78-.78 2.05 0 2.83L4 21.41c.39.39.9.59 1.41.59.51 0 1.02-.2 1.41-.59l7.78-7.78 2.81-2.81c.8-.78.8-2.07 0-2.86zM5.41 20L4 18.59l7.72-7.72 1.47 1.35L5.41 20z\"/>\n",
              "  </svg>\n",
              "      </button>\n",
              "      \n",
              "  <style>\n",
              "    .colab-df-container {\n",
              "      display:flex;\n",
              "      flex-wrap:wrap;\n",
              "      gap: 12px;\n",
              "    }\n",
              "\n",
              "    .colab-df-convert {\n",
              "      background-color: #E8F0FE;\n",
              "      border: none;\n",
              "      border-radius: 50%;\n",
              "      cursor: pointer;\n",
              "      display: none;\n",
              "      fill: #1967D2;\n",
              "      height: 32px;\n",
              "      padding: 0 0 0 0;\n",
              "      width: 32px;\n",
              "    }\n",
              "\n",
              "    .colab-df-convert:hover {\n",
              "      background-color: #E2EBFA;\n",
              "      box-shadow: 0px 1px 2px rgba(60, 64, 67, 0.3), 0px 1px 3px 1px rgba(60, 64, 67, 0.15);\n",
              "      fill: #174EA6;\n",
              "    }\n",
              "\n",
              "    [theme=dark] .colab-df-convert {\n",
              "      background-color: #3B4455;\n",
              "      fill: #D2E3FC;\n",
              "    }\n",
              "\n",
              "    [theme=dark] .colab-df-convert:hover {\n",
              "      background-color: #434B5C;\n",
              "      box-shadow: 0px 1px 3px 1px rgba(0, 0, 0, 0.15);\n",
              "      filter: drop-shadow(0px 1px 2px rgba(0, 0, 0, 0.3));\n",
              "      fill: #FFFFFF;\n",
              "    }\n",
              "  </style>\n",
              "\n",
              "      <script>\n",
              "        const buttonEl =\n",
              "          document.querySelector('#df-818ab5a1-9103-4fb7-9880-06eb3c3734fb button.colab-df-convert');\n",
              "        buttonEl.style.display =\n",
              "          google.colab.kernel.accessAllowed ? 'block' : 'none';\n",
              "\n",
              "        async function convertToInteractive(key) {\n",
              "          const element = document.querySelector('#df-818ab5a1-9103-4fb7-9880-06eb3c3734fb');\n",
              "          const dataTable =\n",
              "            await google.colab.kernel.invokeFunction('convertToInteractive',\n",
              "                                                     [key], {});\n",
              "          if (!dataTable) return;\n",
              "\n",
              "          const docLinkHtml = 'Like what you see? Visit the ' +\n",
              "            '<a target=\"_blank\" href=https://colab.research.google.com/notebooks/data_table.ipynb>data table notebook</a>'\n",
              "            + ' to learn more about interactive tables.';\n",
              "          element.innerHTML = '';\n",
              "          dataTable['output_type'] = 'display_data';\n",
              "          await google.colab.output.renderOutput(dataTable, element);\n",
              "          const docLink = document.createElement('div');\n",
              "          docLink.innerHTML = docLinkHtml;\n",
              "          element.appendChild(docLink);\n",
              "        }\n",
              "      </script>\n",
              "    </div>\n",
              "  </div>\n",
              "  "
            ]
          },
          "metadata": {}
        }
      ],
      "source": [
        "# check for outliers and obvious errors\n",
        "display(df.describe(include='number'))\n",
        "display(df.describe(exclude='number'))"
      ]
    },
    {
      "cell_type": "markdown",
      "metadata": {
        "id": "rUohl4DWFvcS"
      },
      "source": [
        "  - There are no obvious outliers or errors in the data."
      ]
    },
    {
      "cell_type": "code",
      "execution_count": 7,
      "metadata": {
        "colab": {
          "base_uri": "https://localhost:8080/"
        },
        "id": "av08KzpwEaqj",
        "outputId": "56a27358-8731-4866-9b77-2dbde0deda6b"
      },
      "outputs": [
        {
          "output_type": "execute_result",
          "data": {
            "text/plain": [
              "0"
            ]
          },
          "metadata": {},
          "execution_count": 7
        }
      ],
      "source": [
        "# check for duplicated rows\n",
        "df.duplicated().sum()"
      ]
    },
    {
      "cell_type": "markdown",
      "metadata": {
        "id": "WKPD8z6eC2Qn"
      },
      "source": [
        "  - There are 0 duplicates."
      ]
    },
    {
      "cell_type": "code",
      "execution_count": 8,
      "metadata": {
        "colab": {
          "base_uri": "https://localhost:8080/"
        },
        "id": "OkENxyxuGQWB",
        "outputId": "f967f621-ee84-4922-cbb3-7892ef5c0811"
      },
      "outputs": [
        {
          "output_type": "execute_result",
          "data": {
            "text/plain": [
              "gender                 0\n",
              "age                    0\n",
              "hypertension           0\n",
              "heart_disease          0\n",
              "ever_married           0\n",
              "work_type              0\n",
              "Residence_type         0\n",
              "avg_glucose_level      0\n",
              "bmi                  201\n",
              "smoking_status         0\n",
              "stroke                 0\n",
              "dtype: int64"
            ]
          },
          "metadata": {},
          "execution_count": 8
        }
      ],
      "source": [
        "# check for missing values\n",
        "df.isna().sum()"
      ]
    },
    {
      "cell_type": "markdown",
      "metadata": {
        "id": "nH7Xopc1GWke"
      },
      "source": [
        "  - There are 201 missing values in bmi.\n",
        "  - Options:\n",
        "    - Dropping rows was not a good option because 3.93% of rows are missing data--too many (>2%) to just eliminate.  \n",
        "    - Dropping columns was not a good option because bmi might be an important property for predicting a stroke. Also, <50% of the data are missing, too little to just eliminate.  \n",
        "    - Creating a new category was not a good option because the data are type float instead of type object.  \n",
        "    - Imputing missing values is a great option because the average (mean) value would likely be closest to the correct value that is missing.\n",
        "  - Mean imputation will be performed on a copy of the dataset for machine learning--this imputation will be performed within a pipeline in order to prevent data leakage."
      ]
    },
    {
      "cell_type": "code",
      "execution_count": 9,
      "metadata": {
        "colab": {
          "base_uri": "https://localhost:8080/"
        },
        "id": "0Daq835SHttA",
        "outputId": "8114d6a6-d293-4c37-e8e6-f2f2df4e4536"
      },
      "outputs": [
        {
          "output_type": "stream",
          "name": "stdout",
          "text": [
            "Column= gender\n",
            "Female    2994\n",
            "Male      2115\n",
            "Other        1\n",
            "Name: gender, dtype: int64\n",
            " \n",
            "Column= ever_married\n",
            "Yes    3353\n",
            "No     1757\n",
            "Name: ever_married, dtype: int64\n",
            " \n",
            "Column= work_type\n",
            "Private          2925\n",
            "Self-employed     819\n",
            "children          687\n",
            "Govt_job          657\n",
            "Never_worked       22\n",
            "Name: work_type, dtype: int64\n",
            " \n",
            "Column= Residence_type\n",
            "Urban    2596\n",
            "Rural    2514\n",
            "Name: Residence_type, dtype: int64\n",
            " \n",
            "Column= smoking_status\n",
            "never smoked       1892\n",
            "Unknown            1544\n",
            "formerly smoked     885\n",
            "smokes              789\n",
            "Name: smoking_status, dtype: int64\n",
            " \n"
          ]
        }
      ],
      "source": [
        "# check the categorical data for inconsistencies\n",
        "dtypes = df.dtypes\n",
        "str_cols = dtypes[dtypes=='object'].index\n",
        "for col in str_cols:\n",
        "  print(f'Column= {col}')\n",
        "  print(df[col].value_counts())\n",
        "  print(' ')"
      ]
    },
    {
      "cell_type": "markdown",
      "metadata": {
        "id": "2qTn_PsTH4eF"
      },
      "source": [
        "  - There are no inconsistencies in categorical data.\n",
        "  - For machine learning, categorical data will be one-hot encoded."
      ]
    },
    {
      "cell_type": "code",
      "execution_count": 10,
      "metadata": {
        "colab": {
          "base_uri": "https://localhost:8080/"
        },
        "id": "2QPrTtnqFO5C",
        "outputId": "109a6abb-99dc-4664-a5bb-25b80d55ddd6"
      },
      "outputs": [
        {
          "output_type": "execute_result",
          "data": {
            "text/plain": [
              "0    0.951272\n",
              "1    0.048728\n",
              "Name: stroke, dtype: float64"
            ]
          },
          "metadata": {},
          "execution_count": 10
        }
      ],
      "source": [
        "# check the balance of the target class\n",
        "df['stroke'].value_counts(normalize=True)"
      ]
    },
    {
      "cell_type": "markdown",
      "metadata": {
        "id": "_-7uCoXTGDyn"
      },
      "source": [
        "  - The target classes are severely imbalanced (95.13% of the samples did not have a stroke and 4.87% of the samples had a stroke)."
      ]
    },
    {
      "cell_type": "markdown",
      "metadata": {
        "id": "bG4wzcsAsOvE"
      },
      "source": [
        "## Univariate visualizations"
      ]
    },
    {
      "cell_type": "markdown",
      "metadata": {
        "id": "T9xLq94YnbA3"
      },
      "source": [
        "### Graph to view the distribution of the target class"
      ]
    },
    {
      "cell_type": "code",
      "execution_count": 11,
      "metadata": {
        "colab": {
          "base_uri": "https://localhost:8080/",
          "height": 297
        },
        "id": "0Ojr-_NDgHmr",
        "outputId": "b59ce535-017c-4a63-a80d-6954c33313b3"
      },
      "outputs": [
        {
          "output_type": "display_data",
          "data": {
            "text/plain": [
              "<Figure size 432x288 with 1 Axes>"
            ],
            "image/png": "[encoded data removed]"
          },
          "metadata": {
            "needs_background": "light"
          }
        }
      ],
      "source": [
        "sns.countplot(data = df, x = 'stroke')\n",
        "plt.title('Stroke Distribution', fontsize = 16);\n",
        "plt.savefig('Stroke Distribution.png', dpi = 300)"
      ]
    },
    {
      "cell_type": "markdown",
      "metadata": {
        "id": "tYpLMtVrqNGt"
      },
      "source": [
        "  - The target class is significantly imbalanced--there were fewer strokes than not."
      ]
    },
    {
      "cell_type": "markdown",
      "metadata": {
        "id": "DIR0FheMqrfd"
      },
      "source": [
        "### Graphs to view patient characteristics"
      ]
    },
    {
      "cell_type": "code",
      "execution_count": 12,
      "metadata": {
        "colab": {
          "base_uri": "https://localhost:8080/",
          "height": 323
        },
        "id": "pMZVEyUmqwGy",
        "outputId": "33c3c2a9-706d-4ac2-f3a1-8bed41ee5470"
      },
      "outputs": [
        {
          "output_type": "display_data",
          "data": {
            "text/plain": [
              "<Figure size 864x288 with 2 Axes>"
            ],
            "image/png": "[encoded data removed]"
          },
          "metadata": {
            "needs_background": "light"
          }
        }
      ],
      "source": [
        "fig, axes = plt.subplots(ncols = 2, figsize = (12,4))\n",
        "sns.countplot(data = df, x = 'gender',  palette = 'mako', ax = axes[0])\n",
        "axes[0].set_title('Gender Distribution', fontsize = 15, fontweight = 'bold')\n",
        "sns.histplot(data = df, x = 'age', ax = axes[1])\n",
        "axes[1].set_title('Age Distribution', fontsize = 15, fontweight = 'bold')\n",
        "fig.suptitle('Patient Characteristics', fontsize = 20, fontweight = 'bold', y = 1.05)\n",
        "fig.tight_layout()"
      ]
    },
    {
      "cell_type": "markdown",
      "metadata": {
        "id": "0K3GlOIrrtRP"
      },
      "source": [
        "  - There were siginificantly more female patients than male or other patients.\n",
        "  - There was no specific skew to the age distribution of patients, although there were spikes in the number of patients younger than 4, 37-41, 52-58, and over 78 years."
      ]
    },
    {
      "cell_type": "markdown",
      "metadata": {
        "id": "CSEuEO84spzf"
      },
      "source": [
        "### Graphs to view behavioral characteristics"
      ]
    },
    {
      "cell_type": "code",
      "execution_count": 13,
      "metadata": {
        "colab": {
          "base_uri": "https://localhost:8080/",
          "height": 927
        },
        "id": "3JvaL3MQp7ay",
        "outputId": "c5df398b-056b-4141-cfe1-078196a9023e"
      },
      "outputs": [
        {
          "output_type": "display_data",
          "data": {
            "text/plain": [
              "<Figure size 864x864 with 4 Axes>"
            ],
            "image/png": "[encoded data removed]"
          },
          "metadata": {
            "needs_background": "light"
          }
        }
      ],
      "source": [
        "fig, axes = plt.subplots(ncols = 1, nrows = 4, figsize = (12, 12))\n",
        "sns.countplot(data = df, x = 'ever_married', palette = 'rocket',  ax = axes[0])\n",
        "axes[0].set_title('Relationship Status', fontsize = 15, fontweight = 'bold')\n",
        "sns.countplot(data = df, x = 'work_type', palette = 'rocket', ax = axes[1])\n",
        "axes[1].set_title('Work Type', fontsize = 15, fontweight = 'bold')\n",
        "sns.countplot(data = df, x = 'Residence_type', palette = 'rocket', ax = axes[2])\n",
        "axes[2].set_title('Residence Type', fontsize = 15, fontweight = 'bold')\n",
        "sns.countplot(data = df, x = 'smoking_status', palette = 'rocket', ax = axes[3])\n",
        "axes[3].set_title('Smoking Status', fontsize = 15, fontweight = 'bold')\n",
        "fig.suptitle('Behavioral Characteristics', fontsize = 20, fontweight = 'bold', y = 1.05)\n",
        "fig.tight_layout()\n",
        "plt.savefig('Behavioral Characteristics.png', dpi = 300)"
      ]
    },
    {
      "cell_type": "markdown",
      "metadata": {
        "id": "vbJvLLKWv0qs"
      },
      "source": [
        "  - The majority of patients were married.\n",
        "  - The majority of patients were privately employed.\n",
        "  - The distribution of residence types (urban and rural) was even.\n",
        "  - The majority of patients had never smoked or their smoking status was unknown."
      ]
    },
    {
      "cell_type": "markdown",
      "metadata": {
        "id": "pUCvHqO2wZ99"
      },
      "source": [
        "### Graphs to view medical characteristics"
      ]
    },
    {
      "cell_type": "code",
      "execution_count": 15,
      "metadata": {
        "colab": {
          "base_uri": "https://localhost:8080/",
          "height": 927
        },
        "id": "nfkXoRqNvQ7s",
        "outputId": "3291969b-70cc-4fd4-fd37-66e74a56b408"
      },
      "outputs": [
        {
          "output_type": "display_data",
          "data": {
            "text/plain": [
              "<Figure size 864x864 with 4 Axes>"
            ],
            "image/png": "[encoded data removed]"
          },
          "metadata": {
            "needs_background": "light"
          }
        }
      ],
      "source": [
        "fig, axes = plt.subplots(ncols = 1, nrows = 4, figsize = (12, 12))\n",
        "sns.countplot(data = df, x = 'hypertension', palette = 'Set2',  ax = axes[0])\n",
        "axes[0].set_title('Hypertension', fontsize = 15, fontweight = 'bold')\n",
        "sns.countplot(data = df, x = 'heart_disease', palette = 'Set2', ax = axes[1])\n",
        "axes[1].set_title('Heart Disease', fontsize = 15, fontweight = 'bold')\n",
        "sns.histplot(data = df, x = 'avg_glucose_level', color = 'pink', ax = axes[2])\n",
        "axes[2].set_title('Average Glucose Level', fontsize = 15, fontweight = 'bold')\n",
        "sns.histplot(data = df, x = 'bmi', color = 'pink', ax = axes[3])\n",
        "axes[3].set_title('BMI', fontsize = 15, fontweight = 'bold')\n",
        "fig.suptitle('Medical Characteristics', fontsize = 20, fontweight = 'bold', y = 1.05)\n",
        "fig.tight_layout()\n",
        "plt.savefig('Medical Characteristics.png', dpi = 300)"
      ]
    },
    {
      "cell_type": "markdown",
      "metadata": {
        "id": "jbwM8eonxuMT"
      },
      "source": [
        "  - The distribution of hypertension is significantly unbalanced--the majority of patients did not have hypertension.\n",
        "  - The distribution of heart disease is significantly unbalanced--the majority of patients did not have heart disease.\n",
        "  - The distribution of glucose levels is right-skewed, with the majority of patients having lower average glucose levels.\n",
        "  - The distribution of BMI is right skewed, with the majority of patients having lower BMI's."
      ]
    },
    {
      "cell_type": "markdown",
      "metadata": {
        "id": "2Qh5fquo26sR"
      },
      "source": [
        "### Boxplots to view outliers"
      ]
    },
    {
      "cell_type": "code",
      "execution_count": 16,
      "metadata": {
        "colab": {
          "base_uri": "https://localhost:8080/",
          "height": 323
        },
        "id": "ZK0txmW62-QI",
        "outputId": "5a2c9516-1efb-43c2-d1c7-a1b199eeaccb"
      },
      "outputs": [
        {
          "output_type": "display_data",
          "data": {
            "text/plain": [
              "<Figure size 864x288 with 2 Axes>"
            ],
            "image/png": "[encoded data removed]"
          },
          "metadata": {
            "needs_background": "light"
          }
        }
      ],
      "source": [
        "fig, axes = plt.subplots(ncols = 2, figsize = (12,4))\n",
        "sns.boxplot(data = df, x = 'avg_glucose_level', palette = 'Greens',  ax = axes[0])\n",
        "axes[0].set_title('Average Glucose Level', fontsize = 15, fontweight = 'bold')\n",
        "sns.boxplot(data = df, x = 'bmi', palette = 'Greens', ax = axes[1])\n",
        "axes[1].set_title('BMI', fontsize = 15, fontweight = 'bold')\n",
        "fig.suptitle('Distribution of Glucose and BMI', fontsize = 20, fontweight = 'bold', y = 1.05)\n",
        "fig.tight_layout()"
      ]
    },
    {
      "cell_type": "markdown",
      "metadata": {
        "id": "UtLoCIj113oP"
      },
      "source": [
        "  - Both the Average Glucose Level and the BMI distributions have outliers above the maximum values."
      ]
    },
    {
      "cell_type": "markdown",
      "metadata": {
        "id": "kuZCjSSaXF61"
      },
      "source": [
        "## Multivariate Exploratory Visualizations"
      ]
    },
    {
      "cell_type": "markdown",
      "metadata": {
        "id": "xK5-MHiXZnKW"
      },
      "source": [
        "### Create a copy of the data for visualizations"
      ]
    },
    {
      "cell_type": "code",
      "execution_count": 17,
      "metadata": {
        "id": "Et5ctQVwZumq"
      },
      "outputs": [],
      "source": [
        "vis_df = df.copy()"
      ]
    },
    {
      "cell_type": "markdown",
      "metadata": {
        "id": "FoUjkMBOXPBZ"
      },
      "source": [
        "### Correlation Heatmap"
      ]
    },
    {
      "cell_type": "code",
      "execution_count": 18,
      "metadata": {
        "colab": {
          "base_uri": "https://localhost:8080/",
          "height": 350
        },
        "id": "2qlxVIXHlq2S",
        "outputId": "efa71587-3fa7-4a79-ffba-2873f9074208"
      },
      "outputs": [
        {
          "output_type": "display_data",
          "data": {
            "text/plain": [
              "<Figure size 432x288 with 2 Axes>"
            ],
            "image/png": "[encoded data removed]"
          },
          "metadata": {
            "needs_background": "light"
          }
        }
      ],
      "source": [
        "corr = vis_df.corr()\n",
        "sns.heatmap(corr, cmap = 'Greens', annot = True);"
      ]
    },
    {
      "cell_type": "markdown",
      "metadata": {
        "id": "h7MDQ8rEYHqJ"
      },
      "source": [
        "  - None of the features are correlated with the target or with each other."
      ]
    },
    {
      "cell_type": "markdown",
      "metadata": {
        "id": "WSovb5FdlYgx"
      },
      "source": [
        "### Do patient characteristics increase strokes?"
      ]
    },
    {
      "cell_type": "code",
      "execution_count": 19,
      "metadata": {
        "colab": {
          "base_uri": "https://localhost:8080/",
          "height": 369
        },
        "id": "DiazJ83iXjRY",
        "outputId": "cca4f91c-55c6-4966-f387-9612b3501840"
      },
      "outputs": [
        {
          "output_type": "display_data",
          "data": {
            "text/plain": [
              "<Figure size 720x360 with 1 Axes>"
            ],
            "image/png": "[encoded data removed]"
          },
          "metadata": {
            "needs_background": "light"
          }
        }
      ],
      "source": [
        "fig, axes = plt.subplots(figsize = (10, 5))\n",
        "sns.barplot(data = vis_df, x = 'gender', y = 'age', hue = 'stroke', palette = 'mako')\n",
        "plt.title('The Effect of Patient Characteristics on Strokes', fontsize = 15)\n",
        "plt.legend(title = 'Stroke', loc = 1)\n",
        "fig.tight_layout();"
      ]
    },
    {
      "cell_type": "markdown",
      "metadata": {
        "id": "3QgV6Y-x0lhl"
      },
      "source": [
        "  - This barplot shows no relationship between the gender of the patient and strokes, regardless of age.  However, there is a relationship between the age of the patient and strokes--older patients have more strokes, regardless of their gender. "
      ]
    },
    {
      "cell_type": "markdown",
      "metadata": {
        "id": "KycAJXh71Vej"
      },
      "source": [
        "### Do behavioral characteristics increase strokes?"
      ]
    },
    {
      "cell_type": "code",
      "execution_count": 20,
      "metadata": {
        "colab": {
          "base_uri": "https://localhost:8080/",
          "height": 927
        },
        "id": "IlPpoktlyBxs",
        "outputId": "9f9a487a-15bf-42a2-c709-a2789eb4a652"
      },
      "outputs": [
        {
          "output_type": "display_data",
          "data": {
            "text/plain": [
              "<Figure size 864x864 with 4 Axes>"
            ],
            "image/png": "[encoded data removed]"
          },
          "metadata": {
            "needs_background": "light"
          }
        }
      ],
      "source": [
        "fig, axes = plt.subplots(ncols = 1, nrows = 4, figsize = (12, 12))\n",
        "sns.barplot(data = vis_df, x = 'ever_married', y = 'stroke',  palette = 'rocket', ax = axes[0])\n",
        "axes[0].set_title('Relationship Status vs. Stroke', fontsize = 15, fontweight = 'bold')\n",
        "axes[0].set_ylim(bottom=0.00, top=0.10)\n",
        "sns.barplot(data = vis_df, x = 'work_type', y = 'stroke', order = ['Self-employed', 'Govt_job', 'Private', 'children', 'Never_worked'], palette = 'rocket', ax = axes[1])\n",
        "axes[1].set_title('Work Type vs. Stroke', fontsize = 15, fontweight = 'bold')\n",
        "sns.barplot(data = vis_df, x = 'Residence_type', y = 'stroke', palette = 'rocket', ax = axes[2])\n",
        "axes[2].set_title('Residence Type vs. Stroke', fontsize = 15, fontweight = 'bold')\n",
        "axes[2].set_ylim(bottom=0.00, top=0.10)\n",
        "sns.barplot(data = vis_df, x = 'smoking_status', y = 'stroke', order = ['formerly smoked', 'smokes', 'never smoked', 'unknown'], palette = 'rocket', ax = axes[3])\n",
        "axes[3].set_title('Smoking Status vs. Stroke', fontsize = 15, fontweight = 'bold')\n",
        "fig.suptitle('The Effect of Behavioral Characteristics on Strokes', fontsize = 20, fontweight = 'bold', y = 1.05)\n",
        "fig.tight_layout();\n",
        "plt.savefig('The Effect of Behavioral Characteristics on Strokes.png', dpi = 300)"
      ]
    },
    {
      "cell_type": "markdown",
      "metadata": {
        "id": "ehGNgOnF4toD"
      },
      "source": [
        "  - These barplots show that most behavioral characteristics increase strokes.\n",
        "  - Mariage (even previous marriages) increases strokes.  \n",
        "  - Work type (especially self-employed, government employees, and private employees) increases strokes.\n",
        "  - Smoking status (especially former smokers) increases strokes.\n",
        "  - There is no difference, though, in urban vs rural residences and strokes."
      ]
    },
    {
      "cell_type": "markdown",
      "metadata": {
        "id": "QSHFog7P6Xgs"
      },
      "source": [
        "### Do medical characteristics increase strokes?"
      ]
    },
    {
      "cell_type": "code",
      "execution_count": 21,
      "metadata": {
        "colab": {
          "base_uri": "https://localhost:8080/",
          "height": 398
        },
        "id": "cHnK1PTO7MdZ",
        "outputId": "2c4d83ca-f9b0-4ad2-f5c7-7ee68a5bdc1b"
      },
      "outputs": [
        {
          "output_type": "display_data",
          "data": {
            "text/plain": [
              "<Figure size 720x360 with 2 Axes>"
            ],
            "image/png": "[encoded data removed]"
          },
          "metadata": {
            "needs_background": "light"
          }
        }
      ],
      "source": [
        "fig, axes = plt.subplots(ncols = 2, nrows = 1, figsize = (10, 5))\n",
        "sns.barplot(data = vis_df, x = 'hypertension', y = 'stroke', palette = 'Set2', ax = axes[0])\n",
        "axes[0].set_title('Hypertension vs. Stroke', fontsize = 15, fontweight = 'bold')\n",
        "axes[0].set_ylim(bottom=0.000, top=0.230)\n",
        "sns.barplot(data = vis_df, x = 'heart_disease', y = 'stroke', palette = 'Set2', ax = axes[1])\n",
        "axes[1].set_title('Heart Disease vs. Stroke', fontsize = 15, fontweight = 'bold')\n",
        "axes[1].set_ylim(bottom=0.000, top=0.230)\n",
        "plt.suptitle('The Effect of Hypertension and Heart Disease on Strokes', fontweight = 'bold', fontsize = 15, y = 1.05)\n",
        "fig.tight_layout();\n",
        "plt.savefig('The Effect of Hypertension and Heart Disease on Strokes.png', dpi = 300)"
      ]
    },
    {
      "cell_type": "code",
      "execution_count": 22,
      "metadata": {
        "colab": {
          "base_uri": "https://localhost:8080/",
          "height": 441
        },
        "id": "pWZRre0-8jQZ",
        "outputId": "48e54bb0-449f-488a-fc38-710af67b8d3c"
      },
      "outputs": [
        {
          "output_type": "display_data",
          "data": {
            "text/plain": [
              "<Figure size 864x432 with 1 Axes>"
            ],
            "image/png": "[encoded data removed]"
          },
          "metadata": {
            "needs_background": "light"
          }
        }
      ],
      "source": [
        "fig, axes = plt.subplots(figsize = (12, 6))\n",
        "sns.scatterplot(data = vis_df, x = 'avg_glucose_level', y = 'bmi', hue = 'stroke', palette = 'Set2')\n",
        "plt.title('The Effect of Average Glucose Level and BMI on Strokes', fontsize = 15)\n",
        "plt.legend(title = 'Stroke', loc = 1)\n",
        "fig.tight_layout();\n",
        "plt.savefig('The Effect of Average Glucose Level and BMI on Strokes.png', dpi = 300)"
      ]
    },
    {
      "cell_type": "markdown",
      "metadata": {
        "id": "g2EHICDQGApc"
      },
      "source": [
        "  - These plots show that medical characteristics increase strokes.\n",
        "  - The barplots show that hypertension and heart disease both increase strokes.\n",
        "  - The scatterplot shows that the average glucose level increases strokes, but that BMI does not."
      ]
    },
    {
      "cell_type": "markdown",
      "metadata": {
        "id": "btHyUJYfM54a"
      },
      "source": [
        "## Prepare the data for modeling"
      ]
    },
    {
      "cell_type": "markdown",
      "metadata": {
        "id": "hgUBrrXGS60Q"
      },
      "source": [
        "### Create a copy of the data for modeling"
      ]
    },
    {
      "cell_type": "code",
      "execution_count": 23,
      "metadata": {
        "id": "2IU3FdJHS_Es"
      },
      "outputs": [],
      "source": [
        "ml_df = df.copy()"
      ]
    },
    {
      "cell_type": "markdown",
      "metadata": {
        "id": "zuOJqeH4M-gC"
      },
      "source": [
        "### Separate the data into the features matrix (X) and target vector (y)"
      ]
    },
    {
      "cell_type": "code",
      "execution_count": 24,
      "metadata": {
        "id": "cbG51Cgo-lxb"
      },
      "outputs": [],
      "source": [
        "X = ml_df.drop(columns = 'stroke')\n",
        "y = ml_df['stroke']"
      ]
    },
    {
      "cell_type": "markdown",
      "metadata": {
        "id": "NVir9w4ZNQDq"
      },
      "source": [
        "### Train test split the data (model validation)"
      ]
    },
    {
      "cell_type": "code",
      "execution_count": 25,
      "metadata": {
        "id": "4RTmkRcfNNMD"
      },
      "outputs": [],
      "source": [
        "X_train, X_test, y_train, y_test = train_test_split(X, y, stratify = y, random_state = 42)"
      ]
    },
    {
      "cell_type": "markdown",
      "metadata": {
        "id": "ZoaXZs0HOD-l"
      },
      "source": [
        "### Preprocessor"
      ]
    },
    {
      "cell_type": "code",
      "execution_count": 26,
      "metadata": {
        "colab": {
          "base_uri": "https://localhost:8080/",
          "height": 118
        },
        "id": "d1K4u0CIOFXh",
        "outputId": "73515718-7ef1-40ab-afc0-45c57b6167c5"
      },
      "outputs": [
        {
          "output_type": "execute_result",
          "data": {
            "text/plain": [
              "ColumnTransformer(transformers=[('onehotencoder',\n",
              "                                 OneHotEncoder(handle_unknown='ignore',\n",
              "                                               sparse=False),\n",
              "                                 <sklearn.compose._column_transformer.make_column_selector object at 0x7f26faca2700>),\n",
              "                                ('simpleimputer', SimpleImputer(),\n",
              "                                 <sklearn.compose._column_transformer.make_column_selector object at 0x7f26faca28b0>)])"
            ],
            "text/html": [
              "<style>#sk-6cf0f280-d8e9-48bd-92a8-5636d891bc5b {color: black;background-color: white;}#sk-6cf0f280-d8e9-48bd-92a8-5636d891bc5b pre{padding: 0;}#sk-6cf0f280-d8e9-48bd-92a8-5636d891bc5b div.sk-toggleable {background-color: white;}#sk-6cf0f280-d8e9-48bd-92a8-5636d891bc5b label.sk-toggleable__label {cursor: pointer;display: block;width: 100%;margin-bottom: 0;padding: 0.3em;box-sizing: border-box;text-align: center;}#sk-6cf0f280-d8e9-48bd-92a8-5636d891bc5b label.sk-toggleable__label-arrow:before {content: \"▸\";float: left;margin-right: 0.25em;color: #696969;}#sk-6cf0f280-d8e9-48bd-92a8-5636d891bc5b label.sk-toggleable__label-arrow:hover:before {color: black;}#sk-6cf0f280-d8e9-48bd-92a8-5636d891bc5b div.sk-estimator:hover label.sk-toggleable__label-arrow:before {color: black;}#sk-6cf0f280-d8e9-48bd-92a8-5636d891bc5b div.sk-toggleable__content {max-height: 0;max-width: 0;overflow: hidden;text-align: left;background-color: #f0f8ff;}#sk-6cf0f280-d8e9-48bd-92a8-5636d891bc5b div.sk-toggleable__content pre {margin: 0.2em;color: black;border-radius: 0.25em;background-color: #f0f8ff;}#sk-6cf0f280-d8e9-48bd-92a8-5636d891bc5b input.sk-toggleable__control:checked~div.sk-toggleable__content {max-height: 200px;max-width: 100%;overflow: auto;}#sk-6cf0f280-d8e9-48bd-92a8-5636d891bc5b input.sk-toggleable__control:checked~label.sk-toggleable__label-arrow:before {content: \"▾\";}#sk-6cf0f280-d8e9-48bd-92a8-5636d891bc5b div.sk-estimator input.sk-toggleable__control:checked~label.sk-toggleable__label {background-color: #d4ebff;}#sk-6cf0f280-d8e9-48bd-92a8-5636d891bc5b div.sk-label input.sk-toggleable__control:checked~label.sk-toggleable__label {background-color: #d4ebff;}#sk-6cf0f280-d8e9-48bd-92a8-5636d891bc5b input.sk-hidden--visually {border: 0;clip: rect(1px 1px 1px 1px);clip: rect(1px, 1px, 1px, 1px);height: 1px;margin: -1px;overflow: hidden;padding: 0;position: absolute;width: 1px;}#sk-6cf0f280-d8e9-48bd-92a8-5636d891bc5b div.sk-estimator {font-family: monospace;background-color: #f0f8ff;border: 1px dotted black;border-radius: 0.25em;box-sizing: border-box;margin-bottom: 0.5em;}#sk-6cf0f280-d8e9-48bd-92a8-5636d891bc5b div.sk-estimator:hover {background-color: #d4ebff;}#sk-6cf0f280-d8e9-48bd-92a8-5636d891bc5b div.sk-parallel-item::after {content: \"\";width: 100%;border-bottom: 1px solid gray;flex-grow: 1;}#sk-6cf0f280-d8e9-48bd-92a8-5636d891bc5b div.sk-label:hover label.sk-toggleable__label {background-color: #d4ebff;}#sk-6cf0f280-d8e9-48bd-92a8-5636d891bc5b div.sk-serial::before {content: \"\";position: absolute;border-left: 1px solid gray;box-sizing: border-box;top: 2em;bottom: 0;left: 50%;}#sk-6cf0f280-d8e9-48bd-92a8-5636d891bc5b div.sk-serial {display: flex;flex-direction: column;align-items: center;background-color: white;padding-right: 0.2em;padding-left: 0.2em;}#sk-6cf0f280-d8e9-48bd-92a8-5636d891bc5b div.sk-item {z-index: 1;}#sk-6cf0f280-d8e9-48bd-92a8-5636d891bc5b div.sk-parallel {display: flex;align-items: stretch;justify-content: center;background-color: white;}#sk-6cf0f280-d8e9-48bd-92a8-5636d891bc5b div.sk-parallel::before {content: \"\";position: absolute;border-left: 1px solid gray;box-sizing: border-box;top: 2em;bottom: 0;left: 50%;}#sk-6cf0f280-d8e9-48bd-92a8-5636d891bc5b div.sk-parallel-item {display: flex;flex-direction: column;position: relative;background-color: white;}#sk-6cf0f280-d8e9-48bd-92a8-5636d891bc5b div.sk-parallel-item:first-child::after {align-self: flex-end;width: 50%;}#sk-6cf0f280-d8e9-48bd-92a8-5636d891bc5b div.sk-parallel-item:last-child::after {align-self: flex-start;width: 50%;}#sk-6cf0f280-d8e9-48bd-92a8-5636d891bc5b div.sk-parallel-item:only-child::after {width: 0;}#sk-6cf0f280-d8e9-48bd-92a8-5636d891bc5b div.sk-dashed-wrapped {border: 1px dashed gray;margin: 0 0.4em 0.5em 0.4em;box-sizing: border-box;padding-bottom: 0.4em;background-color: white;position: relative;}#sk-6cf0f280-d8e9-48bd-92a8-5636d891bc5b div.sk-label label {font-family: monospace;font-weight: bold;background-color: white;display: inline-block;line-height: 1.2em;}#sk-6cf0f280-d8e9-48bd-92a8-5636d891bc5b div.sk-label-container {position: relative;z-index: 2;text-align: center;}#sk-6cf0f280-d8e9-48bd-92a8-5636d891bc5b div.sk-container {/* jupyter's `normalize.less` sets `[hidden] { display: none; }` but bootstrap.min.css set `[hidden] { display: none !important; }` so we also need the `!important` here to be able to override the default hidden behavior on the sphinx rendered scikit-learn.org. See: https://github.com/scikit-learn/scikit-learn/issues/21755 */display: inline-block !important;position: relative;}#sk-6cf0f280-d8e9-48bd-92a8-5636d891bc5b div.sk-text-repr-fallback {display: none;}</style><div id=\"sk-6cf0f280-d8e9-48bd-92a8-5636d891bc5b\" class=\"sk-top-container\"><div class=\"sk-text-repr-fallback\"><pre>ColumnTransformer(transformers=[(&#x27;onehotencoder&#x27;,\n",
              "                                 OneHotEncoder(handle_unknown=&#x27;ignore&#x27;,\n",
              "                                               sparse=False),\n",
              "                                 &lt;sklearn.compose._column_transformer.make_column_selector object at 0x7f26faca2700&gt;),\n",
              "                                (&#x27;simpleimputer&#x27;, SimpleImputer(),\n",
              "                                 &lt;sklearn.compose._column_transformer.make_column_selector object at 0x7f26faca28b0&gt;)])</pre><b>Please rerun this cell to show the HTML repr or trust the notebook.</b></div><div class=\"sk-container\" hidden><div class=\"sk-item sk-dashed-wrapped\"><div class=\"sk-label-container\"><div class=\"sk-label sk-toggleable\"><input class=\"sk-toggleable__control sk-hidden--visually\" id=\"11654139-91bc-4f49-be40-4f03c5ef02c7\" type=\"checkbox\" ><label for=\"11654139-91bc-4f49-be40-4f03c5ef02c7\" class=\"sk-toggleable__label sk-toggleable__label-arrow\">ColumnTransformer</label><div class=\"sk-toggleable__content\"><pre>ColumnTransformer(transformers=[(&#x27;onehotencoder&#x27;,\n",
              "                                 OneHotEncoder(handle_unknown=&#x27;ignore&#x27;,\n",
              "                                               sparse=False),\n",
              "                                 &lt;sklearn.compose._column_transformer.make_column_selector object at 0x7f26faca2700&gt;),\n",
              "                                (&#x27;simpleimputer&#x27;, SimpleImputer(),\n",
              "                                 &lt;sklearn.compose._column_transformer.make_column_selector object at 0x7f26faca28b0&gt;)])</pre></div></div></div><div class=\"sk-parallel\"><div class=\"sk-parallel-item\"><div class=\"sk-item\"><div class=\"sk-label-container\"><div class=\"sk-label sk-toggleable\"><input class=\"sk-toggleable__control sk-hidden--visually\" id=\"c6794db9-751a-43d6-a0fe-4a1405982f0a\" type=\"checkbox\" ><label for=\"c6794db9-751a-43d6-a0fe-4a1405982f0a\" class=\"sk-toggleable__label sk-toggleable__label-arrow\">onehotencoder</label><div class=\"sk-toggleable__content\"><pre>&lt;sklearn.compose._column_transformer.make_column_selector object at 0x7f26faca2700&gt;</pre></div></div></div><div class=\"sk-serial\"><div class=\"sk-item\"><div class=\"sk-estimator sk-toggleable\"><input class=\"sk-toggleable__control sk-hidden--visually\" id=\"1cfd2a3b-d8ae-45ac-ac41-c9281bb22e20\" type=\"checkbox\" ><label for=\"1cfd2a3b-d8ae-45ac-ac41-c9281bb22e20\" class=\"sk-toggleable__label sk-toggleable__label-arrow\">OneHotEncoder</label><div class=\"sk-toggleable__content\"><pre>OneHotEncoder(handle_unknown=&#x27;ignore&#x27;, sparse=False)</pre></div></div></div></div></div></div><div class=\"sk-parallel-item\"><div class=\"sk-item\"><div class=\"sk-label-container\"><div class=\"sk-label sk-toggleable\"><input class=\"sk-toggleable__control sk-hidden--visually\" id=\"6badf753-7ccd-440c-9793-5c509db2d77a\" type=\"checkbox\" ><label for=\"6badf753-7ccd-440c-9793-5c509db2d77a\" class=\"sk-toggleable__label sk-toggleable__label-arrow\">simpleimputer</label><div class=\"sk-toggleable__content\"><pre>&lt;sklearn.compose._column_transformer.make_column_selector object at 0x7f26faca28b0&gt;</pre></div></div></div><div class=\"sk-serial\"><div class=\"sk-item\"><div class=\"sk-estimator sk-toggleable\"><input class=\"sk-toggleable__control sk-hidden--visually\" id=\"ac51539d-42a2-4b86-8dfe-fab3897cdd74\" type=\"checkbox\" ><label for=\"ac51539d-42a2-4b86-8dfe-fab3897cdd74\" class=\"sk-toggleable__label sk-toggleable__label-arrow\">SimpleImputer</label><div class=\"sk-toggleable__content\"><pre>SimpleImputer()</pre></div></div></div></div></div></div></div></div></div></div>"
            ]
          },
          "metadata": {},
          "execution_count": 26
        }
      ],
      "source": [
        "#instantiate the transformers to impute missing values and one-hot encode the categorical data\n",
        "mean_imputer = SimpleImputer(strategy = 'mean')\n",
        "ohe = OneHotEncoder(sparse=False, handle_unknown='ignore')\n",
        "#create columnselectors for the numeric and categorical data\n",
        "cat_selector = make_column_selector(dtype_include='object')\n",
        "num_selector = make_column_selector(dtype_include='number')\n",
        "#combine the pipelines and columnselectors into tuples for the columntransformer\n",
        "cat_tuple = (ohe, cat_selector)\n",
        "num_tuple = (mean_imputer, num_selector)\n",
        "#create the preprocessing columntransformer\n",
        "preprocessor = make_column_transformer(cat_tuple, num_tuple, remainder='drop')\n",
        "preprocessor"
      ]
    },
    {
      "cell_type": "markdown",
      "metadata": {
        "id": "Yz9NCq2eVM6m"
      },
      "source": [
        "## Random Forest Classifier"
      ]
    },
    {
      "cell_type": "markdown",
      "metadata": {
        "id": "JpxRlvIgXMQo"
      },
      "source": [
        "#### Default parameters"
      ]
    },
    {
      "cell_type": "code",
      "execution_count": 27,
      "metadata": {
        "colab": {
          "base_uri": "https://localhost:8080/"
        },
        "id": "EXKkHrXmVC3S",
        "outputId": "ad557f7b-993f-47dd-bd69-9554fb458789"
      },
      "outputs": [
        {
          "output_type": "stream",
          "name": "stdout",
          "text": [
            "1.0\n",
            "0.94679186228482\n"
          ]
        }
      ],
      "source": [
        "#instantiate the model\n",
        "rf = RandomForestClassifier(random_state=42)\n",
        "#create a model pipeline\n",
        "rf_pipe = make_pipeline(preprocessor, rf)\n",
        "#fit the model pipeline on the training data\n",
        "rf_pipe.fit(X_train, y_train)\n",
        "#evaluate the model's performance\n",
        "print(rf_pipe.score(X_train, y_train))\n",
        "print(rf_pipe.score(X_test, y_test))"
      ]
    },
    {
      "cell_type": "markdown",
      "metadata": {
        "id": "92VGmxXdbC1f"
      },
      "source": [
        "#### Tuning hyperparameters using GridSearchCV"
      ]
    },
    {
      "cell_type": "code",
      "execution_count": 28,
      "metadata": {
        "colab": {
          "base_uri": "https://localhost:8080/"
        },
        "id": "op6vb0bTa-3P",
        "outputId": "73ed31e0-5749-4f62-b808-142ab49d72b4"
      },
      "outputs": [
        {
          "output_type": "execute_result",
          "data": {
            "text/plain": [
              "{'memory': None,\n",
              " 'steps': [('columntransformer',\n",
              "   ColumnTransformer(transformers=[('onehotencoder',\n",
              "                                    OneHotEncoder(handle_unknown='ignore',\n",
              "                                                  sparse=False),\n",
              "                                    <sklearn.compose._column_transformer.make_column_selector object at 0x7f26faca2700>),\n",
              "                                   ('simpleimputer', SimpleImputer(),\n",
              "                                    <sklearn.compose._column_transformer.make_column_selector object at 0x7f26faca28b0>)])),\n",
              "  ('randomforestclassifier', RandomForestClassifier(random_state=42))],\n",
              " 'verbose': False,\n",
              " 'columntransformer': ColumnTransformer(transformers=[('onehotencoder',\n",
              "                                  OneHotEncoder(handle_unknown='ignore',\n",
              "                                                sparse=False),\n",
              "                                  <sklearn.compose._column_transformer.make_column_selector object at 0x7f26faca2700>),\n",
              "                                 ('simpleimputer', SimpleImputer(),\n",
              "                                  <sklearn.compose._column_transformer.make_column_selector object at 0x7f26faca28b0>)]),\n",
              " 'randomforestclassifier': RandomForestClassifier(random_state=42),\n",
              " 'columntransformer__n_jobs': None,\n",
              " 'columntransformer__remainder': 'drop',\n",
              " 'columntransformer__sparse_threshold': 0.3,\n",
              " 'columntransformer__transformer_weights': None,\n",
              " 'columntransformer__transformers': [('onehotencoder',\n",
              "   OneHotEncoder(handle_unknown='ignore', sparse=False),\n",
              "   <sklearn.compose._column_transformer.make_column_selector at 0x7f26faca2700>),\n",
              "  ('simpleimputer',\n",
              "   SimpleImputer(),\n",
              "   <sklearn.compose._column_transformer.make_column_selector at 0x7f26faca28b0>)],\n",
              " 'columntransformer__verbose': False,\n",
              " 'columntransformer__verbose_feature_names_out': True,\n",
              " 'columntransformer__onehotencoder': OneHotEncoder(handle_unknown='ignore', sparse=False),\n",
              " 'columntransformer__simpleimputer': SimpleImputer(),\n",
              " 'columntransformer__onehotencoder__categories': 'auto',\n",
              " 'columntransformer__onehotencoder__drop': None,\n",
              " 'columntransformer__onehotencoder__dtype': numpy.float64,\n",
              " 'columntransformer__onehotencoder__handle_unknown': 'ignore',\n",
              " 'columntransformer__onehotencoder__sparse': False,\n",
              " 'columntransformer__simpleimputer__add_indicator': False,\n",
              " 'columntransformer__simpleimputer__copy': True,\n",
              " 'columntransformer__simpleimputer__fill_value': None,\n",
              " 'columntransformer__simpleimputer__missing_values': nan,\n",
              " 'columntransformer__simpleimputer__strategy': 'mean',\n",
              " 'columntransformer__simpleimputer__verbose': 0,\n",
              " 'randomforestclassifier__bootstrap': True,\n",
              " 'randomforestclassifier__ccp_alpha': 0.0,\n",
              " 'randomforestclassifier__class_weight': None,\n",
              " 'randomforestclassifier__criterion': 'gini',\n",
              " 'randomforestclassifier__max_depth': None,\n",
              " 'randomforestclassifier__max_features': 'auto',\n",
              " 'randomforestclassifier__max_leaf_nodes': None,\n",
              " 'randomforestclassifier__max_samples': None,\n",
              " 'randomforestclassifier__min_impurity_decrease': 0.0,\n",
              " 'randomforestclassifier__min_samples_leaf': 1,\n",
              " 'randomforestclassifier__min_samples_split': 2,\n",
              " 'randomforestclassifier__min_weight_fraction_leaf': 0.0,\n",
              " 'randomforestclassifier__n_estimators': 100,\n",
              " 'randomforestclassifier__n_jobs': None,\n",
              " 'randomforestclassifier__oob_score': False,\n",
              " 'randomforestclassifier__random_state': 42,\n",
              " 'randomforestclassifier__verbose': 0,\n",
              " 'randomforestclassifier__warm_start': False}"
            ]
          },
          "metadata": {},
          "execution_count": 28
        }
      ],
      "source": [
        "#choose hyperparameters for tuning\n",
        "rf_pipe.get_params()"
      ]
    },
    {
      "cell_type": "code",
      "execution_count": 29,
      "metadata": {
        "id": "q1nMr-VibM8c"
      },
      "outputs": [],
      "source": [
        "#create a parameter grid dictionary\n",
        "param_grid = {'randomforestclassifier__max_depth': [1, 5, 10],\n",
        "              'randomforestclassifier__n_estimators': [50, 100, 200],\n",
        "              'randomforestclassifier__min_samples_split':[2, 10, 100],\n",
        "              'randomforestclassifier__class_weight':['balanced', 'balanced_subsample']}"
      ]
    },
    {
      "cell_type": "code",
      "execution_count": 30,
      "metadata": {
        "id": "8IBR2wVCcKvy"
      },
      "outputs": [],
      "source": [
        "#instantiate the GridSearchCV Class\n",
        "rf_grid_search = GridSearchCV(rf_pipe, param_grid)"
      ]
    },
    {
      "cell_type": "code",
      "execution_count": 31,
      "metadata": {
        "colab": {
          "base_uri": "https://localhost:8080/",
          "height": 193
        },
        "id": "69iwJ0UIcUtR",
        "outputId": "7349bd75-6172-4169-c77b-387457d33fdd"
      },
      "outputs": [
        {
          "output_type": "execute_result",
          "data": {
            "text/plain": [
              "GridSearchCV(estimator=Pipeline(steps=[('columntransformer',\n",
              "                                        ColumnTransformer(transformers=[('onehotencoder',\n",
              "                                                                         OneHotEncoder(handle_unknown='ignore',\n",
              "                                                                                       sparse=False),\n",
              "                                                                         <sklearn.compose._column_transformer.make_column_selector object at 0x7f26faca2700>),\n",
              "                                                                        ('simpleimputer',\n",
              "                                                                         SimpleImputer(),\n",
              "                                                                         <sklearn.compose._column_transformer.make_column_selector object at 0x7f26faca28b0>)])),\n",
              "                                       ('randomforestclassifier',\n",
              "                                        RandomForestClassifier(random_state=42))]),\n",
              "             param_grid={'randomforestclassifier__class_weight': ['balanced',\n",
              "                                                                  'balanced_subsample'],\n",
              "                         'randomforestclassifier__max_depth': [1, 5, 10],\n",
              "                         'randomforestclassifier__min_samples_split': [2, 10,\n",
              "                                                                       100],\n",
              "                         'randomforestclassifier__n_estimators': [50, 100,\n",
              "                                                                  200]})"
            ],
            "text/html": [
              "<style>#sk-7951738d-b0a3-4ff6-8f6c-9c59595fcc14 {color: black;background-color: white;}#sk-7951738d-b0a3-4ff6-8f6c-9c59595fcc14 pre{padding: 0;}#sk-7951738d-b0a3-4ff6-8f6c-9c59595fcc14 div.sk-toggleable {background-color: white;}#sk-7951738d-b0a3-4ff6-8f6c-9c59595fcc14 label.sk-toggleable__label {cursor: pointer;display: block;width: 100%;margin-bottom: 0;padding: 0.3em;box-sizing: border-box;text-align: center;}#sk-7951738d-b0a3-4ff6-8f6c-9c59595fcc14 label.sk-toggleable__label-arrow:before {content: \"▸\";float: left;margin-right: 0.25em;color: #696969;}#sk-7951738d-b0a3-4ff6-8f6c-9c59595fcc14 label.sk-toggleable__label-arrow:hover:before {color: black;}#sk-7951738d-b0a3-4ff6-8f6c-9c59595fcc14 div.sk-estimator:hover label.sk-toggleable__label-arrow:before {color: black;}#sk-7951738d-b0a3-4ff6-8f6c-9c59595fcc14 div.sk-toggleable__content {max-height: 0;max-width: 0;overflow: hidden;text-align: left;background-color: #f0f8ff;}#sk-7951738d-b0a3-4ff6-8f6c-9c59595fcc14 div.sk-toggleable__content pre {margin: 0.2em;color: black;border-radius: 0.25em;background-color: #f0f8ff;}#sk-7951738d-b0a3-4ff6-8f6c-9c59595fcc14 input.sk-toggleable__control:checked~div.sk-toggleable__content {max-height: 200px;max-width: 100%;overflow: auto;}#sk-7951738d-b0a3-4ff6-8f6c-9c59595fcc14 input.sk-toggleable__control:checked~label.sk-toggleable__label-arrow:before {content: \"▾\";}#sk-7951738d-b0a3-4ff6-8f6c-9c59595fcc14 div.sk-estimator input.sk-toggleable__control:checked~label.sk-toggleable__label {background-color: #d4ebff;}#sk-7951738d-b0a3-4ff6-8f6c-9c59595fcc14 div.sk-label input.sk-toggleable__control:checked~label.sk-toggleable__label {background-color: #d4ebff;}#sk-7951738d-b0a3-4ff6-8f6c-9c59595fcc14 input.sk-hidden--visually {border: 0;clip: rect(1px 1px 1px 1px);clip: rect(1px, 1px, 1px, 1px);height: 1px;margin: -1px;overflow: hidden;padding: 0;position: absolute;width: 1px;}#sk-7951738d-b0a3-4ff6-8f6c-9c59595fcc14 div.sk-estimator {font-family: monospace;background-color: #f0f8ff;border: 1px dotted black;border-radius: 0.25em;box-sizing: border-box;margin-bottom: 0.5em;}#sk-7951738d-b0a3-4ff6-8f6c-9c59595fcc14 div.sk-estimator:hover {background-color: #d4ebff;}#sk-7951738d-b0a3-4ff6-8f6c-9c59595fcc14 div.sk-parallel-item::after {content: \"\";width: 100%;border-bottom: 1px solid gray;flex-grow: 1;}#sk-7951738d-b0a3-4ff6-8f6c-9c59595fcc14 div.sk-label:hover label.sk-toggleable__label {background-color: #d4ebff;}#sk-7951738d-b0a3-4ff6-8f6c-9c59595fcc14 div.sk-serial::before {content: \"\";position: absolute;border-left: 1px solid gray;box-sizing: border-box;top: 2em;bottom: 0;left: 50%;}#sk-7951738d-b0a3-4ff6-8f6c-9c59595fcc14 div.sk-serial {display: flex;flex-direction: column;align-items: center;background-color: white;padding-right: 0.2em;padding-left: 0.2em;}#sk-7951738d-b0a3-4ff6-8f6c-9c59595fcc14 div.sk-item {z-index: 1;}#sk-7951738d-b0a3-4ff6-8f6c-9c59595fcc14 div.sk-parallel {display: flex;align-items: stretch;justify-content: center;background-color: white;}#sk-7951738d-b0a3-4ff6-8f6c-9c59595fcc14 div.sk-parallel::before {content: \"\";position: absolute;border-left: 1px solid gray;box-sizing: border-box;top: 2em;bottom: 0;left: 50%;}#sk-7951738d-b0a3-4ff6-8f6c-9c59595fcc14 div.sk-parallel-item {display: flex;flex-direction: column;position: relative;background-color: white;}#sk-7951738d-b0a3-4ff6-8f6c-9c59595fcc14 div.sk-parallel-item:first-child::after {align-self: flex-end;width: 50%;}#sk-7951738d-b0a3-4ff6-8f6c-9c59595fcc14 div.sk-parallel-item:last-child::after {align-self: flex-start;width: 50%;}#sk-7951738d-b0a3-4ff6-8f6c-9c59595fcc14 div.sk-parallel-item:only-child::after {width: 0;}#sk-7951738d-b0a3-4ff6-8f6c-9c59595fcc14 div.sk-dashed-wrapped {border: 1px dashed gray;margin: 0 0.4em 0.5em 0.4em;box-sizing: border-box;padding-bottom: 0.4em;background-color: white;position: relative;}#sk-7951738d-b0a3-4ff6-8f6c-9c59595fcc14 div.sk-label label {font-family: monospace;font-weight: bold;background-color: white;display: inline-block;line-height: 1.2em;}#sk-7951738d-b0a3-4ff6-8f6c-9c59595fcc14 div.sk-label-container {position: relative;z-index: 2;text-align: center;}#sk-7951738d-b0a3-4ff6-8f6c-9c59595fcc14 div.sk-container {/* jupyter's `normalize.less` sets `[hidden] { display: none; }` but bootstrap.min.css set `[hidden] { display: none !important; }` so we also need the `!important` here to be able to override the default hidden behavior on the sphinx rendered scikit-learn.org. See: https://github.com/scikit-learn/scikit-learn/issues/21755 */display: inline-block !important;position: relative;}#sk-7951738d-b0a3-4ff6-8f6c-9c59595fcc14 div.sk-text-repr-fallback {display: none;}</style><div id=\"sk-7951738d-b0a3-4ff6-8f6c-9c59595fcc14\" class=\"sk-top-container\"><div class=\"sk-text-repr-fallback\"><pre>GridSearchCV(estimator=Pipeline(steps=[(&#x27;columntransformer&#x27;,\n",
              "                                        ColumnTransformer(transformers=[(&#x27;onehotencoder&#x27;,\n",
              "                                                                         OneHotEncoder(handle_unknown=&#x27;ignore&#x27;,\n",
              "                                                                                       sparse=False),\n",
              "                                                                         &lt;sklearn.compose._column_transformer.make_column_selector object at 0x7f26faca2700&gt;),\n",
              "                                                                        (&#x27;simpleimputer&#x27;,\n",
              "                                                                         SimpleImputer(),\n",
              "                                                                         &lt;sklearn.compose._column_transformer.make_column_selector object at 0x7f26faca28b0&gt;)])),\n",
              "                                       (&#x27;randomforestclassifier&#x27;,\n",
              "                                        RandomForestClassifier(random_state=42))]),\n",
              "             param_grid={&#x27;randomforestclassifier__class_weight&#x27;: [&#x27;balanced&#x27;,\n",
              "                                                                  &#x27;balanced_subsample&#x27;],\n",
              "                         &#x27;randomforestclassifier__max_depth&#x27;: [1, 5, 10],\n",
              "                         &#x27;randomforestclassifier__min_samples_split&#x27;: [2, 10,\n",
              "                                                                       100],\n",
              "                         &#x27;randomforestclassifier__n_estimators&#x27;: [50, 100,\n",
              "                                                                  200]})</pre><b>Please rerun this cell to show the HTML repr or trust the notebook.</b></div><div class=\"sk-container\" hidden><div class=\"sk-item sk-dashed-wrapped\"><div class=\"sk-label-container\"><div class=\"sk-label sk-toggleable\"><input class=\"sk-toggleable__control sk-hidden--visually\" id=\"7374d8f3-748e-43d7-93db-b138b6dd28b7\" type=\"checkbox\" ><label for=\"7374d8f3-748e-43d7-93db-b138b6dd28b7\" class=\"sk-toggleable__label sk-toggleable__label-arrow\">GridSearchCV</label><div class=\"sk-toggleable__content\"><pre>GridSearchCV(estimator=Pipeline(steps=[(&#x27;columntransformer&#x27;,\n",
              "                                        ColumnTransformer(transformers=[(&#x27;onehotencoder&#x27;,\n",
              "                                                                         OneHotEncoder(handle_unknown=&#x27;ignore&#x27;,\n",
              "                                                                                       sparse=False),\n",
              "                                                                         &lt;sklearn.compose._column_transformer.make_column_selector object at 0x7f26faca2700&gt;),\n",
              "                                                                        (&#x27;simpleimputer&#x27;,\n",
              "                                                                         SimpleImputer(),\n",
              "                                                                         &lt;sklearn.compose._column_transformer.make_column_selector object at 0x7f26faca28b0&gt;)])),\n",
              "                                       (&#x27;randomforestclassifier&#x27;,\n",
              "                                        RandomForestClassifier(random_state=42))]),\n",
              "             param_grid={&#x27;randomforestclassifier__class_weight&#x27;: [&#x27;balanced&#x27;,\n",
              "                                                                  &#x27;balanced_subsample&#x27;],\n",
              "                         &#x27;randomforestclassifier__max_depth&#x27;: [1, 5, 10],\n",
              "                         &#x27;randomforestclassifier__min_samples_split&#x27;: [2, 10,\n",
              "                                                                       100],\n",
              "                         &#x27;randomforestclassifier__n_estimators&#x27;: [50, 100,\n",
              "                                                                  200]})</pre></div></div></div><div class=\"sk-parallel\"><div class=\"sk-parallel-item\"><div class=\"sk-item\"><div class=\"sk-serial\"><div class=\"sk-item\"><div class=\"sk-serial\"><div class=\"sk-item sk-dashed-wrapped\"><div class=\"sk-label-container\"><div class=\"sk-label sk-toggleable\"><input class=\"sk-toggleable__control sk-hidden--visually\" id=\"ce81d38a-0a8e-401c-83dc-cd56efb6d5c7\" type=\"checkbox\" ><label for=\"ce81d38a-0a8e-401c-83dc-cd56efb6d5c7\" class=\"sk-toggleable__label sk-toggleable__label-arrow\">columntransformer: ColumnTransformer</label><div class=\"sk-toggleable__content\"><pre>ColumnTransformer(transformers=[(&#x27;onehotencoder&#x27;,\n",
              "                                 OneHotEncoder(handle_unknown=&#x27;ignore&#x27;,\n",
              "                                               sparse=False),\n",
              "                                 &lt;sklearn.compose._column_transformer.make_column_selector object at 0x7f26faca2700&gt;),\n",
              "                                (&#x27;simpleimputer&#x27;, SimpleImputer(),\n",
              "                                 &lt;sklearn.compose._column_transformer.make_column_selector object at 0x7f26faca28b0&gt;)])</pre></div></div></div><div class=\"sk-parallel\"><div class=\"sk-parallel-item\"><div class=\"sk-item\"><div class=\"sk-label-container\"><div class=\"sk-label sk-toggleable\"><input class=\"sk-toggleable__control sk-hidden--visually\" id=\"713eab17-7da5-42f9-8044-5ad3729cf215\" type=\"checkbox\" ><label for=\"713eab17-7da5-42f9-8044-5ad3729cf215\" class=\"sk-toggleable__label sk-toggleable__label-arrow\">onehotencoder</label><div class=\"sk-toggleable__content\"><pre>&lt;sklearn.compose._column_transformer.make_column_selector object at 0x7f26faca2700&gt;</pre></div></div></div><div class=\"sk-serial\"><div class=\"sk-item\"><div class=\"sk-estimator sk-toggleable\"><input class=\"sk-toggleable__control sk-hidden--visually\" id=\"f3699483-c770-40aa-bea7-989cdcd8244b\" type=\"checkbox\" ><label for=\"f3699483-c770-40aa-bea7-989cdcd8244b\" class=\"sk-toggleable__label sk-toggleable__label-arrow\">OneHotEncoder</label><div class=\"sk-toggleable__content\"><pre>OneHotEncoder(handle_unknown=&#x27;ignore&#x27;, sparse=False)</pre></div></div></div></div></div></div><div class=\"sk-parallel-item\"><div class=\"sk-item\"><div class=\"sk-label-container\"><div class=\"sk-label sk-toggleable\"><input class=\"sk-toggleable__control sk-hidden--visually\" id=\"b031ba32-2566-4dce-8aac-6c6e86ffeab1\" type=\"checkbox\" ><label for=\"b031ba32-2566-4dce-8aac-6c6e86ffeab1\" class=\"sk-toggleable__label sk-toggleable__label-arrow\">simpleimputer</label><div class=\"sk-toggleable__content\"><pre>&lt;sklearn.compose._column_transformer.make_column_selector object at 0x7f26faca28b0&gt;</pre></div></div></div><div class=\"sk-serial\"><div class=\"sk-item\"><div class=\"sk-estimator sk-toggleable\"><input class=\"sk-toggleable__control sk-hidden--visually\" id=\"d80854b1-352e-4b58-b487-c03e3a6b9d35\" type=\"checkbox\" ><label for=\"d80854b1-352e-4b58-b487-c03e3a6b9d35\" class=\"sk-toggleable__label sk-toggleable__label-arrow\">SimpleImputer</label><div class=\"sk-toggleable__content\"><pre>SimpleImputer()</pre></div></div></div></div></div></div></div></div><div class=\"sk-item\"><div class=\"sk-estimator sk-toggleable\"><input class=\"sk-toggleable__control sk-hidden--visually\" id=\"ad255d40-7e60-4ee0-afd0-2a47bb6bffdb\" type=\"checkbox\" ><label for=\"ad255d40-7e60-4ee0-afd0-2a47bb6bffdb\" class=\"sk-toggleable__label sk-toggleable__label-arrow\">RandomForestClassifier</label><div class=\"sk-toggleable__content\"><pre>RandomForestClassifier(random_state=42)</pre></div></div></div></div></div></div></div></div></div></div></div></div>"
            ]
          },
          "metadata": {},
          "execution_count": 31
        }
      ],
      "source": [
        "#fit the GridSearchCV on the Training Data\n",
        "rf_grid_search.fit(X_train, y_train)"
      ]
    },
    {
      "cell_type": "code",
      "execution_count": 32,
      "metadata": {
        "colab": {
          "base_uri": "https://localhost:8080/"
        },
        "id": "OjPOkyR9ccJd",
        "outputId": "8ea39501-5427-4838-eb1d-9ed54e1f369c"
      },
      "outputs": [
        {
          "output_type": "stream",
          "name": "stdout",
          "text": [
            "Best Random Forest Classifier Parameters:\n",
            "{'randomforestclassifier__class_weight': 'balanced', 'randomforestclassifier__max_depth': 10, 'randomforestclassifier__min_samples_split': 2, 'randomforestclassifier__n_estimators': 200}\n",
            "Accuracy of best Random Forest Classifier model is: 0.918622848200313\n"
          ]
        }
      ],
      "source": [
        "#find the best parameters\n",
        "print('Best Random Forest Classifier Parameters:')\n",
        "print(rf_grid_search.best_params_)\n",
        "best_model = rf_grid_search.best_estimator_\n",
        "print(f'Accuracy of best Random Forest Classifier model is: {best_model.score(X_test, y_test)}')"
      ]
    },
    {
      "cell_type": "code",
      "execution_count": 33,
      "metadata": {
        "colab": {
          "base_uri": "https://localhost:8080/"
        },
        "id": "V6IJKdu_drbY",
        "outputId": "6646c4d8-dba0-4afd-db9e-7cccf365148c"
      },
      "outputs": [
        {
          "output_type": "stream",
          "name": "stdout",
          "text": [
            "{'randomforestclassifier__class_weight': 'balanced', 'randomforestclassifier__max_depth': 11, 'randomforestclassifier__min_samples_split': 3, 'randomforestclassifier__n_estimators': 250}\n",
            "Accuracy of best Random Forest Classifier model is: 0.931924882629108\n"
          ]
        }
      ],
      "source": [
        "#examine the best parameters found by the GridSearchCV object\n",
        "param_grid2 = {'randomforestclassifier__max_depth': [9, 10, 11],\n",
        "               'randomforestclassifier__n_estimators': [150, 200, 250],\n",
        "               'randomforestclassifier__min_samples_split': [2, 3, 4],\n",
        "               'randomforestclassifier__class_weight': ['balanced']}\n",
        "rf_grid_search2 = GridSearchCV(rf_pipe, param_grid2)\n",
        "rf_grid_search2.fit(X_train, y_train)\n",
        "print(rf_grid_search2.best_params_)\n",
        "best_rf = rf_grid_search2.best_estimator_\n",
        "print(f'Accuracy of best Random Forest Classifier model is: {best_rf.score(X_test, y_test)}')"
      ]
    },
    {
      "cell_type": "code",
      "execution_count": 34,
      "metadata": {
        "colab": {
          "base_uri": "https://localhost:8080/"
        },
        "id": "837f5UwxeN1T",
        "outputId": "4ecb8d43-4d70-49a5-b7d8-b6368f7bbd6b"
      },
      "outputs": [
        {
          "output_type": "stream",
          "name": "stdout",
          "text": [
            "{'randomforestclassifier__class_weight': 'balanced', 'randomforestclassifier__max_depth': 17, 'randomforestclassifier__min_samples_split': 2, 'randomforestclassifier__n_estimators': 275}\n",
            "Accuracy of best-best Random Forest Classifier model is: 0.9507042253521126\n"
          ]
        }
      ],
      "source": [
        "#examine the best parameters found by the 2nd GridSearchCV object\n",
        "param_grid3 = {'randomforestclassifier__max_depth': range(10, 20),\n",
        "               'randomforestclassifier__n_estimators': [225, 250, 275, 300],\n",
        "               'randomforestclassifier__min_samples_split': [2, 3],\n",
        "               'randomforestclassifier__class_weight': ['balanced']}\n",
        "rf_grid_search3 = GridSearchCV(rf_pipe, param_grid3)\n",
        "rf_grid_search3.fit(X_train, y_train)\n",
        "print(rf_grid_search3.best_params_)\n",
        "best_rf3 = rf_grid_search3.best_estimator_\n",
        "print(f'Accuracy of best-best Random Forest Classifier model is: {best_rf3.score(X_test, y_test)}')"
      ]
    },
    {
      "cell_type": "markdown",
      "metadata": {
        "id": "KXgH_ELgjx4_"
      },
      "source": [
        "### Final Random Forest Classifier Model Evaluation"
      ]
    },
    {
      "cell_type": "code",
      "execution_count": 35,
      "metadata": {
        "colab": {
          "base_uri": "https://localhost:8080/"
        },
        "id": "mcKpFQd6jy8A",
        "outputId": "5ff535dc-41c7-41a3-f1f9-0142599dea27"
      },
      "outputs": [
        {
          "output_type": "stream",
          "name": "stdout",
          "text": [
            "1.0\n",
            "0.9507042253521126\n"
          ]
        }
      ],
      "source": [
        "#instantiate the tuned model\n",
        "rf_tuned = RandomForestClassifier(max_depth=17, min_samples_split=2, n_estimators=275, class_weight = 'balanced', random_state=42)\n",
        "#create the tuned model pipeline\n",
        "rf_tuned_pipe = make_pipeline(preprocessor, rf_tuned)\n",
        "#fit the tuned model pipeline on the training data\n",
        "rf_tuned_pipe.fit(X_train, y_train)\n",
        "#make predictions\n",
        "train_preds_rf_tuned = rf_tuned_pipe.predict(X_train)\n",
        "test_preds_rf_tuned = rf_tuned_pipe.predict(X_test)\n",
        "#evaluate the model's performance\n",
        "print(rf_tuned_pipe.score(X_train, y_train))\n",
        "print(rf_tuned_pipe.score(X_test, y_test))"
      ]
    },
    {
      "cell_type": "markdown",
      "metadata": {
        "id": "LuKfCI6Lsiyk"
      },
      "source": [
        "  - Tuning the Random Forest Classifier increased the accuracy on the test set."
      ]
    },
    {
      "cell_type": "code",
      "execution_count": 36,
      "metadata": {
        "colab": {
          "base_uri": "https://localhost:8080/",
          "height": 301
        },
        "id": "cRiA7tzylHhm",
        "outputId": "5c4bf64c-9c34-45b4-8e16-f8f087b1cc57"
      },
      "outputs": [
        {
          "output_type": "stream",
          "name": "stdout",
          "text": [
            "Random Forest Classifier Confusion Matrix\n"
          ]
        },
        {
          "output_type": "display_data",
          "data": {
            "text/plain": [
              "<Figure size 432x288 with 2 Axes>"
            ],
            "image/png": "[encoded data removed]"
          },
          "metadata": {
            "needs_background": "light"
          }
        }
      ],
      "source": [
        "labels = ['No Stroke', 'Stroke']\n",
        "print('Random Forest Classifier Confusion Matrix')\n",
        "ConfusionMatrixDisplay.from_predictions(y_test, test_preds_rf_tuned, display_labels = labels, cmap = 'Greens', normalize = 'true');"
      ]
    },
    {
      "cell_type": "markdown",
      "metadata": {
        "id": "3S1wAw4bsoiz"
      },
      "source": [
        "  - The tuned Random Forest Classifier model successfully classified 100% of the no stroke samples but 0% of the stroke samples."
      ]
    },
    {
      "cell_type": "code",
      "execution_count": 37,
      "metadata": {
        "colab": {
          "base_uri": "https://localhost:8080/"
        },
        "id": "e5JyWNvcl79Q",
        "outputId": "2c338c14-e87a-4147-a5a1-8bb5e3852ea6"
      },
      "outputs": [
        {
          "output_type": "stream",
          "name": "stdout",
          "text": [
            "Random Forest Classifier Classification Report\n",
            "              precision    recall  f1-score   support\n",
            "\n",
            "           0       0.95      1.00      0.97      1216\n",
            "           1       0.00      0.00      0.00        62\n",
            "\n",
            "    accuracy                           0.95      1278\n",
            "   macro avg       0.48      0.50      0.49      1278\n",
            "weighted avg       0.91      0.95      0.93      1278\n",
            "\n"
          ]
        }
      ],
      "source": [
        "print('Random Forest Classifier Classification Report')\n",
        "print(classification_report(y_test, test_preds_rf_tuned))"
      ]
    },
    {
      "cell_type": "markdown",
      "metadata": {
        "id": "PgHTCLt8tA_a"
      },
      "source": [
        "  - The tuned Random Forest Classifier model was 95% accurate for making correct predictions on the test set.\n",
        "  - The tuned Random Forest Classifier model was 95% sensitive and 100% specific for predicting the no stroke class.\n",
        "  - However, the tuned Random Forest Classifier model was 0% sensitive and 0% specific for predicting the stroke class.\n",
        "  - The tuned Random Forest Classifier model had f1-scores of 97% for the no stroke class and, again, 0% for the stroke class."
      ]
    },
    {
      "cell_type": "markdown",
      "metadata": {
        "id": "4VZXxfyULuj7"
      },
      "source": [
        "The target class imbalance limits the model's predictions of the stroke class."
      ]
    },
    {
      "cell_type": "markdown",
      "metadata": {
        "id": "kpfsgZU9t75-"
      },
      "source": [
        "#### Random Forest Classifier with SMOTE"
      ]
    },
    {
      "cell_type": "code",
      "execution_count": 38,
      "metadata": {
        "colab": {
          "base_uri": "https://localhost:8080/"
        },
        "id": "A4N8Pj0Ds8_H",
        "outputId": "9c4cc010-6455-40fb-f6f9-57a309305ba3"
      },
      "outputs": [
        {
          "output_type": "stream",
          "name": "stdout",
          "text": [
            "0.9997390396659708\n",
            "0.9428794992175273\n"
          ]
        }
      ],
      "source": [
        "#instantiate SMOTE and RandomForestClassifier\n",
        "smote = SMOTE(random_state=42)\n",
        "rf_smote = RandomForestClassifier(random_state=42)\n",
        "#create a model pipeline\n",
        "rf_smote_pipe = make_sampler_pipeline(preprocessor, smote, rf_smote)\n",
        "#fit the model pipeline on the training data\n",
        "rf_smote_pipe.fit(X_train, y_train)\n",
        "#evaluate the model's performance\n",
        "print(rf_smote_pipe.score(X_train, y_train))\n",
        "print(rf_smote_pipe.score(X_test, y_test))"
      ]
    },
    {
      "cell_type": "markdown",
      "metadata": {
        "id": "VjQoWDpKxjrR"
      },
      "source": [
        "#### Tuning hyperparameters using GridSearchCV"
      ]
    },
    {
      "cell_type": "code",
      "execution_count": 39,
      "metadata": {
        "colab": {
          "base_uri": "https://localhost:8080/"
        },
        "id": "hHWpKttXvpC7",
        "outputId": "09dc616a-70e5-44d4-ede0-ebceb54a753b"
      },
      "outputs": [
        {
          "output_type": "execute_result",
          "data": {
            "text/plain": [
              "{'memory': None,\n",
              " 'steps': [('columntransformer',\n",
              "   ColumnTransformer(transformers=[('onehotencoder',\n",
              "                                    OneHotEncoder(handle_unknown='ignore',\n",
              "                                                  sparse=False),\n",
              "                                    <sklearn.compose._column_transformer.make_column_selector object at 0x7f26faca2700>),\n",
              "                                   ('simpleimputer', SimpleImputer(),\n",
              "                                    <sklearn.compose._column_transformer.make_column_selector object at 0x7f26faca28b0>)])),\n",
              "  ('smote', SMOTE(random_state=42)),\n",
              "  ('randomforestclassifier', RandomForestClassifier(random_state=42))],\n",
              " 'verbose': False,\n",
              " 'columntransformer': ColumnTransformer(transformers=[('onehotencoder',\n",
              "                                  OneHotEncoder(handle_unknown='ignore',\n",
              "                                                sparse=False),\n",
              "                                  <sklearn.compose._column_transformer.make_column_selector object at 0x7f26faca2700>),\n",
              "                                 ('simpleimputer', SimpleImputer(),\n",
              "                                  <sklearn.compose._column_transformer.make_column_selector object at 0x7f26faca28b0>)]),\n",
              " 'smote': SMOTE(random_state=42),\n",
              " 'randomforestclassifier': RandomForestClassifier(random_state=42),\n",
              " 'columntransformer__n_jobs': None,\n",
              " 'columntransformer__remainder': 'drop',\n",
              " 'columntransformer__sparse_threshold': 0.3,\n",
              " 'columntransformer__transformer_weights': None,\n",
              " 'columntransformer__transformers': [('onehotencoder',\n",
              "   OneHotEncoder(handle_unknown='ignore', sparse=False),\n",
              "   <sklearn.compose._column_transformer.make_column_selector at 0x7f26faca2700>),\n",
              "  ('simpleimputer',\n",
              "   SimpleImputer(),\n",
              "   <sklearn.compose._column_transformer.make_column_selector at 0x7f26faca28b0>)],\n",
              " 'columntransformer__verbose': False,\n",
              " 'columntransformer__verbose_feature_names_out': True,\n",
              " 'columntransformer__onehotencoder': OneHotEncoder(handle_unknown='ignore', sparse=False),\n",
              " 'columntransformer__simpleimputer': SimpleImputer(),\n",
              " 'columntransformer__onehotencoder__categories': 'auto',\n",
              " 'columntransformer__onehotencoder__drop': None,\n",
              " 'columntransformer__onehotencoder__dtype': numpy.float64,\n",
              " 'columntransformer__onehotencoder__handle_unknown': 'ignore',\n",
              " 'columntransformer__onehotencoder__sparse': False,\n",
              " 'columntransformer__simpleimputer__add_indicator': False,\n",
              " 'columntransformer__simpleimputer__copy': True,\n",
              " 'columntransformer__simpleimputer__fill_value': None,\n",
              " 'columntransformer__simpleimputer__missing_values': nan,\n",
              " 'columntransformer__simpleimputer__strategy': 'mean',\n",
              " 'columntransformer__simpleimputer__verbose': 0,\n",
              " 'smote__k_neighbors': 5,\n",
              " 'smote__n_jobs': None,\n",
              " 'smote__random_state': 42,\n",
              " 'smote__sampling_strategy': 'auto',\n",
              " 'randomforestclassifier__bootstrap': True,\n",
              " 'randomforestclassifier__ccp_alpha': 0.0,\n",
              " 'randomforestclassifier__class_weight': None,\n",
              " 'randomforestclassifier__criterion': 'gini',\n",
              " 'randomforestclassifier__max_depth': None,\n",
              " 'randomforestclassifier__max_features': 'auto',\n",
              " 'randomforestclassifier__max_leaf_nodes': None,\n",
              " 'randomforestclassifier__max_samples': None,\n",
              " 'randomforestclassifier__min_impurity_decrease': 0.0,\n",
              " 'randomforestclassifier__min_samples_leaf': 1,\n",
              " 'randomforestclassifier__min_samples_split': 2,\n",
              " 'randomforestclassifier__min_weight_fraction_leaf': 0.0,\n",
              " 'randomforestclassifier__n_estimators': 100,\n",
              " 'randomforestclassifier__n_jobs': None,\n",
              " 'randomforestclassifier__oob_score': False,\n",
              " 'randomforestclassifier__random_state': 42,\n",
              " 'randomforestclassifier__verbose': 0,\n",
              " 'randomforestclassifier__warm_start': False}"
            ]
          },
          "metadata": {},
          "execution_count": 39
        }
      ],
      "source": [
        "#choose hyperparameters for tuning\n",
        "rf_smote_pipe.get_params()"
      ]
    },
    {
      "cell_type": "code",
      "execution_count": 40,
      "metadata": {
        "id": "q2ZPiZoqxspv"
      },
      "outputs": [],
      "source": [
        "#create a parameter grid dictionary\n",
        "rf_smote_param_grid = {'randomforestclassifier__max_depth': [1, 5, 10],\n",
        "              'randomforestclassifier__n_estimators': [50, 100, 200],\n",
        "              'randomforestclassifier__min_samples_split':[2, 10, 100],\n",
        "              'randomforestclassifier__class_weight':['balanced', 'balanced_subsample']}"
      ]
    },
    {
      "cell_type": "code",
      "execution_count": 41,
      "metadata": {
        "id": "gzrFiMjox6M1"
      },
      "outputs": [],
      "source": [
        "#instantiate the GridSearchCV Class\n",
        "rf_smote_grid_search = GridSearchCV(rf_smote_pipe, rf_smote_param_grid)"
      ]
    },
    {
      "cell_type": "code",
      "execution_count": 42,
      "metadata": {
        "colab": {
          "base_uri": "https://localhost:8080/",
          "height": 228
        },
        "id": "EQITovaAyMUO",
        "outputId": "8d9923c8-6e5c-4a19-8743-c09ffee365c6"
      },
      "outputs": [
        {
          "output_type": "execute_result",
          "data": {
            "text/plain": [
              "GridSearchCV(estimator=Pipeline(steps=[('columntransformer',\n",
              "                                        ColumnTransformer(transformers=[('onehotencoder',\n",
              "                                                                         OneHotEncoder(handle_unknown='ignore',\n",
              "                                                                                       sparse=False),\n",
              "                                                                         <sklearn.compose._column_transformer.make_column_selector object at 0x7f26faca2700>),\n",
              "                                                                        ('simpleimputer',\n",
              "                                                                         SimpleImputer(),\n",
              "                                                                         <sklearn.compose._column_transformer.make_column_selector object at 0x7f26faca28b0>)])),\n",
              "                                       ('smote', SMOTE(random_state=42)),\n",
              "                                       ('randomforestclassifier',\n",
              "                                        RandomForestClassifier(random_state=42))]),\n",
              "             param_grid={'randomforestclassifier__class_weight': ['balanced',\n",
              "                                                                  'balanced_subsample'],\n",
              "                         'randomforestclassifier__max_depth': [1, 5, 10],\n",
              "                         'randomforestclassifier__min_samples_split': [2, 10,\n",
              "                                                                       100],\n",
              "                         'randomforestclassifier__n_estimators': [50, 100,\n",
              "                                                                  200]})"
            ],
            "text/html": [
              "<style>#sk-d981eca0-1d34-401d-b72e-a0303821a206 {color: black;background-color: white;}#sk-d981eca0-1d34-401d-b72e-a0303821a206 pre{padding: 0;}#sk-d981eca0-1d34-401d-b72e-a0303821a206 div.sk-toggleable {background-color: white;}#sk-d981eca0-1d34-401d-b72e-a0303821a206 label.sk-toggleable__label {cursor: pointer;display: block;width: 100%;margin-bottom: 0;padding: 0.3em;box-sizing: border-box;text-align: center;}#sk-d981eca0-1d34-401d-b72e-a0303821a206 label.sk-toggleable__label-arrow:before {content: \"▸\";float: left;margin-right: 0.25em;color: #696969;}#sk-d981eca0-1d34-401d-b72e-a0303821a206 label.sk-toggleable__label-arrow:hover:before {color: black;}#sk-d981eca0-1d34-401d-b72e-a0303821a206 div.sk-estimator:hover label.sk-toggleable__label-arrow:before {color: black;}#sk-d981eca0-1d34-401d-b72e-a0303821a206 div.sk-toggleable__content {max-height: 0;max-width: 0;overflow: hidden;text-align: left;background-color: #f0f8ff;}#sk-d981eca0-1d34-401d-b72e-a0303821a206 div.sk-toggleable__content pre {margin: 0.2em;color: black;border-radius: 0.25em;background-color: #f0f8ff;}#sk-d981eca0-1d34-401d-b72e-a0303821a206 input.sk-toggleable__control:checked~div.sk-toggleable__content {max-height: 200px;max-width: 100%;overflow: auto;}#sk-d981eca0-1d34-401d-b72e-a0303821a206 input.sk-toggleable__control:checked~label.sk-toggleable__label-arrow:before {content: \"▾\";}#sk-d981eca0-1d34-401d-b72e-a0303821a206 div.sk-estimator input.sk-toggleable__control:checked~label.sk-toggleable__label {background-color: #d4ebff;}#sk-d981eca0-1d34-401d-b72e-a0303821a206 div.sk-label input.sk-toggleable__control:checked~label.sk-toggleable__label {background-color: #d4ebff;}#sk-d981eca0-1d34-401d-b72e-a0303821a206 input.sk-hidden--visually {border: 0;clip: rect(1px 1px 1px 1px);clip: rect(1px, 1px, 1px, 1px);height: 1px;margin: -1px;overflow: hidden;padding: 0;position: absolute;width: 1px;}#sk-d981eca0-1d34-401d-b72e-a0303821a206 div.sk-estimator {font-family: monospace;background-color: #f0f8ff;border: 1px dotted black;border-radius: 0.25em;box-sizing: border-box;margin-bottom: 0.5em;}#sk-d981eca0-1d34-401d-b72e-a0303821a206 div.sk-estimator:hover {background-color: #d4ebff;}#sk-d981eca0-1d34-401d-b72e-a0303821a206 div.sk-parallel-item::after {content: \"\";width: 100%;border-bottom: 1px solid gray;flex-grow: 1;}#sk-d981eca0-1d34-401d-b72e-a0303821a206 div.sk-label:hover label.sk-toggleable__label {background-color: #d4ebff;}#sk-d981eca0-1d34-401d-b72e-a0303821a206 div.sk-serial::before {content: \"\";position: absolute;border-left: 1px solid gray;box-sizing: border-box;top: 2em;bottom: 0;left: 50%;}#sk-d981eca0-1d34-401d-b72e-a0303821a206 div.sk-serial {display: flex;flex-direction: column;align-items: center;background-color: white;padding-right: 0.2em;padding-left: 0.2em;}#sk-d981eca0-1d34-401d-b72e-a0303821a206 div.sk-item {z-index: 1;}#sk-d981eca0-1d34-401d-b72e-a0303821a206 div.sk-parallel {display: flex;align-items: stretch;justify-content: center;background-color: white;}#sk-d981eca0-1d34-401d-b72e-a0303821a206 div.sk-parallel::before {content: \"\";position: absolute;border-left: 1px solid gray;box-sizing: border-box;top: 2em;bottom: 0;left: 50%;}#sk-d981eca0-1d34-401d-b72e-a0303821a206 div.sk-parallel-item {display: flex;flex-direction: column;position: relative;background-color: white;}#sk-d981eca0-1d34-401d-b72e-a0303821a206 div.sk-parallel-item:first-child::after {align-self: flex-end;width: 50%;}#sk-d981eca0-1d34-401d-b72e-a0303821a206 div.sk-parallel-item:last-child::after {align-self: flex-start;width: 50%;}#sk-d981eca0-1d34-401d-b72e-a0303821a206 div.sk-parallel-item:only-child::after {width: 0;}#sk-d981eca0-1d34-401d-b72e-a0303821a206 div.sk-dashed-wrapped {border: 1px dashed gray;margin: 0 0.4em 0.5em 0.4em;box-sizing: border-box;padding-bottom: 0.4em;background-color: white;position: relative;}#sk-d981eca0-1d34-401d-b72e-a0303821a206 div.sk-label label {font-family: monospace;font-weight: bold;background-color: white;display: inline-block;line-height: 1.2em;}#sk-d981eca0-1d34-401d-b72e-a0303821a206 div.sk-label-container {position: relative;z-index: 2;text-align: center;}#sk-d981eca0-1d34-401d-b72e-a0303821a206 div.sk-container {/* jupyter's `normalize.less` sets `[hidden] { display: none; }` but bootstrap.min.css set `[hidden] { display: none !important; }` so we also need the `!important` here to be able to override the default hidden behavior on the sphinx rendered scikit-learn.org. See: https://github.com/scikit-learn/scikit-learn/issues/21755 */display: inline-block !important;position: relative;}#sk-d981eca0-1d34-401d-b72e-a0303821a206 div.sk-text-repr-fallback {display: none;}</style><div id=\"sk-d981eca0-1d34-401d-b72e-a0303821a206\" class=\"sk-top-container\"><div class=\"sk-text-repr-fallback\"><pre>GridSearchCV(estimator=Pipeline(steps=[(&#x27;columntransformer&#x27;,\n",
              "                                        ColumnTransformer(transformers=[(&#x27;onehotencoder&#x27;,\n",
              "                                                                         OneHotEncoder(handle_unknown=&#x27;ignore&#x27;,\n",
              "                                                                                       sparse=False),\n",
              "                                                                         &lt;sklearn.compose._column_transformer.make_column_selector object at 0x7f26faca2700&gt;),\n",
              "                                                                        (&#x27;simpleimputer&#x27;,\n",
              "                                                                         SimpleImputer(),\n",
              "                                                                         &lt;sklearn.compose._column_transformer.make_column_selector object at 0x7f26faca28b0&gt;)])),\n",
              "                                       (&#x27;smote&#x27;, SMOTE(random_state=42)),\n",
              "                                       (&#x27;randomforestclassifier&#x27;,\n",
              "                                        RandomForestClassifier(random_state=42))]),\n",
              "             param_grid={&#x27;randomforestclassifier__class_weight&#x27;: [&#x27;balanced&#x27;,\n",
              "                                                                  &#x27;balanced_subsample&#x27;],\n",
              "                         &#x27;randomforestclassifier__max_depth&#x27;: [1, 5, 10],\n",
              "                         &#x27;randomforestclassifier__min_samples_split&#x27;: [2, 10,\n",
              "                                                                       100],\n",
              "                         &#x27;randomforestclassifier__n_estimators&#x27;: [50, 100,\n",
              "                                                                  200]})</pre><b>Please rerun this cell to show the HTML repr or trust the notebook.</b></div><div class=\"sk-container\" hidden><div class=\"sk-item sk-dashed-wrapped\"><div class=\"sk-label-container\"><div class=\"sk-label sk-toggleable\"><input class=\"sk-toggleable__control sk-hidden--visually\" id=\"a839b95c-4af3-4c56-a1dd-53524b6d835d\" type=\"checkbox\" ><label for=\"a839b95c-4af3-4c56-a1dd-53524b6d835d\" class=\"sk-toggleable__label sk-toggleable__label-arrow\">GridSearchCV</label><div class=\"sk-toggleable__content\"><pre>GridSearchCV(estimator=Pipeline(steps=[(&#x27;columntransformer&#x27;,\n",
              "                                        ColumnTransformer(transformers=[(&#x27;onehotencoder&#x27;,\n",
              "                                                                         OneHotEncoder(handle_unknown=&#x27;ignore&#x27;,\n",
              "                                                                                       sparse=False),\n",
              "                                                                         &lt;sklearn.compose._column_transformer.make_column_selector object at 0x7f26faca2700&gt;),\n",
              "                                                                        (&#x27;simpleimputer&#x27;,\n",
              "                                                                         SimpleImputer(),\n",
              "                                                                         &lt;sklearn.compose._column_transformer.make_column_selector object at 0x7f26faca28b0&gt;)])),\n",
              "                                       (&#x27;smote&#x27;, SMOTE(random_state=42)),\n",
              "                                       (&#x27;randomforestclassifier&#x27;,\n",
              "                                        RandomForestClassifier(random_state=42))]),\n",
              "             param_grid={&#x27;randomforestclassifier__class_weight&#x27;: [&#x27;balanced&#x27;,\n",
              "                                                                  &#x27;balanced_subsample&#x27;],\n",
              "                         &#x27;randomforestclassifier__max_depth&#x27;: [1, 5, 10],\n",
              "                         &#x27;randomforestclassifier__min_samples_split&#x27;: [2, 10,\n",
              "                                                                       100],\n",
              "                         &#x27;randomforestclassifier__n_estimators&#x27;: [50, 100,\n",
              "                                                                  200]})</pre></div></div></div><div class=\"sk-parallel\"><div class=\"sk-parallel-item\"><div class=\"sk-item\"><div class=\"sk-serial\"><div class=\"sk-item\"><div class=\"sk-serial\"><div class=\"sk-item sk-dashed-wrapped\"><div class=\"sk-label-container\"><div class=\"sk-label sk-toggleable\"><input class=\"sk-toggleable__control sk-hidden--visually\" id=\"a56f7b5b-6a5e-48c6-ae77-f4c3fca11a5f\" type=\"checkbox\" ><label for=\"a56f7b5b-6a5e-48c6-ae77-f4c3fca11a5f\" class=\"sk-toggleable__label sk-toggleable__label-arrow\">columntransformer: ColumnTransformer</label><div class=\"sk-toggleable__content\"><pre>ColumnTransformer(transformers=[(&#x27;onehotencoder&#x27;,\n",
              "                                 OneHotEncoder(handle_unknown=&#x27;ignore&#x27;,\n",
              "                                               sparse=False),\n",
              "                                 &lt;sklearn.compose._column_transformer.make_column_selector object at 0x7f26faca2700&gt;),\n",
              "                                (&#x27;simpleimputer&#x27;, SimpleImputer(),\n",
              "                                 &lt;sklearn.compose._column_transformer.make_column_selector object at 0x7f26faca28b0&gt;)])</pre></div></div></div><div class=\"sk-parallel\"><div class=\"sk-parallel-item\"><div class=\"sk-item\"><div class=\"sk-label-container\"><div class=\"sk-label sk-toggleable\"><input class=\"sk-toggleable__control sk-hidden--visually\" id=\"2b71d006-e1cf-4c54-a616-2ee3a6f1a292\" type=\"checkbox\" ><label for=\"2b71d006-e1cf-4c54-a616-2ee3a6f1a292\" class=\"sk-toggleable__label sk-toggleable__label-arrow\">onehotencoder</label><div class=\"sk-toggleable__content\"><pre>&lt;sklearn.compose._column_transformer.make_column_selector object at 0x7f26faca2700&gt;</pre></div></div></div><div class=\"sk-serial\"><div class=\"sk-item\"><div class=\"sk-estimator sk-toggleable\"><input class=\"sk-toggleable__control sk-hidden--visually\" id=\"849a8f5e-5460-45e4-9eb1-9cb2be855c51\" type=\"checkbox\" ><label for=\"849a8f5e-5460-45e4-9eb1-9cb2be855c51\" class=\"sk-toggleable__label sk-toggleable__label-arrow\">OneHotEncoder</label><div class=\"sk-toggleable__content\"><pre>OneHotEncoder(handle_unknown=&#x27;ignore&#x27;, sparse=False)</pre></div></div></div></div></div></div><div class=\"sk-parallel-item\"><div class=\"sk-item\"><div class=\"sk-label-container\"><div class=\"sk-label sk-toggleable\"><input class=\"sk-toggleable__control sk-hidden--visually\" id=\"a52594eb-8a88-43c8-9605-0edd7535aed3\" type=\"checkbox\" ><label for=\"a52594eb-8a88-43c8-9605-0edd7535aed3\" class=\"sk-toggleable__label sk-toggleable__label-arrow\">simpleimputer</label><div class=\"sk-toggleable__content\"><pre>&lt;sklearn.compose._column_transformer.make_column_selector object at 0x7f26faca28b0&gt;</pre></div></div></div><div class=\"sk-serial\"><div class=\"sk-item\"><div class=\"sk-estimator sk-toggleable\"><input class=\"sk-toggleable__control sk-hidden--visually\" id=\"174bf528-d005-45b7-95b3-f0d1f8a491cf\" type=\"checkbox\" ><label for=\"174bf528-d005-45b7-95b3-f0d1f8a491cf\" class=\"sk-toggleable__label sk-toggleable__label-arrow\">SimpleImputer</label><div class=\"sk-toggleable__content\"><pre>SimpleImputer()</pre></div></div></div></div></div></div></div></div><div class=\"sk-item\"><div class=\"sk-estimator sk-toggleable\"><input class=\"sk-toggleable__control sk-hidden--visually\" id=\"90a7c0ac-7854-4b5e-897b-b33dd3ef63e3\" type=\"checkbox\" ><label for=\"90a7c0ac-7854-4b5e-897b-b33dd3ef63e3\" class=\"sk-toggleable__label sk-toggleable__label-arrow\">SMOTE</label><div class=\"sk-toggleable__content\"><pre>SMOTE(random_state=42)</pre></div></div></div><div class=\"sk-item\"><div class=\"sk-estimator sk-toggleable\"><input class=\"sk-toggleable__control sk-hidden--visually\" id=\"1298ba6f-5dc9-4f18-b2d8-02de34fccf1a\" type=\"checkbox\" ><label for=\"1298ba6f-5dc9-4f18-b2d8-02de34fccf1a\" class=\"sk-toggleable__label sk-toggleable__label-arrow\">RandomForestClassifier</label><div class=\"sk-toggleable__content\"><pre>RandomForestClassifier(random_state=42)</pre></div></div></div></div></div></div></div></div></div></div></div></div>"
            ]
          },
          "metadata": {},
          "execution_count": 42
        }
      ],
      "source": [
        "#fit the GridSearchCV on the Training Data\n",
        "rf_smote_grid_search.fit(X_train, y_train)"
      ]
    },
    {
      "cell_type": "code",
      "execution_count": 43,
      "metadata": {
        "colab": {
          "base_uri": "https://localhost:8080/"
        },
        "id": "HRa-z1zdyTn0",
        "outputId": "abf0d165-c9f8-4a7f-b221-36a88df6a0fe"
      },
      "outputs": [
        {
          "output_type": "stream",
          "name": "stdout",
          "text": [
            "Best Random Forest Classifier with SMOTE Parameters:\n",
            "{'randomforestclassifier__class_weight': 'balanced_subsample', 'randomforestclassifier__max_depth': 10, 'randomforestclassifier__min_samples_split': 2, 'randomforestclassifier__n_estimators': 100}\n",
            "Accuracy of best Random Forest Classifier with SMOTE model is: 0.9491392801251957\n"
          ]
        }
      ],
      "source": [
        "#find the best parameters\n",
        "print('Best Random Forest Classifier with SMOTE Parameters:')\n",
        "print(rf_smote_grid_search.best_params_)\n",
        "best_rf_smote_model = rf_smote_grid_search.best_estimator_\n",
        "print(f'Accuracy of best Random Forest Classifier with SMOTE model is: {best_rf_smote_model.score(X_test, y_test)}')"
      ]
    },
    {
      "cell_type": "code",
      "execution_count": 44,
      "metadata": {
        "id": "EWTdgyC9zcRG",
        "colab": {
          "base_uri": "https://localhost:8080/"
        },
        "outputId": "c371a9b1-e138-4fba-c442-931f607afa93"
      },
      "outputs": [
        {
          "output_type": "stream",
          "name": "stdout",
          "text": [
            "{'randomforestclassifier__class_weight': 'balanced_subsample', 'randomforestclassifier__max_depth': 10, 'randomforestclassifier__min_samples_split': 2, 'randomforestclassifier__n_estimators': 100}\n",
            "Accuracy of best Random Forest Classifier with SMOTE model is: 0.9491392801251957\n"
          ]
        }
      ],
      "source": [
        "#examine the best parameters found by the GridSearchCV object\n",
        "rf_smote_param_grid2 = {'randomforestclassifier__max_depth': [9, 10, 11],\n",
        "               'randomforestclassifier__n_estimators': [100, 150, 200],\n",
        "               'randomforestclassifier__min_samples_split': [2, 5, 10],\n",
        "               'randomforestclassifier__class_weight': ['balanced', 'balanced_subsample']}\n",
        "rf_smote_grid_search2 = GridSearchCV(rf_smote_pipe, rf_smote_param_grid2)\n",
        "rf_smote_grid_search2.fit(X_train, y_train)\n",
        "print(rf_smote_grid_search2.best_params_)\n",
        "best_rf_smote = rf_smote_grid_search2.best_estimator_\n",
        "print(f'Accuracy of best Random Forest Classifier with SMOTE model is: {best_rf_smote.score(X_test, y_test)}')"
      ]
    },
    {
      "cell_type": "code",
      "execution_count": 45,
      "metadata": {
        "id": "cv6n8vjf0MeY",
        "colab": {
          "base_uri": "https://localhost:8080/"
        },
        "outputId": "8157880c-4a8d-4e5c-b44c-c38edbc4fd91"
      },
      "outputs": [
        {
          "output_type": "stream",
          "name": "stdout",
          "text": [
            "{'randomforestclassifier__class_weight': 'balanced_subsample', 'randomforestclassifier__max_depth': 10, 'randomforestclassifier__min_samples_split': 2, 'randomforestclassifier__n_estimators': 100}\n",
            "Accuracy of best-best Random Forest Classifier with SMOTE model is: 0.9491392801251957\n"
          ]
        }
      ],
      "source": [
        "#examine the best parameters found by the 2nd GridSearchCV object\n",
        "rf_smote_param_grid3 = {'randomforestclassifier__max_depth': [10],\n",
        "               'randomforestclassifier__n_estimators': [100],\n",
        "               'randomforestclassifier__min_samples_split': [2, 3, 4],\n",
        "               'randomforestclassifier__class_weight': ['balanced_subsample']}\n",
        "rf_smote_grid_search3 = GridSearchCV(rf_smote_pipe, rf_smote_param_grid3)\n",
        "rf_smote_grid_search3.fit(X_train, y_train)\n",
        "print(rf_smote_grid_search3.best_params_)\n",
        "best_rf_smote_3 = rf_smote_grid_search3.best_estimator_\n",
        "print(f'Accuracy of best-best Random Forest Classifier with SMOTE model is: {best_rf_smote_3.score(X_test, y_test)}')"
      ]
    },
    {
      "cell_type": "markdown",
      "metadata": {
        "id": "WLA-QMug1Hwf"
      },
      "source": [
        "### Final Random Forest Classifier with SMOTE Model Evaluation"
      ]
    },
    {
      "cell_type": "code",
      "execution_count": 46,
      "metadata": {
        "id": "iH05X3YH1AfL",
        "colab": {
          "base_uri": "https://localhost:8080/"
        },
        "outputId": "9936267c-5d59-47b1-8d6e-17a262aee4a4"
      },
      "outputs": [
        {
          "output_type": "stream",
          "name": "stdout",
          "text": [
            "0.964509394572025\n",
            "0.9491392801251957\n"
          ]
        }
      ],
      "source": [
        "#instantiate the tuned model\n",
        "rf_smote_tuned = RandomForestClassifier(max_depth=10, min_samples_split=2, n_estimators=100, class_weight = 'balanced_subsample', random_state=42)\n",
        "#create the tuned model pipeline\n",
        "rf_smote_tuned_pipe = make_sampler_pipeline(preprocessor, smote, rf_smote_tuned)\n",
        "#fit the tuned model pipeline on the training data\n",
        "rf_smote_tuned_pipe.fit(X_train, y_train)\n",
        "#make predictions\n",
        "train_preds_rf_smote_tuned = rf_smote_tuned_pipe.predict(X_train)\n",
        "test_preds_rf_smote_tuned = rf_smote_tuned_pipe.predict(X_test)\n",
        "#evaluate the model's performance\n",
        "print(rf_smote_tuned_pipe.score(X_train, y_train))\n",
        "print(rf_smote_tuned_pipe.score(X_test, y_test))"
      ]
    },
    {
      "cell_type": "markdown",
      "metadata": {
        "id": "Hf4y33EE2uNw"
      },
      "source": [
        "  - Tuning the Random Forest Classifier with SMOTE increased the accuracy on the test set."
      ]
    },
    {
      "cell_type": "code",
      "execution_count": 47,
      "metadata": {
        "id": "VCtjjG6_2kSI",
        "colab": {
          "base_uri": "https://localhost:8080/",
          "height": 297
        },
        "outputId": "5766c88d-34f7-4859-e6e9-3c761746ceec"
      },
      "outputs": [
        {
          "output_type": "stream",
          "name": "stdout",
          "text": [
            "Random Forest Classifier with SMOTE Confusion Matrix\n"
          ]
        },
        {
          "output_type": "display_data",
          "data": {
            "text/plain": [
              "<Figure size 432x288 with 2 Axes>"
            ],
            "image/png": "[encoded data removed]"
          },
          "metadata": {
            "needs_background": "light"
          }
        }
      ],
      "source": [
        "print('Random Forest Classifier with SMOTE Confusion Matrix')\n",
        "ConfusionMatrixDisplay.from_predictions(y_test, test_preds_rf_smote_tuned, display_labels = labels, cmap = 'Greens', normalize = 'true');"
      ]
    },
    {
      "cell_type": "markdown",
      "metadata": {
        "id": "5gpbt0_L3T7S"
      },
      "source": [
        "  - The tuned Random Forest Classifier with SMOTE successfully classified 100% of the no stroke samples and 4.8% of the stroke samples."
      ]
    },
    {
      "cell_type": "code",
      "execution_count": 48,
      "metadata": {
        "id": "mauY3qDk3Mj3",
        "colab": {
          "base_uri": "https://localhost:8080/"
        },
        "outputId": "231bd5c2-2ffc-4eae-9f46-10497cb40c6b"
      },
      "outputs": [
        {
          "output_type": "stream",
          "name": "stdout",
          "text": [
            "Random Forest Classifier with SMOTE Classification Report\n",
            "              precision    recall  f1-score   support\n",
            "\n",
            "           0       0.95      1.00      0.97      1216\n",
            "           1       0.33      0.05      0.08        62\n",
            "\n",
            "    accuracy                           0.95      1278\n",
            "   macro avg       0.64      0.52      0.53      1278\n",
            "weighted avg       0.92      0.95      0.93      1278\n",
            "\n"
          ]
        }
      ],
      "source": [
        "print('Random Forest Classifier with SMOTE Classification Report')\n",
        "print(classification_report(y_test, test_preds_rf_smote_tuned))"
      ]
    },
    {
      "cell_type": "markdown",
      "metadata": {
        "id": "vILmV_eC3smK"
      },
      "source": [
        "  - The tuned Random Forest Classifier with SMOTE model was 95% accurate for making correct predictions on the test set (which was the same as the tuned Random Forest Classifier without SMOTE model).\n",
        "  - The tuned Random Forest Classifier with SMOTE model was 95% sensitive and 100% specific for predicting the no stroke class (which was the same as the tuned Random Forest Classifier without SMOTE model).\n",
        "  - The tuned Random Forest Classifier with SMOTE model was 33% sensitive and 5% specific for predicting the stroke class (which was better than the tuned Random Forest Classifier without SMOTE model).\n",
        "  - The tuned Random Forest Classifier with SMOTE model had f1-scores of 97% for the no stroke class (which was the same as the tuned Random Forest Classifier without SMOTE model), but 8% for the stroke class (which was better than the Random Forest Classifier without SMOTE model."
      ]
    },
    {
      "cell_type": "markdown",
      "metadata": {
        "id": "ZGUTzbMKM2pt"
      },
      "source": [
        "Using SMOTE and tuning the hyperparameters helped the Random Forest Classifier predict the stroke class."
      ]
    },
    {
      "cell_type": "markdown",
      "metadata": {
        "id": "EE2If6JK45e_"
      },
      "source": [
        "## Logistic Regression"
      ]
    },
    {
      "cell_type": "markdown",
      "metadata": {
        "id": "ADX60A7O5EOe"
      },
      "source": [
        "#### Default parameters"
      ]
    },
    {
      "cell_type": "code",
      "execution_count": 49,
      "metadata": {
        "id": "FPpp5idE3ogT",
        "colab": {
          "base_uri": "https://localhost:8080/"
        },
        "outputId": "2c03f27b-7129-4cd8-aea1-464395540944"
      },
      "outputs": [
        {
          "output_type": "stream",
          "name": "stdout",
          "text": [
            "0.9512004175365344\n",
            "0.9522691705790297\n"
          ]
        }
      ],
      "source": [
        "#instantiate the model and the standard scaler\n",
        "lr = LogisticRegression(random_state=42)\n",
        "scaler = StandardScaler()\n",
        "#create a model pipeline\n",
        "lr_pipe = make_pipeline(preprocessor, scaler, lr)\n",
        "#fit the model pipeline on the training data\n",
        "lr_pipe.fit(X_train, y_train)\n",
        "#evaluate the model's performance\n",
        "print(lr_pipe.score(X_train, y_train))\n",
        "print(lr_pipe.score(X_test, y_test))"
      ]
    },
    {
      "cell_type": "markdown",
      "metadata": {
        "id": "1n-2WKjIGzZk"
      },
      "source": [
        "#### Tuning hyperparameters using GridSearchCV"
      ]
    },
    {
      "cell_type": "code",
      "execution_count": 50,
      "metadata": {
        "id": "vAk1gYmcG_TC",
        "colab": {
          "base_uri": "https://localhost:8080/"
        },
        "outputId": "512fb8a4-e20c-440c-87b9-66f92f40287c"
      },
      "outputs": [
        {
          "output_type": "execute_result",
          "data": {
            "text/plain": [
              "{'memory': None,\n",
              " 'steps': [('columntransformer',\n",
              "   ColumnTransformer(transformers=[('onehotencoder',\n",
              "                                    OneHotEncoder(handle_unknown='ignore',\n",
              "                                                  sparse=False),\n",
              "                                    <sklearn.compose._column_transformer.make_column_selector object at 0x7f26faca2700>),\n",
              "                                   ('simpleimputer', SimpleImputer(),\n",
              "                                    <sklearn.compose._column_transformer.make_column_selector object at 0x7f26faca28b0>)])),\n",
              "  ('standardscaler', StandardScaler()),\n",
              "  ('logisticregression', LogisticRegression(random_state=42))],\n",
              " 'verbose': False,\n",
              " 'columntransformer': ColumnTransformer(transformers=[('onehotencoder',\n",
              "                                  OneHotEncoder(handle_unknown='ignore',\n",
              "                                                sparse=False),\n",
              "                                  <sklearn.compose._column_transformer.make_column_selector object at 0x7f26faca2700>),\n",
              "                                 ('simpleimputer', SimpleImputer(),\n",
              "                                  <sklearn.compose._column_transformer.make_column_selector object at 0x7f26faca28b0>)]),\n",
              " 'standardscaler': StandardScaler(),\n",
              " 'logisticregression': LogisticRegression(random_state=42),\n",
              " 'columntransformer__n_jobs': None,\n",
              " 'columntransformer__remainder': 'drop',\n",
              " 'columntransformer__sparse_threshold': 0.3,\n",
              " 'columntransformer__transformer_weights': None,\n",
              " 'columntransformer__transformers': [('onehotencoder',\n",
              "   OneHotEncoder(handle_unknown='ignore', sparse=False),\n",
              "   <sklearn.compose._column_transformer.make_column_selector at 0x7f26faca2700>),\n",
              "  ('simpleimputer',\n",
              "   SimpleImputer(),\n",
              "   <sklearn.compose._column_transformer.make_column_selector at 0x7f26faca28b0>)],\n",
              " 'columntransformer__verbose': False,\n",
              " 'columntransformer__verbose_feature_names_out': True,\n",
              " 'columntransformer__onehotencoder': OneHotEncoder(handle_unknown='ignore', sparse=False),\n",
              " 'columntransformer__simpleimputer': SimpleImputer(),\n",
              " 'columntransformer__onehotencoder__categories': 'auto',\n",
              " 'columntransformer__onehotencoder__drop': None,\n",
              " 'columntransformer__onehotencoder__dtype': numpy.float64,\n",
              " 'columntransformer__onehotencoder__handle_unknown': 'ignore',\n",
              " 'columntransformer__onehotencoder__sparse': False,\n",
              " 'columntransformer__simpleimputer__add_indicator': False,\n",
              " 'columntransformer__simpleimputer__copy': True,\n",
              " 'columntransformer__simpleimputer__fill_value': None,\n",
              " 'columntransformer__simpleimputer__missing_values': nan,\n",
              " 'columntransformer__simpleimputer__strategy': 'mean',\n",
              " 'columntransformer__simpleimputer__verbose': 0,\n",
              " 'standardscaler__copy': True,\n",
              " 'standardscaler__with_mean': True,\n",
              " 'standardscaler__with_std': True,\n",
              " 'logisticregression__C': 1.0,\n",
              " 'logisticregression__class_weight': None,\n",
              " 'logisticregression__dual': False,\n",
              " 'logisticregression__fit_intercept': True,\n",
              " 'logisticregression__intercept_scaling': 1,\n",
              " 'logisticregression__l1_ratio': None,\n",
              " 'logisticregression__max_iter': 100,\n",
              " 'logisticregression__multi_class': 'auto',\n",
              " 'logisticregression__n_jobs': None,\n",
              " 'logisticregression__penalty': 'l2',\n",
              " 'logisticregression__random_state': 42,\n",
              " 'logisticregression__solver': 'lbfgs',\n",
              " 'logisticregression__tol': 0.0001,\n",
              " 'logisticregression__verbose': 0,\n",
              " 'logisticregression__warm_start': False}"
            ]
          },
          "metadata": {},
          "execution_count": 50
        }
      ],
      "source": [
        "#choose hyperparameters for tuning\n",
        "lr_pipe.get_params()"
      ]
    },
    {
      "cell_type": "code",
      "execution_count": 51,
      "metadata": {
        "id": "iEWxMoiXHXiF"
      },
      "outputs": [],
      "source": [
        "#create a parameter grid dictionary\n",
        "lr_param_grid = {'logisticregression__C': [0.0001, 0.001, 0.01, 0.1, 1, 10, 100, 1000],\n",
        "              'logisticregression__max_iter': [10000],\n",
        "              'logisticregression__solver': ['liblinear', 'saga'],\n",
        "              'logisticregression__penalty': ['l1'],\n",
        "              'logisticregression__class_weight': ['balanced', None]}"
      ]
    },
    {
      "cell_type": "code",
      "execution_count": 52,
      "metadata": {
        "id": "fjTKj-QnI3X_"
      },
      "outputs": [],
      "source": [
        "#instantiate the GridSearchCV Class\n",
        "lr_grid_search = GridSearchCV(lr_pipe, lr_param_grid)"
      ]
    },
    {
      "cell_type": "code",
      "execution_count": 53,
      "metadata": {
        "id": "oRK0NPDgJYh-",
        "colab": {
          "base_uri": "https://localhost:8080/",
          "height": 228
        },
        "outputId": "19bf6125-dfb7-42e8-e3a8-d322853b76f7"
      },
      "outputs": [
        {
          "output_type": "execute_result",
          "data": {
            "text/plain": [
              "GridSearchCV(estimator=Pipeline(steps=[('columntransformer',\n",
              "                                        ColumnTransformer(transformers=[('onehotencoder',\n",
              "                                                                         OneHotEncoder(handle_unknown='ignore',\n",
              "                                                                                       sparse=False),\n",
              "                                                                         <sklearn.compose._column_transformer.make_column_selector object at 0x7f26faca2700>),\n",
              "                                                                        ('simpleimputer',\n",
              "                                                                         SimpleImputer(),\n",
              "                                                                         <sklearn.compose._column_transformer.make_column_selector object at 0x7f26fac...\n",
              "                                       ('standardscaler', StandardScaler()),\n",
              "                                       ('logisticregression',\n",
              "                                        LogisticRegression(random_state=42))]),\n",
              "             param_grid={'logisticregression__C': [0.0001, 0.001, 0.01, 0.1, 1,\n",
              "                                                   10, 100, 1000],\n",
              "                         'logisticregression__class_weight': ['balanced', None],\n",
              "                         'logisticregression__max_iter': [10000],\n",
              "                         'logisticregression__penalty': ['l1'],\n",
              "                         'logisticregression__solver': ['liblinear', 'saga']})"
            ],
            "text/html": [
              "<style>#sk-bca2bf56-335f-40f1-843c-7837fdcbefcf {color: black;background-color: white;}#sk-bca2bf56-335f-40f1-843c-7837fdcbefcf pre{padding: 0;}#sk-bca2bf56-335f-40f1-843c-7837fdcbefcf div.sk-toggleable {background-color: white;}#sk-bca2bf56-335f-40f1-843c-7837fdcbefcf label.sk-toggleable__label {cursor: pointer;display: block;width: 100%;margin-bottom: 0;padding: 0.3em;box-sizing: border-box;text-align: center;}#sk-bca2bf56-335f-40f1-843c-7837fdcbefcf label.sk-toggleable__label-arrow:before {content: \"▸\";float: left;margin-right: 0.25em;color: #696969;}#sk-bca2bf56-335f-40f1-843c-7837fdcbefcf label.sk-toggleable__label-arrow:hover:before {color: black;}#sk-bca2bf56-335f-40f1-843c-7837fdcbefcf div.sk-estimator:hover label.sk-toggleable__label-arrow:before {color: black;}#sk-bca2bf56-335f-40f1-843c-7837fdcbefcf div.sk-toggleable__content {max-height: 0;max-width: 0;overflow: hidden;text-align: left;background-color: #f0f8ff;}#sk-bca2bf56-335f-40f1-843c-7837fdcbefcf div.sk-toggleable__content pre {margin: 0.2em;color: black;border-radius: 0.25em;background-color: #f0f8ff;}#sk-bca2bf56-335f-40f1-843c-7837fdcbefcf input.sk-toggleable__control:checked~div.sk-toggleable__content {max-height: 200px;max-width: 100%;overflow: auto;}#sk-bca2bf56-335f-40f1-843c-7837fdcbefcf input.sk-toggleable__control:checked~label.sk-toggleable__label-arrow:before {content: \"▾\";}#sk-bca2bf56-335f-40f1-843c-7837fdcbefcf div.sk-estimator input.sk-toggleable__control:checked~label.sk-toggleable__label {background-color: #d4ebff;}#sk-bca2bf56-335f-40f1-843c-7837fdcbefcf div.sk-label input.sk-toggleable__control:checked~label.sk-toggleable__label {background-color: #d4ebff;}#sk-bca2bf56-335f-40f1-843c-7837fdcbefcf input.sk-hidden--visually {border: 0;clip: rect(1px 1px 1px 1px);clip: rect(1px, 1px, 1px, 1px);height: 1px;margin: -1px;overflow: hidden;padding: 0;position: absolute;width: 1px;}#sk-bca2bf56-335f-40f1-843c-7837fdcbefcf div.sk-estimator {font-family: monospace;background-color: #f0f8ff;border: 1px dotted black;border-radius: 0.25em;box-sizing: border-box;margin-bottom: 0.5em;}#sk-bca2bf56-335f-40f1-843c-7837fdcbefcf div.sk-estimator:hover {background-color: #d4ebff;}#sk-bca2bf56-335f-40f1-843c-7837fdcbefcf div.sk-parallel-item::after {content: \"\";width: 100%;border-bottom: 1px solid gray;flex-grow: 1;}#sk-bca2bf56-335f-40f1-843c-7837fdcbefcf div.sk-label:hover label.sk-toggleable__label {background-color: #d4ebff;}#sk-bca2bf56-335f-40f1-843c-7837fdcbefcf div.sk-serial::before {content: \"\";position: absolute;border-left: 1px solid gray;box-sizing: border-box;top: 2em;bottom: 0;left: 50%;}#sk-bca2bf56-335f-40f1-843c-7837fdcbefcf div.sk-serial {display: flex;flex-direction: column;align-items: center;background-color: white;padding-right: 0.2em;padding-left: 0.2em;}#sk-bca2bf56-335f-40f1-843c-7837fdcbefcf div.sk-item {z-index: 1;}#sk-bca2bf56-335f-40f1-843c-7837fdcbefcf div.sk-parallel {display: flex;align-items: stretch;justify-content: center;background-color: white;}#sk-bca2bf56-335f-40f1-843c-7837fdcbefcf div.sk-parallel::before {content: \"\";position: absolute;border-left: 1px solid gray;box-sizing: border-box;top: 2em;bottom: 0;left: 50%;}#sk-bca2bf56-335f-40f1-843c-7837fdcbefcf div.sk-parallel-item {display: flex;flex-direction: column;position: relative;background-color: white;}#sk-bca2bf56-335f-40f1-843c-7837fdcbefcf div.sk-parallel-item:first-child::after {align-self: flex-end;width: 50%;}#sk-bca2bf56-335f-40f1-843c-7837fdcbefcf div.sk-parallel-item:last-child::after {align-self: flex-start;width: 50%;}#sk-bca2bf56-335f-40f1-843c-7837fdcbefcf div.sk-parallel-item:only-child::after {width: 0;}#sk-bca2bf56-335f-40f1-843c-7837fdcbefcf div.sk-dashed-wrapped {border: 1px dashed gray;margin: 0 0.4em 0.5em 0.4em;box-sizing: border-box;padding-bottom: 0.4em;background-color: white;position: relative;}#sk-bca2bf56-335f-40f1-843c-7837fdcbefcf div.sk-label label {font-family: monospace;font-weight: bold;background-color: white;display: inline-block;line-height: 1.2em;}#sk-bca2bf56-335f-40f1-843c-7837fdcbefcf div.sk-label-container {position: relative;z-index: 2;text-align: center;}#sk-bca2bf56-335f-40f1-843c-7837fdcbefcf div.sk-container {/* jupyter's `normalize.less` sets `[hidden] { display: none; }` but bootstrap.min.css set `[hidden] { display: none !important; }` so we also need the `!important` here to be able to override the default hidden behavior on the sphinx rendered scikit-learn.org. See: https://github.com/scikit-learn/scikit-learn/issues/21755 */display: inline-block !important;position: relative;}#sk-bca2bf56-335f-40f1-843c-7837fdcbefcf div.sk-text-repr-fallback {display: none;}</style><div id=\"sk-bca2bf56-335f-40f1-843c-7837fdcbefcf\" class=\"sk-top-container\"><div class=\"sk-text-repr-fallback\"><pre>GridSearchCV(estimator=Pipeline(steps=[(&#x27;columntransformer&#x27;,\n",
              "                                        ColumnTransformer(transformers=[(&#x27;onehotencoder&#x27;,\n",
              "                                                                         OneHotEncoder(handle_unknown=&#x27;ignore&#x27;,\n",
              "                                                                                       sparse=False),\n",
              "                                                                         &lt;sklearn.compose._column_transformer.make_column_selector object at 0x7f26faca2700&gt;),\n",
              "                                                                        (&#x27;simpleimputer&#x27;,\n",
              "                                                                         SimpleImputer(),\n",
              "                                                                         &lt;sklearn.compose._column_transformer.make_column_selector object at 0x7f26fac...\n",
              "                                       (&#x27;standardscaler&#x27;, StandardScaler()),\n",
              "                                       (&#x27;logisticregression&#x27;,\n",
              "                                        LogisticRegression(random_state=42))]),\n",
              "             param_grid={&#x27;logisticregression__C&#x27;: [0.0001, 0.001, 0.01, 0.1, 1,\n",
              "                                                   10, 100, 1000],\n",
              "                         &#x27;logisticregression__class_weight&#x27;: [&#x27;balanced&#x27;, None],\n",
              "                         &#x27;logisticregression__max_iter&#x27;: [10000],\n",
              "                         &#x27;logisticregression__penalty&#x27;: [&#x27;l1&#x27;],\n",
              "                         &#x27;logisticregression__solver&#x27;: [&#x27;liblinear&#x27;, &#x27;saga&#x27;]})</pre><b>Please rerun this cell to show the HTML repr or trust the notebook.</b></div><div class=\"sk-container\" hidden><div class=\"sk-item sk-dashed-wrapped\"><div class=\"sk-label-container\"><div class=\"sk-label sk-toggleable\"><input class=\"sk-toggleable__control sk-hidden--visually\" id=\"c5188be1-7195-4542-ae70-ad3a8e740464\" type=\"checkbox\" ><label for=\"c5188be1-7195-4542-ae70-ad3a8e740464\" class=\"sk-toggleable__label sk-toggleable__label-arrow\">GridSearchCV</label><div class=\"sk-toggleable__content\"><pre>GridSearchCV(estimator=Pipeline(steps=[(&#x27;columntransformer&#x27;,\n",
              "                                        ColumnTransformer(transformers=[(&#x27;onehotencoder&#x27;,\n",
              "                                                                         OneHotEncoder(handle_unknown=&#x27;ignore&#x27;,\n",
              "                                                                                       sparse=False),\n",
              "                                                                         &lt;sklearn.compose._column_transformer.make_column_selector object at 0x7f26faca2700&gt;),\n",
              "                                                                        (&#x27;simpleimputer&#x27;,\n",
              "                                                                         SimpleImputer(),\n",
              "                                                                         &lt;sklearn.compose._column_transformer.make_column_selector object at 0x7f26fac...\n",
              "                                       (&#x27;standardscaler&#x27;, StandardScaler()),\n",
              "                                       (&#x27;logisticregression&#x27;,\n",
              "                                        LogisticRegression(random_state=42))]),\n",
              "             param_grid={&#x27;logisticregression__C&#x27;: [0.0001, 0.001, 0.01, 0.1, 1,\n",
              "                                                   10, 100, 1000],\n",
              "                         &#x27;logisticregression__class_weight&#x27;: [&#x27;balanced&#x27;, None],\n",
              "                         &#x27;logisticregression__max_iter&#x27;: [10000],\n",
              "                         &#x27;logisticregression__penalty&#x27;: [&#x27;l1&#x27;],\n",
              "                         &#x27;logisticregression__solver&#x27;: [&#x27;liblinear&#x27;, &#x27;saga&#x27;]})</pre></div></div></div><div class=\"sk-parallel\"><div class=\"sk-parallel-item\"><div class=\"sk-item\"><div class=\"sk-serial\"><div class=\"sk-item\"><div class=\"sk-serial\"><div class=\"sk-item sk-dashed-wrapped\"><div class=\"sk-label-container\"><div class=\"sk-label sk-toggleable\"><input class=\"sk-toggleable__control sk-hidden--visually\" id=\"39cd9ac5-f9b2-4eb4-8b59-4ff0b30df5f5\" type=\"checkbox\" ><label for=\"39cd9ac5-f9b2-4eb4-8b59-4ff0b30df5f5\" class=\"sk-toggleable__label sk-toggleable__label-arrow\">columntransformer: ColumnTransformer</label><div class=\"sk-toggleable__content\"><pre>ColumnTransformer(transformers=[(&#x27;onehotencoder&#x27;,\n",
              "                                 OneHotEncoder(handle_unknown=&#x27;ignore&#x27;,\n",
              "                                               sparse=False),\n",
              "                                 &lt;sklearn.compose._column_transformer.make_column_selector object at 0x7f26faca2700&gt;),\n",
              "                                (&#x27;simpleimputer&#x27;, SimpleImputer(),\n",
              "                                 &lt;sklearn.compose._column_transformer.make_column_selector object at 0x7f26faca28b0&gt;)])</pre></div></div></div><div class=\"sk-parallel\"><div class=\"sk-parallel-item\"><div class=\"sk-item\"><div class=\"sk-label-container\"><div class=\"sk-label sk-toggleable\"><input class=\"sk-toggleable__control sk-hidden--visually\" id=\"8164174f-c1f6-4d23-a41d-b86bb62e7eb4\" type=\"checkbox\" ><label for=\"8164174f-c1f6-4d23-a41d-b86bb62e7eb4\" class=\"sk-toggleable__label sk-toggleable__label-arrow\">onehotencoder</label><div class=\"sk-toggleable__content\"><pre>&lt;sklearn.compose._column_transformer.make_column_selector object at 0x7f26faca2700&gt;</pre></div></div></div><div class=\"sk-serial\"><div class=\"sk-item\"><div class=\"sk-estimator sk-toggleable\"><input class=\"sk-toggleable__control sk-hidden--visually\" id=\"ee148331-24c5-48e2-b465-949aff9ad95e\" type=\"checkbox\" ><label for=\"ee148331-24c5-48e2-b465-949aff9ad95e\" class=\"sk-toggleable__label sk-toggleable__label-arrow\">OneHotEncoder</label><div class=\"sk-toggleable__content\"><pre>OneHotEncoder(handle_unknown=&#x27;ignore&#x27;, sparse=False)</pre></div></div></div></div></div></div><div class=\"sk-parallel-item\"><div class=\"sk-item\"><div class=\"sk-label-container\"><div class=\"sk-label sk-toggleable\"><input class=\"sk-toggleable__control sk-hidden--visually\" id=\"59fcb045-8efd-4656-a06a-e66d567e2e04\" type=\"checkbox\" ><label for=\"59fcb045-8efd-4656-a06a-e66d567e2e04\" class=\"sk-toggleable__label sk-toggleable__label-arrow\">simpleimputer</label><div class=\"sk-toggleable__content\"><pre>&lt;sklearn.compose._column_transformer.make_column_selector object at 0x7f26faca28b0&gt;</pre></div></div></div><div class=\"sk-serial\"><div class=\"sk-item\"><div class=\"sk-estimator sk-toggleable\"><input class=\"sk-toggleable__control sk-hidden--visually\" id=\"e396d4dc-8d81-4067-8caf-16a3558dbd9e\" type=\"checkbox\" ><label for=\"e396d4dc-8d81-4067-8caf-16a3558dbd9e\" class=\"sk-toggleable__label sk-toggleable__label-arrow\">SimpleImputer</label><div class=\"sk-toggleable__content\"><pre>SimpleImputer()</pre></div></div></div></div></div></div></div></div><div class=\"sk-item\"><div class=\"sk-estimator sk-toggleable\"><input class=\"sk-toggleable__control sk-hidden--visually\" id=\"678a27ff-300d-4567-9a2a-b68a9dc50af0\" type=\"checkbox\" ><label for=\"678a27ff-300d-4567-9a2a-b68a9dc50af0\" class=\"sk-toggleable__label sk-toggleable__label-arrow\">StandardScaler</label><div class=\"sk-toggleable__content\"><pre>StandardScaler()</pre></div></div></div><div class=\"sk-item\"><div class=\"sk-estimator sk-toggleable\"><input class=\"sk-toggleable__control sk-hidden--visually\" id=\"08c8f7f3-09ed-4c9e-834a-85417f8deb20\" type=\"checkbox\" ><label for=\"08c8f7f3-09ed-4c9e-834a-85417f8deb20\" class=\"sk-toggleable__label sk-toggleable__label-arrow\">LogisticRegression</label><div class=\"sk-toggleable__content\"><pre>LogisticRegression(random_state=42)</pre></div></div></div></div></div></div></div></div></div></div></div></div>"
            ]
          },
          "metadata": {},
          "execution_count": 53
        }
      ],
      "source": [
        "#fit the GridSearchCV on the Training Data\n",
        "lr_grid_search.fit(X_train, y_train)"
      ]
    },
    {
      "cell_type": "code",
      "execution_count": 54,
      "metadata": {
        "id": "ADT9geDoLbZU",
        "colab": {
          "base_uri": "https://localhost:8080/"
        },
        "outputId": "4c7e81db-38d3-4d9b-c80e-7126d225a16d"
      },
      "outputs": [
        {
          "output_type": "stream",
          "name": "stdout",
          "text": [
            "Best Logistic Regression Model Parameters:\n",
            "{'logisticregression__C': 0.0001, 'logisticregression__class_weight': 'balanced', 'logisticregression__max_iter': 10000, 'logisticregression__penalty': 'l1', 'logisticregression__solver': 'liblinear'}\n",
            "Accuracy of best Logistic Regression Model is: 0.9514866979655712\n"
          ]
        }
      ],
      "source": [
        "#find the best parameters\n",
        "print('Best Logistic Regression Model Parameters:')\n",
        "print(lr_grid_search.best_params_)\n",
        "best_lr_model = lr_grid_search.best_estimator_\n",
        "print(f'Accuracy of best Logistic Regression Model is: {best_lr_model.score(X_test, y_test)}')"
      ]
    },
    {
      "cell_type": "markdown",
      "metadata": {
        "id": "w8tE-CSX8tIi"
      },
      "source": [
        "### Final Logistic Regression Model Evaluation"
      ]
    },
    {
      "cell_type": "code",
      "execution_count": 55,
      "metadata": {
        "id": "7xy1Qln38U3P",
        "colab": {
          "base_uri": "https://localhost:8080/"
        },
        "outputId": "74333cd9-037d-4c61-b2c1-642d20df3b2f"
      },
      "outputs": [
        {
          "output_type": "stream",
          "name": "stdout",
          "text": [
            "0.9512004175365344\n",
            "0.9514866979655712\n"
          ]
        }
      ],
      "source": [
        "#instantiate the tuned model\n",
        "lr_tuned = LogisticRegression(C=.0001, max_iter=10000, solver='liblinear', penalty='l1', class_weight = 'balanced', random_state=42)\n",
        "#create the tuned model pipeline\n",
        "lr_tuned_pipe = make_pipeline(preprocessor, scaler, lr_tuned)\n",
        "#fit the tuned model pipeline on the training data\n",
        "lr_tuned_pipe.fit(X_train, y_train)\n",
        "#make predictions\n",
        "train_preds_lr_tuned = lr_tuned_pipe.predict(X_train)\n",
        "test_preds_lr_tuned = lr_tuned_pipe.predict(X_test)\n",
        "#evaluate the model's performance\n",
        "print(lr_tuned_pipe.score(X_train, y_train))\n",
        "print(lr_tuned_pipe.score(X_test, y_test))"
      ]
    },
    {
      "cell_type": "markdown",
      "metadata": {
        "id": "39nlzyk-9rBv"
      },
      "source": [
        "  - Tuning the Logistic Regression model decreased the accuracy on the test set."
      ]
    },
    {
      "cell_type": "code",
      "execution_count": 56,
      "metadata": {
        "id": "UIe9FKJt9aOd",
        "colab": {
          "base_uri": "https://localhost:8080/",
          "height": 301
        },
        "outputId": "a25b3fcc-f42a-42d9-b064-892c5c6b24eb"
      },
      "outputs": [
        {
          "output_type": "stream",
          "name": "stdout",
          "text": [
            "Logistic Regression Model Confusion Matrix\n"
          ]
        },
        {
          "output_type": "display_data",
          "data": {
            "text/plain": [
              "<Figure size 432x288 with 2 Axes>"
            ],
            "image/png": "[encoded data removed]"
          },
          "metadata": {
            "needs_background": "light"
          }
        }
      ],
      "source": [
        "print('Logistic Regression Model Confusion Matrix')\n",
        "ConfusionMatrixDisplay.from_predictions(y_test, test_preds_lr_tuned, display_labels = labels, cmap = 'Reds', normalize = 'true');"
      ]
    },
    {
      "cell_type": "markdown",
      "metadata": {
        "id": "juaBooTN-K5V"
      },
      "source": [
        "  - The tuned Logistic Regression Model successfully classified 100% of the no stroke samples but 0% of the stroke samples."
      ]
    },
    {
      "cell_type": "code",
      "execution_count": 57,
      "metadata": {
        "id": "MOxhGFz3-FO_",
        "colab": {
          "base_uri": "https://localhost:8080/"
        },
        "outputId": "ac12c6ad-5a43-465d-d657-d5148b7ed498"
      },
      "outputs": [
        {
          "output_type": "stream",
          "name": "stdout",
          "text": [
            "Logistic Regression Model Classification Report\n",
            "              precision    recall  f1-score   support\n",
            "\n",
            "           0       0.95      1.00      0.98      1216\n",
            "           1       0.00      0.00      0.00        62\n",
            "\n",
            "    accuracy                           0.95      1278\n",
            "   macro avg       0.48      0.50      0.49      1278\n",
            "weighted avg       0.91      0.95      0.93      1278\n",
            "\n"
          ]
        },
        {
          "output_type": "stream",
          "name": "stderr",
          "text": [
            "/usr/local/lib/python3.8/dist-packages/sklearn/metrics/_classification.py:1318: UndefinedMetricWarning: Precision and F-score are ill-defined and being set to 0.0 in labels with no predicted samples. Use `zero_division` parameter to control this behavior.\n",
            "  _warn_prf(average, modifier, msg_start, len(result))\n",
            "/usr/local/lib/python3.8/dist-packages/sklearn/metrics/_classification.py:1318: UndefinedMetricWarning: Precision and F-score are ill-defined and being set to 0.0 in labels with no predicted samples. Use `zero_division` parameter to control this behavior.\n",
            "  _warn_prf(average, modifier, msg_start, len(result))\n",
            "/usr/local/lib/python3.8/dist-packages/sklearn/metrics/_classification.py:1318: UndefinedMetricWarning: Precision and F-score are ill-defined and being set to 0.0 in labels with no predicted samples. Use `zero_division` parameter to control this behavior.\n",
            "  _warn_prf(average, modifier, msg_start, len(result))\n"
          ]
        }
      ],
      "source": [
        "print('Logistic Regression Model Classification Report')\n",
        "print(classification_report(y_test, test_preds_lr_tuned))"
      ]
    },
    {
      "cell_type": "markdown",
      "metadata": {
        "id": "zbyw89jl-hvl"
      },
      "source": [
        "  - The tuned Logistic Regression Model was 95% accurate for making correct predictions on the test set.\n",
        "  - The tuned Logistic Regression Model was 95% sensitive and 100% specific for predicting the no stroke class.\n",
        "  - However, the tuned Logistic Regression Model was 0% sensitive and 0% specific for predicting the stroke class.\n",
        "  - The tuned Logistic Regression Model had f1-scores of 98% for the no stroke class and, again, 0% for the stroke class."
      ]
    },
    {
      "cell_type": "markdown",
      "metadata": {
        "id": "IcDsU8q0NYHp"
      },
      "source": [
        "The target class imbalance also limits this model's predictions of the stroke class."
      ]
    },
    {
      "cell_type": "markdown",
      "metadata": {
        "id": "BBTnrP2L_W4o"
      },
      "source": [
        "#### Logistic Regression Model with SMOTE"
      ]
    },
    {
      "cell_type": "code",
      "execution_count": 58,
      "metadata": {
        "id": "0d77XW6u-WlC",
        "colab": {
          "base_uri": "https://localhost:8080/"
        },
        "outputId": "450eda6c-f8c7-4a21-bb8d-cea0d1d7735c"
      },
      "outputs": [
        {
          "output_type": "stream",
          "name": "stdout",
          "text": [
            "0.7492171189979123\n",
            "0.7339593114241002\n"
          ]
        }
      ],
      "source": [
        "#instantiate SMOTE and Logistic Regression Model\n",
        "smote = SMOTE(random_state=42)\n",
        "lr_smote = LogisticRegression(random_state=42)\n",
        "#create a model pipeline\n",
        "lr_smote_pipe = make_sampler_pipeline(preprocessor, scaler, smote, lr_smote)\n",
        "#fit the model pipeline on the training data\n",
        "lr_smote_pipe.fit(X_train, y_train)\n",
        "#evaluate the model's performance\n",
        "print(lr_smote_pipe.score(X_train, y_train))\n",
        "print(lr_smote_pipe.score(X_test, y_test))"
      ]
    },
    {
      "cell_type": "markdown",
      "metadata": {
        "id": "3-KLQnG5AgPq"
      },
      "source": [
        "#### Tuning hyperparameters using GridSearchCV"
      ]
    },
    {
      "cell_type": "code",
      "execution_count": 59,
      "metadata": {
        "id": "qfEhz8taAZxK",
        "colab": {
          "base_uri": "https://localhost:8080/"
        },
        "outputId": "d018422e-de48-48f9-883c-bbfccb007e63"
      },
      "outputs": [
        {
          "output_type": "execute_result",
          "data": {
            "text/plain": [
              "{'memory': None,\n",
              " 'steps': [('columntransformer',\n",
              "   ColumnTransformer(transformers=[('onehotencoder',\n",
              "                                    OneHotEncoder(handle_unknown='ignore',\n",
              "                                                  sparse=False),\n",
              "                                    <sklearn.compose._column_transformer.make_column_selector object at 0x7f26faca2700>),\n",
              "                                   ('simpleimputer', SimpleImputer(),\n",
              "                                    <sklearn.compose._column_transformer.make_column_selector object at 0x7f26faca28b0>)])),\n",
              "  ('standardscaler', StandardScaler()),\n",
              "  ('smote', SMOTE(random_state=42)),\n",
              "  ('logisticregression', LogisticRegression(random_state=42))],\n",
              " 'verbose': False,\n",
              " 'columntransformer': ColumnTransformer(transformers=[('onehotencoder',\n",
              "                                  OneHotEncoder(handle_unknown='ignore',\n",
              "                                                sparse=False),\n",
              "                                  <sklearn.compose._column_transformer.make_column_selector object at 0x7f26faca2700>),\n",
              "                                 ('simpleimputer', SimpleImputer(),\n",
              "                                  <sklearn.compose._column_transformer.make_column_selector object at 0x7f26faca28b0>)]),\n",
              " 'standardscaler': StandardScaler(),\n",
              " 'smote': SMOTE(random_state=42),\n",
              " 'logisticregression': LogisticRegression(random_state=42),\n",
              " 'columntransformer__n_jobs': None,\n",
              " 'columntransformer__remainder': 'drop',\n",
              " 'columntransformer__sparse_threshold': 0.3,\n",
              " 'columntransformer__transformer_weights': None,\n",
              " 'columntransformer__transformers': [('onehotencoder',\n",
              "   OneHotEncoder(handle_unknown='ignore', sparse=False),\n",
              "   <sklearn.compose._column_transformer.make_column_selector at 0x7f26faca2700>),\n",
              "  ('simpleimputer',\n",
              "   SimpleImputer(),\n",
              "   <sklearn.compose._column_transformer.make_column_selector at 0x7f26faca28b0>)],\n",
              " 'columntransformer__verbose': False,\n",
              " 'columntransformer__verbose_feature_names_out': True,\n",
              " 'columntransformer__onehotencoder': OneHotEncoder(handle_unknown='ignore', sparse=False),\n",
              " 'columntransformer__simpleimputer': SimpleImputer(),\n",
              " 'columntransformer__onehotencoder__categories': 'auto',\n",
              " 'columntransformer__onehotencoder__drop': None,\n",
              " 'columntransformer__onehotencoder__dtype': numpy.float64,\n",
              " 'columntransformer__onehotencoder__handle_unknown': 'ignore',\n",
              " 'columntransformer__onehotencoder__sparse': False,\n",
              " 'columntransformer__simpleimputer__add_indicator': False,\n",
              " 'columntransformer__simpleimputer__copy': True,\n",
              " 'columntransformer__simpleimputer__fill_value': None,\n",
              " 'columntransformer__simpleimputer__missing_values': nan,\n",
              " 'columntransformer__simpleimputer__strategy': 'mean',\n",
              " 'columntransformer__simpleimputer__verbose': 0,\n",
              " 'standardscaler__copy': True,\n",
              " 'standardscaler__with_mean': True,\n",
              " 'standardscaler__with_std': True,\n",
              " 'smote__k_neighbors': 5,\n",
              " 'smote__n_jobs': None,\n",
              " 'smote__random_state': 42,\n",
              " 'smote__sampling_strategy': 'auto',\n",
              " 'logisticregression__C': 1.0,\n",
              " 'logisticregression__class_weight': None,\n",
              " 'logisticregression__dual': False,\n",
              " 'logisticregression__fit_intercept': True,\n",
              " 'logisticregression__intercept_scaling': 1,\n",
              " 'logisticregression__l1_ratio': None,\n",
              " 'logisticregression__max_iter': 100,\n",
              " 'logisticregression__multi_class': 'auto',\n",
              " 'logisticregression__n_jobs': None,\n",
              " 'logisticregression__penalty': 'l2',\n",
              " 'logisticregression__random_state': 42,\n",
              " 'logisticregression__solver': 'lbfgs',\n",
              " 'logisticregression__tol': 0.0001,\n",
              " 'logisticregression__verbose': 0,\n",
              " 'logisticregression__warm_start': False}"
            ]
          },
          "metadata": {},
          "execution_count": 59
        }
      ],
      "source": [
        "#choose hyperparameters for tuning\n",
        "lr_smote_pipe.get_params()"
      ]
    },
    {
      "cell_type": "code",
      "execution_count": 60,
      "metadata": {
        "id": "7-GOP4oNAqxt"
      },
      "outputs": [],
      "source": [
        "#create a parameter grid dictionary\n",
        "lr_smote_param_grid = {'logisticregression__C': [0.0001, 0.001, 0.01, 0.1, 1, 10, 100, 1000],\n",
        "              'logisticregression__max_iter': [10000],\n",
        "              'logisticregression__solver':['liblinear', 'saga'],\n",
        "              'logisticregression__penalty':['l1'],\n",
        "              'logisticregression__class_weight': ['balanced', None]}"
      ]
    },
    {
      "cell_type": "code",
      "execution_count": 61,
      "metadata": {
        "id": "amMe-Im2B7K9"
      },
      "outputs": [],
      "source": [
        "#instantiate the GridSearchCV Class\n",
        "lr_smote_grid_search = GridSearchCV(lr_smote_pipe, lr_smote_param_grid)"
      ]
    },
    {
      "cell_type": "code",
      "execution_count": 62,
      "metadata": {
        "id": "WDv65iDJCFAr",
        "colab": {
          "base_uri": "https://localhost:8080/",
          "height": 263
        },
        "outputId": "426a4d4c-1e11-4119-d671-9257cde0cf4a"
      },
      "outputs": [
        {
          "output_type": "execute_result",
          "data": {
            "text/plain": [
              "GridSearchCV(estimator=Pipeline(steps=[('columntransformer',\n",
              "                                        ColumnTransformer(transformers=[('onehotencoder',\n",
              "                                                                         OneHotEncoder(handle_unknown='ignore',\n",
              "                                                                                       sparse=False),\n",
              "                                                                         <sklearn.compose._column_transformer.make_column_selector object at 0x7f26faca2700>),\n",
              "                                                                        ('simpleimputer',\n",
              "                                                                         SimpleImputer(),\n",
              "                                                                         <sklearn.compose._column_transformer.make_column_selector object at 0x7f26fac...\n",
              "                                       ('standardscaler', StandardScaler()),\n",
              "                                       ('smote', SMOTE(random_state=42)),\n",
              "                                       ('logisticregression',\n",
              "                                        LogisticRegression(random_state=42))]),\n",
              "             param_grid={'logisticregression__C': [0.0001, 0.001, 0.01, 0.1, 1,\n",
              "                                                   10, 100, 1000],\n",
              "                         'logisticregression__class_weight': ['balanced', None],\n",
              "                         'logisticregression__max_iter': [10000],\n",
              "                         'logisticregression__penalty': ['l1'],\n",
              "                         'logisticregression__solver': ['liblinear', 'saga']})"
            ],
            "text/html": [
              "<style>#sk-8869bb42-aa10-48cb-b048-3b30f9d6f887 {color: black;background-color: white;}#sk-8869bb42-aa10-48cb-b048-3b30f9d6f887 pre{padding: 0;}#sk-8869bb42-aa10-48cb-b048-3b30f9d6f887 div.sk-toggleable {background-color: white;}#sk-8869bb42-aa10-48cb-b048-3b30f9d6f887 label.sk-toggleable__label {cursor: pointer;display: block;width: 100%;margin-bottom: 0;padding: 0.3em;box-sizing: border-box;text-align: center;}#sk-8869bb42-aa10-48cb-b048-3b30f9d6f887 label.sk-toggleable__label-arrow:before {content: \"▸\";float: left;margin-right: 0.25em;color: #696969;}#sk-8869bb42-aa10-48cb-b048-3b30f9d6f887 label.sk-toggleable__label-arrow:hover:before {color: black;}#sk-8869bb42-aa10-48cb-b048-3b30f9d6f887 div.sk-estimator:hover label.sk-toggleable__label-arrow:before {color: black;}#sk-8869bb42-aa10-48cb-b048-3b30f9d6f887 div.sk-toggleable__content {max-height: 0;max-width: 0;overflow: hidden;text-align: left;background-color: #f0f8ff;}#sk-8869bb42-aa10-48cb-b048-3b30f9d6f887 div.sk-toggleable__content pre {margin: 0.2em;color: black;border-radius: 0.25em;background-color: #f0f8ff;}#sk-8869bb42-aa10-48cb-b048-3b30f9d6f887 input.sk-toggleable__control:checked~div.sk-toggleable__content {max-height: 200px;max-width: 100%;overflow: auto;}#sk-8869bb42-aa10-48cb-b048-3b30f9d6f887 input.sk-toggleable__control:checked~label.sk-toggleable__label-arrow:before {content: \"▾\";}#sk-8869bb42-aa10-48cb-b048-3b30f9d6f887 div.sk-estimator input.sk-toggleable__control:checked~label.sk-toggleable__label {background-color: #d4ebff;}#sk-8869bb42-aa10-48cb-b048-3b30f9d6f887 div.sk-label input.sk-toggleable__control:checked~label.sk-toggleable__label {background-color: #d4ebff;}#sk-8869bb42-aa10-48cb-b048-3b30f9d6f887 input.sk-hidden--visually {border: 0;clip: rect(1px 1px 1px 1px);clip: rect(1px, 1px, 1px, 1px);height: 1px;margin: -1px;overflow: hidden;padding: 0;position: absolute;width: 1px;}#sk-8869bb42-aa10-48cb-b048-3b30f9d6f887 div.sk-estimator {font-family: monospace;background-color: #f0f8ff;border: 1px dotted black;border-radius: 0.25em;box-sizing: border-box;margin-bottom: 0.5em;}#sk-8869bb42-aa10-48cb-b048-3b30f9d6f887 div.sk-estimator:hover {background-color: #d4ebff;}#sk-8869bb42-aa10-48cb-b048-3b30f9d6f887 div.sk-parallel-item::after {content: \"\";width: 100%;border-bottom: 1px solid gray;flex-grow: 1;}#sk-8869bb42-aa10-48cb-b048-3b30f9d6f887 div.sk-label:hover label.sk-toggleable__label {background-color: #d4ebff;}#sk-8869bb42-aa10-48cb-b048-3b30f9d6f887 div.sk-serial::before {content: \"\";position: absolute;border-left: 1px solid gray;box-sizing: border-box;top: 2em;bottom: 0;left: 50%;}#sk-8869bb42-aa10-48cb-b048-3b30f9d6f887 div.sk-serial {display: flex;flex-direction: column;align-items: center;background-color: white;padding-right: 0.2em;padding-left: 0.2em;}#sk-8869bb42-aa10-48cb-b048-3b30f9d6f887 div.sk-item {z-index: 1;}#sk-8869bb42-aa10-48cb-b048-3b30f9d6f887 div.sk-parallel {display: flex;align-items: stretch;justify-content: center;background-color: white;}#sk-8869bb42-aa10-48cb-b048-3b30f9d6f887 div.sk-parallel::before {content: \"\";position: absolute;border-left: 1px solid gray;box-sizing: border-box;top: 2em;bottom: 0;left: 50%;}#sk-8869bb42-aa10-48cb-b048-3b30f9d6f887 div.sk-parallel-item {display: flex;flex-direction: column;position: relative;background-color: white;}#sk-8869bb42-aa10-48cb-b048-3b30f9d6f887 div.sk-parallel-item:first-child::after {align-self: flex-end;width: 50%;}#sk-8869bb42-aa10-48cb-b048-3b30f9d6f887 div.sk-parallel-item:last-child::after {align-self: flex-start;width: 50%;}#sk-8869bb42-aa10-48cb-b048-3b30f9d6f887 div.sk-parallel-item:only-child::after {width: 0;}#sk-8869bb42-aa10-48cb-b048-3b30f9d6f887 div.sk-dashed-wrapped {border: 1px dashed gray;margin: 0 0.4em 0.5em 0.4em;box-sizing: border-box;padding-bottom: 0.4em;background-color: white;position: relative;}#sk-8869bb42-aa10-48cb-b048-3b30f9d6f887 div.sk-label label {font-family: monospace;font-weight: bold;background-color: white;display: inline-block;line-height: 1.2em;}#sk-8869bb42-aa10-48cb-b048-3b30f9d6f887 div.sk-label-container {position: relative;z-index: 2;text-align: center;}#sk-8869bb42-aa10-48cb-b048-3b30f9d6f887 div.sk-container {/* jupyter's `normalize.less` sets `[hidden] { display: none; }` but bootstrap.min.css set `[hidden] { display: none !important; }` so we also need the `!important` here to be able to override the default hidden behavior on the sphinx rendered scikit-learn.org. See: https://github.com/scikit-learn/scikit-learn/issues/21755 */display: inline-block !important;position: relative;}#sk-8869bb42-aa10-48cb-b048-3b30f9d6f887 div.sk-text-repr-fallback {display: none;}</style><div id=\"sk-8869bb42-aa10-48cb-b048-3b30f9d6f887\" class=\"sk-top-container\"><div class=\"sk-text-repr-fallback\"><pre>GridSearchCV(estimator=Pipeline(steps=[(&#x27;columntransformer&#x27;,\n",
              "                                        ColumnTransformer(transformers=[(&#x27;onehotencoder&#x27;,\n",
              "                                                                         OneHotEncoder(handle_unknown=&#x27;ignore&#x27;,\n",
              "                                                                                       sparse=False),\n",
              "                                                                         &lt;sklearn.compose._column_transformer.make_column_selector object at 0x7f26faca2700&gt;),\n",
              "                                                                        (&#x27;simpleimputer&#x27;,\n",
              "                                                                         SimpleImputer(),\n",
              "                                                                         &lt;sklearn.compose._column_transformer.make_column_selector object at 0x7f26fac...\n",
              "                                       (&#x27;standardscaler&#x27;, StandardScaler()),\n",
              "                                       (&#x27;smote&#x27;, SMOTE(random_state=42)),\n",
              "                                       (&#x27;logisticregression&#x27;,\n",
              "                                        LogisticRegression(random_state=42))]),\n",
              "             param_grid={&#x27;logisticregression__C&#x27;: [0.0001, 0.001, 0.01, 0.1, 1,\n",
              "                                                   10, 100, 1000],\n",
              "                         &#x27;logisticregression__class_weight&#x27;: [&#x27;balanced&#x27;, None],\n",
              "                         &#x27;logisticregression__max_iter&#x27;: [10000],\n",
              "                         &#x27;logisticregression__penalty&#x27;: [&#x27;l1&#x27;],\n",
              "                         &#x27;logisticregression__solver&#x27;: [&#x27;liblinear&#x27;, &#x27;saga&#x27;]})</pre><b>Please rerun this cell to show the HTML repr or trust the notebook.</b></div><div class=\"sk-container\" hidden><div class=\"sk-item sk-dashed-wrapped\"><div class=\"sk-label-container\"><div class=\"sk-label sk-toggleable\"><input class=\"sk-toggleable__control sk-hidden--visually\" id=\"96dbbe62-9f7f-493e-b768-85c4bd990656\" type=\"checkbox\" ><label for=\"96dbbe62-9f7f-493e-b768-85c4bd990656\" class=\"sk-toggleable__label sk-toggleable__label-arrow\">GridSearchCV</label><div class=\"sk-toggleable__content\"><pre>GridSearchCV(estimator=Pipeline(steps=[(&#x27;columntransformer&#x27;,\n",
              "                                        ColumnTransformer(transformers=[(&#x27;onehotencoder&#x27;,\n",
              "                                                                         OneHotEncoder(handle_unknown=&#x27;ignore&#x27;,\n",
              "                                                                                       sparse=False),\n",
              "                                                                         &lt;sklearn.compose._column_transformer.make_column_selector object at 0x7f26faca2700&gt;),\n",
              "                                                                        (&#x27;simpleimputer&#x27;,\n",
              "                                                                         SimpleImputer(),\n",
              "                                                                         &lt;sklearn.compose._column_transformer.make_column_selector object at 0x7f26fac...\n",
              "                                       (&#x27;standardscaler&#x27;, StandardScaler()),\n",
              "                                       (&#x27;smote&#x27;, SMOTE(random_state=42)),\n",
              "                                       (&#x27;logisticregression&#x27;,\n",
              "                                        LogisticRegression(random_state=42))]),\n",
              "             param_grid={&#x27;logisticregression__C&#x27;: [0.0001, 0.001, 0.01, 0.1, 1,\n",
              "                                                   10, 100, 1000],\n",
              "                         &#x27;logisticregression__class_weight&#x27;: [&#x27;balanced&#x27;, None],\n",
              "                         &#x27;logisticregression__max_iter&#x27;: [10000],\n",
              "                         &#x27;logisticregression__penalty&#x27;: [&#x27;l1&#x27;],\n",
              "                         &#x27;logisticregression__solver&#x27;: [&#x27;liblinear&#x27;, &#x27;saga&#x27;]})</pre></div></div></div><div class=\"sk-parallel\"><div class=\"sk-parallel-item\"><div class=\"sk-item\"><div class=\"sk-serial\"><div class=\"sk-item\"><div class=\"sk-serial\"><div class=\"sk-item sk-dashed-wrapped\"><div class=\"sk-label-container\"><div class=\"sk-label sk-toggleable\"><input class=\"sk-toggleable__control sk-hidden--visually\" id=\"49df91b6-e4ee-4421-acfd-7b42a8abfec5\" type=\"checkbox\" ><label for=\"49df91b6-e4ee-4421-acfd-7b42a8abfec5\" class=\"sk-toggleable__label sk-toggleable__label-arrow\">columntransformer: ColumnTransformer</label><div class=\"sk-toggleable__content\"><pre>ColumnTransformer(transformers=[(&#x27;onehotencoder&#x27;,\n",
              "                                 OneHotEncoder(handle_unknown=&#x27;ignore&#x27;,\n",
              "                                               sparse=False),\n",
              "                                 &lt;sklearn.compose._column_transformer.make_column_selector object at 0x7f26faca2700&gt;),\n",
              "                                (&#x27;simpleimputer&#x27;, SimpleImputer(),\n",
              "                                 &lt;sklearn.compose._column_transformer.make_column_selector object at 0x7f26faca28b0&gt;)])</pre></div></div></div><div class=\"sk-parallel\"><div class=\"sk-parallel-item\"><div class=\"sk-item\"><div class=\"sk-label-container\"><div class=\"sk-label sk-toggleable\"><input class=\"sk-toggleable__control sk-hidden--visually\" id=\"24525b60-5b5f-48d0-a2a5-fbd7b07afefb\" type=\"checkbox\" ><label for=\"24525b60-5b5f-48d0-a2a5-fbd7b07afefb\" class=\"sk-toggleable__label sk-toggleable__label-arrow\">onehotencoder</label><div class=\"sk-toggleable__content\"><pre>&lt;sklearn.compose._column_transformer.make_column_selector object at 0x7f26faca2700&gt;</pre></div></div></div><div class=\"sk-serial\"><div class=\"sk-item\"><div class=\"sk-estimator sk-toggleable\"><input class=\"sk-toggleable__control sk-hidden--visually\" id=\"750ef8a8-f9a0-49a0-8179-fb841664f3de\" type=\"checkbox\" ><label for=\"750ef8a8-f9a0-49a0-8179-fb841664f3de\" class=\"sk-toggleable__label sk-toggleable__label-arrow\">OneHotEncoder</label><div class=\"sk-toggleable__content\"><pre>OneHotEncoder(handle_unknown=&#x27;ignore&#x27;, sparse=False)</pre></div></div></div></div></div></div><div class=\"sk-parallel-item\"><div class=\"sk-item\"><div class=\"sk-label-container\"><div class=\"sk-label sk-toggleable\"><input class=\"sk-toggleable__control sk-hidden--visually\" id=\"75b6f389-5112-41fe-a9fa-f936a941f37c\" type=\"checkbox\" ><label for=\"75b6f389-5112-41fe-a9fa-f936a941f37c\" class=\"sk-toggleable__label sk-toggleable__label-arrow\">simpleimputer</label><div class=\"sk-toggleable__content\"><pre>&lt;sklearn.compose._column_transformer.make_column_selector object at 0x7f26faca28b0&gt;</pre></div></div></div><div class=\"sk-serial\"><div class=\"sk-item\"><div class=\"sk-estimator sk-toggleable\"><input class=\"sk-toggleable__control sk-hidden--visually\" id=\"582a28d7-4619-455c-ab43-8662f6193ded\" type=\"checkbox\" ><label for=\"582a28d7-4619-455c-ab43-8662f6193ded\" class=\"sk-toggleable__label sk-toggleable__label-arrow\">SimpleImputer</label><div class=\"sk-toggleable__content\"><pre>SimpleImputer()</pre></div></div></div></div></div></div></div></div><div class=\"sk-item\"><div class=\"sk-estimator sk-toggleable\"><input class=\"sk-toggleable__control sk-hidden--visually\" id=\"1da41a54-788d-4a95-a01d-cf2599675d7b\" type=\"checkbox\" ><label for=\"1da41a54-788d-4a95-a01d-cf2599675d7b\" class=\"sk-toggleable__label sk-toggleable__label-arrow\">StandardScaler</label><div class=\"sk-toggleable__content\"><pre>StandardScaler()</pre></div></div></div><div class=\"sk-item\"><div class=\"sk-estimator sk-toggleable\"><input class=\"sk-toggleable__control sk-hidden--visually\" id=\"b5484042-dc52-4fb9-a3ad-62eaf9ff43c9\" type=\"checkbox\" ><label for=\"b5484042-dc52-4fb9-a3ad-62eaf9ff43c9\" class=\"sk-toggleable__label sk-toggleable__label-arrow\">SMOTE</label><div class=\"sk-toggleable__content\"><pre>SMOTE(random_state=42)</pre></div></div></div><div class=\"sk-item\"><div class=\"sk-estimator sk-toggleable\"><input class=\"sk-toggleable__control sk-hidden--visually\" id=\"2cb0dadd-2efd-4cb0-9c95-07539b3421e6\" type=\"checkbox\" ><label for=\"2cb0dadd-2efd-4cb0-9c95-07539b3421e6\" class=\"sk-toggleable__label sk-toggleable__label-arrow\">LogisticRegression</label><div class=\"sk-toggleable__content\"><pre>LogisticRegression(random_state=42)</pre></div></div></div></div></div></div></div></div></div></div></div></div>"
            ]
          },
          "metadata": {},
          "execution_count": 62
        }
      ],
      "source": [
        "#fit the GridSearchCV on the Training Data\n",
        "lr_smote_grid_search.fit(X_train, y_train)"
      ]
    },
    {
      "cell_type": "code",
      "execution_count": 63,
      "metadata": {
        "id": "TfjUYbRaCNJT",
        "colab": {
          "base_uri": "https://localhost:8080/"
        },
        "outputId": "6b40e566-bddb-461b-ecab-5a56f6838952"
      },
      "outputs": [
        {
          "output_type": "stream",
          "name": "stdout",
          "text": [
            "Best Logistic Regression Model with SMOTE Parameters:\n",
            "{'logisticregression__C': 0.0001, 'logisticregression__class_weight': 'balanced', 'logisticregression__max_iter': 10000, 'logisticregression__penalty': 'l1', 'logisticregression__solver': 'liblinear'}\n",
            "Accuracy of best Logistic Regression Model with SMOTE is: 0.9514866979655712\n"
          ]
        }
      ],
      "source": [
        "#find the best parameters\n",
        "print('Best Logistic Regression Model with SMOTE Parameters:')\n",
        "print(lr_smote_grid_search.best_params_)\n",
        "best_lr_smote_model = lr_smote_grid_search.best_estimator_\n",
        "print(f'Accuracy of best Logistic Regression Model with SMOTE is: {best_lr_smote_model.score(X_test, y_test)}')"
      ]
    },
    {
      "cell_type": "markdown",
      "metadata": {
        "id": "6P_DMqlaFEMh"
      },
      "source": [
        "### Final Logistic Regression Model with SMOTE Evaluation"
      ]
    },
    {
      "cell_type": "code",
      "execution_count": 64,
      "metadata": {
        "id": "Y-mmfBHbE5Q_",
        "colab": {
          "base_uri": "https://localhost:8080/"
        },
        "outputId": "6ef385ed-6ab7-41f2-980c-930356618e07"
      },
      "outputs": [
        {
          "output_type": "stream",
          "name": "stdout",
          "text": [
            "0.9512004175365344\n",
            "0.9514866979655712\n"
          ]
        }
      ],
      "source": [
        "#instantiate the tuned model\n",
        "lr_smote_tuned = LogisticRegression(C=.0001, max_iter=10000, solver='liblinear', penalty='l1', class_weight = 'balanced', random_state=42)\n",
        "#create the tuned model pipeline\n",
        "lr_smote_tuned_pipe = make_sampler_pipeline(preprocessor, scaler, smote, lr_smote_tuned)\n",
        "#fit the tuned model pipeline on the training data\n",
        "lr_smote_tuned_pipe.fit(X_train, y_train)\n",
        "#make predictions\n",
        "train_preds_lr_smote_tuned = lr_smote_tuned_pipe.predict(X_train)\n",
        "test_preds_lr_smote_tuned = lr_smote_tuned_pipe.predict(X_test)\n",
        "#evaluate the model's performance\n",
        "print(lr_smote_tuned_pipe.score(X_train, y_train))\n",
        "print(lr_smote_tuned_pipe.score(X_test, y_test))"
      ]
    },
    {
      "cell_type": "markdown",
      "metadata": {
        "id": "ccPdO9AlGa-P"
      },
      "source": [
        "  - Tuning the Logistic Regression Model with SMOTE increased the accuracy on the test set."
      ]
    },
    {
      "cell_type": "code",
      "execution_count": 65,
      "metadata": {
        "id": "gYw9yHZPGIoJ",
        "colab": {
          "base_uri": "https://localhost:8080/",
          "height": 301
        },
        "outputId": "d7b1e1bd-f2ee-4f59-b563-311924f75353"
      },
      "outputs": [
        {
          "output_type": "stream",
          "name": "stdout",
          "text": [
            "Logistic Regression Model with SMOTE Confusion Matrix\n"
          ]
        },
        {
          "output_type": "display_data",
          "data": {
            "text/plain": [
              "<Figure size 432x288 with 2 Axes>"
            ],
            "image/png": "[encoded data removed]"
          },
          "metadata": {
            "needs_background": "light"
          }
        }
      ],
      "source": [
        "print('Logistic Regression Model with SMOTE Confusion Matrix')\n",
        "ConfusionMatrixDisplay.from_predictions(y_test, test_preds_lr_smote_tuned, display_labels = labels, cmap = 'Reds', normalize = 'true');"
      ]
    },
    {
      "cell_type": "markdown",
      "metadata": {
        "id": "ZMi8rX0uHFwM"
      },
      "source": [
        "  - The tuned Logistic Regression Model with SMOTE successfully classified 100% of the no stroke samples and 0% of the stroke samples (the same as the tuned Logistic Regression Model without SMOTE)."
      ]
    },
    {
      "cell_type": "code",
      "execution_count": 66,
      "metadata": {
        "id": "39UndJU4Gzqp",
        "colab": {
          "base_uri": "https://localhost:8080/"
        },
        "outputId": "01495352-cead-4f97-bfb8-e3be15ed7e92"
      },
      "outputs": [
        {
          "output_type": "stream",
          "name": "stdout",
          "text": [
            "Logistic Regression Model with SMOTE Classification Report\n",
            "              precision    recall  f1-score   support\n",
            "\n",
            "           0       0.95      1.00      0.98      1216\n",
            "           1       0.00      0.00      0.00        62\n",
            "\n",
            "    accuracy                           0.95      1278\n",
            "   macro avg       0.48      0.50      0.49      1278\n",
            "weighted avg       0.91      0.95      0.93      1278\n",
            "\n"
          ]
        },
        {
          "output_type": "stream",
          "name": "stderr",
          "text": [
            "/usr/local/lib/python3.8/dist-packages/sklearn/metrics/_classification.py:1318: UndefinedMetricWarning: Precision and F-score are ill-defined and being set to 0.0 in labels with no predicted samples. Use `zero_division` parameter to control this behavior.\n",
            "  _warn_prf(average, modifier, msg_start, len(result))\n",
            "/usr/local/lib/python3.8/dist-packages/sklearn/metrics/_classification.py:1318: UndefinedMetricWarning: Precision and F-score are ill-defined and being set to 0.0 in labels with no predicted samples. Use `zero_division` parameter to control this behavior.\n",
            "  _warn_prf(average, modifier, msg_start, len(result))\n",
            "/usr/local/lib/python3.8/dist-packages/sklearn/metrics/_classification.py:1318: UndefinedMetricWarning: Precision and F-score are ill-defined and being set to 0.0 in labels with no predicted samples. Use `zero_division` parameter to control this behavior.\n",
            "  _warn_prf(average, modifier, msg_start, len(result))\n"
          ]
        }
      ],
      "source": [
        "print('Logistic Regression Model with SMOTE Classification Report')\n",
        "print(classification_report(y_test, test_preds_lr_smote_tuned))"
      ]
    },
    {
      "cell_type": "markdown",
      "metadata": {
        "id": "nuxCfPv6H49A"
      },
      "source": [
        "  - The tuned Logistic Regression Model with SMOTE was 95% accurate for making correct predictions on the test set (the same as the tuned Logistic Regression Model without SMOTE).\n",
        "  - The tuned Logistic Regression Model with SMOTE was 95% sensitive and 100% specific for predicting the no stroke class (the same as the tuned Logistic Regression Model without SMOTE).\n",
        "  - However, the tuned Logistic Regression Model with SMOTE was 0% sensitive and 0% specific for predicting the stroke class (the same as the tuned Logistic Regression Model without SMOTE).\n",
        "  - Finally, the tuned Logistic Regression Model with SMOTE had f1-scores of 98% for the no stroke class and, again, 0% for the stroke class (the same as the tuned Logistic Regression Model without SMOTE).\n",
        "\n",
        "Using SMOTE did not help the Logistic Regression Model predict the stroke class."
      ]
    },
    {
      "cell_type": "markdown",
      "metadata": {
        "id": "2mbBM8bZI-VQ"
      },
      "source": [
        "  - The tuned Random Forest Classifier with SMOTE model had the same accuracy for the test set.\n",
        "  - The tuned Random Forest Classifier with SMOTE model had the same sensitivity and lower specificity for predicting the no stroke class.\n",
        "  - However, the tuned Random Forest Classifier with SMOTE model was more sensitive and specific for predicting the stroke class.\n",
        "\n",
        "Therefore, the tuned Random Forest Classifier with SMOTE model was the best so far for predicting strokes."
      ]
    },
    {
      "cell_type": "markdown",
      "metadata": {
        "id": "wZvGW7duLwF2"
      },
      "source": [
        "## LightGBM"
      ]
    },
    {
      "cell_type": "code",
      "execution_count": 67,
      "metadata": {
        "id": "V1xyFYLcHxNx",
        "colab": {
          "base_uri": "https://localhost:8080/"
        },
        "outputId": "6fa067ee-24cd-44b8-99b4-44b97b1bb86e"
      },
      "outputs": [
        {
          "output_type": "stream",
          "name": "stdout",
          "text": [
            "0.9953027139874739\n",
            "0.945226917057903\n"
          ]
        }
      ],
      "source": [
        "#instantiate the model and the standard scaler\n",
        "lgbm = LGBMClassifier(random_state=42)\n",
        "scaler = StandardScaler()\n",
        "#create a model pipeline\n",
        "lgbm_pipe = make_pipeline(preprocessor, scaler, lgbm)\n",
        "#fit the model pipeline on the training data\n",
        "lgbm_pipe.fit(X_train, y_train)\n",
        "#evaluate the model's performance\n",
        "print(lgbm_pipe.score(X_train, y_train))\n",
        "print(lgbm_pipe.score(X_test, y_test))"
      ]
    },
    {
      "cell_type": "markdown",
      "metadata": {
        "id": "Vx78oM4aNHQP"
      },
      "source": [
        "#### Tuning hyperparameters using GridSearchCV"
      ]
    },
    {
      "cell_type": "code",
      "execution_count": 68,
      "metadata": {
        "id": "aDlI80Q_Mvlj",
        "colab": {
          "base_uri": "https://localhost:8080/"
        },
        "outputId": "a1268111-2546-4a6a-f654-255c2d5e6199"
      },
      "outputs": [
        {
          "output_type": "execute_result",
          "data": {
            "text/plain": [
              "{'memory': None,\n",
              " 'steps': [('columntransformer',\n",
              "   ColumnTransformer(transformers=[('onehotencoder',\n",
              "                                    OneHotEncoder(handle_unknown='ignore',\n",
              "                                                  sparse=False),\n",
              "                                    <sklearn.compose._column_transformer.make_column_selector object at 0x7f26faca2700>),\n",
              "                                   ('simpleimputer', SimpleImputer(),\n",
              "                                    <sklearn.compose._column_transformer.make_column_selector object at 0x7f26faca28b0>)])),\n",
              "  ('standardscaler', StandardScaler()),\n",
              "  ('lgbmclassifier', LGBMClassifier(random_state=42))],\n",
              " 'verbose': False,\n",
              " 'columntransformer': ColumnTransformer(transformers=[('onehotencoder',\n",
              "                                  OneHotEncoder(handle_unknown='ignore',\n",
              "                                                sparse=False),\n",
              "                                  <sklearn.compose._column_transformer.make_column_selector object at 0x7f26faca2700>),\n",
              "                                 ('simpleimputer', SimpleImputer(),\n",
              "                                  <sklearn.compose._column_transformer.make_column_selector object at 0x7f26faca28b0>)]),\n",
              " 'standardscaler': StandardScaler(),\n",
              " 'lgbmclassifier': LGBMClassifier(random_state=42),\n",
              " 'columntransformer__n_jobs': None,\n",
              " 'columntransformer__remainder': 'drop',\n",
              " 'columntransformer__sparse_threshold': 0.3,\n",
              " 'columntransformer__transformer_weights': None,\n",
              " 'columntransformer__transformers': [('onehotencoder',\n",
              "   OneHotEncoder(handle_unknown='ignore', sparse=False),\n",
              "   <sklearn.compose._column_transformer.make_column_selector at 0x7f26faca2700>),\n",
              "  ('simpleimputer',\n",
              "   SimpleImputer(),\n",
              "   <sklearn.compose._column_transformer.make_column_selector at 0x7f26faca28b0>)],\n",
              " 'columntransformer__verbose': False,\n",
              " 'columntransformer__verbose_feature_names_out': True,\n",
              " 'columntransformer__onehotencoder': OneHotEncoder(handle_unknown='ignore', sparse=False),\n",
              " 'columntransformer__simpleimputer': SimpleImputer(),\n",
              " 'columntransformer__onehotencoder__categories': 'auto',\n",
              " 'columntransformer__onehotencoder__drop': None,\n",
              " 'columntransformer__onehotencoder__dtype': numpy.float64,\n",
              " 'columntransformer__onehotencoder__handle_unknown': 'ignore',\n",
              " 'columntransformer__onehotencoder__sparse': False,\n",
              " 'columntransformer__simpleimputer__add_indicator': False,\n",
              " 'columntransformer__simpleimputer__copy': True,\n",
              " 'columntransformer__simpleimputer__fill_value': None,\n",
              " 'columntransformer__simpleimputer__missing_values': nan,\n",
              " 'columntransformer__simpleimputer__strategy': 'mean',\n",
              " 'columntransformer__simpleimputer__verbose': 0,\n",
              " 'standardscaler__copy': True,\n",
              " 'standardscaler__with_mean': True,\n",
              " 'standardscaler__with_std': True,\n",
              " 'lgbmclassifier__boosting_type': 'gbdt',\n",
              " 'lgbmclassifier__class_weight': None,\n",
              " 'lgbmclassifier__colsample_bytree': 1.0,\n",
              " 'lgbmclassifier__importance_type': 'split',\n",
              " 'lgbmclassifier__learning_rate': 0.1,\n",
              " 'lgbmclassifier__max_depth': -1,\n",
              " 'lgbmclassifier__min_child_samples': 20,\n",
              " 'lgbmclassifier__min_child_weight': 0.001,\n",
              " 'lgbmclassifier__min_split_gain': 0.0,\n",
              " 'lgbmclassifier__n_estimators': 100,\n",
              " 'lgbmclassifier__n_jobs': -1,\n",
              " 'lgbmclassifier__num_leaves': 31,\n",
              " 'lgbmclassifier__objective': None,\n",
              " 'lgbmclassifier__random_state': 42,\n",
              " 'lgbmclassifier__reg_alpha': 0.0,\n",
              " 'lgbmclassifier__reg_lambda': 0.0,\n",
              " 'lgbmclassifier__silent': True,\n",
              " 'lgbmclassifier__subsample': 1.0,\n",
              " 'lgbmclassifier__subsample_for_bin': 200000,\n",
              " 'lgbmclassifier__subsample_freq': 0}"
            ]
          },
          "metadata": {},
          "execution_count": 68
        }
      ],
      "source": [
        "#choose hyperparameters for tuning\n",
        "lgbm_pipe.get_params()"
      ]
    },
    {
      "cell_type": "code",
      "execution_count": 69,
      "metadata": {
        "id": "PJHsRYr2NWCP"
      },
      "outputs": [],
      "source": [
        "#create a parameter grid dictionary\n",
        "lgbm_param_grid = {'lgbmclassifier__num_leaves': [8, 21, 31, 100, 1000],\n",
        "               'lgbmclassifier__max_depth': range(3, 12),\n",
        "              'lgbmclassifier__learning_rate': [.01, 0.1, 0.2],\n",
        "              'lgbmclassifier__class_weight': ['balanced', None]}           "
      ]
    },
    {
      "cell_type": "code",
      "execution_count": 70,
      "metadata": {
        "id": "864BwcocOX7I"
      },
      "outputs": [],
      "source": [
        "#instantiate the GridSearchCV object\n",
        "lgbm_grid_search = GridSearchCV(lgbm_pipe, lgbm_param_grid)"
      ]
    },
    {
      "cell_type": "code",
      "execution_count": 71,
      "metadata": {
        "id": "nNLyVUO9PzGe",
        "colab": {
          "base_uri": "https://localhost:8080/",
          "height": 228
        },
        "outputId": "c0511946-33be-424c-c8aa-4e97f58478d3"
      },
      "outputs": [
        {
          "output_type": "execute_result",
          "data": {
            "text/plain": [
              "GridSearchCV(estimator=Pipeline(steps=[('columntransformer',\n",
              "                                        ColumnTransformer(transformers=[('onehotencoder',\n",
              "                                                                         OneHotEncoder(handle_unknown='ignore',\n",
              "                                                                                       sparse=False),\n",
              "                                                                         <sklearn.compose._column_transformer.make_column_selector object at 0x7f26faca2700>),\n",
              "                                                                        ('simpleimputer',\n",
              "                                                                         SimpleImputer(),\n",
              "                                                                         <sklearn.compose._column_transformer.make_column_selector object at 0x7f26faca28b0>)])),\n",
              "                                       ('standardscaler', StandardScaler()),\n",
              "                                       ('lgbmclassifier',\n",
              "                                        LGBMClassifier(random_state=42))]),\n",
              "             param_grid={'lgbmclassifier__class_weight': ['balanced', None],\n",
              "                         'lgbmclassifier__learning_rate': [0.01, 0.1, 0.2],\n",
              "                         'lgbmclassifier__max_depth': range(3, 12),\n",
              "                         'lgbmclassifier__num_leaves': [8, 21, 31, 100, 1000]})"
            ],
            "text/html": [
              "<style>#sk-530252aa-7ff4-4e9f-be76-8cc5a6c6b7c3 {color: black;background-color: white;}#sk-530252aa-7ff4-4e9f-be76-8cc5a6c6b7c3 pre{padding: 0;}#sk-530252aa-7ff4-4e9f-be76-8cc5a6c6b7c3 div.sk-toggleable {background-color: white;}#sk-530252aa-7ff4-4e9f-be76-8cc5a6c6b7c3 label.sk-toggleable__label {cursor: pointer;display: block;width: 100%;margin-bottom: 0;padding: 0.3em;box-sizing: border-box;text-align: center;}#sk-530252aa-7ff4-4e9f-be76-8cc5a6c6b7c3 label.sk-toggleable__label-arrow:before {content: \"▸\";float: left;margin-right: 0.25em;color: #696969;}#sk-530252aa-7ff4-4e9f-be76-8cc5a6c6b7c3 label.sk-toggleable__label-arrow:hover:before {color: black;}#sk-530252aa-7ff4-4e9f-be76-8cc5a6c6b7c3 div.sk-estimator:hover label.sk-toggleable__label-arrow:before {color: black;}#sk-530252aa-7ff4-4e9f-be76-8cc5a6c6b7c3 div.sk-toggleable__content {max-height: 0;max-width: 0;overflow: hidden;text-align: left;background-color: #f0f8ff;}#sk-530252aa-7ff4-4e9f-be76-8cc5a6c6b7c3 div.sk-toggleable__content pre {margin: 0.2em;color: black;border-radius: 0.25em;background-color: #f0f8ff;}#sk-530252aa-7ff4-4e9f-be76-8cc5a6c6b7c3 input.sk-toggleable__control:checked~div.sk-toggleable__content {max-height: 200px;max-width: 100%;overflow: auto;}#sk-530252aa-7ff4-4e9f-be76-8cc5a6c6b7c3 input.sk-toggleable__control:checked~label.sk-toggleable__label-arrow:before {content: \"▾\";}#sk-530252aa-7ff4-4e9f-be76-8cc5a6c6b7c3 div.sk-estimator input.sk-toggleable__control:checked~label.sk-toggleable__label {background-color: #d4ebff;}#sk-530252aa-7ff4-4e9f-be76-8cc5a6c6b7c3 div.sk-label input.sk-toggleable__control:checked~label.sk-toggleable__label {background-color: #d4ebff;}#sk-530252aa-7ff4-4e9f-be76-8cc5a6c6b7c3 input.sk-hidden--visually {border: 0;clip: rect(1px 1px 1px 1px);clip: rect(1px, 1px, 1px, 1px);height: 1px;margin: -1px;overflow: hidden;padding: 0;position: absolute;width: 1px;}#sk-530252aa-7ff4-4e9f-be76-8cc5a6c6b7c3 div.sk-estimator {font-family: monospace;background-color: #f0f8ff;border: 1px dotted black;border-radius: 0.25em;box-sizing: border-box;margin-bottom: 0.5em;}#sk-530252aa-7ff4-4e9f-be76-8cc5a6c6b7c3 div.sk-estimator:hover {background-color: #d4ebff;}#sk-530252aa-7ff4-4e9f-be76-8cc5a6c6b7c3 div.sk-parallel-item::after {content: \"\";width: 100%;border-bottom: 1px solid gray;flex-grow: 1;}#sk-530252aa-7ff4-4e9f-be76-8cc5a6c6b7c3 div.sk-label:hover label.sk-toggleable__label {background-color: #d4ebff;}#sk-530252aa-7ff4-4e9f-be76-8cc5a6c6b7c3 div.sk-serial::before {content: \"\";position: absolute;border-left: 1px solid gray;box-sizing: border-box;top: 2em;bottom: 0;left: 50%;}#sk-530252aa-7ff4-4e9f-be76-8cc5a6c6b7c3 div.sk-serial {display: flex;flex-direction: column;align-items: center;background-color: white;padding-right: 0.2em;padding-left: 0.2em;}#sk-530252aa-7ff4-4e9f-be76-8cc5a6c6b7c3 div.sk-item {z-index: 1;}#sk-530252aa-7ff4-4e9f-be76-8cc5a6c6b7c3 div.sk-parallel {display: flex;align-items: stretch;justify-content: center;background-color: white;}#sk-530252aa-7ff4-4e9f-be76-8cc5a6c6b7c3 div.sk-parallel::before {content: \"\";position: absolute;border-left: 1px solid gray;box-sizing: border-box;top: 2em;bottom: 0;left: 50%;}#sk-530252aa-7ff4-4e9f-be76-8cc5a6c6b7c3 div.sk-parallel-item {display: flex;flex-direction: column;position: relative;background-color: white;}#sk-530252aa-7ff4-4e9f-be76-8cc5a6c6b7c3 div.sk-parallel-item:first-child::after {align-self: flex-end;width: 50%;}#sk-530252aa-7ff4-4e9f-be76-8cc5a6c6b7c3 div.sk-parallel-item:last-child::after {align-self: flex-start;width: 50%;}#sk-530252aa-7ff4-4e9f-be76-8cc5a6c6b7c3 div.sk-parallel-item:only-child::after {width: 0;}#sk-530252aa-7ff4-4e9f-be76-8cc5a6c6b7c3 div.sk-dashed-wrapped {border: 1px dashed gray;margin: 0 0.4em 0.5em 0.4em;box-sizing: border-box;padding-bottom: 0.4em;background-color: white;position: relative;}#sk-530252aa-7ff4-4e9f-be76-8cc5a6c6b7c3 div.sk-label label {font-family: monospace;font-weight: bold;background-color: white;display: inline-block;line-height: 1.2em;}#sk-530252aa-7ff4-4e9f-be76-8cc5a6c6b7c3 div.sk-label-container {position: relative;z-index: 2;text-align: center;}#sk-530252aa-7ff4-4e9f-be76-8cc5a6c6b7c3 div.sk-container {/* jupyter's `normalize.less` sets `[hidden] { display: none; }` but bootstrap.min.css set `[hidden] { display: none !important; }` so we also need the `!important` here to be able to override the default hidden behavior on the sphinx rendered scikit-learn.org. See: https://github.com/scikit-learn/scikit-learn/issues/21755 */display: inline-block !important;position: relative;}#sk-530252aa-7ff4-4e9f-be76-8cc5a6c6b7c3 div.sk-text-repr-fallback {display: none;}</style><div id=\"sk-530252aa-7ff4-4e9f-be76-8cc5a6c6b7c3\" class=\"sk-top-container\"><div class=\"sk-text-repr-fallback\"><pre>GridSearchCV(estimator=Pipeline(steps=[(&#x27;columntransformer&#x27;,\n",
              "                                        ColumnTransformer(transformers=[(&#x27;onehotencoder&#x27;,\n",
              "                                                                         OneHotEncoder(handle_unknown=&#x27;ignore&#x27;,\n",
              "                                                                                       sparse=False),\n",
              "                                                                         &lt;sklearn.compose._column_transformer.make_column_selector object at 0x7f26faca2700&gt;),\n",
              "                                                                        (&#x27;simpleimputer&#x27;,\n",
              "                                                                         SimpleImputer(),\n",
              "                                                                         &lt;sklearn.compose._column_transformer.make_column_selector object at 0x7f26faca28b0&gt;)])),\n",
              "                                       (&#x27;standardscaler&#x27;, StandardScaler()),\n",
              "                                       (&#x27;lgbmclassifier&#x27;,\n",
              "                                        LGBMClassifier(random_state=42))]),\n",
              "             param_grid={&#x27;lgbmclassifier__class_weight&#x27;: [&#x27;balanced&#x27;, None],\n",
              "                         &#x27;lgbmclassifier__learning_rate&#x27;: [0.01, 0.1, 0.2],\n",
              "                         &#x27;lgbmclassifier__max_depth&#x27;: range(3, 12),\n",
              "                         &#x27;lgbmclassifier__num_leaves&#x27;: [8, 21, 31, 100, 1000]})</pre><b>Please rerun this cell to show the HTML repr or trust the notebook.</b></div><div class=\"sk-container\" hidden><div class=\"sk-item sk-dashed-wrapped\"><div class=\"sk-label-container\"><div class=\"sk-label sk-toggleable\"><input class=\"sk-toggleable__control sk-hidden--visually\" id=\"4852eafa-a0ff-4c47-b94d-28913cdd9457\" type=\"checkbox\" ><label for=\"4852eafa-a0ff-4c47-b94d-28913cdd9457\" class=\"sk-toggleable__label sk-toggleable__label-arrow\">GridSearchCV</label><div class=\"sk-toggleable__content\"><pre>GridSearchCV(estimator=Pipeline(steps=[(&#x27;columntransformer&#x27;,\n",
              "                                        ColumnTransformer(transformers=[(&#x27;onehotencoder&#x27;,\n",
              "                                                                         OneHotEncoder(handle_unknown=&#x27;ignore&#x27;,\n",
              "                                                                                       sparse=False),\n",
              "                                                                         &lt;sklearn.compose._column_transformer.make_column_selector object at 0x7f26faca2700&gt;),\n",
              "                                                                        (&#x27;simpleimputer&#x27;,\n",
              "                                                                         SimpleImputer(),\n",
              "                                                                         &lt;sklearn.compose._column_transformer.make_column_selector object at 0x7f26faca28b0&gt;)])),\n",
              "                                       (&#x27;standardscaler&#x27;, StandardScaler()),\n",
              "                                       (&#x27;lgbmclassifier&#x27;,\n",
              "                                        LGBMClassifier(random_state=42))]),\n",
              "             param_grid={&#x27;lgbmclassifier__class_weight&#x27;: [&#x27;balanced&#x27;, None],\n",
              "                         &#x27;lgbmclassifier__learning_rate&#x27;: [0.01, 0.1, 0.2],\n",
              "                         &#x27;lgbmclassifier__max_depth&#x27;: range(3, 12),\n",
              "                         &#x27;lgbmclassifier__num_leaves&#x27;: [8, 21, 31, 100, 1000]})</pre></div></div></div><div class=\"sk-parallel\"><div class=\"sk-parallel-item\"><div class=\"sk-item\"><div class=\"sk-serial\"><div class=\"sk-item\"><div class=\"sk-serial\"><div class=\"sk-item sk-dashed-wrapped\"><div class=\"sk-label-container\"><div class=\"sk-label sk-toggleable\"><input class=\"sk-toggleable__control sk-hidden--visually\" id=\"e959717a-07e6-470e-ad1e-9efa30fd1d2d\" type=\"checkbox\" ><label for=\"e959717a-07e6-470e-ad1e-9efa30fd1d2d\" class=\"sk-toggleable__label sk-toggleable__label-arrow\">columntransformer: ColumnTransformer</label><div class=\"sk-toggleable__content\"><pre>ColumnTransformer(transformers=[(&#x27;onehotencoder&#x27;,\n",
              "                                 OneHotEncoder(handle_unknown=&#x27;ignore&#x27;,\n",
              "                                               sparse=False),\n",
              "                                 &lt;sklearn.compose._column_transformer.make_column_selector object at 0x7f26faca2700&gt;),\n",
              "                                (&#x27;simpleimputer&#x27;, SimpleImputer(),\n",
              "                                 &lt;sklearn.compose._column_transformer.make_column_selector object at 0x7f26faca28b0&gt;)])</pre></div></div></div><div class=\"sk-parallel\"><div class=\"sk-parallel-item\"><div class=\"sk-item\"><div class=\"sk-label-container\"><div class=\"sk-label sk-toggleable\"><input class=\"sk-toggleable__control sk-hidden--visually\" id=\"66184db0-f5e3-4d4f-92a0-acbf0ed88454\" type=\"checkbox\" ><label for=\"66184db0-f5e3-4d4f-92a0-acbf0ed88454\" class=\"sk-toggleable__label sk-toggleable__label-arrow\">onehotencoder</label><div class=\"sk-toggleable__content\"><pre>&lt;sklearn.compose._column_transformer.make_column_selector object at 0x7f26faca2700&gt;</pre></div></div></div><div class=\"sk-serial\"><div class=\"sk-item\"><div class=\"sk-estimator sk-toggleable\"><input class=\"sk-toggleable__control sk-hidden--visually\" id=\"3279296b-9fc4-4b0e-a964-b1ead141d932\" type=\"checkbox\" ><label for=\"3279296b-9fc4-4b0e-a964-b1ead141d932\" class=\"sk-toggleable__label sk-toggleable__label-arrow\">OneHotEncoder</label><div class=\"sk-toggleable__content\"><pre>OneHotEncoder(handle_unknown=&#x27;ignore&#x27;, sparse=False)</pre></div></div></div></div></div></div><div class=\"sk-parallel-item\"><div class=\"sk-item\"><div class=\"sk-label-container\"><div class=\"sk-label sk-toggleable\"><input class=\"sk-toggleable__control sk-hidden--visually\" id=\"0bbaa95f-e4ba-4ef1-87a4-3b6ab09344ed\" type=\"checkbox\" ><label for=\"0bbaa95f-e4ba-4ef1-87a4-3b6ab09344ed\" class=\"sk-toggleable__label sk-toggleable__label-arrow\">simpleimputer</label><div class=\"sk-toggleable__content\"><pre>&lt;sklearn.compose._column_transformer.make_column_selector object at 0x7f26faca28b0&gt;</pre></div></div></div><div class=\"sk-serial\"><div class=\"sk-item\"><div class=\"sk-estimator sk-toggleable\"><input class=\"sk-toggleable__control sk-hidden--visually\" id=\"2b528a2e-f7d9-4f9a-8389-aaff23a75c97\" type=\"checkbox\" ><label for=\"2b528a2e-f7d9-4f9a-8389-aaff23a75c97\" class=\"sk-toggleable__label sk-toggleable__label-arrow\">SimpleImputer</label><div class=\"sk-toggleable__content\"><pre>SimpleImputer()</pre></div></div></div></div></div></div></div></div><div class=\"sk-item\"><div class=\"sk-estimator sk-toggleable\"><input class=\"sk-toggleable__control sk-hidden--visually\" id=\"c07f733b-0ca8-4f74-b3c7-c7e3239506b1\" type=\"checkbox\" ><label for=\"c07f733b-0ca8-4f74-b3c7-c7e3239506b1\" class=\"sk-toggleable__label sk-toggleable__label-arrow\">StandardScaler</label><div class=\"sk-toggleable__content\"><pre>StandardScaler()</pre></div></div></div><div class=\"sk-item\"><div class=\"sk-estimator sk-toggleable\"><input class=\"sk-toggleable__control sk-hidden--visually\" id=\"3829a354-9e99-40eb-9045-55dad2176c0c\" type=\"checkbox\" ><label for=\"3829a354-9e99-40eb-9045-55dad2176c0c\" class=\"sk-toggleable__label sk-toggleable__label-arrow\">LGBMClassifier</label><div class=\"sk-toggleable__content\"><pre>LGBMClassifier(random_state=42)</pre></div></div></div></div></div></div></div></div></div></div></div></div>"
            ]
          },
          "metadata": {},
          "execution_count": 71
        }
      ],
      "source": [
        "#fit the GridSearchCV object on the training data\n",
        "lgbm_grid_search.fit(X_train, y_train)"
      ]
    },
    {
      "cell_type": "code",
      "execution_count": 72,
      "metadata": {
        "id": "rmeKlHERP3Hf",
        "colab": {
          "base_uri": "https://localhost:8080/"
        },
        "outputId": "d0c6b7ea-5842-4f97-eb1d-9359d204a8a2"
      },
      "outputs": [
        {
          "output_type": "stream",
          "name": "stdout",
          "text": [
            "Best LightGBMClassifier Parameters:\n",
            "{'lgbmclassifier__class_weight': None, 'lgbmclassifier__learning_rate': 0.01, 'lgbmclassifier__max_depth': 3, 'lgbmclassifier__num_leaves': 8}\n",
            "Accuracy of best LGBMClassifier model is: 0.9514866979655712\n"
          ]
        }
      ],
      "source": [
        "#find the best parameters\n",
        "print('Best LightGBMClassifier Parameters:')\n",
        "print(lgbm_grid_search.best_params_)\n",
        "best_lgbm = lgbm_grid_search.best_estimator_\n",
        "print(f'Accuracy of best LGBMClassifier model is: {best_lgbm.score(X_test, y_test)}')"
      ]
    },
    {
      "cell_type": "markdown",
      "metadata": {
        "id": "ZAe-53KjQ6Tx"
      },
      "source": [
        "### Final LightGBM Model Evaluation"
      ]
    },
    {
      "cell_type": "code",
      "execution_count": 73,
      "metadata": {
        "id": "PSFBFVlfRElv",
        "colab": {
          "base_uri": "https://localhost:8080/"
        },
        "outputId": "feb55fda-32af-435b-e743-26e5d9fb0586"
      },
      "outputs": [
        {
          "output_type": "stream",
          "name": "stdout",
          "text": [
            "0.9512004175365344\n",
            "0.9514866979655712\n"
          ]
        }
      ],
      "source": [
        "#instantiate the tuned model\n",
        "lgbm_tuned = LGBMClassifier(class_weight = None, learning_rate = 0.01, max_depth = 3, num_leaves = 8, random_state = 42)\n",
        "#create the tuned model pipeline\n",
        "lgbm_tuned_pipe = make_pipeline(preprocessor, scaler, lgbm_tuned)\n",
        "#fit the tuned model pipeline on the training data\n",
        "lgbm_tuned_pipe.fit(X_train, y_train)\n",
        "#make predictions\n",
        "train_preds_lgbm_tuned = lgbm_tuned_pipe.predict(X_train)\n",
        "test_preds_lgbm_tuned = lgbm_tuned_pipe.predict(X_test)\n",
        "#evaluate the model's performance\n",
        "print(lgbm_tuned_pipe.score(X_train, y_train))\n",
        "print(lgbm_tuned_pipe.score(X_test, y_test))"
      ]
    },
    {
      "cell_type": "markdown",
      "metadata": {
        "id": "_lrlwxTHSHsb"
      },
      "source": [
        "  - Tuning the LightGBMClassifier increased the accuracy on the test set."
      ]
    },
    {
      "cell_type": "code",
      "execution_count": 74,
      "metadata": {
        "id": "D9ErN1aQR-Fv",
        "colab": {
          "base_uri": "https://localhost:8080/",
          "height": 301
        },
        "outputId": "45cc15d8-2698-4344-ce43-3d46cc8de1c5"
      },
      "outputs": [
        {
          "output_type": "stream",
          "name": "stdout",
          "text": [
            "LightGBM Confusion Matrix\n"
          ]
        },
        {
          "output_type": "display_data",
          "data": {
            "text/plain": [
              "<Figure size 432x288 with 2 Axes>"
            ],
            "image/png": "[encoded data removed]"
          },
          "metadata": {
            "needs_background": "light"
          }
        }
      ],
      "source": [
        "print('LightGBM Confusion Matrix')\n",
        "ConfusionMatrixDisplay.from_predictions(y_test, test_preds_lgbm_tuned, display_labels = labels, cmap = 'Purples', normalize = 'true');"
      ]
    },
    {
      "cell_type": "markdown",
      "metadata": {
        "id": "MSM9l0iZ48-P"
      },
      "source": [
        "  - The tuned LightGBM successfully classified 100% of the no stroke samples but 0% of the stroke samples."
      ]
    },
    {
      "cell_type": "code",
      "execution_count": 75,
      "metadata": {
        "id": "PlZDeTizSfff",
        "colab": {
          "base_uri": "https://localhost:8080/"
        },
        "outputId": "aaae65bc-5874-4912-c43e-a8da05b37527"
      },
      "outputs": [
        {
          "output_type": "stream",
          "name": "stdout",
          "text": [
            "LightGBM Classification Report\n",
            "              precision    recall  f1-score   support\n",
            "\n",
            "           0       0.95      1.00      0.98      1216\n",
            "           1       0.00      0.00      0.00        62\n",
            "\n",
            "    accuracy                           0.95      1278\n",
            "   macro avg       0.48      0.50      0.49      1278\n",
            "weighted avg       0.91      0.95      0.93      1278\n",
            "\n"
          ]
        },
        {
          "output_type": "stream",
          "name": "stderr",
          "text": [
            "/usr/local/lib/python3.8/dist-packages/sklearn/metrics/_classification.py:1318: UndefinedMetricWarning: Precision and F-score are ill-defined and being set to 0.0 in labels with no predicted samples. Use `zero_division` parameter to control this behavior.\n",
            "  _warn_prf(average, modifier, msg_start, len(result))\n",
            "/usr/local/lib/python3.8/dist-packages/sklearn/metrics/_classification.py:1318: UndefinedMetricWarning: Precision and F-score are ill-defined and being set to 0.0 in labels with no predicted samples. Use `zero_division` parameter to control this behavior.\n",
            "  _warn_prf(average, modifier, msg_start, len(result))\n",
            "/usr/local/lib/python3.8/dist-packages/sklearn/metrics/_classification.py:1318: UndefinedMetricWarning: Precision and F-score are ill-defined and being set to 0.0 in labels with no predicted samples. Use `zero_division` parameter to control this behavior.\n",
            "  _warn_prf(average, modifier, msg_start, len(result))\n"
          ]
        }
      ],
      "source": [
        "print('LightGBM Classification Report')\n",
        "print(classification_report(y_test, test_preds_lgbm_tuned))"
      ]
    },
    {
      "cell_type": "markdown",
      "metadata": {
        "id": "dnnN2NwmS31I"
      },
      "source": [
        "  - The tuned LightGBM was 95% accurate for making correct predictions on the test set.\n",
        "  - The tuned LightGBM was 95% sensitive and 100% specific for predicting the no stroke class.\n",
        "  - However, the tuned LightGBM was 0% sensitive and 0% specific for predicting the stroke class.\n",
        "  - The tuned LightGBM had f1-scores of 98% for the no stroke class, and, again, 0% for the stroke class."
      ]
    },
    {
      "cell_type": "markdown",
      "metadata": {
        "id": "y4KEH4M0OdYt"
      },
      "source": [
        "The target class imbalance also limits this model's predictions of the stroke class."
      ]
    },
    {
      "cell_type": "markdown",
      "metadata": {
        "id": "GIazEH1qTcTB"
      },
      "source": [
        "#### LightGBM with SMOTE"
      ]
    },
    {
      "cell_type": "code",
      "execution_count": 76,
      "metadata": {
        "id": "a6RKGW-2SsVJ",
        "colab": {
          "base_uri": "https://localhost:8080/"
        },
        "outputId": "21b7e587-cd31-40b2-9f41-7fbd26404d27"
      },
      "outputs": [
        {
          "output_type": "stream",
          "name": "stdout",
          "text": [
            "0.9770354906054279\n",
            "0.9225352112676056\n"
          ]
        }
      ],
      "source": [
        "#instantiate SMOTE and LGBMClassifier\n",
        "smote = SMOTE(random_state=42)\n",
        "lgbm_smote = LGBMClassifier(random_state=42)\n",
        "#create a model pipeline\n",
        "lgbm_smote_pipe = make_sampler_pipeline(preprocessor, scaler, smote, lgbm_smote)\n",
        "#fit the model pipeline on the training data\n",
        "lgbm_smote_pipe.fit(X_train, y_train)\n",
        "#evaluate the model's performance\n",
        "print(lgbm_smote_pipe.score(X_train, y_train))\n",
        "print(lgbm_smote_pipe.score(X_test, y_test))"
      ]
    },
    {
      "cell_type": "markdown",
      "metadata": {
        "id": "usHb_34sUg8h"
      },
      "source": [
        "#### Tuning hyperparameters using GridSearchCV"
      ]
    },
    {
      "cell_type": "code",
      "execution_count": 77,
      "metadata": {
        "id": "O-YjBrf6UYqv",
        "colab": {
          "base_uri": "https://localhost:8080/"
        },
        "outputId": "0c818691-485f-40d8-a6ad-c31462eafdb5"
      },
      "outputs": [
        {
          "output_type": "execute_result",
          "data": {
            "text/plain": [
              "{'memory': None,\n",
              " 'steps': [('columntransformer',\n",
              "   ColumnTransformer(transformers=[('onehotencoder',\n",
              "                                    OneHotEncoder(handle_unknown='ignore',\n",
              "                                                  sparse=False),\n",
              "                                    <sklearn.compose._column_transformer.make_column_selector object at 0x7f26faca2700>),\n",
              "                                   ('simpleimputer', SimpleImputer(),\n",
              "                                    <sklearn.compose._column_transformer.make_column_selector object at 0x7f26faca28b0>)])),\n",
              "  ('standardscaler', StandardScaler()),\n",
              "  ('smote', SMOTE(random_state=42)),\n",
              "  ('lgbmclassifier', LGBMClassifier(random_state=42))],\n",
              " 'verbose': False,\n",
              " 'columntransformer': ColumnTransformer(transformers=[('onehotencoder',\n",
              "                                  OneHotEncoder(handle_unknown='ignore',\n",
              "                                                sparse=False),\n",
              "                                  <sklearn.compose._column_transformer.make_column_selector object at 0x7f26faca2700>),\n",
              "                                 ('simpleimputer', SimpleImputer(),\n",
              "                                  <sklearn.compose._column_transformer.make_column_selector object at 0x7f26faca28b0>)]),\n",
              " 'standardscaler': StandardScaler(),\n",
              " 'smote': SMOTE(random_state=42),\n",
              " 'lgbmclassifier': LGBMClassifier(random_state=42),\n",
              " 'columntransformer__n_jobs': None,\n",
              " 'columntransformer__remainder': 'drop',\n",
              " 'columntransformer__sparse_threshold': 0.3,\n",
              " 'columntransformer__transformer_weights': None,\n",
              " 'columntransformer__transformers': [('onehotencoder',\n",
              "   OneHotEncoder(handle_unknown='ignore', sparse=False),\n",
              "   <sklearn.compose._column_transformer.make_column_selector at 0x7f26faca2700>),\n",
              "  ('simpleimputer',\n",
              "   SimpleImputer(),\n",
              "   <sklearn.compose._column_transformer.make_column_selector at 0x7f26faca28b0>)],\n",
              " 'columntransformer__verbose': False,\n",
              " 'columntransformer__verbose_feature_names_out': True,\n",
              " 'columntransformer__onehotencoder': OneHotEncoder(handle_unknown='ignore', sparse=False),\n",
              " 'columntransformer__simpleimputer': SimpleImputer(),\n",
              " 'columntransformer__onehotencoder__categories': 'auto',\n",
              " 'columntransformer__onehotencoder__drop': None,\n",
              " 'columntransformer__onehotencoder__dtype': numpy.float64,\n",
              " 'columntransformer__onehotencoder__handle_unknown': 'ignore',\n",
              " 'columntransformer__onehotencoder__sparse': False,\n",
              " 'columntransformer__simpleimputer__add_indicator': False,\n",
              " 'columntransformer__simpleimputer__copy': True,\n",
              " 'columntransformer__simpleimputer__fill_value': None,\n",
              " 'columntransformer__simpleimputer__missing_values': nan,\n",
              " 'columntransformer__simpleimputer__strategy': 'mean',\n",
              " 'columntransformer__simpleimputer__verbose': 0,\n",
              " 'standardscaler__copy': True,\n",
              " 'standardscaler__with_mean': True,\n",
              " 'standardscaler__with_std': True,\n",
              " 'smote__k_neighbors': 5,\n",
              " 'smote__n_jobs': None,\n",
              " 'smote__random_state': 42,\n",
              " 'smote__sampling_strategy': 'auto',\n",
              " 'lgbmclassifier__boosting_type': 'gbdt',\n",
              " 'lgbmclassifier__class_weight': None,\n",
              " 'lgbmclassifier__colsample_bytree': 1.0,\n",
              " 'lgbmclassifier__importance_type': 'split',\n",
              " 'lgbmclassifier__learning_rate': 0.1,\n",
              " 'lgbmclassifier__max_depth': -1,\n",
              " 'lgbmclassifier__min_child_samples': 20,\n",
              " 'lgbmclassifier__min_child_weight': 0.001,\n",
              " 'lgbmclassifier__min_split_gain': 0.0,\n",
              " 'lgbmclassifier__n_estimators': 100,\n",
              " 'lgbmclassifier__n_jobs': -1,\n",
              " 'lgbmclassifier__num_leaves': 31,\n",
              " 'lgbmclassifier__objective': None,\n",
              " 'lgbmclassifier__random_state': 42,\n",
              " 'lgbmclassifier__reg_alpha': 0.0,\n",
              " 'lgbmclassifier__reg_lambda': 0.0,\n",
              " 'lgbmclassifier__silent': True,\n",
              " 'lgbmclassifier__subsample': 1.0,\n",
              " 'lgbmclassifier__subsample_for_bin': 200000,\n",
              " 'lgbmclassifier__subsample_freq': 0}"
            ]
          },
          "metadata": {},
          "execution_count": 77
        }
      ],
      "source": [
        "#choose hyperparameters for tuning\n",
        "lgbm_smote_pipe.get_params()"
      ]
    },
    {
      "cell_type": "code",
      "execution_count": 78,
      "metadata": {
        "id": "U0kLn4YTUvoF"
      },
      "outputs": [],
      "source": [
        "#create a parameter grid dictionary\n",
        "lgbm_smote_param_grid = {'lgbmclassifier__num_leaves': [8, 21, 31, 100, 1000],\n",
        "               'lgbmclassifier__max_depth': range(3, 12),\n",
        "              'lgbmclassifier__learning_rate': [.01, 0.1, 0.2],\n",
        "              'lgbmclassifier__class_weight': ['balanced', None]}    "
      ]
    },
    {
      "cell_type": "code",
      "execution_count": 79,
      "metadata": {
        "id": "QVCUrmyOVFmy"
      },
      "outputs": [],
      "source": [
        "#instantiate the GridSearchCV object\n",
        "lgbm_smote_grid_search = GridSearchCV(lgbm_smote_pipe, lgbm_smote_param_grid)"
      ]
    },
    {
      "cell_type": "code",
      "execution_count": 80,
      "metadata": {
        "id": "hXfxm6lUVVha",
        "colab": {
          "base_uri": "https://localhost:8080/",
          "height": 263
        },
        "outputId": "4d428af0-c7c6-4dd1-d606-30d22ad14a64"
      },
      "outputs": [
        {
          "output_type": "execute_result",
          "data": {
            "text/plain": [
              "GridSearchCV(estimator=Pipeline(steps=[('columntransformer',\n",
              "                                        ColumnTransformer(transformers=[('onehotencoder',\n",
              "                                                                         OneHotEncoder(handle_unknown='ignore',\n",
              "                                                                                       sparse=False),\n",
              "                                                                         <sklearn.compose._column_transformer.make_column_selector object at 0x7f26faca2700>),\n",
              "                                                                        ('simpleimputer',\n",
              "                                                                         SimpleImputer(),\n",
              "                                                                         <sklearn.compose._column_transformer.make_column_selector object at 0x7f26faca28b0>)])),\n",
              "                                       ('standardscaler', StandardScaler()),\n",
              "                                       ('smote', SMOTE(random_state=42)),\n",
              "                                       ('lgbmclassifier',\n",
              "                                        LGBMClassifier(random_state=42))]),\n",
              "             param_grid={'lgbmclassifier__class_weight': ['balanced', None],\n",
              "                         'lgbmclassifier__learning_rate': [0.01, 0.1, 0.2],\n",
              "                         'lgbmclassifier__max_depth': range(3, 12),\n",
              "                         'lgbmclassifier__num_leaves': [8, 21, 31, 100, 1000]})"
            ],
            "text/html": [
              "<style>#sk-03a1b430-8f66-4793-b7f4-19f5d6530fb4 {color: black;background-color: white;}#sk-03a1b430-8f66-4793-b7f4-19f5d6530fb4 pre{padding: 0;}#sk-03a1b430-8f66-4793-b7f4-19f5d6530fb4 div.sk-toggleable {background-color: white;}#sk-03a1b430-8f66-4793-b7f4-19f5d6530fb4 label.sk-toggleable__label {cursor: pointer;display: block;width: 100%;margin-bottom: 0;padding: 0.3em;box-sizing: border-box;text-align: center;}#sk-03a1b430-8f66-4793-b7f4-19f5d6530fb4 label.sk-toggleable__label-arrow:before {content: \"▸\";float: left;margin-right: 0.25em;color: #696969;}#sk-03a1b430-8f66-4793-b7f4-19f5d6530fb4 label.sk-toggleable__label-arrow:hover:before {color: black;}#sk-03a1b430-8f66-4793-b7f4-19f5d6530fb4 div.sk-estimator:hover label.sk-toggleable__label-arrow:before {color: black;}#sk-03a1b430-8f66-4793-b7f4-19f5d6530fb4 div.sk-toggleable__content {max-height: 0;max-width: 0;overflow: hidden;text-align: left;background-color: #f0f8ff;}#sk-03a1b430-8f66-4793-b7f4-19f5d6530fb4 div.sk-toggleable__content pre {margin: 0.2em;color: black;border-radius: 0.25em;background-color: #f0f8ff;}#sk-03a1b430-8f66-4793-b7f4-19f5d6530fb4 input.sk-toggleable__control:checked~div.sk-toggleable__content {max-height: 200px;max-width: 100%;overflow: auto;}#sk-03a1b430-8f66-4793-b7f4-19f5d6530fb4 input.sk-toggleable__control:checked~label.sk-toggleable__label-arrow:before {content: \"▾\";}#sk-03a1b430-8f66-4793-b7f4-19f5d6530fb4 div.sk-estimator input.sk-toggleable__control:checked~label.sk-toggleable__label {background-color: #d4ebff;}#sk-03a1b430-8f66-4793-b7f4-19f5d6530fb4 div.sk-label input.sk-toggleable__control:checked~label.sk-toggleable__label {background-color: #d4ebff;}#sk-03a1b430-8f66-4793-b7f4-19f5d6530fb4 input.sk-hidden--visually {border: 0;clip: rect(1px 1px 1px 1px);clip: rect(1px, 1px, 1px, 1px);height: 1px;margin: -1px;overflow: hidden;padding: 0;position: absolute;width: 1px;}#sk-03a1b430-8f66-4793-b7f4-19f5d6530fb4 div.sk-estimator {font-family: monospace;background-color: #f0f8ff;border: 1px dotted black;border-radius: 0.25em;box-sizing: border-box;margin-bottom: 0.5em;}#sk-03a1b430-8f66-4793-b7f4-19f5d6530fb4 div.sk-estimator:hover {background-color: #d4ebff;}#sk-03a1b430-8f66-4793-b7f4-19f5d6530fb4 div.sk-parallel-item::after {content: \"\";width: 100%;border-bottom: 1px solid gray;flex-grow: 1;}#sk-03a1b430-8f66-4793-b7f4-19f5d6530fb4 div.sk-label:hover label.sk-toggleable__label {background-color: #d4ebff;}#sk-03a1b430-8f66-4793-b7f4-19f5d6530fb4 div.sk-serial::before {content: \"\";position: absolute;border-left: 1px solid gray;box-sizing: border-box;top: 2em;bottom: 0;left: 50%;}#sk-03a1b430-8f66-4793-b7f4-19f5d6530fb4 div.sk-serial {display: flex;flex-direction: column;align-items: center;background-color: white;padding-right: 0.2em;padding-left: 0.2em;}#sk-03a1b430-8f66-4793-b7f4-19f5d6530fb4 div.sk-item {z-index: 1;}#sk-03a1b430-8f66-4793-b7f4-19f5d6530fb4 div.sk-parallel {display: flex;align-items: stretch;justify-content: center;background-color: white;}#sk-03a1b430-8f66-4793-b7f4-19f5d6530fb4 div.sk-parallel::before {content: \"\";position: absolute;border-left: 1px solid gray;box-sizing: border-box;top: 2em;bottom: 0;left: 50%;}#sk-03a1b430-8f66-4793-b7f4-19f5d6530fb4 div.sk-parallel-item {display: flex;flex-direction: column;position: relative;background-color: white;}#sk-03a1b430-8f66-4793-b7f4-19f5d6530fb4 div.sk-parallel-item:first-child::after {align-self: flex-end;width: 50%;}#sk-03a1b430-8f66-4793-b7f4-19f5d6530fb4 div.sk-parallel-item:last-child::after {align-self: flex-start;width: 50%;}#sk-03a1b430-8f66-4793-b7f4-19f5d6530fb4 div.sk-parallel-item:only-child::after {width: 0;}#sk-03a1b430-8f66-4793-b7f4-19f5d6530fb4 div.sk-dashed-wrapped {border: 1px dashed gray;margin: 0 0.4em 0.5em 0.4em;box-sizing: border-box;padding-bottom: 0.4em;background-color: white;position: relative;}#sk-03a1b430-8f66-4793-b7f4-19f5d6530fb4 div.sk-label label {font-family: monospace;font-weight: bold;background-color: white;display: inline-block;line-height: 1.2em;}#sk-03a1b430-8f66-4793-b7f4-19f5d6530fb4 div.sk-label-container {position: relative;z-index: 2;text-align: center;}#sk-03a1b430-8f66-4793-b7f4-19f5d6530fb4 div.sk-container {/* jupyter's `normalize.less` sets `[hidden] { display: none; }` but bootstrap.min.css set `[hidden] { display: none !important; }` so we also need the `!important` here to be able to override the default hidden behavior on the sphinx rendered scikit-learn.org. See: https://github.com/scikit-learn/scikit-learn/issues/21755 */display: inline-block !important;position: relative;}#sk-03a1b430-8f66-4793-b7f4-19f5d6530fb4 div.sk-text-repr-fallback {display: none;}</style><div id=\"sk-03a1b430-8f66-4793-b7f4-19f5d6530fb4\" class=\"sk-top-container\"><div class=\"sk-text-repr-fallback\"><pre>GridSearchCV(estimator=Pipeline(steps=[(&#x27;columntransformer&#x27;,\n",
              "                                        ColumnTransformer(transformers=[(&#x27;onehotencoder&#x27;,\n",
              "                                                                         OneHotEncoder(handle_unknown=&#x27;ignore&#x27;,\n",
              "                                                                                       sparse=False),\n",
              "                                                                         &lt;sklearn.compose._column_transformer.make_column_selector object at 0x7f26faca2700&gt;),\n",
              "                                                                        (&#x27;simpleimputer&#x27;,\n",
              "                                                                         SimpleImputer(),\n",
              "                                                                         &lt;sklearn.compose._column_transformer.make_column_selector object at 0x7f26faca28b0&gt;)])),\n",
              "                                       (&#x27;standardscaler&#x27;, StandardScaler()),\n",
              "                                       (&#x27;smote&#x27;, SMOTE(random_state=42)),\n",
              "                                       (&#x27;lgbmclassifier&#x27;,\n",
              "                                        LGBMClassifier(random_state=42))]),\n",
              "             param_grid={&#x27;lgbmclassifier__class_weight&#x27;: [&#x27;balanced&#x27;, None],\n",
              "                         &#x27;lgbmclassifier__learning_rate&#x27;: [0.01, 0.1, 0.2],\n",
              "                         &#x27;lgbmclassifier__max_depth&#x27;: range(3, 12),\n",
              "                         &#x27;lgbmclassifier__num_leaves&#x27;: [8, 21, 31, 100, 1000]})</pre><b>Please rerun this cell to show the HTML repr or trust the notebook.</b></div><div class=\"sk-container\" hidden><div class=\"sk-item sk-dashed-wrapped\"><div class=\"sk-label-container\"><div class=\"sk-label sk-toggleable\"><input class=\"sk-toggleable__control sk-hidden--visually\" id=\"50cee789-5b01-4183-8593-c636d85c1d7d\" type=\"checkbox\" ><label for=\"50cee789-5b01-4183-8593-c636d85c1d7d\" class=\"sk-toggleable__label sk-toggleable__label-arrow\">GridSearchCV</label><div class=\"sk-toggleable__content\"><pre>GridSearchCV(estimator=Pipeline(steps=[(&#x27;columntransformer&#x27;,\n",
              "                                        ColumnTransformer(transformers=[(&#x27;onehotencoder&#x27;,\n",
              "                                                                         OneHotEncoder(handle_unknown=&#x27;ignore&#x27;,\n",
              "                                                                                       sparse=False),\n",
              "                                                                         &lt;sklearn.compose._column_transformer.make_column_selector object at 0x7f26faca2700&gt;),\n",
              "                                                                        (&#x27;simpleimputer&#x27;,\n",
              "                                                                         SimpleImputer(),\n",
              "                                                                         &lt;sklearn.compose._column_transformer.make_column_selector object at 0x7f26faca28b0&gt;)])),\n",
              "                                       (&#x27;standardscaler&#x27;, StandardScaler()),\n",
              "                                       (&#x27;smote&#x27;, SMOTE(random_state=42)),\n",
              "                                       (&#x27;lgbmclassifier&#x27;,\n",
              "                                        LGBMClassifier(random_state=42))]),\n",
              "             param_grid={&#x27;lgbmclassifier__class_weight&#x27;: [&#x27;balanced&#x27;, None],\n",
              "                         &#x27;lgbmclassifier__learning_rate&#x27;: [0.01, 0.1, 0.2],\n",
              "                         &#x27;lgbmclassifier__max_depth&#x27;: range(3, 12),\n",
              "                         &#x27;lgbmclassifier__num_leaves&#x27;: [8, 21, 31, 100, 1000]})</pre></div></div></div><div class=\"sk-parallel\"><div class=\"sk-parallel-item\"><div class=\"sk-item\"><div class=\"sk-serial\"><div class=\"sk-item\"><div class=\"sk-serial\"><div class=\"sk-item sk-dashed-wrapped\"><div class=\"sk-label-container\"><div class=\"sk-label sk-toggleable\"><input class=\"sk-toggleable__control sk-hidden--visually\" id=\"4445cc7c-855c-4faa-893b-3ad5c73f94a3\" type=\"checkbox\" ><label for=\"4445cc7c-855c-4faa-893b-3ad5c73f94a3\" class=\"sk-toggleable__label sk-toggleable__label-arrow\">columntransformer: ColumnTransformer</label><div class=\"sk-toggleable__content\"><pre>ColumnTransformer(transformers=[(&#x27;onehotencoder&#x27;,\n",
              "                                 OneHotEncoder(handle_unknown=&#x27;ignore&#x27;,\n",
              "                                               sparse=False),\n",
              "                                 &lt;sklearn.compose._column_transformer.make_column_selector object at 0x7f26faca2700&gt;),\n",
              "                                (&#x27;simpleimputer&#x27;, SimpleImputer(),\n",
              "                                 &lt;sklearn.compose._column_transformer.make_column_selector object at 0x7f26faca28b0&gt;)])</pre></div></div></div><div class=\"sk-parallel\"><div class=\"sk-parallel-item\"><div class=\"sk-item\"><div class=\"sk-label-container\"><div class=\"sk-label sk-toggleable\"><input class=\"sk-toggleable__control sk-hidden--visually\" id=\"cf68cd8b-cdea-497f-92ba-e5c5643b83df\" type=\"checkbox\" ><label for=\"cf68cd8b-cdea-497f-92ba-e5c5643b83df\" class=\"sk-toggleable__label sk-toggleable__label-arrow\">onehotencoder</label><div class=\"sk-toggleable__content\"><pre>&lt;sklearn.compose._column_transformer.make_column_selector object at 0x7f26faca2700&gt;</pre></div></div></div><div class=\"sk-serial\"><div class=\"sk-item\"><div class=\"sk-estimator sk-toggleable\"><input class=\"sk-toggleable__control sk-hidden--visually\" id=\"618bc867-d78d-4acf-ba73-c6e72c5cbc55\" type=\"checkbox\" ><label for=\"618bc867-d78d-4acf-ba73-c6e72c5cbc55\" class=\"sk-toggleable__label sk-toggleable__label-arrow\">OneHotEncoder</label><div class=\"sk-toggleable__content\"><pre>OneHotEncoder(handle_unknown=&#x27;ignore&#x27;, sparse=False)</pre></div></div></div></div></div></div><div class=\"sk-parallel-item\"><div class=\"sk-item\"><div class=\"sk-label-container\"><div class=\"sk-label sk-toggleable\"><input class=\"sk-toggleable__control sk-hidden--visually\" id=\"df140820-12fe-4643-9974-3d466e4fc861\" type=\"checkbox\" ><label for=\"df140820-12fe-4643-9974-3d466e4fc861\" class=\"sk-toggleable__label sk-toggleable__label-arrow\">simpleimputer</label><div class=\"sk-toggleable__content\"><pre>&lt;sklearn.compose._column_transformer.make_column_selector object at 0x7f26faca28b0&gt;</pre></div></div></div><div class=\"sk-serial\"><div class=\"sk-item\"><div class=\"sk-estimator sk-toggleable\"><input class=\"sk-toggleable__control sk-hidden--visually\" id=\"98373fee-e636-4eee-9123-5539516f7e12\" type=\"checkbox\" ><label for=\"98373fee-e636-4eee-9123-5539516f7e12\" class=\"sk-toggleable__label sk-toggleable__label-arrow\">SimpleImputer</label><div class=\"sk-toggleable__content\"><pre>SimpleImputer()</pre></div></div></div></div></div></div></div></div><div class=\"sk-item\"><div class=\"sk-estimator sk-toggleable\"><input class=\"sk-toggleable__control sk-hidden--visually\" id=\"34ec63fe-0e31-4c47-bc85-de51a9e19b4f\" type=\"checkbox\" ><label for=\"34ec63fe-0e31-4c47-bc85-de51a9e19b4f\" class=\"sk-toggleable__label sk-toggleable__label-arrow\">StandardScaler</label><div class=\"sk-toggleable__content\"><pre>StandardScaler()</pre></div></div></div><div class=\"sk-item\"><div class=\"sk-estimator sk-toggleable\"><input class=\"sk-toggleable__control sk-hidden--visually\" id=\"1c01fd41-edad-4290-91c0-3237bfa2c7ad\" type=\"checkbox\" ><label for=\"1c01fd41-edad-4290-91c0-3237bfa2c7ad\" class=\"sk-toggleable__label sk-toggleable__label-arrow\">SMOTE</label><div class=\"sk-toggleable__content\"><pre>SMOTE(random_state=42)</pre></div></div></div><div class=\"sk-item\"><div class=\"sk-estimator sk-toggleable\"><input class=\"sk-toggleable__control sk-hidden--visually\" id=\"e48ff353-cb44-4802-a58c-43c5a89b07c5\" type=\"checkbox\" ><label for=\"e48ff353-cb44-4802-a58c-43c5a89b07c5\" class=\"sk-toggleable__label sk-toggleable__label-arrow\">LGBMClassifier</label><div class=\"sk-toggleable__content\"><pre>LGBMClassifier(random_state=42)</pre></div></div></div></div></div></div></div></div></div></div></div></div>"
            ]
          },
          "metadata": {},
          "execution_count": 80
        }
      ],
      "source": [
        "#fit the GridSearchCV object on the training data\n",
        "lgbm_smote_grid_search.fit(X_train, y_train)"
      ]
    },
    {
      "cell_type": "code",
      "execution_count": 81,
      "metadata": {
        "id": "k7LVMiJ5Vc_Z",
        "colab": {
          "base_uri": "https://localhost:8080/"
        },
        "outputId": "752c50ce-ac97-4e92-aec9-5c465a4a4479"
      },
      "outputs": [
        {
          "output_type": "stream",
          "name": "stdout",
          "text": [
            "Best LightGBMClassifier with SMOTE Parameters:\n",
            "{'lgbmclassifier__class_weight': 'balanced', 'lgbmclassifier__learning_rate': 0.2, 'lgbmclassifier__max_depth': 11, 'lgbmclassifier__num_leaves': 31}\n",
            "Accuracy of best LGBMClassifier model with SMOTE is: 0.9287949921752738\n"
          ]
        }
      ],
      "source": [
        "#find the best parameters\n",
        "print('Best LightGBMClassifier with SMOTE Parameters:')\n",
        "print(lgbm_smote_grid_search.best_params_)\n",
        "best_lgbm_smote = lgbm_smote_grid_search.best_estimator_\n",
        "print(f'Accuracy of best LGBMClassifier model with SMOTE is: {best_lgbm_smote.score(X_test, y_test)}')"
      ]
    },
    {
      "cell_type": "markdown",
      "metadata": {
        "id": "Y0lPO4lcV6mj"
      },
      "source": [
        "### Final LightGBM Model with SMOTE Evaluation"
      ]
    },
    {
      "cell_type": "code",
      "execution_count": 82,
      "metadata": {
        "id": "yWEgGfBIWGRs",
        "colab": {
          "base_uri": "https://localhost:8080/"
        },
        "outputId": "150e4035-d075-4aae-cdbd-ffc98be1ba57"
      },
      "outputs": [
        {
          "output_type": "stream",
          "name": "stdout",
          "text": [
            "0.997651356993737\n",
            "0.9287949921752738\n"
          ]
        }
      ],
      "source": [
        "#instantiate the tuned model\n",
        "lgbm_smote_tuned = LGBMClassifier(class_weight = 'balanced', learning_rate = 0.2, max_depth = 11, num_leaves = 31, random_state = 42)\n",
        "#create the tuned model pipeline\n",
        "lgbm_smote_tuned_pipe = make_sampler_pipeline(preprocessor, scaler, smote, lgbm_smote_tuned)\n",
        "#fit the tuned model pipeline on the training data\n",
        "lgbm_smote_tuned_pipe.fit(X_train, y_train)\n",
        "#make predictions\n",
        "train_preds_lgbm_smote_tuned = lgbm_smote_tuned_pipe.predict(X_train)\n",
        "test_preds_lgbm_smote_tuned = lgbm_smote_tuned_pipe.predict(X_test)\n",
        "#evaluate the model's performance\n",
        "print(lgbm_smote_tuned_pipe.score(X_train, y_train))\n",
        "print(lgbm_smote_tuned_pipe.score(X_test, y_test))"
      ]
    },
    {
      "cell_type": "markdown",
      "metadata": {
        "id": "5inpY24vWpaq"
      },
      "source": [
        "  - Tuning the LightGBM with SMOTE increased the accuracy on the test set."
      ]
    },
    {
      "cell_type": "code",
      "execution_count": 83,
      "metadata": {
        "id": "QtnR-RRsYLhm",
        "colab": {
          "base_uri": "https://localhost:8080/",
          "height": 297
        },
        "outputId": "7b137c3e-6827-40e7-a356-763938e67933"
      },
      "outputs": [
        {
          "output_type": "stream",
          "name": "stdout",
          "text": [
            "LightGBM with SMOTE Confusion Matrix\n"
          ]
        },
        {
          "output_type": "display_data",
          "data": {
            "text/plain": [
              "<Figure size 432x288 with 2 Axes>"
            ],
            "image/png": "[encoded data removed]"
          },
          "metadata": {
            "needs_background": "light"
          }
        }
      ],
      "source": [
        "print('LightGBM with SMOTE Confusion Matrix')\n",
        "ConfusionMatrixDisplay.from_predictions(y_test, test_preds_lgbm_smote_tuned, display_labels = labels, cmap = 'Purples', normalize = 'true');"
      ]
    },
    {
      "cell_type": "markdown",
      "metadata": {
        "id": "GqGyqCl5Ykj9"
      },
      "source": [
        "  - The tuned LightGBM with SMOTE successfully classified 97% of the no stroke samples (less than the tuned LightGBM without SMOTE) and 6.5% of the stroke samples (more than the tuned LightGBM without SMOTE)."
      ]
    },
    {
      "cell_type": "code",
      "execution_count": 84,
      "metadata": {
        "id": "NB5WpPm7YeI5",
        "colab": {
          "base_uri": "https://localhost:8080/"
        },
        "outputId": "e1339bf5-df20-41b0-cb25-a6a5bd46b1ab"
      },
      "outputs": [
        {
          "output_type": "stream",
          "name": "stdout",
          "text": [
            "LightGBM with SMOTE Classification Report\n",
            "              precision    recall  f1-score   support\n",
            "\n",
            "           0       0.95      0.97      0.96      1216\n",
            "           1       0.11      0.06      0.08        62\n",
            "\n",
            "    accuracy                           0.93      1278\n",
            "   macro avg       0.53      0.52      0.52      1278\n",
            "weighted avg       0.91      0.93      0.92      1278\n",
            "\n"
          ]
        }
      ],
      "source": [
        "print('LightGBM with SMOTE Classification Report')\n",
        "print(classification_report(y_test, test_preds_lgbm_smote_tuned))"
      ]
    },
    {
      "cell_type": "markdown",
      "metadata": {
        "id": "s8901LlZZMSy"
      },
      "source": [
        "  - The tuned LightGBM with SMOTE was 93% accurate for making correct predictions on the test set (lower than the tuned LightGBM without SMOTE).\n",
        "  - The tuned LightGBM with SMOTE was 95% sensitive (the same as the tuned LightGBM without SMOTE) and 97% specific for predicting the no stroke class (less than the tuned LightGBM without SMOTE).\n",
        "  - The tuned LightGBM with SMOTE was 11% sensitive and 6% specific for predicting the stroke class (higher than the tuned LightGBM without SMOTE).\n",
        "  - The tuned LightGBM had f1-scores of 96% for the no stroke class (lower than the tuned LightGBM without SMOTE) and 8% for the stroke class (higher than the tuned LightGBM without SMOTE).\n",
        "\n",
        "Using SMOTE helped the LightGBM predict the stroke class."
      ]
    },
    {
      "cell_type": "markdown",
      "metadata": {
        "id": "VKrIE3D7anzh"
      },
      "source": [
        "  - The tuned Random Forest Classifier with SMOTE had higher accuracy for making correct predictions on the test set.\n",
        "  - The tuned LightGBM with SMOTE had the same sensitivity for predicting the no stroke class.  However, the tuned Random Forest Classifier with SMOTE had higher specificity for predicting the no stroke class.  \n",
        "**The tuned LightGBM with SMOTE had more false positives.**\n",
        "  - The tuned Random Forest Classifier with SMOTE had higher sensitivity and specificity for predicting the stroke class.  \n",
        "**The tuned Random Forest Classifier with SMOTE had more false negatives.**\n",
        "  - The tuned Random Forest Classifier with SMOTE had higher f1-scores for the no stroke class and the same f1-scores for the stroke class."
      ]
    },
    {
      "cell_type": "markdown",
      "metadata": {
        "id": "MF2wAxEWO28H"
      },
      "source": [
        "Because of the class imbalance, the final model must predict well for the stroke class--the tuned LightGBM with SMOTE was better at predicting the stroke class.\n",
        "\n",
        "Because of the high cost of false negatives (predicting no stroke when, in fact, there will be a stroke), these errors must be reduced--the tuned LightGBM with SMOTE had a lower false negative rate."
      ]
    },
    {
      "cell_type": "markdown",
      "metadata": {
        "id": "pJWtKvQH_BKb"
      },
      "source": [
        "## Principal Component Analysis"
      ]
    },
    {
      "cell_type": "markdown",
      "metadata": {
        "id": "9l9rP5EM_RJq"
      },
      "source": [
        "### Prepare the data"
      ]
    },
    {
      "cell_type": "markdown",
      "metadata": {
        "id": "ixH4hJ6M_TRw"
      },
      "source": [
        "#### Create a copy of the data"
      ]
    },
    {
      "cell_type": "code",
      "execution_count": 85,
      "metadata": {
        "id": "oop5fwxC_EQV"
      },
      "outputs": [],
      "source": [
        "pca_df = df.copy()"
      ]
    },
    {
      "cell_type": "markdown",
      "metadata": {
        "id": "p03ctN0M_eDY"
      },
      "source": [
        "#### Separate the data into the features matrix (X) and target vector (y)"
      ]
    },
    {
      "cell_type": "code",
      "execution_count": 86,
      "metadata": {
        "id": "I1j1eGUU_tJD"
      },
      "outputs": [],
      "source": [
        "X = pca_df.drop(columns = 'stroke')\n",
        "y = pca_df['stroke']"
      ]
    },
    {
      "cell_type": "markdown",
      "metadata": {
        "id": "e-4STBDJ_z4g"
      },
      "source": [
        "#### Train test split the data (model validation)"
      ]
    },
    {
      "cell_type": "code",
      "execution_count": 87,
      "metadata": {
        "id": "0aMBoq1XALyO"
      },
      "outputs": [],
      "source": [
        "X_train, X_test, y_train, y_test = train_test_split(X, y, stratify = y, random_state = 42)"
      ]
    },
    {
      "cell_type": "markdown",
      "metadata": {
        "id": "QFOZd1Z2APZL"
      },
      "source": [
        "#### Preprocessor"
      ]
    },
    {
      "cell_type": "code",
      "execution_count": 88,
      "metadata": {
        "id": "v-xt9s-oAbWz",
        "colab": {
          "base_uri": "https://localhost:8080/",
          "height": 118
        },
        "outputId": "69e81472-ad97-4019-dbd6-0dd5e64ca42f"
      },
      "outputs": [
        {
          "output_type": "execute_result",
          "data": {
            "text/plain": [
              "ColumnTransformer(transformers=[('onehotencoder',\n",
              "                                 OneHotEncoder(handle_unknown='ignore',\n",
              "                                               sparse=False),\n",
              "                                 <sklearn.compose._column_transformer.make_column_selector object at 0x7f26fab698b0>),\n",
              "                                ('simpleimputer', SimpleImputer(),\n",
              "                                 <sklearn.compose._column_transformer.make_column_selector object at 0x7f26fab69bb0>)])"
            ],
            "text/html": [
              "<style>#sk-4dc716d9-8110-4949-a711-9f97b123da50 {color: black;background-color: white;}#sk-4dc716d9-8110-4949-a711-9f97b123da50 pre{padding: 0;}#sk-4dc716d9-8110-4949-a711-9f97b123da50 div.sk-toggleable {background-color: white;}#sk-4dc716d9-8110-4949-a711-9f97b123da50 label.sk-toggleable__label {cursor: pointer;display: block;width: 100%;margin-bottom: 0;padding: 0.3em;box-sizing: border-box;text-align: center;}#sk-4dc716d9-8110-4949-a711-9f97b123da50 label.sk-toggleable__label-arrow:before {content: \"▸\";float: left;margin-right: 0.25em;color: #696969;}#sk-4dc716d9-8110-4949-a711-9f97b123da50 label.sk-toggleable__label-arrow:hover:before {color: black;}#sk-4dc716d9-8110-4949-a711-9f97b123da50 div.sk-estimator:hover label.sk-toggleable__label-arrow:before {color: black;}#sk-4dc716d9-8110-4949-a711-9f97b123da50 div.sk-toggleable__content {max-height: 0;max-width: 0;overflow: hidden;text-align: left;background-color: #f0f8ff;}#sk-4dc716d9-8110-4949-a711-9f97b123da50 div.sk-toggleable__content pre {margin: 0.2em;color: black;border-radius: 0.25em;background-color: #f0f8ff;}#sk-4dc716d9-8110-4949-a711-9f97b123da50 input.sk-toggleable__control:checked~div.sk-toggleable__content {max-height: 200px;max-width: 100%;overflow: auto;}#sk-4dc716d9-8110-4949-a711-9f97b123da50 input.sk-toggleable__control:checked~label.sk-toggleable__label-arrow:before {content: \"▾\";}#sk-4dc716d9-8110-4949-a711-9f97b123da50 div.sk-estimator input.sk-toggleable__control:checked~label.sk-toggleable__label {background-color: #d4ebff;}#sk-4dc716d9-8110-4949-a711-9f97b123da50 div.sk-label input.sk-toggleable__control:checked~label.sk-toggleable__label {background-color: #d4ebff;}#sk-4dc716d9-8110-4949-a711-9f97b123da50 input.sk-hidden--visually {border: 0;clip: rect(1px 1px 1px 1px);clip: rect(1px, 1px, 1px, 1px);height: 1px;margin: -1px;overflow: hidden;padding: 0;position: absolute;width: 1px;}#sk-4dc716d9-8110-4949-a711-9f97b123da50 div.sk-estimator {font-family: monospace;background-color: #f0f8ff;border: 1px dotted black;border-radius: 0.25em;box-sizing: border-box;margin-bottom: 0.5em;}#sk-4dc716d9-8110-4949-a711-9f97b123da50 div.sk-estimator:hover {background-color: #d4ebff;}#sk-4dc716d9-8110-4949-a711-9f97b123da50 div.sk-parallel-item::after {content: \"\";width: 100%;border-bottom: 1px solid gray;flex-grow: 1;}#sk-4dc716d9-8110-4949-a711-9f97b123da50 div.sk-label:hover label.sk-toggleable__label {background-color: #d4ebff;}#sk-4dc716d9-8110-4949-a711-9f97b123da50 div.sk-serial::before {content: \"\";position: absolute;border-left: 1px solid gray;box-sizing: border-box;top: 2em;bottom: 0;left: 50%;}#sk-4dc716d9-8110-4949-a711-9f97b123da50 div.sk-serial {display: flex;flex-direction: column;align-items: center;background-color: white;padding-right: 0.2em;padding-left: 0.2em;}#sk-4dc716d9-8110-4949-a711-9f97b123da50 div.sk-item {z-index: 1;}#sk-4dc716d9-8110-4949-a711-9f97b123da50 div.sk-parallel {display: flex;align-items: stretch;justify-content: center;background-color: white;}#sk-4dc716d9-8110-4949-a711-9f97b123da50 div.sk-parallel::before {content: \"\";position: absolute;border-left: 1px solid gray;box-sizing: border-box;top: 2em;bottom: 0;left: 50%;}#sk-4dc716d9-8110-4949-a711-9f97b123da50 div.sk-parallel-item {display: flex;flex-direction: column;position: relative;background-color: white;}#sk-4dc716d9-8110-4949-a711-9f97b123da50 div.sk-parallel-item:first-child::after {align-self: flex-end;width: 50%;}#sk-4dc716d9-8110-4949-a711-9f97b123da50 div.sk-parallel-item:last-child::after {align-self: flex-start;width: 50%;}#sk-4dc716d9-8110-4949-a711-9f97b123da50 div.sk-parallel-item:only-child::after {width: 0;}#sk-4dc716d9-8110-4949-a711-9f97b123da50 div.sk-dashed-wrapped {border: 1px dashed gray;margin: 0 0.4em 0.5em 0.4em;box-sizing: border-box;padding-bottom: 0.4em;background-color: white;position: relative;}#sk-4dc716d9-8110-4949-a711-9f97b123da50 div.sk-label label {font-family: monospace;font-weight: bold;background-color: white;display: inline-block;line-height: 1.2em;}#sk-4dc716d9-8110-4949-a711-9f97b123da50 div.sk-label-container {position: relative;z-index: 2;text-align: center;}#sk-4dc716d9-8110-4949-a711-9f97b123da50 div.sk-container {/* jupyter's `normalize.less` sets `[hidden] { display: none; }` but bootstrap.min.css set `[hidden] { display: none !important; }` so we also need the `!important` here to be able to override the default hidden behavior on the sphinx rendered scikit-learn.org. See: https://github.com/scikit-learn/scikit-learn/issues/21755 */display: inline-block !important;position: relative;}#sk-4dc716d9-8110-4949-a711-9f97b123da50 div.sk-text-repr-fallback {display: none;}</style><div id=\"sk-4dc716d9-8110-4949-a711-9f97b123da50\" class=\"sk-top-container\"><div class=\"sk-text-repr-fallback\"><pre>ColumnTransformer(transformers=[(&#x27;onehotencoder&#x27;,\n",
              "                                 OneHotEncoder(handle_unknown=&#x27;ignore&#x27;,\n",
              "                                               sparse=False),\n",
              "                                 &lt;sklearn.compose._column_transformer.make_column_selector object at 0x7f26fab698b0&gt;),\n",
              "                                (&#x27;simpleimputer&#x27;, SimpleImputer(),\n",
              "                                 &lt;sklearn.compose._column_transformer.make_column_selector object at 0x7f26fab69bb0&gt;)])</pre><b>Please rerun this cell to show the HTML repr or trust the notebook.</b></div><div class=\"sk-container\" hidden><div class=\"sk-item sk-dashed-wrapped\"><div class=\"sk-label-container\"><div class=\"sk-label sk-toggleable\"><input class=\"sk-toggleable__control sk-hidden--visually\" id=\"094abc2c-243c-4537-ada6-0570576f3a7a\" type=\"checkbox\" ><label for=\"094abc2c-243c-4537-ada6-0570576f3a7a\" class=\"sk-toggleable__label sk-toggleable__label-arrow\">ColumnTransformer</label><div class=\"sk-toggleable__content\"><pre>ColumnTransformer(transformers=[(&#x27;onehotencoder&#x27;,\n",
              "                                 OneHotEncoder(handle_unknown=&#x27;ignore&#x27;,\n",
              "                                               sparse=False),\n",
              "                                 &lt;sklearn.compose._column_transformer.make_column_selector object at 0x7f26fab698b0&gt;),\n",
              "                                (&#x27;simpleimputer&#x27;, SimpleImputer(),\n",
              "                                 &lt;sklearn.compose._column_transformer.make_column_selector object at 0x7f26fab69bb0&gt;)])</pre></div></div></div><div class=\"sk-parallel\"><div class=\"sk-parallel-item\"><div class=\"sk-item\"><div class=\"sk-label-container\"><div class=\"sk-label sk-toggleable\"><input class=\"sk-toggleable__control sk-hidden--visually\" id=\"0b028e27-1947-48b4-b0c2-5598cb24e63c\" type=\"checkbox\" ><label for=\"0b028e27-1947-48b4-b0c2-5598cb24e63c\" class=\"sk-toggleable__label sk-toggleable__label-arrow\">onehotencoder</label><div class=\"sk-toggleable__content\"><pre>&lt;sklearn.compose._column_transformer.make_column_selector object at 0x7f26fab698b0&gt;</pre></div></div></div><div class=\"sk-serial\"><div class=\"sk-item\"><div class=\"sk-estimator sk-toggleable\"><input class=\"sk-toggleable__control sk-hidden--visually\" id=\"5ec15889-f2a2-45f3-abdc-b61e68189729\" type=\"checkbox\" ><label for=\"5ec15889-f2a2-45f3-abdc-b61e68189729\" class=\"sk-toggleable__label sk-toggleable__label-arrow\">OneHotEncoder</label><div class=\"sk-toggleable__content\"><pre>OneHotEncoder(handle_unknown=&#x27;ignore&#x27;, sparse=False)</pre></div></div></div></div></div></div><div class=\"sk-parallel-item\"><div class=\"sk-item\"><div class=\"sk-label-container\"><div class=\"sk-label sk-toggleable\"><input class=\"sk-toggleable__control sk-hidden--visually\" id=\"c2e2994d-9922-49d5-abc9-b4a91e0913bf\" type=\"checkbox\" ><label for=\"c2e2994d-9922-49d5-abc9-b4a91e0913bf\" class=\"sk-toggleable__label sk-toggleable__label-arrow\">simpleimputer</label><div class=\"sk-toggleable__content\"><pre>&lt;sklearn.compose._column_transformer.make_column_selector object at 0x7f26fab69bb0&gt;</pre></div></div></div><div class=\"sk-serial\"><div class=\"sk-item\"><div class=\"sk-estimator sk-toggleable\"><input class=\"sk-toggleable__control sk-hidden--visually\" id=\"fb64c07e-38ce-4103-8881-24104bf7e68c\" type=\"checkbox\" ><label for=\"fb64c07e-38ce-4103-8881-24104bf7e68c\" class=\"sk-toggleable__label sk-toggleable__label-arrow\">SimpleImputer</label><div class=\"sk-toggleable__content\"><pre>SimpleImputer()</pre></div></div></div></div></div></div></div></div></div></div>"
            ]
          },
          "metadata": {},
          "execution_count": 88
        }
      ],
      "source": [
        "#instantiate the transformers to impute missing values and one-hot encode the categorical data\n",
        "mean_imputer = SimpleImputer(strategy = 'mean')\n",
        "ohe = OneHotEncoder(sparse=False, handle_unknown='ignore')\n",
        "#create columnselectors for the numeric and categorical data\n",
        "cat_selector = make_column_selector(dtype_include='object')\n",
        "num_selector = make_column_selector(dtype_include='number')\n",
        "#combine the pipelines and columnselectors into tuples for the columntransformer\n",
        "cat_tuple = (ohe, cat_selector)\n",
        "num_tuple = (mean_imputer, num_selector)\n",
        "#create the preprocessing columntransformer\n",
        "preprocessor2 = make_column_transformer(cat_tuple, num_tuple, remainder='drop')\n",
        "preprocessor2"
      ]
    },
    {
      "cell_type": "markdown",
      "metadata": {
        "id": "A9EwjzG0Aj8A"
      },
      "source": [
        "#### Instantiate StandardScaler, SMOTE, and PCA"
      ]
    },
    {
      "cell_type": "code",
      "execution_count": 89,
      "metadata": {
        "id": "75ykC4viAq7K"
      },
      "outputs": [],
      "source": [
        "scaler = StandardScaler()\n",
        "smote = SMOTE(random_state=42)\n",
        "pca = PCA(n_components = .95, random_state = 42)"
      ]
    },
    {
      "cell_type": "markdown",
      "metadata": {
        "id": "QXABzuxnBKYc"
      },
      "source": [
        "### LightGBM with SMOTE and PCA"
      ]
    },
    {
      "cell_type": "code",
      "execution_count": 90,
      "metadata": {
        "id": "oJ2-yiblBYYB",
        "colab": {
          "base_uri": "https://localhost:8080/"
        },
        "outputId": "eda49530-4907-4978-d232-f618b70570c7"
      },
      "outputs": [
        {
          "output_type": "stream",
          "name": "stdout",
          "text": [
            "0.9770354906054279\n",
            "0.9225352112676056\n"
          ]
        }
      ],
      "source": [
        "#put the PCA pipeline in a model pipeline\n",
        "lgbm_smote_pca = LGBMClassifier(random_state=42)\n",
        "lgbm_smote_pca_pipe = make_sampler_pipeline(preprocessor2, scaler, smote, lgbm_smote_pca)\n",
        "#fit the model pipeline on the training data\n",
        "lgbm_smote_pca_pipe.fit(X_train, y_train)\n",
        "#evaluate the model's performance\n",
        "print(lgbm_smote_pca_pipe.score(X_train, y_train))\n",
        "print(lgbm_smote_pca_pipe.score(X_test, y_test))"
      ]
    },
    {
      "cell_type": "markdown",
      "metadata": {
        "id": "wyU01jRtCmqx"
      },
      "source": [
        "#### Tuning hyperparameters using GridSearchCV and pipelines"
      ]
    },
    {
      "cell_type": "code",
      "execution_count": 91,
      "metadata": {
        "id": "FuwcVfabCvKg",
        "colab": {
          "base_uri": "https://localhost:8080/"
        },
        "outputId": "bf757e84-b15b-4a91-e5b5-347854e96c5b"
      },
      "outputs": [
        {
          "output_type": "execute_result",
          "data": {
            "text/plain": [
              "{'memory': None,\n",
              " 'steps': [('columntransformer',\n",
              "   ColumnTransformer(transformers=[('onehotencoder',\n",
              "                                    OneHotEncoder(handle_unknown='ignore',\n",
              "                                                  sparse=False),\n",
              "                                    <sklearn.compose._column_transformer.make_column_selector object at 0x7f26fab698b0>),\n",
              "                                   ('simpleimputer', SimpleImputer(),\n",
              "                                    <sklearn.compose._column_transformer.make_column_selector object at 0x7f26fab69bb0>)])),\n",
              "  ('standardscaler', StandardScaler()),\n",
              "  ('smote', SMOTE(random_state=42)),\n",
              "  ('lgbmclassifier', LGBMClassifier(random_state=42))],\n",
              " 'verbose': False,\n",
              " 'columntransformer': ColumnTransformer(transformers=[('onehotencoder',\n",
              "                                  OneHotEncoder(handle_unknown='ignore',\n",
              "                                                sparse=False),\n",
              "                                  <sklearn.compose._column_transformer.make_column_selector object at 0x7f26fab698b0>),\n",
              "                                 ('simpleimputer', SimpleImputer(),\n",
              "                                  <sklearn.compose._column_transformer.make_column_selector object at 0x7f26fab69bb0>)]),\n",
              " 'standardscaler': StandardScaler(),\n",
              " 'smote': SMOTE(random_state=42),\n",
              " 'lgbmclassifier': LGBMClassifier(random_state=42),\n",
              " 'columntransformer__n_jobs': None,\n",
              " 'columntransformer__remainder': 'drop',\n",
              " 'columntransformer__sparse_threshold': 0.3,\n",
              " 'columntransformer__transformer_weights': None,\n",
              " 'columntransformer__transformers': [('onehotencoder',\n",
              "   OneHotEncoder(handle_unknown='ignore', sparse=False),\n",
              "   <sklearn.compose._column_transformer.make_column_selector at 0x7f26fab698b0>),\n",
              "  ('simpleimputer',\n",
              "   SimpleImputer(),\n",
              "   <sklearn.compose._column_transformer.make_column_selector at 0x7f26fab69bb0>)],\n",
              " 'columntransformer__verbose': False,\n",
              " 'columntransformer__verbose_feature_names_out': True,\n",
              " 'columntransformer__onehotencoder': OneHotEncoder(handle_unknown='ignore', sparse=False),\n",
              " 'columntransformer__simpleimputer': SimpleImputer(),\n",
              " 'columntransformer__onehotencoder__categories': 'auto',\n",
              " 'columntransformer__onehotencoder__drop': None,\n",
              " 'columntransformer__onehotencoder__dtype': numpy.float64,\n",
              " 'columntransformer__onehotencoder__handle_unknown': 'ignore',\n",
              " 'columntransformer__onehotencoder__sparse': False,\n",
              " 'columntransformer__simpleimputer__add_indicator': False,\n",
              " 'columntransformer__simpleimputer__copy': True,\n",
              " 'columntransformer__simpleimputer__fill_value': None,\n",
              " 'columntransformer__simpleimputer__missing_values': nan,\n",
              " 'columntransformer__simpleimputer__strategy': 'mean',\n",
              " 'columntransformer__simpleimputer__verbose': 0,\n",
              " 'standardscaler__copy': True,\n",
              " 'standardscaler__with_mean': True,\n",
              " 'standardscaler__with_std': True,\n",
              " 'smote__k_neighbors': 5,\n",
              " 'smote__n_jobs': None,\n",
              " 'smote__random_state': 42,\n",
              " 'smote__sampling_strategy': 'auto',\n",
              " 'lgbmclassifier__boosting_type': 'gbdt',\n",
              " 'lgbmclassifier__class_weight': None,\n",
              " 'lgbmclassifier__colsample_bytree': 1.0,\n",
              " 'lgbmclassifier__importance_type': 'split',\n",
              " 'lgbmclassifier__learning_rate': 0.1,\n",
              " 'lgbmclassifier__max_depth': -1,\n",
              " 'lgbmclassifier__min_child_samples': 20,\n",
              " 'lgbmclassifier__min_child_weight': 0.001,\n",
              " 'lgbmclassifier__min_split_gain': 0.0,\n",
              " 'lgbmclassifier__n_estimators': 100,\n",
              " 'lgbmclassifier__n_jobs': -1,\n",
              " 'lgbmclassifier__num_leaves': 31,\n",
              " 'lgbmclassifier__objective': None,\n",
              " 'lgbmclassifier__random_state': 42,\n",
              " 'lgbmclassifier__reg_alpha': 0.0,\n",
              " 'lgbmclassifier__reg_lambda': 0.0,\n",
              " 'lgbmclassifier__silent': True,\n",
              " 'lgbmclassifier__subsample': 1.0,\n",
              " 'lgbmclassifier__subsample_for_bin': 200000,\n",
              " 'lgbmclassifier__subsample_freq': 0}"
            ]
          },
          "metadata": {},
          "execution_count": 91
        }
      ],
      "source": [
        "#choose hyperparameters for tuning\n",
        "lgbm_smote_pca_pipe.get_params()"
      ]
    },
    {
      "cell_type": "code",
      "execution_count": 92,
      "metadata": {
        "id": "s-GMHrBmC6PH"
      },
      "outputs": [],
      "source": [
        "#create a parameter grid dictionary\n",
        "lgbm_smote_pca_param_grid = {'lgbmclassifier__num_leaves': [8, 21, 31, 100, 1000],\n",
        "               'lgbmclassifier__max_depth': range(3, 12),\n",
        "              'lgbmclassifier__learning_rate': [.01, 0.1, 0.2],\n",
        "              'lgbmclassifier__class_weight': ['balanced', None]}  "
      ]
    },
    {
      "cell_type": "code",
      "execution_count": 93,
      "metadata": {
        "id": "w4Jx3AjKDFGe"
      },
      "outputs": [],
      "source": [
        "#instantiate the GridSearchCV object\n",
        "lgbm_smote_pca_grid_search = GridSearchCV(lgbm_smote_pca_pipe, lgbm_smote_pca_param_grid)"
      ]
    },
    {
      "cell_type": "code",
      "execution_count": 94,
      "metadata": {
        "id": "1nZogdefDQXA",
        "colab": {
          "base_uri": "https://localhost:8080/",
          "height": 263
        },
        "outputId": "e0d54088-b51b-4849-ddcb-06cc6928c0b6"
      },
      "outputs": [
        {
          "output_type": "execute_result",
          "data": {
            "text/plain": [
              "GridSearchCV(estimator=Pipeline(steps=[('columntransformer',\n",
              "                                        ColumnTransformer(transformers=[('onehotencoder',\n",
              "                                                                         OneHotEncoder(handle_unknown='ignore',\n",
              "                                                                                       sparse=False),\n",
              "                                                                         <sklearn.compose._column_transformer.make_column_selector object at 0x7f26fab698b0>),\n",
              "                                                                        ('simpleimputer',\n",
              "                                                                         SimpleImputer(),\n",
              "                                                                         <sklearn.compose._column_transformer.make_column_selector object at 0x7f26fab69bb0>)])),\n",
              "                                       ('standardscaler', StandardScaler()),\n",
              "                                       ('smote', SMOTE(random_state=42)),\n",
              "                                       ('lgbmclassifier',\n",
              "                                        LGBMClassifier(random_state=42))]),\n",
              "             param_grid={'lgbmclassifier__class_weight': ['balanced', None],\n",
              "                         'lgbmclassifier__learning_rate': [0.01, 0.1, 0.2],\n",
              "                         'lgbmclassifier__max_depth': range(3, 12),\n",
              "                         'lgbmclassifier__num_leaves': [8, 21, 31, 100, 1000]})"
            ],
            "text/html": [
              "<style>#sk-7483f30a-620e-45b1-87a8-45ff6d06fe7c {color: black;background-color: white;}#sk-7483f30a-620e-45b1-87a8-45ff6d06fe7c pre{padding: 0;}#sk-7483f30a-620e-45b1-87a8-45ff6d06fe7c div.sk-toggleable {background-color: white;}#sk-7483f30a-620e-45b1-87a8-45ff6d06fe7c label.sk-toggleable__label {cursor: pointer;display: block;width: 100%;margin-bottom: 0;padding: 0.3em;box-sizing: border-box;text-align: center;}#sk-7483f30a-620e-45b1-87a8-45ff6d06fe7c label.sk-toggleable__label-arrow:before {content: \"▸\";float: left;margin-right: 0.25em;color: #696969;}#sk-7483f30a-620e-45b1-87a8-45ff6d06fe7c label.sk-toggleable__label-arrow:hover:before {color: black;}#sk-7483f30a-620e-45b1-87a8-45ff6d06fe7c div.sk-estimator:hover label.sk-toggleable__label-arrow:before {color: black;}#sk-7483f30a-620e-45b1-87a8-45ff6d06fe7c div.sk-toggleable__content {max-height: 0;max-width: 0;overflow: hidden;text-align: left;background-color: #f0f8ff;}#sk-7483f30a-620e-45b1-87a8-45ff6d06fe7c div.sk-toggleable__content pre {margin: 0.2em;color: black;border-radius: 0.25em;background-color: #f0f8ff;}#sk-7483f30a-620e-45b1-87a8-45ff6d06fe7c input.sk-toggleable__control:checked~div.sk-toggleable__content {max-height: 200px;max-width: 100%;overflow: auto;}#sk-7483f30a-620e-45b1-87a8-45ff6d06fe7c input.sk-toggleable__control:checked~label.sk-toggleable__label-arrow:before {content: \"▾\";}#sk-7483f30a-620e-45b1-87a8-45ff6d06fe7c div.sk-estimator input.sk-toggleable__control:checked~label.sk-toggleable__label {background-color: #d4ebff;}#sk-7483f30a-620e-45b1-87a8-45ff6d06fe7c div.sk-label input.sk-toggleable__control:checked~label.sk-toggleable__label {background-color: #d4ebff;}#sk-7483f30a-620e-45b1-87a8-45ff6d06fe7c input.sk-hidden--visually {border: 0;clip: rect(1px 1px 1px 1px);clip: rect(1px, 1px, 1px, 1px);height: 1px;margin: -1px;overflow: hidden;padding: 0;position: absolute;width: 1px;}#sk-7483f30a-620e-45b1-87a8-45ff6d06fe7c div.sk-estimator {font-family: monospace;background-color: #f0f8ff;border: 1px dotted black;border-radius: 0.25em;box-sizing: border-box;margin-bottom: 0.5em;}#sk-7483f30a-620e-45b1-87a8-45ff6d06fe7c div.sk-estimator:hover {background-color: #d4ebff;}#sk-7483f30a-620e-45b1-87a8-45ff6d06fe7c div.sk-parallel-item::after {content: \"\";width: 100%;border-bottom: 1px solid gray;flex-grow: 1;}#sk-7483f30a-620e-45b1-87a8-45ff6d06fe7c div.sk-label:hover label.sk-toggleable__label {background-color: #d4ebff;}#sk-7483f30a-620e-45b1-87a8-45ff6d06fe7c div.sk-serial::before {content: \"\";position: absolute;border-left: 1px solid gray;box-sizing: border-box;top: 2em;bottom: 0;left: 50%;}#sk-7483f30a-620e-45b1-87a8-45ff6d06fe7c div.sk-serial {display: flex;flex-direction: column;align-items: center;background-color: white;padding-right: 0.2em;padding-left: 0.2em;}#sk-7483f30a-620e-45b1-87a8-45ff6d06fe7c div.sk-item {z-index: 1;}#sk-7483f30a-620e-45b1-87a8-45ff6d06fe7c div.sk-parallel {display: flex;align-items: stretch;justify-content: center;background-color: white;}#sk-7483f30a-620e-45b1-87a8-45ff6d06fe7c div.sk-parallel::before {content: \"\";position: absolute;border-left: 1px solid gray;box-sizing: border-box;top: 2em;bottom: 0;left: 50%;}#sk-7483f30a-620e-45b1-87a8-45ff6d06fe7c div.sk-parallel-item {display: flex;flex-direction: column;position: relative;background-color: white;}#sk-7483f30a-620e-45b1-87a8-45ff6d06fe7c div.sk-parallel-item:first-child::after {align-self: flex-end;width: 50%;}#sk-7483f30a-620e-45b1-87a8-45ff6d06fe7c div.sk-parallel-item:last-child::after {align-self: flex-start;width: 50%;}#sk-7483f30a-620e-45b1-87a8-45ff6d06fe7c div.sk-parallel-item:only-child::after {width: 0;}#sk-7483f30a-620e-45b1-87a8-45ff6d06fe7c div.sk-dashed-wrapped {border: 1px dashed gray;margin: 0 0.4em 0.5em 0.4em;box-sizing: border-box;padding-bottom: 0.4em;background-color: white;position: relative;}#sk-7483f30a-620e-45b1-87a8-45ff6d06fe7c div.sk-label label {font-family: monospace;font-weight: bold;background-color: white;display: inline-block;line-height: 1.2em;}#sk-7483f30a-620e-45b1-87a8-45ff6d06fe7c div.sk-label-container {position: relative;z-index: 2;text-align: center;}#sk-7483f30a-620e-45b1-87a8-45ff6d06fe7c div.sk-container {/* jupyter's `normalize.less` sets `[hidden] { display: none; }` but bootstrap.min.css set `[hidden] { display: none !important; }` so we also need the `!important` here to be able to override the default hidden behavior on the sphinx rendered scikit-learn.org. See: https://github.com/scikit-learn/scikit-learn/issues/21755 */display: inline-block !important;position: relative;}#sk-7483f30a-620e-45b1-87a8-45ff6d06fe7c div.sk-text-repr-fallback {display: none;}</style><div id=\"sk-7483f30a-620e-45b1-87a8-45ff6d06fe7c\" class=\"sk-top-container\"><div class=\"sk-text-repr-fallback\"><pre>GridSearchCV(estimator=Pipeline(steps=[(&#x27;columntransformer&#x27;,\n",
              "                                        ColumnTransformer(transformers=[(&#x27;onehotencoder&#x27;,\n",
              "                                                                         OneHotEncoder(handle_unknown=&#x27;ignore&#x27;,\n",
              "                                                                                       sparse=False),\n",
              "                                                                         &lt;sklearn.compose._column_transformer.make_column_selector object at 0x7f26fab698b0&gt;),\n",
              "                                                                        (&#x27;simpleimputer&#x27;,\n",
              "                                                                         SimpleImputer(),\n",
              "                                                                         &lt;sklearn.compose._column_transformer.make_column_selector object at 0x7f26fab69bb0&gt;)])),\n",
              "                                       (&#x27;standardscaler&#x27;, StandardScaler()),\n",
              "                                       (&#x27;smote&#x27;, SMOTE(random_state=42)),\n",
              "                                       (&#x27;lgbmclassifier&#x27;,\n",
              "                                        LGBMClassifier(random_state=42))]),\n",
              "             param_grid={&#x27;lgbmclassifier__class_weight&#x27;: [&#x27;balanced&#x27;, None],\n",
              "                         &#x27;lgbmclassifier__learning_rate&#x27;: [0.01, 0.1, 0.2],\n",
              "                         &#x27;lgbmclassifier__max_depth&#x27;: range(3, 12),\n",
              "                         &#x27;lgbmclassifier__num_leaves&#x27;: [8, 21, 31, 100, 1000]})</pre><b>Please rerun this cell to show the HTML repr or trust the notebook.</b></div><div class=\"sk-container\" hidden><div class=\"sk-item sk-dashed-wrapped\"><div class=\"sk-label-container\"><div class=\"sk-label sk-toggleable\"><input class=\"sk-toggleable__control sk-hidden--visually\" id=\"3a5c8c0f-e3b7-4d13-8f97-72145dd6f6e9\" type=\"checkbox\" ><label for=\"3a5c8c0f-e3b7-4d13-8f97-72145dd6f6e9\" class=\"sk-toggleable__label sk-toggleable__label-arrow\">GridSearchCV</label><div class=\"sk-toggleable__content\"><pre>GridSearchCV(estimator=Pipeline(steps=[(&#x27;columntransformer&#x27;,\n",
              "                                        ColumnTransformer(transformers=[(&#x27;onehotencoder&#x27;,\n",
              "                                                                         OneHotEncoder(handle_unknown=&#x27;ignore&#x27;,\n",
              "                                                                                       sparse=False),\n",
              "                                                                         &lt;sklearn.compose._column_transformer.make_column_selector object at 0x7f26fab698b0&gt;),\n",
              "                                                                        (&#x27;simpleimputer&#x27;,\n",
              "                                                                         SimpleImputer(),\n",
              "                                                                         &lt;sklearn.compose._column_transformer.make_column_selector object at 0x7f26fab69bb0&gt;)])),\n",
              "                                       (&#x27;standardscaler&#x27;, StandardScaler()),\n",
              "                                       (&#x27;smote&#x27;, SMOTE(random_state=42)),\n",
              "                                       (&#x27;lgbmclassifier&#x27;,\n",
              "                                        LGBMClassifier(random_state=42))]),\n",
              "             param_grid={&#x27;lgbmclassifier__class_weight&#x27;: [&#x27;balanced&#x27;, None],\n",
              "                         &#x27;lgbmclassifier__learning_rate&#x27;: [0.01, 0.1, 0.2],\n",
              "                         &#x27;lgbmclassifier__max_depth&#x27;: range(3, 12),\n",
              "                         &#x27;lgbmclassifier__num_leaves&#x27;: [8, 21, 31, 100, 1000]})</pre></div></div></div><div class=\"sk-parallel\"><div class=\"sk-parallel-item\"><div class=\"sk-item\"><div class=\"sk-serial\"><div class=\"sk-item\"><div class=\"sk-serial\"><div class=\"sk-item sk-dashed-wrapped\"><div class=\"sk-label-container\"><div class=\"sk-label sk-toggleable\"><input class=\"sk-toggleable__control sk-hidden--visually\" id=\"7c56c2aa-b2a4-4b5a-9713-a153ca25fdc0\" type=\"checkbox\" ><label for=\"7c56c2aa-b2a4-4b5a-9713-a153ca25fdc0\" class=\"sk-toggleable__label sk-toggleable__label-arrow\">columntransformer: ColumnTransformer</label><div class=\"sk-toggleable__content\"><pre>ColumnTransformer(transformers=[(&#x27;onehotencoder&#x27;,\n",
              "                                 OneHotEncoder(handle_unknown=&#x27;ignore&#x27;,\n",
              "                                               sparse=False),\n",
              "                                 &lt;sklearn.compose._column_transformer.make_column_selector object at 0x7f26fab698b0&gt;),\n",
              "                                (&#x27;simpleimputer&#x27;, SimpleImputer(),\n",
              "                                 &lt;sklearn.compose._column_transformer.make_column_selector object at 0x7f26fab69bb0&gt;)])</pre></div></div></div><div class=\"sk-parallel\"><div class=\"sk-parallel-item\"><div class=\"sk-item\"><div class=\"sk-label-container\"><div class=\"sk-label sk-toggleable\"><input class=\"sk-toggleable__control sk-hidden--visually\" id=\"db951f7c-03b3-42d1-844b-368c475c77c2\" type=\"checkbox\" ><label for=\"db951f7c-03b3-42d1-844b-368c475c77c2\" class=\"sk-toggleable__label sk-toggleable__label-arrow\">onehotencoder</label><div class=\"sk-toggleable__content\"><pre>&lt;sklearn.compose._column_transformer.make_column_selector object at 0x7f26fab698b0&gt;</pre></div></div></div><div class=\"sk-serial\"><div class=\"sk-item\"><div class=\"sk-estimator sk-toggleable\"><input class=\"sk-toggleable__control sk-hidden--visually\" id=\"06413067-840b-4828-87e0-2e1b0ac86f75\" type=\"checkbox\" ><label for=\"06413067-840b-4828-87e0-2e1b0ac86f75\" class=\"sk-toggleable__label sk-toggleable__label-arrow\">OneHotEncoder</label><div class=\"sk-toggleable__content\"><pre>OneHotEncoder(handle_unknown=&#x27;ignore&#x27;, sparse=False)</pre></div></div></div></div></div></div><div class=\"sk-parallel-item\"><div class=\"sk-item\"><div class=\"sk-label-container\"><div class=\"sk-label sk-toggleable\"><input class=\"sk-toggleable__control sk-hidden--visually\" id=\"3c5eeedc-9d83-40fc-b878-f158cf19c949\" type=\"checkbox\" ><label for=\"3c5eeedc-9d83-40fc-b878-f158cf19c949\" class=\"sk-toggleable__label sk-toggleable__label-arrow\">simpleimputer</label><div class=\"sk-toggleable__content\"><pre>&lt;sklearn.compose._column_transformer.make_column_selector object at 0x7f26fab69bb0&gt;</pre></div></div></div><div class=\"sk-serial\"><div class=\"sk-item\"><div class=\"sk-estimator sk-toggleable\"><input class=\"sk-toggleable__control sk-hidden--visually\" id=\"7af3091b-506e-4702-8bb5-a4bced48414d\" type=\"checkbox\" ><label for=\"7af3091b-506e-4702-8bb5-a4bced48414d\" class=\"sk-toggleable__label sk-toggleable__label-arrow\">SimpleImputer</label><div class=\"sk-toggleable__content\"><pre>SimpleImputer()</pre></div></div></div></div></div></div></div></div><div class=\"sk-item\"><div class=\"sk-estimator sk-toggleable\"><input class=\"sk-toggleable__control sk-hidden--visually\" id=\"3ea222f0-1371-4937-b012-50734f757985\" type=\"checkbox\" ><label for=\"3ea222f0-1371-4937-b012-50734f757985\" class=\"sk-toggleable__label sk-toggleable__label-arrow\">StandardScaler</label><div class=\"sk-toggleable__content\"><pre>StandardScaler()</pre></div></div></div><div class=\"sk-item\"><div class=\"sk-estimator sk-toggleable\"><input class=\"sk-toggleable__control sk-hidden--visually\" id=\"af5d55cb-4af5-49fb-aaf0-773a0289f633\" type=\"checkbox\" ><label for=\"af5d55cb-4af5-49fb-aaf0-773a0289f633\" class=\"sk-toggleable__label sk-toggleable__label-arrow\">SMOTE</label><div class=\"sk-toggleable__content\"><pre>SMOTE(random_state=42)</pre></div></div></div><div class=\"sk-item\"><div class=\"sk-estimator sk-toggleable\"><input class=\"sk-toggleable__control sk-hidden--visually\" id=\"a93d6669-c39d-4a19-9d02-9ec8b73ce8a1\" type=\"checkbox\" ><label for=\"a93d6669-c39d-4a19-9d02-9ec8b73ce8a1\" class=\"sk-toggleable__label sk-toggleable__label-arrow\">LGBMClassifier</label><div class=\"sk-toggleable__content\"><pre>LGBMClassifier(random_state=42)</pre></div></div></div></div></div></div></div></div></div></div></div></div>"
            ]
          },
          "metadata": {},
          "execution_count": 94
        }
      ],
      "source": [
        "#fit the GridSearchCV object on the training data\n",
        "lgbm_smote_pca_grid_search.fit(X_train, y_train)"
      ]
    },
    {
      "cell_type": "code",
      "execution_count": 95,
      "metadata": {
        "id": "dBBt8kcuFPyf",
        "colab": {
          "base_uri": "https://localhost:8080/"
        },
        "outputId": "f90c1957-e000-4e99-9cf7-01a567e9391b"
      },
      "outputs": [
        {
          "output_type": "stream",
          "name": "stdout",
          "text": [
            "Best LightGBMClassifier with SMOTE and PCA Parameters:\n",
            "{'lgbmclassifier__class_weight': 'balanced', 'lgbmclassifier__learning_rate': 0.2, 'lgbmclassifier__max_depth': 11, 'lgbmclassifier__num_leaves': 31}\n",
            "Accuracy of best LGBMClassifier with SMOTE and PCA model is: 0.9287949921752738\n"
          ]
        }
      ],
      "source": [
        "#find the best parameters\n",
        "print('Best LightGBMClassifier with SMOTE and PCA Parameters:')\n",
        "print(lgbm_smote_pca_grid_search.best_params_)\n",
        "best_lgbm_smote_pca = lgbm_smote_pca_grid_search.best_estimator_\n",
        "print(f'Accuracy of best LGBMClassifier with SMOTE and PCA model is: {best_lgbm_smote_pca.score(X_test, y_test)}')"
      ]
    },
    {
      "cell_type": "markdown",
      "metadata": {
        "id": "2_mbIkxGFuC_"
      },
      "source": [
        "#### LightGBM with SMOTE and PCA Model Evaluation"
      ]
    },
    {
      "cell_type": "code",
      "execution_count": 96,
      "metadata": {
        "id": "orU_enwuGAMb",
        "colab": {
          "base_uri": "https://localhost:8080/"
        },
        "outputId": "c107aadb-2a85-4d40-d50e-6ce5f9d4ccaf"
      },
      "outputs": [
        {
          "output_type": "stream",
          "name": "stdout",
          "text": [
            "0.997651356993737\n",
            "0.9287949921752738\n"
          ]
        }
      ],
      "source": [
        "#instantiate the new scaler and the new PCA\n",
        "scaler2 = StandardScaler()\n",
        "smote2 = SMOTE(random_state=42)\n",
        "pca2 = PCA(n_components = .95, random_state = 42)\n",
        "#instantiate the tuned model\n",
        "lgbm_smote_pca_tuned = LGBMClassifier(class_weight = 'balanced', learning_rate = 0.2, max_depth = 11, num_leaves = 31, random_state = 42)\n",
        "#create the tuned model pipeline\n",
        "lgbm_smote_pca_tuned_pipe = make_sampler_pipeline(preprocessor2, scaler2, smote2, lgbm_smote_pca_tuned)\n",
        "#fit the tuned model pipeline on the training data\n",
        "lgbm_smote_pca_tuned_pipe.fit(X_train, y_train)\n",
        "#make predictions\n",
        "train_preds_lgbm_smote_pca_tuned = lgbm_smote_pca_tuned_pipe.predict(X_train)\n",
        "test_preds_lgbm_smote_pca_tuned = lgbm_smote_pca_tuned_pipe.predict(X_test)\n",
        "#evaluate the model's performance\n",
        "print(lgbm_smote_pca_tuned_pipe.score(X_train, y_train))\n",
        "print(lgbm_smote_pca_tuned_pipe.score(X_test, y_test))"
      ]
    },
    {
      "cell_type": "markdown",
      "metadata": {
        "id": "woYNKQX7H0VU"
      },
      "source": [
        "  - Tuning the LightGBMClassifier with SMOTE and PCA increased the accuracy on the test set."
      ]
    },
    {
      "cell_type": "code",
      "execution_count": 97,
      "metadata": {
        "id": "8tlFwpNxH-9z",
        "colab": {
          "base_uri": "https://localhost:8080/",
          "height": 297
        },
        "outputId": "35377aab-0c11-4031-cee2-ddca947b77d2"
      },
      "outputs": [
        {
          "output_type": "stream",
          "name": "stdout",
          "text": [
            "Tuned LightGBM with SMOTE and PCA Confusion Matrix\n"
          ]
        },
        {
          "output_type": "display_data",
          "data": {
            "text/plain": [
              "<Figure size 432x288 with 2 Axes>"
            ],
            "image/png": "[encoded data removed]"
          },
          "metadata": {
            "needs_background": "light"
          }
        }
      ],
      "source": [
        "print('Tuned LightGBM with SMOTE and PCA Confusion Matrix')\n",
        "ConfusionMatrixDisplay.from_predictions(y_test, test_preds_lgbm_smote_pca_tuned, display_labels = labels, cmap = 'Blues', normalize = 'true');"
      ]
    },
    {
      "cell_type": "markdown",
      "metadata": {
        "id": "1dHW44F-IWlR"
      },
      "source": [
        "  - The tuned LightGBM with SMOTE and PCA successfully classified 97% of the no stroke samples and 6.5% of the stroke samples (the same as the tuned LightGBM with SMOTE without PCA)."
      ]
    },
    {
      "cell_type": "code",
      "execution_count": 98,
      "metadata": {
        "id": "d1Lzg7v2Ifnp",
        "colab": {
          "base_uri": "https://localhost:8080/"
        },
        "outputId": "f471270f-5e0c-47e4-edd3-ae7d8601b290"
      },
      "outputs": [
        {
          "output_type": "stream",
          "name": "stdout",
          "text": [
            "Tuned LightGBM with PCA Classification Report\n",
            "              precision    recall  f1-score   support\n",
            "\n",
            "           0       0.95      0.97      0.96      1216\n",
            "           1       0.11      0.06      0.08        62\n",
            "\n",
            "    accuracy                           0.93      1278\n",
            "   macro avg       0.53      0.52      0.52      1278\n",
            "weighted avg       0.91      0.93      0.92      1278\n",
            "\n"
          ]
        }
      ],
      "source": [
        "print('Tuned LightGBM with PCA Classification Report')\n",
        "print(classification_report(y_test, test_preds_lgbm_smote_pca_tuned))"
      ]
    },
    {
      "cell_type": "markdown",
      "metadata": {
        "id": "NQYxL9F_Iqfw"
      },
      "source": [
        "  - The tuned LightGBM with SMOTE and PCA was 93% accurate for making correct predictions on the test set (the same as the tuned LightGBM with SMOTE without PCA).\n",
        "  - The tuned LightGBM with SMOTE and PCA was 95% sensitive and 97% specific for predicting the no stroke class (the same as the tuned LightGBM with SMOTE without PCA).  \n",
        "  - The tuned LightGBM with SMOTE and PCA was 11% sensitive and 6% specific for predicting the stroke class (the same as the tuned LightGBM with SMOTE without PCA).  \n",
        "  - The tuned LightGBM with SMOTE and PCA had f1-scores of 96% for the no stroke class and 8% for the stroke class (the same as the tuned LightGBM with SMOTE without PCA) )."
      ]
    },
    {
      "cell_type": "markdown",
      "metadata": {
        "id": "HR4Eadhbb1lP"
      },
      "source": [
        "  - The tuned LightGBM with SMOTE had the same accuracy for making correct predictions on the test set regardless of PCA.\n",
        "  - The tuned LightGBM with SMOTE had the same sensitivity and specificity for predicting the no stroke class regardless of PCA.  \n",
        "**The tuned LightGBM with SMOTE had the same false positive rate regardless of PCA.**\n",
        "  - The tuned LightGBM with SMOTE had the same sensitivity and specificity for predicting the stroke class regardless of PCA.  \n",
        "**The tuned LightGBM with SMOTE had the same false negative rate regardless of PCA.**\n",
        "  - The tuned LightGBM with SMOTe had the same f1-scores for the no stroke class and for the stroke class regardless of PCA."
      ]
    },
    {
      "cell_type": "markdown",
      "metadata": {
        "id": "7h2Jfu4Vb60n"
      },
      "source": [
        "Because of the class imbalance, the final model must predict well for the stroke class--using PCA did not help LightGBM with SMOTE predict the stroke class.\n",
        "\n",
        "Because of the high cost of false negatives (predicting no stroke when, in fact, there will be a stroke), these errors must be reduced--using PCA did not help LightGBM with SMOTE reduce the false negative rate."
      ]
    },
    {
      "cell_type": "markdown",
      "metadata": {
        "id": "Tulsfj8f9-Ty"
      },
      "source": [
        "## Feature Engineering"
      ]
    },
    {
      "cell_type": "markdown",
      "metadata": {
        "id": "oJ9neiexEuE6"
      },
      "source": [
        "### Prepare the data"
      ]
    },
    {
      "cell_type": "markdown",
      "metadata": {
        "id": "D5OoK0yCExA8"
      },
      "source": [
        "#### Create a copy of the data"
      ]
    },
    {
      "cell_type": "code",
      "execution_count": 99,
      "metadata": {
        "id": "C8rULfh5SUtP"
      },
      "outputs": [],
      "source": [
        "fe_df = df.copy()"
      ]
    },
    {
      "cell_type": "code",
      "execution_count": 100,
      "metadata": {
        "id": "DoM_h-M-TFTZ",
        "colab": {
          "base_uri": "https://localhost:8080/",
          "height": 238
        },
        "outputId": "2afa65ac-4bfa-40bf-9e86-0ad7d957d458"
      },
      "outputs": [
        {
          "output_type": "execute_result",
          "data": {
            "text/plain": [
              "       gender   age  hypertension  heart_disease ever_married      work_type  \\\n",
              "id                                                                             \n",
              "9046     Male  67.0             0              1          Yes        Private   \n",
              "51676  Female  61.0             0              0          Yes  Self-employed   \n",
              "31112    Male  80.0             0              1          Yes        Private   \n",
              "60182  Female  49.0             0              0          Yes        Private   \n",
              "1665   Female  79.0             1              0          Yes  Self-employed   \n",
              "\n",
              "      Residence_type  avg_glucose_level   bmi   smoking_status  stroke  \n",
              "id                                                                      \n",
              "9046           Urban             228.69  36.6  formerly smoked       1  \n",
              "51676          Rural             202.21   NaN     never smoked       1  \n",
              "31112          Rural             105.92  32.5     never smoked       1  \n",
              "60182          Urban             171.23  34.4           smokes       1  \n",
              "1665           Rural             174.12  24.0     never smoked       1  "
            ],
            "text/html": [
              "\n",
              "  <div id=\"df-23b72e18-6692-4e6d-80da-edfcfd500843\">\n",
              "    <div class=\"colab-df-container\">\n",
              "      <div>\n",
              "<style scoped>\n",
              "    .dataframe tbody tr th:only-of-type {\n",
              "        vertical-align: middle;\n",
              "    }\n",
              "\n",
              "    .dataframe tbody tr th {\n",
              "        vertical-align: top;\n",
              "    }\n",
              "\n",
              "    .dataframe thead th {\n",
              "        text-align: right;\n",
              "    }\n",
              "</style>\n",
              "<table border=\"1\" class=\"dataframe\">\n",
              "  <thead>\n",
              "    <tr style=\"text-align: right;\">\n",
              "      <th></th>\n",
              "      <th>gender</th>\n",
              "      <th>age</th>\n",
              "      <th>hypertension</th>\n",
              "      <th>heart_disease</th>\n",
              "      <th>ever_married</th>\n",
              "      <th>work_type</th>\n",
              "      <th>Residence_type</th>\n",
              "      <th>avg_glucose_level</th>\n",
              "      <th>bmi</th>\n",
              "      <th>smoking_status</th>\n",
              "      <th>stroke</th>\n",
              "    </tr>\n",
              "    <tr>\n",
              "      <th>id</th>\n",
              "      <th></th>\n",
              "      <th></th>\n",
              "      <th></th>\n",
              "      <th></th>\n",
              "      <th></th>\n",
              "      <th></th>\n",
              "      <th></th>\n",
              "      <th></th>\n",
              "      <th></th>\n",
              "      <th></th>\n",
              "      <th></th>\n",
              "    </tr>\n",
              "  </thead>\n",
              "  <tbody>\n",
              "    <tr>\n",
              "      <th>9046</th>\n",
              "      <td>Male</td>\n",
              "      <td>67.0</td>\n",
              "      <td>0</td>\n",
              "      <td>1</td>\n",
              "      <td>Yes</td>\n",
              "      <td>Private</td>\n",
              "      <td>Urban</td>\n",
              "      <td>228.69</td>\n",
              "      <td>36.6</td>\n",
              "      <td>formerly smoked</td>\n",
              "      <td>1</td>\n",
              "    </tr>\n",
              "    <tr>\n",
              "      <th>51676</th>\n",
              "      <td>Female</td>\n",
              "      <td>61.0</td>\n",
              "      <td>0</td>\n",
              "      <td>0</td>\n",
              "      <td>Yes</td>\n",
              "      <td>Self-employed</td>\n",
              "      <td>Rural</td>\n",
              "      <td>202.21</td>\n",
              "      <td>NaN</td>\n",
              "      <td>never smoked</td>\n",
              "      <td>1</td>\n",
              "    </tr>\n",
              "    <tr>\n",
              "      <th>31112</th>\n",
              "      <td>Male</td>\n",
              "      <td>80.0</td>\n",
              "      <td>0</td>\n",
              "      <td>1</td>\n",
              "      <td>Yes</td>\n",
              "      <td>Private</td>\n",
              "      <td>Rural</td>\n",
              "      <td>105.92</td>\n",
              "      <td>32.5</td>\n",
              "      <td>never smoked</td>\n",
              "      <td>1</td>\n",
              "    </tr>\n",
              "    <tr>\n",
              "      <th>60182</th>\n",
              "      <td>Female</td>\n",
              "      <td>49.0</td>\n",
              "      <td>0</td>\n",
              "      <td>0</td>\n",
              "      <td>Yes</td>\n",
              "      <td>Private</td>\n",
              "      <td>Urban</td>\n",
              "      <td>171.23</td>\n",
              "      <td>34.4</td>\n",
              "      <td>smokes</td>\n",
              "      <td>1</td>\n",
              "    </tr>\n",
              "    <tr>\n",
              "      <th>1665</th>\n",
              "      <td>Female</td>\n",
              "      <td>79.0</td>\n",
              "      <td>1</td>\n",
              "      <td>0</td>\n",
              "      <td>Yes</td>\n",
              "      <td>Self-employed</td>\n",
              "      <td>Rural</td>\n",
              "      <td>174.12</td>\n",
              "      <td>24.0</td>\n",
              "      <td>never smoked</td>\n",
              "      <td>1</td>\n",
              "    </tr>\n",
              "  </tbody>\n",
              "</table>\n",
              "</div>\n",
              "      <button class=\"colab-df-convert\" onclick=\"convertToInteractive('df-23b72e18-6692-4e6d-80da-edfcfd500843')\"\n",
              "              title=\"Convert this dataframe to an interactive table.\"\n",
              "              style=\"display:none;\">\n",
              "        \n",
              "  <svg xmlns=\"http://www.w3.org/2000/svg\" height=\"24px\"viewBox=\"0 0 24 24\"\n",
              "       width=\"24px\">\n",
              "    <path d=\"M0 0h24v24H0V0z\" fill=\"none\"/>\n",
              "    <path d=\"M18.56 5.44l.94 2.06.94-2.06 2.06-.94-2.06-.94-.94-2.06-.94 2.06-2.06.94zm-11 1L8.5 8.5l.94-2.06 2.06-.94-2.06-.94L8.5 2.5l-.94 2.06-2.06.94zm10 10l.94 2.06.94-2.06 2.06-.94-2.06-.94-.94-2.06-.94 2.06-2.06.94z\"/><path d=\"M17.41 7.96l-1.37-1.37c-.4-.4-.92-.59-1.43-.59-.52 0-1.04.2-1.43.59L10.3 9.45l-7.72 7.72c-.78.78-.78 2.05 0 2.83L4 21.41c.39.39.9.59 1.41.59.51 0 1.02-.2 1.41-.59l7.78-7.78 2.81-2.81c.8-.78.8-2.07 0-2.86zM5.41 20L4 18.59l7.72-7.72 1.47 1.35L5.41 20z\"/>\n",
              "  </svg>\n",
              "      </button>\n",
              "      \n",
              "  <style>\n",
              "    .colab-df-container {\n",
              "      display:flex;\n",
              "      flex-wrap:wrap;\n",
              "      gap: 12px;\n",
              "    }\n",
              "\n",
              "    .colab-df-convert {\n",
              "      background-color: #E8F0FE;\n",
              "      border: none;\n",
              "      border-radius: 50%;\n",
              "      cursor: pointer;\n",
              "      display: none;\n",
              "      fill: #1967D2;\n",
              "      height: 32px;\n",
              "      padding: 0 0 0 0;\n",
              "      width: 32px;\n",
              "    }\n",
              "\n",
              "    .colab-df-convert:hover {\n",
              "      background-color: #E2EBFA;\n",
              "      box-shadow: 0px 1px 2px rgba(60, 64, 67, 0.3), 0px 1px 3px 1px rgba(60, 64, 67, 0.15);\n",
              "      fill: #174EA6;\n",
              "    }\n",
              "\n",
              "    [theme=dark] .colab-df-convert {\n",
              "      background-color: #3B4455;\n",
              "      fill: #D2E3FC;\n",
              "    }\n",
              "\n",
              "    [theme=dark] .colab-df-convert:hover {\n",
              "      background-color: #434B5C;\n",
              "      box-shadow: 0px 1px 3px 1px rgba(0, 0, 0, 0.15);\n",
              "      filter: drop-shadow(0px 1px 2px rgba(0, 0, 0, 0.3));\n",
              "      fill: #FFFFFF;\n",
              "    }\n",
              "  </style>\n",
              "\n",
              "      <script>\n",
              "        const buttonEl =\n",
              "          document.querySelector('#df-23b72e18-6692-4e6d-80da-edfcfd500843 button.colab-df-convert');\n",
              "        buttonEl.style.display =\n",
              "          google.colab.kernel.accessAllowed ? 'block' : 'none';\n",
              "\n",
              "        async function convertToInteractive(key) {\n",
              "          const element = document.querySelector('#df-23b72e18-6692-4e6d-80da-edfcfd500843');\n",
              "          const dataTable =\n",
              "            await google.colab.kernel.invokeFunction('convertToInteractive',\n",
              "                                                     [key], {});\n",
              "          if (!dataTable) return;\n",
              "\n",
              "          const docLinkHtml = 'Like what you see? Visit the ' +\n",
              "            '<a target=\"_blank\" href=https://colab.research.google.com/notebooks/data_table.ipynb>data table notebook</a>'\n",
              "            + ' to learn more about interactive tables.';\n",
              "          element.innerHTML = '';\n",
              "          dataTable['output_type'] = 'display_data';\n",
              "          await google.colab.output.renderOutput(dataTable, element);\n",
              "          const docLink = document.createElement('div');\n",
              "          docLink.innerHTML = docLinkHtml;\n",
              "          element.appendChild(docLink);\n",
              "        }\n",
              "      </script>\n",
              "    </div>\n",
              "  </div>\n",
              "  "
            ]
          },
          "metadata": {},
          "execution_count": 100
        }
      ],
      "source": [
        "fe_df.head()"
      ]
    },
    {
      "cell_type": "markdown",
      "metadata": {
        "id": "tM8QqFRoNCFG"
      },
      "source": [
        "#### Feature Engineering"
      ]
    },
    {
      "cell_type": "markdown",
      "metadata": {
        "id": "s3eRrz8rScQz"
      },
      "source": [
        "Delete gender and Residence_type columns:  \n",
        "Multivariate visualizations showed that there was no relationship between the gender of the patient and strokes.  They also showed that there is no difference in urban vs rural residences and strokes.  Eliminating these data might help the model better predict strokes."
      ]
    },
    {
      "cell_type": "code",
      "execution_count": 101,
      "metadata": {
        "id": "M_7A_91dWO22",
        "colab": {
          "base_uri": "https://localhost:8080/",
          "height": 238
        },
        "outputId": "b066ed54-8530-4970-d2f3-0db4683edea2"
      },
      "outputs": [
        {
          "output_type": "execute_result",
          "data": {
            "text/plain": [
              "        age  hypertension  heart_disease ever_married      work_type  \\\n",
              "id                                                                     \n",
              "9046   67.0             0              1          Yes        Private   \n",
              "51676  61.0             0              0          Yes  Self-employed   \n",
              "31112  80.0             0              1          Yes        Private   \n",
              "60182  49.0             0              0          Yes        Private   \n",
              "1665   79.0             1              0          Yes  Self-employed   \n",
              "\n",
              "       avg_glucose_level   bmi   smoking_status  stroke  \n",
              "id                                                       \n",
              "9046              228.69  36.6  formerly smoked       1  \n",
              "51676             202.21   NaN     never smoked       1  \n",
              "31112             105.92  32.5     never smoked       1  \n",
              "60182             171.23  34.4           smokes       1  \n",
              "1665              174.12  24.0     never smoked       1  "
            ],
            "text/html": [
              "\n",
              "  <div id=\"df-7ca49a2e-5981-449e-a766-749d8e54c548\">\n",
              "    <div class=\"colab-df-container\">\n",
              "      <div>\n",
              "<style scoped>\n",
              "    .dataframe tbody tr th:only-of-type {\n",
              "        vertical-align: middle;\n",
              "    }\n",
              "\n",
              "    .dataframe tbody tr th {\n",
              "        vertical-align: top;\n",
              "    }\n",
              "\n",
              "    .dataframe thead th {\n",
              "        text-align: right;\n",
              "    }\n",
              "</style>\n",
              "<table border=\"1\" class=\"dataframe\">\n",
              "  <thead>\n",
              "    <tr style=\"text-align: right;\">\n",
              "      <th></th>\n",
              "      <th>age</th>\n",
              "      <th>hypertension</th>\n",
              "      <th>heart_disease</th>\n",
              "      <th>ever_married</th>\n",
              "      <th>work_type</th>\n",
              "      <th>avg_glucose_level</th>\n",
              "      <th>bmi</th>\n",
              "      <th>smoking_status</th>\n",
              "      <th>stroke</th>\n",
              "    </tr>\n",
              "    <tr>\n",
              "      <th>id</th>\n",
              "      <th></th>\n",
              "      <th></th>\n",
              "      <th></th>\n",
              "      <th></th>\n",
              "      <th></th>\n",
              "      <th></th>\n",
              "      <th></th>\n",
              "      <th></th>\n",
              "      <th></th>\n",
              "    </tr>\n",
              "  </thead>\n",
              "  <tbody>\n",
              "    <tr>\n",
              "      <th>9046</th>\n",
              "      <td>67.0</td>\n",
              "      <td>0</td>\n",
              "      <td>1</td>\n",
              "      <td>Yes</td>\n",
              "      <td>Private</td>\n",
              "      <td>228.69</td>\n",
              "      <td>36.6</td>\n",
              "      <td>formerly smoked</td>\n",
              "      <td>1</td>\n",
              "    </tr>\n",
              "    <tr>\n",
              "      <th>51676</th>\n",
              "      <td>61.0</td>\n",
              "      <td>0</td>\n",
              "      <td>0</td>\n",
              "      <td>Yes</td>\n",
              "      <td>Self-employed</td>\n",
              "      <td>202.21</td>\n",
              "      <td>NaN</td>\n",
              "      <td>never smoked</td>\n",
              "      <td>1</td>\n",
              "    </tr>\n",
              "    <tr>\n",
              "      <th>31112</th>\n",
              "      <td>80.0</td>\n",
              "      <td>0</td>\n",
              "      <td>1</td>\n",
              "      <td>Yes</td>\n",
              "      <td>Private</td>\n",
              "      <td>105.92</td>\n",
              "      <td>32.5</td>\n",
              "      <td>never smoked</td>\n",
              "      <td>1</td>\n",
              "    </tr>\n",
              "    <tr>\n",
              "      <th>60182</th>\n",
              "      <td>49.0</td>\n",
              "      <td>0</td>\n",
              "      <td>0</td>\n",
              "      <td>Yes</td>\n",
              "      <td>Private</td>\n",
              "      <td>171.23</td>\n",
              "      <td>34.4</td>\n",
              "      <td>smokes</td>\n",
              "      <td>1</td>\n",
              "    </tr>\n",
              "    <tr>\n",
              "      <th>1665</th>\n",
              "      <td>79.0</td>\n",
              "      <td>1</td>\n",
              "      <td>0</td>\n",
              "      <td>Yes</td>\n",
              "      <td>Self-employed</td>\n",
              "      <td>174.12</td>\n",
              "      <td>24.0</td>\n",
              "      <td>never smoked</td>\n",
              "      <td>1</td>\n",
              "    </tr>\n",
              "  </tbody>\n",
              "</table>\n",
              "</div>\n",
              "      <button class=\"colab-df-convert\" onclick=\"convertToInteractive('df-7ca49a2e-5981-449e-a766-749d8e54c548')\"\n",
              "              title=\"Convert this dataframe to an interactive table.\"\n",
              "              style=\"display:none;\">\n",
              "        \n",
              "  <svg xmlns=\"http://www.w3.org/2000/svg\" height=\"24px\"viewBox=\"0 0 24 24\"\n",
              "       width=\"24px\">\n",
              "    <path d=\"M0 0h24v24H0V0z\" fill=\"none\"/>\n",
              "    <path d=\"M18.56 5.44l.94 2.06.94-2.06 2.06-.94-2.06-.94-.94-2.06-.94 2.06-2.06.94zm-11 1L8.5 8.5l.94-2.06 2.06-.94-2.06-.94L8.5 2.5l-.94 2.06-2.06.94zm10 10l.94 2.06.94-2.06 2.06-.94-2.06-.94-.94-2.06-.94 2.06-2.06.94z\"/><path d=\"M17.41 7.96l-1.37-1.37c-.4-.4-.92-.59-1.43-.59-.52 0-1.04.2-1.43.59L10.3 9.45l-7.72 7.72c-.78.78-.78 2.05 0 2.83L4 21.41c.39.39.9.59 1.41.59.51 0 1.02-.2 1.41-.59l7.78-7.78 2.81-2.81c.8-.78.8-2.07 0-2.86zM5.41 20L4 18.59l7.72-7.72 1.47 1.35L5.41 20z\"/>\n",
              "  </svg>\n",
              "      </button>\n",
              "      \n",
              "  <style>\n",
              "    .colab-df-container {\n",
              "      display:flex;\n",
              "      flex-wrap:wrap;\n",
              "      gap: 12px;\n",
              "    }\n",
              "\n",
              "    .colab-df-convert {\n",
              "      background-color: #E8F0FE;\n",
              "      border: none;\n",
              "      border-radius: 50%;\n",
              "      cursor: pointer;\n",
              "      display: none;\n",
              "      fill: #1967D2;\n",
              "      height: 32px;\n",
              "      padding: 0 0 0 0;\n",
              "      width: 32px;\n",
              "    }\n",
              "\n",
              "    .colab-df-convert:hover {\n",
              "      background-color: #E2EBFA;\n",
              "      box-shadow: 0px 1px 2px rgba(60, 64, 67, 0.3), 0px 1px 3px 1px rgba(60, 64, 67, 0.15);\n",
              "      fill: #174EA6;\n",
              "    }\n",
              "\n",
              "    [theme=dark] .colab-df-convert {\n",
              "      background-color: #3B4455;\n",
              "      fill: #D2E3FC;\n",
              "    }\n",
              "\n",
              "    [theme=dark] .colab-df-convert:hover {\n",
              "      background-color: #434B5C;\n",
              "      box-shadow: 0px 1px 3px 1px rgba(0, 0, 0, 0.15);\n",
              "      filter: drop-shadow(0px 1px 2px rgba(0, 0, 0, 0.3));\n",
              "      fill: #FFFFFF;\n",
              "    }\n",
              "  </style>\n",
              "\n",
              "      <script>\n",
              "        const buttonEl =\n",
              "          document.querySelector('#df-7ca49a2e-5981-449e-a766-749d8e54c548 button.colab-df-convert');\n",
              "        buttonEl.style.display =\n",
              "          google.colab.kernel.accessAllowed ? 'block' : 'none';\n",
              "\n",
              "        async function convertToInteractive(key) {\n",
              "          const element = document.querySelector('#df-7ca49a2e-5981-449e-a766-749d8e54c548');\n",
              "          const dataTable =\n",
              "            await google.colab.kernel.invokeFunction('convertToInteractive',\n",
              "                                                     [key], {});\n",
              "          if (!dataTable) return;\n",
              "\n",
              "          const docLinkHtml = 'Like what you see? Visit the ' +\n",
              "            '<a target=\"_blank\" href=https://colab.research.google.com/notebooks/data_table.ipynb>data table notebook</a>'\n",
              "            + ' to learn more about interactive tables.';\n",
              "          element.innerHTML = '';\n",
              "          dataTable['output_type'] = 'display_data';\n",
              "          await google.colab.output.renderOutput(dataTable, element);\n",
              "          const docLink = document.createElement('div');\n",
              "          docLink.innerHTML = docLinkHtml;\n",
              "          element.appendChild(docLink);\n",
              "        }\n",
              "      </script>\n",
              "    </div>\n",
              "  </div>\n",
              "  "
            ]
          },
          "metadata": {},
          "execution_count": 101
        }
      ],
      "source": [
        "fe_df.drop(columns = ['gender', 'Residence_type'], inplace=True)\n",
        "fe_df.head()"
      ]
    },
    {
      "cell_type": "markdown",
      "metadata": {
        "id": "yva-OROEcIbt"
      },
      "source": [
        "Combine ever_married and work_type columns:\n",
        "Multivariate visualizations showed that both of these features increased strokes.  However, there are other reasons (besides the risk of stroke) that affect patients' choices for marriage and work.  Combining these data might help the model better predict strokes, based on factors more related to the risk of stroke."
      ]
    },
    {
      "cell_type": "code",
      "execution_count": 102,
      "metadata": {
        "id": "6ev2Z33QdFjt",
        "colab": {
          "base_uri": "https://localhost:8080/",
          "height": 238
        },
        "outputId": "0d1f1973-65f5-430a-91d5-8627efb26aea"
      },
      "outputs": [
        {
          "output_type": "execute_result",
          "data": {
            "text/plain": [
              "        age  hypertension  heart_disease  avg_glucose_level   bmi  \\\n",
              "id                                                                  \n",
              "9046   67.0             0              1             228.69  36.6   \n",
              "51676  61.0             0              0             202.21   NaN   \n",
              "31112  80.0             0              1             105.92  32.5   \n",
              "60182  49.0             0              0             171.23  34.4   \n",
              "1665   79.0             1              0             174.12  24.0   \n",
              "\n",
              "        smoking_status  stroke      MarriageWork  \n",
              "id                                                \n",
              "9046   formerly smoked       1        YesPrivate  \n",
              "51676     never smoked       1  YesSelf-employed  \n",
              "31112     never smoked       1        YesPrivate  \n",
              "60182           smokes       1        YesPrivate  \n",
              "1665      never smoked       1  YesSelf-employed  "
            ],
            "text/html": [
              "\n",
              "  <div id=\"df-be3b2e76-96f5-4b8f-a66c-b7dc1d24112e\">\n",
              "    <div class=\"colab-df-container\">\n",
              "      <div>\n",
              "<style scoped>\n",
              "    .dataframe tbody tr th:only-of-type {\n",
              "        vertical-align: middle;\n",
              "    }\n",
              "\n",
              "    .dataframe tbody tr th {\n",
              "        vertical-align: top;\n",
              "    }\n",
              "\n",
              "    .dataframe thead th {\n",
              "        text-align: right;\n",
              "    }\n",
              "</style>\n",
              "<table border=\"1\" class=\"dataframe\">\n",
              "  <thead>\n",
              "    <tr style=\"text-align: right;\">\n",
              "      <th></th>\n",
              "      <th>age</th>\n",
              "      <th>hypertension</th>\n",
              "      <th>heart_disease</th>\n",
              "      <th>avg_glucose_level</th>\n",
              "      <th>bmi</th>\n",
              "      <th>smoking_status</th>\n",
              "      <th>stroke</th>\n",
              "      <th>MarriageWork</th>\n",
              "    </tr>\n",
              "    <tr>\n",
              "      <th>id</th>\n",
              "      <th></th>\n",
              "      <th></th>\n",
              "      <th></th>\n",
              "      <th></th>\n",
              "      <th></th>\n",
              "      <th></th>\n",
              "      <th></th>\n",
              "      <th></th>\n",
              "    </tr>\n",
              "  </thead>\n",
              "  <tbody>\n",
              "    <tr>\n",
              "      <th>9046</th>\n",
              "      <td>67.0</td>\n",
              "      <td>0</td>\n",
              "      <td>1</td>\n",
              "      <td>228.69</td>\n",
              "      <td>36.6</td>\n",
              "      <td>formerly smoked</td>\n",
              "      <td>1</td>\n",
              "      <td>YesPrivate</td>\n",
              "    </tr>\n",
              "    <tr>\n",
              "      <th>51676</th>\n",
              "      <td>61.0</td>\n",
              "      <td>0</td>\n",
              "      <td>0</td>\n",
              "      <td>202.21</td>\n",
              "      <td>NaN</td>\n",
              "      <td>never smoked</td>\n",
              "      <td>1</td>\n",
              "      <td>YesSelf-employed</td>\n",
              "    </tr>\n",
              "    <tr>\n",
              "      <th>31112</th>\n",
              "      <td>80.0</td>\n",
              "      <td>0</td>\n",
              "      <td>1</td>\n",
              "      <td>105.92</td>\n",
              "      <td>32.5</td>\n",
              "      <td>never smoked</td>\n",
              "      <td>1</td>\n",
              "      <td>YesPrivate</td>\n",
              "    </tr>\n",
              "    <tr>\n",
              "      <th>60182</th>\n",
              "      <td>49.0</td>\n",
              "      <td>0</td>\n",
              "      <td>0</td>\n",
              "      <td>171.23</td>\n",
              "      <td>34.4</td>\n",
              "      <td>smokes</td>\n",
              "      <td>1</td>\n",
              "      <td>YesPrivate</td>\n",
              "    </tr>\n",
              "    <tr>\n",
              "      <th>1665</th>\n",
              "      <td>79.0</td>\n",
              "      <td>1</td>\n",
              "      <td>0</td>\n",
              "      <td>174.12</td>\n",
              "      <td>24.0</td>\n",
              "      <td>never smoked</td>\n",
              "      <td>1</td>\n",
              "      <td>YesSelf-employed</td>\n",
              "    </tr>\n",
              "  </tbody>\n",
              "</table>\n",
              "</div>\n",
              "      <button class=\"colab-df-convert\" onclick=\"convertToInteractive('df-be3b2e76-96f5-4b8f-a66c-b7dc1d24112e')\"\n",
              "              title=\"Convert this dataframe to an interactive table.\"\n",
              "              style=\"display:none;\">\n",
              "        \n",
              "  <svg xmlns=\"http://www.w3.org/2000/svg\" height=\"24px\"viewBox=\"0 0 24 24\"\n",
              "       width=\"24px\">\n",
              "    <path d=\"M0 0h24v24H0V0z\" fill=\"none\"/>\n",
              "    <path d=\"M18.56 5.44l.94 2.06.94-2.06 2.06-.94-2.06-.94-.94-2.06-.94 2.06-2.06.94zm-11 1L8.5 8.5l.94-2.06 2.06-.94-2.06-.94L8.5 2.5l-.94 2.06-2.06.94zm10 10l.94 2.06.94-2.06 2.06-.94-2.06-.94-.94-2.06-.94 2.06-2.06.94z\"/><path d=\"M17.41 7.96l-1.37-1.37c-.4-.4-.92-.59-1.43-.59-.52 0-1.04.2-1.43.59L10.3 9.45l-7.72 7.72c-.78.78-.78 2.05 0 2.83L4 21.41c.39.39.9.59 1.41.59.51 0 1.02-.2 1.41-.59l7.78-7.78 2.81-2.81c.8-.78.8-2.07 0-2.86zM5.41 20L4 18.59l7.72-7.72 1.47 1.35L5.41 20z\"/>\n",
              "  </svg>\n",
              "      </button>\n",
              "      \n",
              "  <style>\n",
              "    .colab-df-container {\n",
              "      display:flex;\n",
              "      flex-wrap:wrap;\n",
              "      gap: 12px;\n",
              "    }\n",
              "\n",
              "    .colab-df-convert {\n",
              "      background-color: #E8F0FE;\n",
              "      border: none;\n",
              "      border-radius: 50%;\n",
              "      cursor: pointer;\n",
              "      display: none;\n",
              "      fill: #1967D2;\n",
              "      height: 32px;\n",
              "      padding: 0 0 0 0;\n",
              "      width: 32px;\n",
              "    }\n",
              "\n",
              "    .colab-df-convert:hover {\n",
              "      background-color: #E2EBFA;\n",
              "      box-shadow: 0px 1px 2px rgba(60, 64, 67, 0.3), 0px 1px 3px 1px rgba(60, 64, 67, 0.15);\n",
              "      fill: #174EA6;\n",
              "    }\n",
              "\n",
              "    [theme=dark] .colab-df-convert {\n",
              "      background-color: #3B4455;\n",
              "      fill: #D2E3FC;\n",
              "    }\n",
              "\n",
              "    [theme=dark] .colab-df-convert:hover {\n",
              "      background-color: #434B5C;\n",
              "      box-shadow: 0px 1px 3px 1px rgba(0, 0, 0, 0.15);\n",
              "      filter: drop-shadow(0px 1px 2px rgba(0, 0, 0, 0.3));\n",
              "      fill: #FFFFFF;\n",
              "    }\n",
              "  </style>\n",
              "\n",
              "      <script>\n",
              "        const buttonEl =\n",
              "          document.querySelector('#df-be3b2e76-96f5-4b8f-a66c-b7dc1d24112e button.colab-df-convert');\n",
              "        buttonEl.style.display =\n",
              "          google.colab.kernel.accessAllowed ? 'block' : 'none';\n",
              "\n",
              "        async function convertToInteractive(key) {\n",
              "          const element = document.querySelector('#df-be3b2e76-96f5-4b8f-a66c-b7dc1d24112e');\n",
              "          const dataTable =\n",
              "            await google.colab.kernel.invokeFunction('convertToInteractive',\n",
              "                                                     [key], {});\n",
              "          if (!dataTable) return;\n",
              "\n",
              "          const docLinkHtml = 'Like what you see? Visit the ' +\n",
              "            '<a target=\"_blank\" href=https://colab.research.google.com/notebooks/data_table.ipynb>data table notebook</a>'\n",
              "            + ' to learn more about interactive tables.';\n",
              "          element.innerHTML = '';\n",
              "          dataTable['output_type'] = 'display_data';\n",
              "          await google.colab.output.renderOutput(dataTable, element);\n",
              "          const docLink = document.createElement('div');\n",
              "          docLink.innerHTML = docLinkHtml;\n",
              "          element.appendChild(docLink);\n",
              "        }\n",
              "      </script>\n",
              "    </div>\n",
              "  </div>\n",
              "  "
            ]
          },
          "metadata": {},
          "execution_count": 102
        }
      ],
      "source": [
        "fe_df['MarriageWork'] = fe_df['ever_married'] + fe_df['work_type']\n",
        "fe_df.drop(columns=['ever_married','work_type'], inplace=True)\n",
        "fe_df.head()"
      ]
    },
    {
      "cell_type": "markdown",
      "metadata": {
        "id": "UQ7imC_RV39k"
      },
      "source": [
        "Change numeric medical characteristics to categorical medical characteristics because some of the medical characteristics are already categorical."
      ]
    },
    {
      "cell_type": "code",
      "execution_count": 103,
      "metadata": {
        "id": "sYz7ZbdVWe8F",
        "colab": {
          "base_uri": "https://localhost:8080/",
          "height": 238
        },
        "outputId": "ffb4f3dd-4864-434d-a864-655e3ba5f65a"
      },
      "outputs": [
        {
          "output_type": "display_data",
          "data": {
            "text/plain": [
              "        age  hypertension  heart_disease  avg_glucose_level             bmi  \\\n",
              "id                                                                            \n",
              "9046   67.0             0              1             228.69           obese   \n",
              "51676  61.0             0              0             202.21           obese   \n",
              "31112  80.0             0              1             105.92           obese   \n",
              "60182  49.0             0              0             171.23           obese   \n",
              "1665   79.0             1              0             174.12  healthy weight   \n",
              "\n",
              "        smoking_status  stroke      MarriageWork  \n",
              "id                                                \n",
              "9046   formerly smoked       1        YesPrivate  \n",
              "51676     never smoked       1  YesSelf-employed  \n",
              "31112     never smoked       1        YesPrivate  \n",
              "60182           smokes       1        YesPrivate  \n",
              "1665      never smoked       1  YesSelf-employed  "
            ],
            "text/html": [
              "\n",
              "  <div id=\"df-0d8978d7-1c76-4357-9484-63c9b5c9c1f1\">\n",
              "    <div class=\"colab-df-container\">\n",
              "      <div>\n",
              "<style scoped>\n",
              "    .dataframe tbody tr th:only-of-type {\n",
              "        vertical-align: middle;\n",
              "    }\n",
              "\n",
              "    .dataframe tbody tr th {\n",
              "        vertical-align: top;\n",
              "    }\n",
              "\n",
              "    .dataframe thead th {\n",
              "        text-align: right;\n",
              "    }\n",
              "</style>\n",
              "<table border=\"1\" class=\"dataframe\">\n",
              "  <thead>\n",
              "    <tr style=\"text-align: right;\">\n",
              "      <th></th>\n",
              "      <th>age</th>\n",
              "      <th>hypertension</th>\n",
              "      <th>heart_disease</th>\n",
              "      <th>avg_glucose_level</th>\n",
              "      <th>bmi</th>\n",
              "      <th>smoking_status</th>\n",
              "      <th>stroke</th>\n",
              "      <th>MarriageWork</th>\n",
              "    </tr>\n",
              "    <tr>\n",
              "      <th>id</th>\n",
              "      <th></th>\n",
              "      <th></th>\n",
              "      <th></th>\n",
              "      <th></th>\n",
              "      <th></th>\n",
              "      <th></th>\n",
              "      <th></th>\n",
              "      <th></th>\n",
              "    </tr>\n",
              "  </thead>\n",
              "  <tbody>\n",
              "    <tr>\n",
              "      <th>9046</th>\n",
              "      <td>67.0</td>\n",
              "      <td>0</td>\n",
              "      <td>1</td>\n",
              "      <td>228.69</td>\n",
              "      <td>obese</td>\n",
              "      <td>formerly smoked</td>\n",
              "      <td>1</td>\n",
              "      <td>YesPrivate</td>\n",
              "    </tr>\n",
              "    <tr>\n",
              "      <th>51676</th>\n",
              "      <td>61.0</td>\n",
              "      <td>0</td>\n",
              "      <td>0</td>\n",
              "      <td>202.21</td>\n",
              "      <td>obese</td>\n",
              "      <td>never smoked</td>\n",
              "      <td>1</td>\n",
              "      <td>YesSelf-employed</td>\n",
              "    </tr>\n",
              "    <tr>\n",
              "      <th>31112</th>\n",
              "      <td>80.0</td>\n",
              "      <td>0</td>\n",
              "      <td>1</td>\n",
              "      <td>105.92</td>\n",
              "      <td>obese</td>\n",
              "      <td>never smoked</td>\n",
              "      <td>1</td>\n",
              "      <td>YesPrivate</td>\n",
              "    </tr>\n",
              "    <tr>\n",
              "      <th>60182</th>\n",
              "      <td>49.0</td>\n",
              "      <td>0</td>\n",
              "      <td>0</td>\n",
              "      <td>171.23</td>\n",
              "      <td>obese</td>\n",
              "      <td>smokes</td>\n",
              "      <td>1</td>\n",
              "      <td>YesPrivate</td>\n",
              "    </tr>\n",
              "    <tr>\n",
              "      <th>1665</th>\n",
              "      <td>79.0</td>\n",
              "      <td>1</td>\n",
              "      <td>0</td>\n",
              "      <td>174.12</td>\n",
              "      <td>healthy weight</td>\n",
              "      <td>never smoked</td>\n",
              "      <td>1</td>\n",
              "      <td>YesSelf-employed</td>\n",
              "    </tr>\n",
              "  </tbody>\n",
              "</table>\n",
              "</div>\n",
              "      <button class=\"colab-df-convert\" onclick=\"convertToInteractive('df-0d8978d7-1c76-4357-9484-63c9b5c9c1f1')\"\n",
              "              title=\"Convert this dataframe to an interactive table.\"\n",
              "              style=\"display:none;\">\n",
              "        \n",
              "  <svg xmlns=\"http://www.w3.org/2000/svg\" height=\"24px\"viewBox=\"0 0 24 24\"\n",
              "       width=\"24px\">\n",
              "    <path d=\"M0 0h24v24H0V0z\" fill=\"none\"/>\n",
              "    <path d=\"M18.56 5.44l.94 2.06.94-2.06 2.06-.94-2.06-.94-.94-2.06-.94 2.06-2.06.94zm-11 1L8.5 8.5l.94-2.06 2.06-.94-2.06-.94L8.5 2.5l-.94 2.06-2.06.94zm10 10l.94 2.06.94-2.06 2.06-.94-2.06-.94-.94-2.06-.94 2.06-2.06.94z\"/><path d=\"M17.41 7.96l-1.37-1.37c-.4-.4-.92-.59-1.43-.59-.52 0-1.04.2-1.43.59L10.3 9.45l-7.72 7.72c-.78.78-.78 2.05 0 2.83L4 21.41c.39.39.9.59 1.41.59.51 0 1.02-.2 1.41-.59l7.78-7.78 2.81-2.81c.8-.78.8-2.07 0-2.86zM5.41 20L4 18.59l7.72-7.72 1.47 1.35L5.41 20z\"/>\n",
              "  </svg>\n",
              "      </button>\n",
              "      \n",
              "  <style>\n",
              "    .colab-df-container {\n",
              "      display:flex;\n",
              "      flex-wrap:wrap;\n",
              "      gap: 12px;\n",
              "    }\n",
              "\n",
              "    .colab-df-convert {\n",
              "      background-color: #E8F0FE;\n",
              "      border: none;\n",
              "      border-radius: 50%;\n",
              "      cursor: pointer;\n",
              "      display: none;\n",
              "      fill: #1967D2;\n",
              "      height: 32px;\n",
              "      padding: 0 0 0 0;\n",
              "      width: 32px;\n",
              "    }\n",
              "\n",
              "    .colab-df-convert:hover {\n",
              "      background-color: #E2EBFA;\n",
              "      box-shadow: 0px 1px 2px rgba(60, 64, 67, 0.3), 0px 1px 3px 1px rgba(60, 64, 67, 0.15);\n",
              "      fill: #174EA6;\n",
              "    }\n",
              "\n",
              "    [theme=dark] .colab-df-convert {\n",
              "      background-color: #3B4455;\n",
              "      fill: #D2E3FC;\n",
              "    }\n",
              "\n",
              "    [theme=dark] .colab-df-convert:hover {\n",
              "      background-color: #434B5C;\n",
              "      box-shadow: 0px 1px 3px 1px rgba(0, 0, 0, 0.15);\n",
              "      filter: drop-shadow(0px 1px 2px rgba(0, 0, 0, 0.3));\n",
              "      fill: #FFFFFF;\n",
              "    }\n",
              "  </style>\n",
              "\n",
              "      <script>\n",
              "        const buttonEl =\n",
              "          document.querySelector('#df-0d8978d7-1c76-4357-9484-63c9b5c9c1f1 button.colab-df-convert');\n",
              "        buttonEl.style.display =\n",
              "          google.colab.kernel.accessAllowed ? 'block' : 'none';\n",
              "\n",
              "        async function convertToInteractive(key) {\n",
              "          const element = document.querySelector('#df-0d8978d7-1c76-4357-9484-63c9b5c9c1f1');\n",
              "          const dataTable =\n",
              "            await google.colab.kernel.invokeFunction('convertToInteractive',\n",
              "                                                     [key], {});\n",
              "          if (!dataTable) return;\n",
              "\n",
              "          const docLinkHtml = 'Like what you see? Visit the ' +\n",
              "            '<a target=\"_blank\" href=https://colab.research.google.com/notebooks/data_table.ipynb>data table notebook</a>'\n",
              "            + ' to learn more about interactive tables.';\n",
              "          element.innerHTML = '';\n",
              "          dataTable['output_type'] = 'display_data';\n",
              "          await google.colab.output.renderOutput(dataTable, element);\n",
              "          const docLink = document.createElement('div');\n",
              "          docLink.innerHTML = docLinkHtml;\n",
              "          element.appendChild(docLink);\n",
              "        }\n",
              "      </script>\n",
              "    </div>\n",
              "  </div>\n",
              "  "
            ]
          },
          "metadata": {}
        }
      ],
      "source": [
        "def bmi_bin(bmi):\n",
        "  if bmi < 18.5:\n",
        "    return 'underweight'\n",
        "  elif 18.5 <= bmi <= 24.9:\n",
        "    return 'healthy weight'\n",
        "  elif 25.0 <= bmi <= 29.9:\n",
        "    return 'overweight'\n",
        "  else:\n",
        "    return 'obese'\n",
        "fe_df['bmi'] = fe_df['bmi'].apply(bmi_bin)\n",
        "display(fe_df.head())"
      ]
    },
    {
      "cell_type": "code",
      "execution_count": 104,
      "metadata": {
        "id": "g0EUY3pGbpWQ",
        "colab": {
          "base_uri": "https://localhost:8080/",
          "height": 238
        },
        "outputId": "385b3f63-b260-428c-c74a-63b8b8c4a5b0"
      },
      "outputs": [
        {
          "output_type": "execute_result",
          "data": {
            "text/plain": [
              "        age  hypertension  heart_disease avg_glucose_level             bmi  \\\n",
              "id                                                                           \n",
              "9046   67.0             0              1          diabetes           obese   \n",
              "51676  61.0             0              0          diabetes           obese   \n",
              "31112  80.0             0              1       prediabetes           obese   \n",
              "60182  49.0             0              0          diabetes           obese   \n",
              "1665   79.0             1              0          diabetes  healthy weight   \n",
              "\n",
              "        smoking_status  stroke      MarriageWork  \n",
              "id                                                \n",
              "9046   formerly smoked       1        YesPrivate  \n",
              "51676     never smoked       1  YesSelf-employed  \n",
              "31112     never smoked       1        YesPrivate  \n",
              "60182           smokes       1        YesPrivate  \n",
              "1665      never smoked       1  YesSelf-employed  "
            ],
            "text/html": [
              "\n",
              "  <div id=\"df-e5f75a40-3baf-4a89-839d-f42aed0bd096\">\n",
              "    <div class=\"colab-df-container\">\n",
              "      <div>\n",
              "<style scoped>\n",
              "    .dataframe tbody tr th:only-of-type {\n",
              "        vertical-align: middle;\n",
              "    }\n",
              "\n",
              "    .dataframe tbody tr th {\n",
              "        vertical-align: top;\n",
              "    }\n",
              "\n",
              "    .dataframe thead th {\n",
              "        text-align: right;\n",
              "    }\n",
              "</style>\n",
              "<table border=\"1\" class=\"dataframe\">\n",
              "  <thead>\n",
              "    <tr style=\"text-align: right;\">\n",
              "      <th></th>\n",
              "      <th>age</th>\n",
              "      <th>hypertension</th>\n",
              "      <th>heart_disease</th>\n",
              "      <th>avg_glucose_level</th>\n",
              "      <th>bmi</th>\n",
              "      <th>smoking_status</th>\n",
              "      <th>stroke</th>\n",
              "      <th>MarriageWork</th>\n",
              "    </tr>\n",
              "    <tr>\n",
              "      <th>id</th>\n",
              "      <th></th>\n",
              "      <th></th>\n",
              "      <th></th>\n",
              "      <th></th>\n",
              "      <th></th>\n",
              "      <th></th>\n",
              "      <th></th>\n",
              "      <th></th>\n",
              "    </tr>\n",
              "  </thead>\n",
              "  <tbody>\n",
              "    <tr>\n",
              "      <th>9046</th>\n",
              "      <td>67.0</td>\n",
              "      <td>0</td>\n",
              "      <td>1</td>\n",
              "      <td>diabetes</td>\n",
              "      <td>obese</td>\n",
              "      <td>formerly smoked</td>\n",
              "      <td>1</td>\n",
              "      <td>YesPrivate</td>\n",
              "    </tr>\n",
              "    <tr>\n",
              "      <th>51676</th>\n",
              "      <td>61.0</td>\n",
              "      <td>0</td>\n",
              "      <td>0</td>\n",
              "      <td>diabetes</td>\n",
              "      <td>obese</td>\n",
              "      <td>never smoked</td>\n",
              "      <td>1</td>\n",
              "      <td>YesSelf-employed</td>\n",
              "    </tr>\n",
              "    <tr>\n",
              "      <th>31112</th>\n",
              "      <td>80.0</td>\n",
              "      <td>0</td>\n",
              "      <td>1</td>\n",
              "      <td>prediabetes</td>\n",
              "      <td>obese</td>\n",
              "      <td>never smoked</td>\n",
              "      <td>1</td>\n",
              "      <td>YesPrivate</td>\n",
              "    </tr>\n",
              "    <tr>\n",
              "      <th>60182</th>\n",
              "      <td>49.0</td>\n",
              "      <td>0</td>\n",
              "      <td>0</td>\n",
              "      <td>diabetes</td>\n",
              "      <td>obese</td>\n",
              "      <td>smokes</td>\n",
              "      <td>1</td>\n",
              "      <td>YesPrivate</td>\n",
              "    </tr>\n",
              "    <tr>\n",
              "      <th>1665</th>\n",
              "      <td>79.0</td>\n",
              "      <td>1</td>\n",
              "      <td>0</td>\n",
              "      <td>diabetes</td>\n",
              "      <td>healthy weight</td>\n",
              "      <td>never smoked</td>\n",
              "      <td>1</td>\n",
              "      <td>YesSelf-employed</td>\n",
              "    </tr>\n",
              "  </tbody>\n",
              "</table>\n",
              "</div>\n",
              "      <button class=\"colab-df-convert\" onclick=\"convertToInteractive('df-e5f75a40-3baf-4a89-839d-f42aed0bd096')\"\n",
              "              title=\"Convert this dataframe to an interactive table.\"\n",
              "              style=\"display:none;\">\n",
              "        \n",
              "  <svg xmlns=\"http://www.w3.org/2000/svg\" height=\"24px\"viewBox=\"0 0 24 24\"\n",
              "       width=\"24px\">\n",
              "    <path d=\"M0 0h24v24H0V0z\" fill=\"none\"/>\n",
              "    <path d=\"M18.56 5.44l.94 2.06.94-2.06 2.06-.94-2.06-.94-.94-2.06-.94 2.06-2.06.94zm-11 1L8.5 8.5l.94-2.06 2.06-.94-2.06-.94L8.5 2.5l-.94 2.06-2.06.94zm10 10l.94 2.06.94-2.06 2.06-.94-2.06-.94-.94-2.06-.94 2.06-2.06.94z\"/><path d=\"M17.41 7.96l-1.37-1.37c-.4-.4-.92-.59-1.43-.59-.52 0-1.04.2-1.43.59L10.3 9.45l-7.72 7.72c-.78.78-.78 2.05 0 2.83L4 21.41c.39.39.9.59 1.41.59.51 0 1.02-.2 1.41-.59l7.78-7.78 2.81-2.81c.8-.78.8-2.07 0-2.86zM5.41 20L4 18.59l7.72-7.72 1.47 1.35L5.41 20z\"/>\n",
              "  </svg>\n",
              "      </button>\n",
              "      \n",
              "  <style>\n",
              "    .colab-df-container {\n",
              "      display:flex;\n",
              "      flex-wrap:wrap;\n",
              "      gap: 12px;\n",
              "    }\n",
              "\n",
              "    .colab-df-convert {\n",
              "      background-color: #E8F0FE;\n",
              "      border: none;\n",
              "      border-radius: 50%;\n",
              "      cursor: pointer;\n",
              "      display: none;\n",
              "      fill: #1967D2;\n",
              "      height: 32px;\n",
              "      padding: 0 0 0 0;\n",
              "      width: 32px;\n",
              "    }\n",
              "\n",
              "    .colab-df-convert:hover {\n",
              "      background-color: #E2EBFA;\n",
              "      box-shadow: 0px 1px 2px rgba(60, 64, 67, 0.3), 0px 1px 3px 1px rgba(60, 64, 67, 0.15);\n",
              "      fill: #174EA6;\n",
              "    }\n",
              "\n",
              "    [theme=dark] .colab-df-convert {\n",
              "      background-color: #3B4455;\n",
              "      fill: #D2E3FC;\n",
              "    }\n",
              "\n",
              "    [theme=dark] .colab-df-convert:hover {\n",
              "      background-color: #434B5C;\n",
              "      box-shadow: 0px 1px 3px 1px rgba(0, 0, 0, 0.15);\n",
              "      filter: drop-shadow(0px 1px 2px rgba(0, 0, 0, 0.3));\n",
              "      fill: #FFFFFF;\n",
              "    }\n",
              "  </style>\n",
              "\n",
              "      <script>\n",
              "        const buttonEl =\n",
              "          document.querySelector('#df-e5f75a40-3baf-4a89-839d-f42aed0bd096 button.colab-df-convert');\n",
              "        buttonEl.style.display =\n",
              "          google.colab.kernel.accessAllowed ? 'block' : 'none';\n",
              "\n",
              "        async function convertToInteractive(key) {\n",
              "          const element = document.querySelector('#df-e5f75a40-3baf-4a89-839d-f42aed0bd096');\n",
              "          const dataTable =\n",
              "            await google.colab.kernel.invokeFunction('convertToInteractive',\n",
              "                                                     [key], {});\n",
              "          if (!dataTable) return;\n",
              "\n",
              "          const docLinkHtml = 'Like what you see? Visit the ' +\n",
              "            '<a target=\"_blank\" href=https://colab.research.google.com/notebooks/data_table.ipynb>data table notebook</a>'\n",
              "            + ' to learn more about interactive tables.';\n",
              "          element.innerHTML = '';\n",
              "          dataTable['output_type'] = 'display_data';\n",
              "          await google.colab.output.renderOutput(dataTable, element);\n",
              "          const docLink = document.createElement('div');\n",
              "          docLink.innerHTML = docLinkHtml;\n",
              "          element.appendChild(docLink);\n",
              "        }\n",
              "      </script>\n",
              "    </div>\n",
              "  </div>\n",
              "  "
            ]
          },
          "metadata": {},
          "execution_count": 104
        }
      ],
      "source": [
        "def glucose_bin(x):\n",
        "  if 126 < x:\n",
        "    return 'diabetes'\n",
        "  elif 100 <= x <= 125:\n",
        "    return 'prediabetes'\n",
        "  else:\n",
        "    return 'normal'\n",
        "fe_df['avg_glucose_level'] = fe_df['avg_glucose_level'].apply(glucose_bin)\n",
        "fe_df.head()"
      ]
    },
    {
      "cell_type": "markdown",
      "metadata": {
        "id": "9Pyuzp_cEzyR"
      },
      "source": [
        "#### Separate the data into the features matrix (X) and target vector (y)"
      ]
    },
    {
      "cell_type": "code",
      "execution_count": 105,
      "metadata": {
        "id": "ywPkhkZafKWO"
      },
      "outputs": [],
      "source": [
        "X = fe_df.drop(columns = 'stroke')\n",
        "y = fe_df['stroke']"
      ]
    },
    {
      "cell_type": "markdown",
      "metadata": {
        "id": "Rm8uFtwuE6vF"
      },
      "source": [
        "#### Train test split the data (model validation)"
      ]
    },
    {
      "cell_type": "code",
      "execution_count": 106,
      "metadata": {
        "id": "AXZy9lA0fUQD"
      },
      "outputs": [],
      "source": [
        "X_train, X_test, y_train, y_test = train_test_split(X, y, stratify = y, random_state = 42)"
      ]
    },
    {
      "cell_type": "markdown",
      "metadata": {
        "id": "9j8PI-W1E-1l"
      },
      "source": [
        "#### Preprocessor"
      ]
    },
    {
      "cell_type": "code",
      "execution_count": 107,
      "metadata": {
        "id": "chyvlcemfb4G",
        "colab": {
          "base_uri": "https://localhost:8080/",
          "height": 118
        },
        "outputId": "84f419c2-30ab-4f4a-a9a4-2a962c469d83"
      },
      "outputs": [
        {
          "output_type": "execute_result",
          "data": {
            "text/plain": [
              "ColumnTransformer(transformers=[('onehotencoder',\n",
              "                                 OneHotEncoder(handle_unknown='ignore',\n",
              "                                               sparse=False),\n",
              "                                 <sklearn.compose._column_transformer.make_column_selector object at 0x7f26fad4db20>),\n",
              "                                ('simpleimputer',\n",
              "                                 SimpleImputer(strategy='most_frequent'),\n",
              "                                 <sklearn.compose._column_transformer.make_column_selector object at 0x7f26fad4dfd0>)])"
            ],
            "text/html": [
              "<style>#sk-84dd1935-455b-4b0b-981d-ea32ce6428af {color: black;background-color: white;}#sk-84dd1935-455b-4b0b-981d-ea32ce6428af pre{padding: 0;}#sk-84dd1935-455b-4b0b-981d-ea32ce6428af div.sk-toggleable {background-color: white;}#sk-84dd1935-455b-4b0b-981d-ea32ce6428af label.sk-toggleable__label {cursor: pointer;display: block;width: 100%;margin-bottom: 0;padding: 0.3em;box-sizing: border-box;text-align: center;}#sk-84dd1935-455b-4b0b-981d-ea32ce6428af label.sk-toggleable__label-arrow:before {content: \"▸\";float: left;margin-right: 0.25em;color: #696969;}#sk-84dd1935-455b-4b0b-981d-ea32ce6428af label.sk-toggleable__label-arrow:hover:before {color: black;}#sk-84dd1935-455b-4b0b-981d-ea32ce6428af div.sk-estimator:hover label.sk-toggleable__label-arrow:before {color: black;}#sk-84dd1935-455b-4b0b-981d-ea32ce6428af div.sk-toggleable__content {max-height: 0;max-width: 0;overflow: hidden;text-align: left;background-color: #f0f8ff;}#sk-84dd1935-455b-4b0b-981d-ea32ce6428af div.sk-toggleable__content pre {margin: 0.2em;color: black;border-radius: 0.25em;background-color: #f0f8ff;}#sk-84dd1935-455b-4b0b-981d-ea32ce6428af input.sk-toggleable__control:checked~div.sk-toggleable__content {max-height: 200px;max-width: 100%;overflow: auto;}#sk-84dd1935-455b-4b0b-981d-ea32ce6428af input.sk-toggleable__control:checked~label.sk-toggleable__label-arrow:before {content: \"▾\";}#sk-84dd1935-455b-4b0b-981d-ea32ce6428af div.sk-estimator input.sk-toggleable__control:checked~label.sk-toggleable__label {background-color: #d4ebff;}#sk-84dd1935-455b-4b0b-981d-ea32ce6428af div.sk-label input.sk-toggleable__control:checked~label.sk-toggleable__label {background-color: #d4ebff;}#sk-84dd1935-455b-4b0b-981d-ea32ce6428af input.sk-hidden--visually {border: 0;clip: rect(1px 1px 1px 1px);clip: rect(1px, 1px, 1px, 1px);height: 1px;margin: -1px;overflow: hidden;padding: 0;position: absolute;width: 1px;}#sk-84dd1935-455b-4b0b-981d-ea32ce6428af div.sk-estimator {font-family: monospace;background-color: #f0f8ff;border: 1px dotted black;border-radius: 0.25em;box-sizing: border-box;margin-bottom: 0.5em;}#sk-84dd1935-455b-4b0b-981d-ea32ce6428af div.sk-estimator:hover {background-color: #d4ebff;}#sk-84dd1935-455b-4b0b-981d-ea32ce6428af div.sk-parallel-item::after {content: \"\";width: 100%;border-bottom: 1px solid gray;flex-grow: 1;}#sk-84dd1935-455b-4b0b-981d-ea32ce6428af div.sk-label:hover label.sk-toggleable__label {background-color: #d4ebff;}#sk-84dd1935-455b-4b0b-981d-ea32ce6428af div.sk-serial::before {content: \"\";position: absolute;border-left: 1px solid gray;box-sizing: border-box;top: 2em;bottom: 0;left: 50%;}#sk-84dd1935-455b-4b0b-981d-ea32ce6428af div.sk-serial {display: flex;flex-direction: column;align-items: center;background-color: white;padding-right: 0.2em;padding-left: 0.2em;}#sk-84dd1935-455b-4b0b-981d-ea32ce6428af div.sk-item {z-index: 1;}#sk-84dd1935-455b-4b0b-981d-ea32ce6428af div.sk-parallel {display: flex;align-items: stretch;justify-content: center;background-color: white;}#sk-84dd1935-455b-4b0b-981d-ea32ce6428af div.sk-parallel::before {content: \"\";position: absolute;border-left: 1px solid gray;box-sizing: border-box;top: 2em;bottom: 0;left: 50%;}#sk-84dd1935-455b-4b0b-981d-ea32ce6428af div.sk-parallel-item {display: flex;flex-direction: column;position: relative;background-color: white;}#sk-84dd1935-455b-4b0b-981d-ea32ce6428af div.sk-parallel-item:first-child::after {align-self: flex-end;width: 50%;}#sk-84dd1935-455b-4b0b-981d-ea32ce6428af div.sk-parallel-item:last-child::after {align-self: flex-start;width: 50%;}#sk-84dd1935-455b-4b0b-981d-ea32ce6428af div.sk-parallel-item:only-child::after {width: 0;}#sk-84dd1935-455b-4b0b-981d-ea32ce6428af div.sk-dashed-wrapped {border: 1px dashed gray;margin: 0 0.4em 0.5em 0.4em;box-sizing: border-box;padding-bottom: 0.4em;background-color: white;position: relative;}#sk-84dd1935-455b-4b0b-981d-ea32ce6428af div.sk-label label {font-family: monospace;font-weight: bold;background-color: white;display: inline-block;line-height: 1.2em;}#sk-84dd1935-455b-4b0b-981d-ea32ce6428af div.sk-label-container {position: relative;z-index: 2;text-align: center;}#sk-84dd1935-455b-4b0b-981d-ea32ce6428af div.sk-container {/* jupyter's `normalize.less` sets `[hidden] { display: none; }` but bootstrap.min.css set `[hidden] { display: none !important; }` so we also need the `!important` here to be able to override the default hidden behavior on the sphinx rendered scikit-learn.org. See: https://github.com/scikit-learn/scikit-learn/issues/21755 */display: inline-block !important;position: relative;}#sk-84dd1935-455b-4b0b-981d-ea32ce6428af div.sk-text-repr-fallback {display: none;}</style><div id=\"sk-84dd1935-455b-4b0b-981d-ea32ce6428af\" class=\"sk-top-container\"><div class=\"sk-text-repr-fallback\"><pre>ColumnTransformer(transformers=[(&#x27;onehotencoder&#x27;,\n",
              "                                 OneHotEncoder(handle_unknown=&#x27;ignore&#x27;,\n",
              "                                               sparse=False),\n",
              "                                 &lt;sklearn.compose._column_transformer.make_column_selector object at 0x7f26fad4db20&gt;),\n",
              "                                (&#x27;simpleimputer&#x27;,\n",
              "                                 SimpleImputer(strategy=&#x27;most_frequent&#x27;),\n",
              "                                 &lt;sklearn.compose._column_transformer.make_column_selector object at 0x7f26fad4dfd0&gt;)])</pre><b>Please rerun this cell to show the HTML repr or trust the notebook.</b></div><div class=\"sk-container\" hidden><div class=\"sk-item sk-dashed-wrapped\"><div class=\"sk-label-container\"><div class=\"sk-label sk-toggleable\"><input class=\"sk-toggleable__control sk-hidden--visually\" id=\"41953c85-644d-49d5-8004-2f36eee66bc8\" type=\"checkbox\" ><label for=\"41953c85-644d-49d5-8004-2f36eee66bc8\" class=\"sk-toggleable__label sk-toggleable__label-arrow\">ColumnTransformer</label><div class=\"sk-toggleable__content\"><pre>ColumnTransformer(transformers=[(&#x27;onehotencoder&#x27;,\n",
              "                                 OneHotEncoder(handle_unknown=&#x27;ignore&#x27;,\n",
              "                                               sparse=False),\n",
              "                                 &lt;sklearn.compose._column_transformer.make_column_selector object at 0x7f26fad4db20&gt;),\n",
              "                                (&#x27;simpleimputer&#x27;,\n",
              "                                 SimpleImputer(strategy=&#x27;most_frequent&#x27;),\n",
              "                                 &lt;sklearn.compose._column_transformer.make_column_selector object at 0x7f26fad4dfd0&gt;)])</pre></div></div></div><div class=\"sk-parallel\"><div class=\"sk-parallel-item\"><div class=\"sk-item\"><div class=\"sk-label-container\"><div class=\"sk-label sk-toggleable\"><input class=\"sk-toggleable__control sk-hidden--visually\" id=\"a65dba26-00e6-4d22-a1ac-98c977d6ceb8\" type=\"checkbox\" ><label for=\"a65dba26-00e6-4d22-a1ac-98c977d6ceb8\" class=\"sk-toggleable__label sk-toggleable__label-arrow\">onehotencoder</label><div class=\"sk-toggleable__content\"><pre>&lt;sklearn.compose._column_transformer.make_column_selector object at 0x7f26fad4db20&gt;</pre></div></div></div><div class=\"sk-serial\"><div class=\"sk-item\"><div class=\"sk-estimator sk-toggleable\"><input class=\"sk-toggleable__control sk-hidden--visually\" id=\"33463798-ab0a-4673-8bed-f7273a9236c1\" type=\"checkbox\" ><label for=\"33463798-ab0a-4673-8bed-f7273a9236c1\" class=\"sk-toggleable__label sk-toggleable__label-arrow\">OneHotEncoder</label><div class=\"sk-toggleable__content\"><pre>OneHotEncoder(handle_unknown=&#x27;ignore&#x27;, sparse=False)</pre></div></div></div></div></div></div><div class=\"sk-parallel-item\"><div class=\"sk-item\"><div class=\"sk-label-container\"><div class=\"sk-label sk-toggleable\"><input class=\"sk-toggleable__control sk-hidden--visually\" id=\"72f3be35-0a55-4210-8963-4e744bbc20f5\" type=\"checkbox\" ><label for=\"72f3be35-0a55-4210-8963-4e744bbc20f5\" class=\"sk-toggleable__label sk-toggleable__label-arrow\">simpleimputer</label><div class=\"sk-toggleable__content\"><pre>&lt;sklearn.compose._column_transformer.make_column_selector object at 0x7f26fad4dfd0&gt;</pre></div></div></div><div class=\"sk-serial\"><div class=\"sk-item\"><div class=\"sk-estimator sk-toggleable\"><input class=\"sk-toggleable__control sk-hidden--visually\" id=\"f351ac50-d16f-472c-beee-d0d3ec3e6124\" type=\"checkbox\" ><label for=\"f351ac50-d16f-472c-beee-d0d3ec3e6124\" class=\"sk-toggleable__label sk-toggleable__label-arrow\">SimpleImputer</label><div class=\"sk-toggleable__content\"><pre>SimpleImputer(strategy=&#x27;most_frequent&#x27;)</pre></div></div></div></div></div></div></div></div></div></div>"
            ]
          },
          "metadata": {},
          "execution_count": 107
        }
      ],
      "source": [
        "#instantiate the transformers to impute missing values and one-hot encode the categorical data\n",
        "freq_imputer = SimpleImputer(strategy = 'most_frequent')\n",
        "ohe = OneHotEncoder(sparse=False, handle_unknown='ignore')\n",
        "#create columnselectors for the numeric and categorical data\n",
        "cat_selector = make_column_selector(dtype_include='object')\n",
        "num_selector = make_column_selector(dtype_include='number')\n",
        "#combine the pipelines and columnselectors into tuples for the columntransformer\n",
        "cat_tuple = (ohe, cat_selector)\n",
        "num_tuple = (freq_imputer, num_selector)\n",
        "#create the preprocessing columntransformer\n",
        "preprocessor3 = make_column_transformer(cat_tuple, num_tuple, remainder='drop')\n",
        "preprocessor3"
      ]
    },
    {
      "cell_type": "markdown",
      "metadata": {
        "id": "_ze-kHAWNeZx"
      },
      "source": [
        "### LightGBM with SMOTE on engineered features"
      ]
    },
    {
      "cell_type": "code",
      "execution_count": 108,
      "metadata": {
        "id": "dm2eTAq9ga0_",
        "colab": {
          "base_uri": "https://localhost:8080/"
        },
        "outputId": "b1cddcc5-52b4-4035-c360-448074d53d5d"
      },
      "outputs": [
        {
          "output_type": "stream",
          "name": "stdout",
          "text": [
            "0.9577244258872651\n",
            "0.9264475743348983\n"
          ]
        }
      ],
      "source": [
        "#instantiate the model, the standard scaler, and smote\n",
        "lgbm_fe = LGBMClassifier(random_state=42)\n",
        "scaler = StandardScaler()\n",
        "smote = SMOTE(random_state=42)\n",
        "#create a model pipeline\n",
        "lgbm_fe_pipe = make_sampler_pipeline(preprocessor3, scaler, smote, lgbm_fe)\n",
        "#fit the model pipeline on the training data\n",
        "lgbm_fe_pipe.fit(X_train, y_train)\n",
        "#evaluate the model's performance\n",
        "print(lgbm_fe_pipe.score(X_train, y_train))\n",
        "print(lgbm_fe_pipe.score(X_test, y_test))"
      ]
    },
    {
      "cell_type": "markdown",
      "metadata": {
        "id": "oYM66W6ViNkr"
      },
      "source": [
        "#### Tuning hyperparameters using GridSearchCV"
      ]
    },
    {
      "cell_type": "code",
      "execution_count": 109,
      "metadata": {
        "id": "sBP0l69fiR-N",
        "colab": {
          "base_uri": "https://localhost:8080/"
        },
        "outputId": "3233f21c-213e-43bf-a30d-eb6d0a7a349e"
      },
      "outputs": [
        {
          "output_type": "execute_result",
          "data": {
            "text/plain": [
              "{'memory': None,\n",
              " 'steps': [('columntransformer',\n",
              "   ColumnTransformer(transformers=[('onehotencoder',\n",
              "                                    OneHotEncoder(handle_unknown='ignore',\n",
              "                                                  sparse=False),\n",
              "                                    <sklearn.compose._column_transformer.make_column_selector object at 0x7f26fad4db20>),\n",
              "                                   ('simpleimputer',\n",
              "                                    SimpleImputer(strategy='most_frequent'),\n",
              "                                    <sklearn.compose._column_transformer.make_column_selector object at 0x7f26fad4dfd0>)])),\n",
              "  ('standardscaler', StandardScaler()),\n",
              "  ('smote', SMOTE(random_state=42)),\n",
              "  ('lgbmclassifier', LGBMClassifier(random_state=42))],\n",
              " 'verbose': False,\n",
              " 'columntransformer': ColumnTransformer(transformers=[('onehotencoder',\n",
              "                                  OneHotEncoder(handle_unknown='ignore',\n",
              "                                                sparse=False),\n",
              "                                  <sklearn.compose._column_transformer.make_column_selector object at 0x7f26fad4db20>),\n",
              "                                 ('simpleimputer',\n",
              "                                  SimpleImputer(strategy='most_frequent'),\n",
              "                                  <sklearn.compose._column_transformer.make_column_selector object at 0x7f26fad4dfd0>)]),\n",
              " 'standardscaler': StandardScaler(),\n",
              " 'smote': SMOTE(random_state=42),\n",
              " 'lgbmclassifier': LGBMClassifier(random_state=42),\n",
              " 'columntransformer__n_jobs': None,\n",
              " 'columntransformer__remainder': 'drop',\n",
              " 'columntransformer__sparse_threshold': 0.3,\n",
              " 'columntransformer__transformer_weights': None,\n",
              " 'columntransformer__transformers': [('onehotencoder',\n",
              "   OneHotEncoder(handle_unknown='ignore', sparse=False),\n",
              "   <sklearn.compose._column_transformer.make_column_selector at 0x7f26fad4db20>),\n",
              "  ('simpleimputer',\n",
              "   SimpleImputer(strategy='most_frequent'),\n",
              "   <sklearn.compose._column_transformer.make_column_selector at 0x7f26fad4dfd0>)],\n",
              " 'columntransformer__verbose': False,\n",
              " 'columntransformer__verbose_feature_names_out': True,\n",
              " 'columntransformer__onehotencoder': OneHotEncoder(handle_unknown='ignore', sparse=False),\n",
              " 'columntransformer__simpleimputer': SimpleImputer(strategy='most_frequent'),\n",
              " 'columntransformer__onehotencoder__categories': 'auto',\n",
              " 'columntransformer__onehotencoder__drop': None,\n",
              " 'columntransformer__onehotencoder__dtype': numpy.float64,\n",
              " 'columntransformer__onehotencoder__handle_unknown': 'ignore',\n",
              " 'columntransformer__onehotencoder__sparse': False,\n",
              " 'columntransformer__simpleimputer__add_indicator': False,\n",
              " 'columntransformer__simpleimputer__copy': True,\n",
              " 'columntransformer__simpleimputer__fill_value': None,\n",
              " 'columntransformer__simpleimputer__missing_values': nan,\n",
              " 'columntransformer__simpleimputer__strategy': 'most_frequent',\n",
              " 'columntransformer__simpleimputer__verbose': 0,\n",
              " 'standardscaler__copy': True,\n",
              " 'standardscaler__with_mean': True,\n",
              " 'standardscaler__with_std': True,\n",
              " 'smote__k_neighbors': 5,\n",
              " 'smote__n_jobs': None,\n",
              " 'smote__random_state': 42,\n",
              " 'smote__sampling_strategy': 'auto',\n",
              " 'lgbmclassifier__boosting_type': 'gbdt',\n",
              " 'lgbmclassifier__class_weight': None,\n",
              " 'lgbmclassifier__colsample_bytree': 1.0,\n",
              " 'lgbmclassifier__importance_type': 'split',\n",
              " 'lgbmclassifier__learning_rate': 0.1,\n",
              " 'lgbmclassifier__max_depth': -1,\n",
              " 'lgbmclassifier__min_child_samples': 20,\n",
              " 'lgbmclassifier__min_child_weight': 0.001,\n",
              " 'lgbmclassifier__min_split_gain': 0.0,\n",
              " 'lgbmclassifier__n_estimators': 100,\n",
              " 'lgbmclassifier__n_jobs': -1,\n",
              " 'lgbmclassifier__num_leaves': 31,\n",
              " 'lgbmclassifier__objective': None,\n",
              " 'lgbmclassifier__random_state': 42,\n",
              " 'lgbmclassifier__reg_alpha': 0.0,\n",
              " 'lgbmclassifier__reg_lambda': 0.0,\n",
              " 'lgbmclassifier__silent': True,\n",
              " 'lgbmclassifier__subsample': 1.0,\n",
              " 'lgbmclassifier__subsample_for_bin': 200000,\n",
              " 'lgbmclassifier__subsample_freq': 0}"
            ]
          },
          "metadata": {},
          "execution_count": 109
        }
      ],
      "source": [
        "#choose hyperparameters for tuning\n",
        "lgbm_fe_pipe.get_params()"
      ]
    },
    {
      "cell_type": "code",
      "execution_count": 110,
      "metadata": {
        "id": "yryxkb-xZFko"
      },
      "outputs": [],
      "source": [
        "#create a parameter grid dictionary\n",
        "lgbm_fe_param_grid = {'lgbmclassifier__num_leaves': [8, 21, 31, 100, 1000],\n",
        "               'lgbmclassifier__max_depth': range(3, 12),\n",
        "              'lgbmclassifier__learning_rate': [.01, 0.1, 0.2],\n",
        "              'lgbmclassifier__class_weight': ['balanced', None]}  "
      ]
    },
    {
      "cell_type": "code",
      "execution_count": 111,
      "metadata": {
        "id": "Z99ta1muicT1"
      },
      "outputs": [],
      "source": [
        "#instantiate the GridSearchCV object\n",
        "lgbm_fe_grid_search = GridSearchCV(lgbm_fe_pipe, lgbm_fe_param_grid)"
      ]
    },
    {
      "cell_type": "code",
      "execution_count": 112,
      "metadata": {
        "id": "hrKRlFApipJS",
        "colab": {
          "base_uri": "https://localhost:8080/",
          "height": 263
        },
        "outputId": "738dc43f-2421-4619-cc82-f4dc832ccb02"
      },
      "outputs": [
        {
          "output_type": "execute_result",
          "data": {
            "text/plain": [
              "GridSearchCV(estimator=Pipeline(steps=[('columntransformer',\n",
              "                                        ColumnTransformer(transformers=[('onehotencoder',\n",
              "                                                                         OneHotEncoder(handle_unknown='ignore',\n",
              "                                                                                       sparse=False),\n",
              "                                                                         <sklearn.compose._column_transformer.make_column_selector object at 0x7f26fad4db20>),\n",
              "                                                                        ('simpleimputer',\n",
              "                                                                         SimpleImputer(strategy='most_frequent'),\n",
              "                                                                         <sklearn.compose._column_transformer.make_column_s...tor object at 0x7f26fad4dfd0>)])),\n",
              "                                       ('standardscaler', StandardScaler()),\n",
              "                                       ('smote', SMOTE(random_state=42)),\n",
              "                                       ('lgbmclassifier',\n",
              "                                        LGBMClassifier(random_state=42))]),\n",
              "             param_grid={'lgbmclassifier__class_weight': ['balanced', None],\n",
              "                         'lgbmclassifier__learning_rate': [0.01, 0.1, 0.2],\n",
              "                         'lgbmclassifier__max_depth': range(3, 12),\n",
              "                         'lgbmclassifier__num_leaves': [8, 21, 31, 100, 1000]})"
            ],
            "text/html": [
              "<style>#sk-7c189f93-8f5d-46ef-8d31-f636f063ff5a {color: black;background-color: white;}#sk-7c189f93-8f5d-46ef-8d31-f636f063ff5a pre{padding: 0;}#sk-7c189f93-8f5d-46ef-8d31-f636f063ff5a div.sk-toggleable {background-color: white;}#sk-7c189f93-8f5d-46ef-8d31-f636f063ff5a label.sk-toggleable__label {cursor: pointer;display: block;width: 100%;margin-bottom: 0;padding: 0.3em;box-sizing: border-box;text-align: center;}#sk-7c189f93-8f5d-46ef-8d31-f636f063ff5a label.sk-toggleable__label-arrow:before {content: \"▸\";float: left;margin-right: 0.25em;color: #696969;}#sk-7c189f93-8f5d-46ef-8d31-f636f063ff5a label.sk-toggleable__label-arrow:hover:before {color: black;}#sk-7c189f93-8f5d-46ef-8d31-f636f063ff5a div.sk-estimator:hover label.sk-toggleable__label-arrow:before {color: black;}#sk-7c189f93-8f5d-46ef-8d31-f636f063ff5a div.sk-toggleable__content {max-height: 0;max-width: 0;overflow: hidden;text-align: left;background-color: #f0f8ff;}#sk-7c189f93-8f5d-46ef-8d31-f636f063ff5a div.sk-toggleable__content pre {margin: 0.2em;color: black;border-radius: 0.25em;background-color: #f0f8ff;}#sk-7c189f93-8f5d-46ef-8d31-f636f063ff5a input.sk-toggleable__control:checked~div.sk-toggleable__content {max-height: 200px;max-width: 100%;overflow: auto;}#sk-7c189f93-8f5d-46ef-8d31-f636f063ff5a input.sk-toggleable__control:checked~label.sk-toggleable__label-arrow:before {content: \"▾\";}#sk-7c189f93-8f5d-46ef-8d31-f636f063ff5a div.sk-estimator input.sk-toggleable__control:checked~label.sk-toggleable__label {background-color: #d4ebff;}#sk-7c189f93-8f5d-46ef-8d31-f636f063ff5a div.sk-label input.sk-toggleable__control:checked~label.sk-toggleable__label {background-color: #d4ebff;}#sk-7c189f93-8f5d-46ef-8d31-f636f063ff5a input.sk-hidden--visually {border: 0;clip: rect(1px 1px 1px 1px);clip: rect(1px, 1px, 1px, 1px);height: 1px;margin: -1px;overflow: hidden;padding: 0;position: absolute;width: 1px;}#sk-7c189f93-8f5d-46ef-8d31-f636f063ff5a div.sk-estimator {font-family: monospace;background-color: #f0f8ff;border: 1px dotted black;border-radius: 0.25em;box-sizing: border-box;margin-bottom: 0.5em;}#sk-7c189f93-8f5d-46ef-8d31-f636f063ff5a div.sk-estimator:hover {background-color: #d4ebff;}#sk-7c189f93-8f5d-46ef-8d31-f636f063ff5a div.sk-parallel-item::after {content: \"\";width: 100%;border-bottom: 1px solid gray;flex-grow: 1;}#sk-7c189f93-8f5d-46ef-8d31-f636f063ff5a div.sk-label:hover label.sk-toggleable__label {background-color: #d4ebff;}#sk-7c189f93-8f5d-46ef-8d31-f636f063ff5a div.sk-serial::before {content: \"\";position: absolute;border-left: 1px solid gray;box-sizing: border-box;top: 2em;bottom: 0;left: 50%;}#sk-7c189f93-8f5d-46ef-8d31-f636f063ff5a div.sk-serial {display: flex;flex-direction: column;align-items: center;background-color: white;padding-right: 0.2em;padding-left: 0.2em;}#sk-7c189f93-8f5d-46ef-8d31-f636f063ff5a div.sk-item {z-index: 1;}#sk-7c189f93-8f5d-46ef-8d31-f636f063ff5a div.sk-parallel {display: flex;align-items: stretch;justify-content: center;background-color: white;}#sk-7c189f93-8f5d-46ef-8d31-f636f063ff5a div.sk-parallel::before {content: \"\";position: absolute;border-left: 1px solid gray;box-sizing: border-box;top: 2em;bottom: 0;left: 50%;}#sk-7c189f93-8f5d-46ef-8d31-f636f063ff5a div.sk-parallel-item {display: flex;flex-direction: column;position: relative;background-color: white;}#sk-7c189f93-8f5d-46ef-8d31-f636f063ff5a div.sk-parallel-item:first-child::after {align-self: flex-end;width: 50%;}#sk-7c189f93-8f5d-46ef-8d31-f636f063ff5a div.sk-parallel-item:last-child::after {align-self: flex-start;width: 50%;}#sk-7c189f93-8f5d-46ef-8d31-f636f063ff5a div.sk-parallel-item:only-child::after {width: 0;}#sk-7c189f93-8f5d-46ef-8d31-f636f063ff5a div.sk-dashed-wrapped {border: 1px dashed gray;margin: 0 0.4em 0.5em 0.4em;box-sizing: border-box;padding-bottom: 0.4em;background-color: white;position: relative;}#sk-7c189f93-8f5d-46ef-8d31-f636f063ff5a div.sk-label label {font-family: monospace;font-weight: bold;background-color: white;display: inline-block;line-height: 1.2em;}#sk-7c189f93-8f5d-46ef-8d31-f636f063ff5a div.sk-label-container {position: relative;z-index: 2;text-align: center;}#sk-7c189f93-8f5d-46ef-8d31-f636f063ff5a div.sk-container {/* jupyter's `normalize.less` sets `[hidden] { display: none; }` but bootstrap.min.css set `[hidden] { display: none !important; }` so we also need the `!important` here to be able to override the default hidden behavior on the sphinx rendered scikit-learn.org. See: https://github.com/scikit-learn/scikit-learn/issues/21755 */display: inline-block !important;position: relative;}#sk-7c189f93-8f5d-46ef-8d31-f636f063ff5a div.sk-text-repr-fallback {display: none;}</style><div id=\"sk-7c189f93-8f5d-46ef-8d31-f636f063ff5a\" class=\"sk-top-container\"><div class=\"sk-text-repr-fallback\"><pre>GridSearchCV(estimator=Pipeline(steps=[(&#x27;columntransformer&#x27;,\n",
              "                                        ColumnTransformer(transformers=[(&#x27;onehotencoder&#x27;,\n",
              "                                                                         OneHotEncoder(handle_unknown=&#x27;ignore&#x27;,\n",
              "                                                                                       sparse=False),\n",
              "                                                                         &lt;sklearn.compose._column_transformer.make_column_selector object at 0x7f26fad4db20&gt;),\n",
              "                                                                        (&#x27;simpleimputer&#x27;,\n",
              "                                                                         SimpleImputer(strategy=&#x27;most_frequent&#x27;),\n",
              "                                                                         &lt;sklearn.compose._column_transformer.make_column_s...tor object at 0x7f26fad4dfd0&gt;)])),\n",
              "                                       (&#x27;standardscaler&#x27;, StandardScaler()),\n",
              "                                       (&#x27;smote&#x27;, SMOTE(random_state=42)),\n",
              "                                       (&#x27;lgbmclassifier&#x27;,\n",
              "                                        LGBMClassifier(random_state=42))]),\n",
              "             param_grid={&#x27;lgbmclassifier__class_weight&#x27;: [&#x27;balanced&#x27;, None],\n",
              "                         &#x27;lgbmclassifier__learning_rate&#x27;: [0.01, 0.1, 0.2],\n",
              "                         &#x27;lgbmclassifier__max_depth&#x27;: range(3, 12),\n",
              "                         &#x27;lgbmclassifier__num_leaves&#x27;: [8, 21, 31, 100, 1000]})</pre><b>Please rerun this cell to show the HTML repr or trust the notebook.</b></div><div class=\"sk-container\" hidden><div class=\"sk-item sk-dashed-wrapped\"><div class=\"sk-label-container\"><div class=\"sk-label sk-toggleable\"><input class=\"sk-toggleable__control sk-hidden--visually\" id=\"393dfcb6-b9c6-427a-a68e-d65df6c0150d\" type=\"checkbox\" ><label for=\"393dfcb6-b9c6-427a-a68e-d65df6c0150d\" class=\"sk-toggleable__label sk-toggleable__label-arrow\">GridSearchCV</label><div class=\"sk-toggleable__content\"><pre>GridSearchCV(estimator=Pipeline(steps=[(&#x27;columntransformer&#x27;,\n",
              "                                        ColumnTransformer(transformers=[(&#x27;onehotencoder&#x27;,\n",
              "                                                                         OneHotEncoder(handle_unknown=&#x27;ignore&#x27;,\n",
              "                                                                                       sparse=False),\n",
              "                                                                         &lt;sklearn.compose._column_transformer.make_column_selector object at 0x7f26fad4db20&gt;),\n",
              "                                                                        (&#x27;simpleimputer&#x27;,\n",
              "                                                                         SimpleImputer(strategy=&#x27;most_frequent&#x27;),\n",
              "                                                                         &lt;sklearn.compose._column_transformer.make_column_s...tor object at 0x7f26fad4dfd0&gt;)])),\n",
              "                                       (&#x27;standardscaler&#x27;, StandardScaler()),\n",
              "                                       (&#x27;smote&#x27;, SMOTE(random_state=42)),\n",
              "                                       (&#x27;lgbmclassifier&#x27;,\n",
              "                                        LGBMClassifier(random_state=42))]),\n",
              "             param_grid={&#x27;lgbmclassifier__class_weight&#x27;: [&#x27;balanced&#x27;, None],\n",
              "                         &#x27;lgbmclassifier__learning_rate&#x27;: [0.01, 0.1, 0.2],\n",
              "                         &#x27;lgbmclassifier__max_depth&#x27;: range(3, 12),\n",
              "                         &#x27;lgbmclassifier__num_leaves&#x27;: [8, 21, 31, 100, 1000]})</pre></div></div></div><div class=\"sk-parallel\"><div class=\"sk-parallel-item\"><div class=\"sk-item\"><div class=\"sk-serial\"><div class=\"sk-item\"><div class=\"sk-serial\"><div class=\"sk-item sk-dashed-wrapped\"><div class=\"sk-label-container\"><div class=\"sk-label sk-toggleable\"><input class=\"sk-toggleable__control sk-hidden--visually\" id=\"8d7ff0ca-51b6-4222-b995-49596c266490\" type=\"checkbox\" ><label for=\"8d7ff0ca-51b6-4222-b995-49596c266490\" class=\"sk-toggleable__label sk-toggleable__label-arrow\">columntransformer: ColumnTransformer</label><div class=\"sk-toggleable__content\"><pre>ColumnTransformer(transformers=[(&#x27;onehotencoder&#x27;,\n",
              "                                 OneHotEncoder(handle_unknown=&#x27;ignore&#x27;,\n",
              "                                               sparse=False),\n",
              "                                 &lt;sklearn.compose._column_transformer.make_column_selector object at 0x7f26fad4db20&gt;),\n",
              "                                (&#x27;simpleimputer&#x27;,\n",
              "                                 SimpleImputer(strategy=&#x27;most_frequent&#x27;),\n",
              "                                 &lt;sklearn.compose._column_transformer.make_column_selector object at 0x7f26fad4dfd0&gt;)])</pre></div></div></div><div class=\"sk-parallel\"><div class=\"sk-parallel-item\"><div class=\"sk-item\"><div class=\"sk-label-container\"><div class=\"sk-label sk-toggleable\"><input class=\"sk-toggleable__control sk-hidden--visually\" id=\"78683222-2f03-4eda-9d1b-6e164e756a5a\" type=\"checkbox\" ><label for=\"78683222-2f03-4eda-9d1b-6e164e756a5a\" class=\"sk-toggleable__label sk-toggleable__label-arrow\">onehotencoder</label><div class=\"sk-toggleable__content\"><pre>&lt;sklearn.compose._column_transformer.make_column_selector object at 0x7f26fad4db20&gt;</pre></div></div></div><div class=\"sk-serial\"><div class=\"sk-item\"><div class=\"sk-estimator sk-toggleable\"><input class=\"sk-toggleable__control sk-hidden--visually\" id=\"501bacc1-7253-429d-8d09-f966144ef689\" type=\"checkbox\" ><label for=\"501bacc1-7253-429d-8d09-f966144ef689\" class=\"sk-toggleable__label sk-toggleable__label-arrow\">OneHotEncoder</label><div class=\"sk-toggleable__content\"><pre>OneHotEncoder(handle_unknown=&#x27;ignore&#x27;, sparse=False)</pre></div></div></div></div></div></div><div class=\"sk-parallel-item\"><div class=\"sk-item\"><div class=\"sk-label-container\"><div class=\"sk-label sk-toggleable\"><input class=\"sk-toggleable__control sk-hidden--visually\" id=\"2378788f-f84b-4d84-aec7-2ecf596098ae\" type=\"checkbox\" ><label for=\"2378788f-f84b-4d84-aec7-2ecf596098ae\" class=\"sk-toggleable__label sk-toggleable__label-arrow\">simpleimputer</label><div class=\"sk-toggleable__content\"><pre>&lt;sklearn.compose._column_transformer.make_column_selector object at 0x7f26fad4dfd0&gt;</pre></div></div></div><div class=\"sk-serial\"><div class=\"sk-item\"><div class=\"sk-estimator sk-toggleable\"><input class=\"sk-toggleable__control sk-hidden--visually\" id=\"5f723f56-5326-432f-91b9-40ba6fc52019\" type=\"checkbox\" ><label for=\"5f723f56-5326-432f-91b9-40ba6fc52019\" class=\"sk-toggleable__label sk-toggleable__label-arrow\">SimpleImputer</label><div class=\"sk-toggleable__content\"><pre>SimpleImputer(strategy=&#x27;most_frequent&#x27;)</pre></div></div></div></div></div></div></div></div><div class=\"sk-item\"><div class=\"sk-estimator sk-toggleable\"><input class=\"sk-toggleable__control sk-hidden--visually\" id=\"e6e4b115-2ad0-40df-b188-858cecb51df2\" type=\"checkbox\" ><label for=\"e6e4b115-2ad0-40df-b188-858cecb51df2\" class=\"sk-toggleable__label sk-toggleable__label-arrow\">StandardScaler</label><div class=\"sk-toggleable__content\"><pre>StandardScaler()</pre></div></div></div><div class=\"sk-item\"><div class=\"sk-estimator sk-toggleable\"><input class=\"sk-toggleable__control sk-hidden--visually\" id=\"cce6138f-c988-4844-aa0e-930ae669fe6b\" type=\"checkbox\" ><label for=\"cce6138f-c988-4844-aa0e-930ae669fe6b\" class=\"sk-toggleable__label sk-toggleable__label-arrow\">SMOTE</label><div class=\"sk-toggleable__content\"><pre>SMOTE(random_state=42)</pre></div></div></div><div class=\"sk-item\"><div class=\"sk-estimator sk-toggleable\"><input class=\"sk-toggleable__control sk-hidden--visually\" id=\"8ba85b99-9ace-453f-9add-28c14a45a11f\" type=\"checkbox\" ><label for=\"8ba85b99-9ace-453f-9add-28c14a45a11f\" class=\"sk-toggleable__label sk-toggleable__label-arrow\">LGBMClassifier</label><div class=\"sk-toggleable__content\"><pre>LGBMClassifier(random_state=42)</pre></div></div></div></div></div></div></div></div></div></div></div></div>"
            ]
          },
          "metadata": {},
          "execution_count": 112
        }
      ],
      "source": [
        "#fit the GridSearchCV object on the training data\n",
        "lgbm_fe_grid_search.fit(X_train, y_train)"
      ]
    },
    {
      "cell_type": "code",
      "execution_count": 113,
      "metadata": {
        "id": "3AJ3VUQDivve",
        "colab": {
          "base_uri": "https://localhost:8080/"
        },
        "outputId": "b62ae61a-ec3f-4c4b-ae4b-063fc3346f96"
      },
      "outputs": [
        {
          "output_type": "stream",
          "name": "stdout",
          "text": [
            "Best LightGBMClassifier with SMOTE on engineered features Parameters:\n",
            "{'lgbmclassifier__class_weight': 'balanced', 'lgbmclassifier__learning_rate': 0.2, 'lgbmclassifier__max_depth': 10, 'lgbmclassifier__num_leaves': 21}\n",
            "Accuracy of best LGBMClassifier model with SMOTE on engineered features is: 0.9334898278560251\n"
          ]
        }
      ],
      "source": [
        "#find the best parameters\n",
        "print('Best LightGBMClassifier with SMOTE on engineered features Parameters:')\n",
        "print(lgbm_fe_grid_search.best_params_)\n",
        "best_lgbm_fe = lgbm_fe_grid_search.best_estimator_\n",
        "print(f'Accuracy of best LGBMClassifier model with SMOTE on engineered features is: {best_lgbm_fe.score(X_test, y_test)}')"
      ]
    },
    {
      "cell_type": "markdown",
      "metadata": {
        "id": "Iq9hAdaCjpFd"
      },
      "source": [
        "### LightGBM with SMOTE on Engineered Features Model Evaluation"
      ]
    },
    {
      "cell_type": "code",
      "execution_count": 114,
      "metadata": {
        "id": "TK8Y2F40jpa0",
        "colab": {
          "base_uri": "https://localhost:8080/"
        },
        "outputId": "ac34222a-14e2-4eea-db81-abb8031cc43c"
      },
      "outputs": [
        {
          "output_type": "stream",
          "name": "stdout",
          "text": [
            "0.968945720250522\n",
            "0.9334898278560251\n"
          ]
        }
      ],
      "source": [
        "#instantiate the tuned model\n",
        "lgbm_fe_tuned = LGBMClassifier(class_weight = 'balanced', learning_rate = 0.2, max_depth = 10, num_leaves = 21, random_state = 42)\n",
        "#create the tuned model pipeline\n",
        "lgbm_fe_tuned_pipe = make_sampler_pipeline(preprocessor3, scaler, smote, lgbm_fe_tuned)\n",
        "#fit the tuned model pipeline on the training data\n",
        "lgbm_fe_tuned_pipe.fit(X_train, y_train)\n",
        "#make predictions\n",
        "train_preds_lgbm_fe_tuned = lgbm_fe_tuned_pipe.predict(X_train)\n",
        "test_preds_lgbm_fe_tuned = lgbm_fe_tuned_pipe.predict(X_test)\n",
        "#evaluate the model's performance\n",
        "print(lgbm_fe_tuned_pipe.score(X_train, y_train))\n",
        "print(lgbm_fe_tuned_pipe.score(X_test, y_test))"
      ]
    },
    {
      "cell_type": "markdown",
      "metadata": {
        "id": "olgWVLGal5U4"
      },
      "source": [
        "  - Tuning the LightGBMClassifier with SMOTE on Engineered Features increased the accuracy on the test set."
      ]
    },
    {
      "cell_type": "code",
      "execution_count": 115,
      "metadata": {
        "id": "EAZKx00AkVbw",
        "colab": {
          "base_uri": "https://localhost:8080/",
          "height": 297
        },
        "outputId": "e62d41f5-71d3-4ac4-8370-72ee4ec005ad"
      },
      "outputs": [
        {
          "output_type": "stream",
          "name": "stdout",
          "text": [
            "LightGBM with SMOTE on Engineered Features Confusion Matrix\n"
          ]
        },
        {
          "output_type": "display_data",
          "data": {
            "text/plain": [
              "<Figure size 432x288 with 2 Axes>"
            ],
            "image/png": "[encoded data removed]"
          },
          "metadata": {
            "needs_background": "light"
          }
        }
      ],
      "source": [
        "print('LightGBM with SMOTE on Engineered Features Confusion Matrix')\n",
        "ConfusionMatrixDisplay.from_predictions(y_test, test_preds_lgbm_fe_tuned, display_labels = labels, cmap = 'Oranges', normalize = 'true');"
      ]
    },
    {
      "cell_type": "markdown",
      "metadata": {
        "id": "KmUJD5odkitw"
      },
      "source": [
        "  - The tuned LightGBM with SMOTE on Engineered Features successfully classified 98% of the no stroke samples and 11% of the stroke samples (higher than the tuned LightGBM with SMOTE)."
      ]
    },
    {
      "cell_type": "code",
      "execution_count": 116,
      "metadata": {
        "id": "nFWELEbLk98_",
        "colab": {
          "base_uri": "https://localhost:8080/"
        },
        "outputId": "23c626f6-9891-49c7-a16a-5ed7f116b9b2"
      },
      "outputs": [
        {
          "output_type": "stream",
          "name": "stdout",
          "text": [
            "LightGBM with SMOTE on Engineered Features Classification Report\n",
            "              precision    recall  f1-score   support\n",
            "\n",
            "           0       0.96      0.98      0.97      1216\n",
            "           1       0.19      0.11      0.14        62\n",
            "\n",
            "    accuracy                           0.93      1278\n",
            "   macro avg       0.57      0.54      0.55      1278\n",
            "weighted avg       0.92      0.93      0.93      1278\n",
            "\n"
          ]
        }
      ],
      "source": [
        "print('LightGBM with SMOTE on Engineered Features Classification Report')\n",
        "print(classification_report(y_test, test_preds_lgbm_fe_tuned))"
      ]
    },
    {
      "cell_type": "markdown",
      "metadata": {
        "id": "Eq4ZSM3lmWKl"
      },
      "source": [
        "  - The tuned LightGBM with SMOTE on Engineered Features was 93% accurate for making correct predictions on the test set (the same as the tuned LightGBM with SMOTE on the original features).\n",
        "  - The tuned LightGBM with SMOTE on Engineered Features was 96% sensitive and 98% specific for predicting the no stroke class (higher than the tuned LightGBM with SMOTE on the original features).\n",
        "  - The tuned LightGBM with SMOTE on Engineered Features was 19% sensitive and 11% sensitive for predicting the stroke class (higher than the tuned LightGBM with SMOTE on the original features).\n",
        "  - The tuned LightGBM with SMOTE on Engineered Features had f1-scores of 97% on the no stroke class and 14% on the stroke class (higher than the tuned LightGBM with SMOTE on the original features).\n",
        "\n",
        "Using feature engineering helped the LightGBM with SMOTE predict the stroke class.\n",
        "\n"
      ]
    },
    {
      "cell_type": "markdown",
      "metadata": {
        "id": "pYriae-NhzWs"
      },
      "source": [
        "  - The tuned LightGBM with SMOTE had the same accuracy for making correct predictions on the test set for the original features and for the engineered features.\n",
        "  - The tuned LightGBM with SMOTE was more sensitive and specific for predicting the no stroke class with the engineered features.\n",
        "  - The tuned LightGBM with SMOTE was more sensitive and specific for predicting the stroke class with the engineered features.\n",
        "  - The tuned LightGBM with SMOTE had fewer false positives and false negatives on the engineered features. "
      ]
    },
    {
      "cell_type": "markdown",
      "metadata": {
        "id": "a_FgurXnh5dl"
      },
      "source": [
        "Because of the class imbalance, the final model must predict well for the stroke class--feature engineering helped LightGBM with SMOTE predict the stroke class.  The improvement was 8% for precision and 5% for recall. \n",
        "\n",
        "Because of the high cost of false negatives (predicting no stroke when, in fact, there will be a stroke), these errors must be reduced--feature engineering did help LightGBM with SMOTE reduce the false negative rate by 5%.  It also helped LightGBM with SMOTE reduce the false positive rate by 0.2%."
      ]
    },
    {
      "cell_type": "markdown",
      "metadata": {
        "id": "rJkgmcmOponH"
      },
      "source": [
        "# A tuned LightGBM with SMOTE made the best predictions for the stroke class while limiting the false negative rate.  Feature engineering improved those predictions even further."
      ]
    },
    {
      "cell_type": "markdown",
      "metadata": {
        "id": "M0bgvLuJlaBO"
      },
      "source": [
        "  - The first problem with the dataset was the missing data from the bmi feature--it required imputation for machine learning, which introduced error."
      ]
    },
    {
      "cell_type": "markdown",
      "metadata": {
        "id": "LDv-nwRGmMpK"
      },
      "source": [
        "  - The next, and the primary problem, with the dataset was that the target classes were severely imbalanced (95.13% of the samples did not have a stroke and 4.87% of the samples had a stroke).  It required tuning the class balance for all models, with little improvement.  It further required the use of SMOTE, which creates new, synthetic data that is very similar to the data in the minority class--the use of SMOTE improved the model's predictions but also introduced error."
      ]
    },
    {
      "cell_type": "markdown",
      "metadata": {
        "id": "uh3fawXHnOBQ"
      },
      "source": [
        "  - The third problem with the dataset was the inconsistent specificity of the datatypes--some medical data was provided numerically but some numeric medical data (specifically heart disease and hypertension) was already binned into binary categories.  Information with predictive value was already lost when those values were binned."
      ]
    },
    {
      "cell_type": "markdown",
      "metadata": {
        "id": "dacgz-L6oLYV"
      },
      "source": [
        "# The tuned LightGBM with SMOTE is not ready for real-world data with real-world consequences.\n",
        "The predictive models used are powerful tools--additional tuning and data manipulations increased their power even further.  However, the best model was not even very good at predicting the stroke class--it only achieved 19% precision and 11% recall for the stroke class.  Plus, it had an 89% rate of false negatives--that means that 89% of people who will have a stroke were actually predicted to not have a stroke!  "
      ]
    },
    {
      "cell_type": "markdown",
      "metadata": {
        "id": "IMqx58Lgqd_D"
      },
      "source": [
        "New data with more specific medical information will help create a new predictive model that will successfully predict strokes.  Once that is achieved, predictive modeling can then be employed to improve stroke recovery, too."
      ]
    },
    {
      "cell_type": "code",
      "execution_count": null,
      "metadata": {
        "id": "LEGiFMCHqAFk"
      },
      "outputs": [],
      "source": []
    }
  ],
  "metadata": {
    "colab": {
      "provenance": [],
      "authorship_tag": "ABX9TyNrIFBhBFKo1UWS99nimXyF",
      "include_colab_link": true
    },
    "kernelspec": {
      "display_name": "Python 3",
      "name": "python3"
    },
    "language_info": {
      "name": "python"
    }
  },
  "nbformat": 4,
  "nbformat_minor": 0
}