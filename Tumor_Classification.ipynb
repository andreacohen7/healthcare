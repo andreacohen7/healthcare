{
  "nbformat": 4,
  "nbformat_minor": 0,
  "metadata": {
    "colab": {
      "provenance": [],
      "authorship_tag": "ABX9TyOFOyAiBJul3Ii6rLQdQ74r",
      "include_colab_link": true
    },
    "kernelspec": {
      "name": "python3",
      "display_name": "Python 3"
    },
    "language_info": {
      "name": "python"
    }
  },
  "cells": [
    {
      "cell_type": "markdown",
      "metadata": {
        "id": "view-in-github",
        "colab_type": "text"
      },
      "source": [
        "<a href=\"https://colab.research.google.com/github/andreacohen7/healthcare/blob/main/Tumor_Classification.ipynb\" target=\"_parent\"><img src=\"https://colab.research.google.com/assets/colab-badge.svg\" alt=\"Open In Colab\"/></a>"
      ]
    },
    {
      "cell_type": "markdown",
      "source": [
        "# Tumor Classification\n",
        "- Andrea Cohen\n",
        "- 01.09.23"
      ],
      "metadata": {
        "id": "oEPsifTN9ISa"
      }
    },
    {
      "cell_type": "markdown",
      "source": [
        "## Task:\n",
        "  - Using the Wisconsin Breast Cancer Dataset, predict whether a tumor cell is malignant (m) or benign (b)."
      ],
      "metadata": {
        "id": "pEEXfff09X-z"
      }
    },
    {
      "cell_type": "markdown",
      "source": [
        "### Preliminary Steps:"
      ],
      "metadata": {
        "id": "KnBtwNmU9wan"
      }
    },
    {
      "cell_type": "markdown",
      "source": [
        "#### Mount the drive"
      ],
      "metadata": {
        "id": "xbDM66iv95yF"
      }
    },
    {
      "cell_type": "code",
      "execution_count": null,
      "metadata": {
        "id": "GAhbZ_jbqZBa",
        "colab": {
          "base_uri": "https://localhost:8080/"
        },
        "outputId": "63f7d4aa-431e-4b62-a5eb-c93981485113"
      },
      "outputs": [
        {
          "output_type": "stream",
          "name": "stdout",
          "text": [
            "Mounted at /content/drive\n"
          ]
        }
      ],
      "source": [
        "from google.colab import drive\n",
        "drive.mount('/content/drive')"
      ]
    },
    {
      "cell_type": "markdown",
      "source": [
        "#### Import libraries"
      ],
      "metadata": {
        "id": "ovdTi6SL-RQc"
      }
    },
    {
      "cell_type": "code",
      "source": [
        "import matplotlib.pyplot as plt\n",
        "import pandas as pd\n",
        "import numpy as np\n",
        "import seaborn as sns\n",
        "from sklearn.model_selection import train_test_split, GridSearchCV\n",
        "from sklearn.pipeline import make_pipeline\n",
        "from sklearn.preprocessing import StandardScaler\n",
        "from sklearn.linear_model import LogisticRegression\n",
        "from sklearn.ensemble import RandomForestClassifier\n",
        "from sklearn.neighbors import KNeighborsClassifier\n",
        "from sklearn.metrics import ConfusionMatrixDisplay, accuracy_score, precision_score, recall_score, classification_report\n",
        "from sklearn import set_config\n",
        "set_config(display='diagram')"
      ],
      "metadata": {
        "id": "R4xvQ1oG-F9-"
      },
      "execution_count": null,
      "outputs": []
    },
    {
      "cell_type": "markdown",
      "source": [
        "#### Import data"
      ],
      "metadata": {
        "id": "PzL_e4xk-aZ3"
      }
    },
    {
      "cell_type": "code",
      "source": [
        "path = '/content/wisconsinBreastCancer - wisconsinBreastCancer.csv'\n",
        "df = pd.read_csv(path, index_col = 0)\n",
        "df.head()"
      ],
      "metadata": {
        "colab": {
          "base_uri": "https://localhost:8080/",
          "height": 348
        },
        "id": "yZSPuior-WhA",
        "outputId": "478fbe82-e26b-46c5-b396-f8c746fbff78"
      },
      "execution_count": null,
      "outputs": [
        {
          "output_type": "execute_result",
          "data": {
            "text/plain": [
              "         diagnosis  radius_mean  texture_mean  perimeter_mean  area_mean  \\\n",
              "id                                                                         \n",
              "842302           M        17.99         10.38          122.80     1001.0   \n",
              "842517           M        20.57         17.77          132.90     1326.0   \n",
              "84300903         M        19.69         21.25          130.00     1203.0   \n",
              "84348301         M        11.42         20.38           77.58      386.1   \n",
              "84358402         M        20.29         14.34          135.10     1297.0   \n",
              "\n",
              "          smoothness_mean  compactness_mean  concavity_mean  \\\n",
              "id                                                            \n",
              "842302            0.11840           0.27760          0.3001   \n",
              "842517            0.08474           0.07864          0.0869   \n",
              "84300903          0.10960           0.15990          0.1974   \n",
              "84348301          0.14250           0.28390          0.2414   \n",
              "84358402          0.10030           0.13280          0.1980   \n",
              "\n",
              "          concave points_mean  symmetry_mean  ...  radius_worst  \\\n",
              "id                                            ...                 \n",
              "842302                0.14710         0.2419  ...         25.38   \n",
              "842517                0.07017         0.1812  ...         24.99   \n",
              "84300903              0.12790         0.2069  ...         23.57   \n",
              "84348301              0.10520         0.2597  ...         14.91   \n",
              "84358402              0.10430         0.1809  ...         22.54   \n",
              "\n",
              "          texture_worst  perimeter_worst  area_worst  smoothness_worst  \\\n",
              "id                                                                       \n",
              "842302            17.33           184.60      2019.0            0.1622   \n",
              "842517            23.41           158.80      1956.0            0.1238   \n",
              "84300903          25.53           152.50      1709.0            0.1444   \n",
              "84348301          26.50            98.87       567.7            0.2098   \n",
              "84358402          16.67           152.20      1575.0            0.1374   \n",
              "\n",
              "          compactness_worst  concavity_worst  concave points_worst  \\\n",
              "id                                                                   \n",
              "842302               0.6656           0.7119                0.2654   \n",
              "842517               0.1866           0.2416                0.1860   \n",
              "84300903             0.4245           0.4504                0.2430   \n",
              "84348301             0.8663           0.6869                0.2575   \n",
              "84358402             0.2050           0.4000                0.1625   \n",
              "\n",
              "          symmetry_worst  fractal_dimension_worst  \n",
              "id                                                 \n",
              "842302            0.4601                  0.11890  \n",
              "842517            0.2750                  0.08902  \n",
              "84300903          0.3613                  0.08758  \n",
              "84348301          0.6638                  0.17300  \n",
              "84358402          0.2364                  0.07678  \n",
              "\n",
              "[5 rows x 31 columns]"
            ],
            "text/html": [
              "\n",
              "  <div id=\"df-3fbeafb1-1cf0-422e-a005-ba434effdb87\">\n",
              "    <div class=\"colab-df-container\">\n",
              "      <div>\n",
              "<style scoped>\n",
              "    .dataframe tbody tr th:only-of-type {\n",
              "        vertical-align: middle;\n",
              "    }\n",
              "\n",
              "    .dataframe tbody tr th {\n",
              "        vertical-align: top;\n",
              "    }\n",
              "\n",
              "    .dataframe thead th {\n",
              "        text-align: right;\n",
              "    }\n",
              "</style>\n",
              "<table border=\"1\" class=\"dataframe\">\n",
              "  <thead>\n",
              "    <tr style=\"text-align: right;\">\n",
              "      <th></th>\n",
              "      <th>diagnosis</th>\n",
              "      <th>radius_mean</th>\n",
              "      <th>texture_mean</th>\n",
              "      <th>perimeter_mean</th>\n",
              "      <th>area_mean</th>\n",
              "      <th>smoothness_mean</th>\n",
              "      <th>compactness_mean</th>\n",
              "      <th>concavity_mean</th>\n",
              "      <th>concave points_mean</th>\n",
              "      <th>symmetry_mean</th>\n",
              "      <th>...</th>\n",
              "      <th>radius_worst</th>\n",
              "      <th>texture_worst</th>\n",
              "      <th>perimeter_worst</th>\n",
              "      <th>area_worst</th>\n",
              "      <th>smoothness_worst</th>\n",
              "      <th>compactness_worst</th>\n",
              "      <th>concavity_worst</th>\n",
              "      <th>concave points_worst</th>\n",
              "      <th>symmetry_worst</th>\n",
              "      <th>fractal_dimension_worst</th>\n",
              "    </tr>\n",
              "    <tr>\n",
              "      <th>id</th>\n",
              "      <th></th>\n",
              "      <th></th>\n",
              "      <th></th>\n",
              "      <th></th>\n",
              "      <th></th>\n",
              "      <th></th>\n",
              "      <th></th>\n",
              "      <th></th>\n",
              "      <th></th>\n",
              "      <th></th>\n",
              "      <th></th>\n",
              "      <th></th>\n",
              "      <th></th>\n",
              "      <th></th>\n",
              "      <th></th>\n",
              "      <th></th>\n",
              "      <th></th>\n",
              "      <th></th>\n",
              "      <th></th>\n",
              "      <th></th>\n",
              "      <th></th>\n",
              "    </tr>\n",
              "  </thead>\n",
              "  <tbody>\n",
              "    <tr>\n",
              "      <th>842302</th>\n",
              "      <td>M</td>\n",
              "      <td>17.99</td>\n",
              "      <td>10.38</td>\n",
              "      <td>122.80</td>\n",
              "      <td>1001.0</td>\n",
              "      <td>0.11840</td>\n",
              "      <td>0.27760</td>\n",
              "      <td>0.3001</td>\n",
              "      <td>0.14710</td>\n",
              "      <td>0.2419</td>\n",
              "      <td>...</td>\n",
              "      <td>25.38</td>\n",
              "      <td>17.33</td>\n",
              "      <td>184.60</td>\n",
              "      <td>2019.0</td>\n",
              "      <td>0.1622</td>\n",
              "      <td>0.6656</td>\n",
              "      <td>0.7119</td>\n",
              "      <td>0.2654</td>\n",
              "      <td>0.4601</td>\n",
              "      <td>0.11890</td>\n",
              "    </tr>\n",
              "    <tr>\n",
              "      <th>842517</th>\n",
              "      <td>M</td>\n",
              "      <td>20.57</td>\n",
              "      <td>17.77</td>\n",
              "      <td>132.90</td>\n",
              "      <td>1326.0</td>\n",
              "      <td>0.08474</td>\n",
              "      <td>0.07864</td>\n",
              "      <td>0.0869</td>\n",
              "      <td>0.07017</td>\n",
              "      <td>0.1812</td>\n",
              "      <td>...</td>\n",
              "      <td>24.99</td>\n",
              "      <td>23.41</td>\n",
              "      <td>158.80</td>\n",
              "      <td>1956.0</td>\n",
              "      <td>0.1238</td>\n",
              "      <td>0.1866</td>\n",
              "      <td>0.2416</td>\n",
              "      <td>0.1860</td>\n",
              "      <td>0.2750</td>\n",
              "      <td>0.08902</td>\n",
              "    </tr>\n",
              "    <tr>\n",
              "      <th>84300903</th>\n",
              "      <td>M</td>\n",
              "      <td>19.69</td>\n",
              "      <td>21.25</td>\n",
              "      <td>130.00</td>\n",
              "      <td>1203.0</td>\n",
              "      <td>0.10960</td>\n",
              "      <td>0.15990</td>\n",
              "      <td>0.1974</td>\n",
              "      <td>0.12790</td>\n",
              "      <td>0.2069</td>\n",
              "      <td>...</td>\n",
              "      <td>23.57</td>\n",
              "      <td>25.53</td>\n",
              "      <td>152.50</td>\n",
              "      <td>1709.0</td>\n",
              "      <td>0.1444</td>\n",
              "      <td>0.4245</td>\n",
              "      <td>0.4504</td>\n",
              "      <td>0.2430</td>\n",
              "      <td>0.3613</td>\n",
              "      <td>0.08758</td>\n",
              "    </tr>\n",
              "    <tr>\n",
              "      <th>84348301</th>\n",
              "      <td>M</td>\n",
              "      <td>11.42</td>\n",
              "      <td>20.38</td>\n",
              "      <td>77.58</td>\n",
              "      <td>386.1</td>\n",
              "      <td>0.14250</td>\n",
              "      <td>0.28390</td>\n",
              "      <td>0.2414</td>\n",
              "      <td>0.10520</td>\n",
              "      <td>0.2597</td>\n",
              "      <td>...</td>\n",
              "      <td>14.91</td>\n",
              "      <td>26.50</td>\n",
              "      <td>98.87</td>\n",
              "      <td>567.7</td>\n",
              "      <td>0.2098</td>\n",
              "      <td>0.8663</td>\n",
              "      <td>0.6869</td>\n",
              "      <td>0.2575</td>\n",
              "      <td>0.6638</td>\n",
              "      <td>0.17300</td>\n",
              "    </tr>\n",
              "    <tr>\n",
              "      <th>84358402</th>\n",
              "      <td>M</td>\n",
              "      <td>20.29</td>\n",
              "      <td>14.34</td>\n",
              "      <td>135.10</td>\n",
              "      <td>1297.0</td>\n",
              "      <td>0.10030</td>\n",
              "      <td>0.13280</td>\n",
              "      <td>0.1980</td>\n",
              "      <td>0.10430</td>\n",
              "      <td>0.1809</td>\n",
              "      <td>...</td>\n",
              "      <td>22.54</td>\n",
              "      <td>16.67</td>\n",
              "      <td>152.20</td>\n",
              "      <td>1575.0</td>\n",
              "      <td>0.1374</td>\n",
              "      <td>0.2050</td>\n",
              "      <td>0.4000</td>\n",
              "      <td>0.1625</td>\n",
              "      <td>0.2364</td>\n",
              "      <td>0.07678</td>\n",
              "    </tr>\n",
              "  </tbody>\n",
              "</table>\n",
              "<p>5 rows × 31 columns</p>\n",
              "</div>\n",
              "      <button class=\"colab-df-convert\" onclick=\"convertToInteractive('df-3fbeafb1-1cf0-422e-a005-ba434effdb87')\"\n",
              "              title=\"Convert this dataframe to an interactive table.\"\n",
              "              style=\"display:none;\">\n",
              "        \n",
              "  <svg xmlns=\"http://www.w3.org/2000/svg\" height=\"24px\"viewBox=\"0 0 24 24\"\n",
              "       width=\"24px\">\n",
              "    <path d=\"M0 0h24v24H0V0z\" fill=\"none\"/>\n",
              "    <path d=\"M18.56 5.44l.94 2.06.94-2.06 2.06-.94-2.06-.94-.94-2.06-.94 2.06-2.06.94zm-11 1L8.5 8.5l.94-2.06 2.06-.94-2.06-.94L8.5 2.5l-.94 2.06-2.06.94zm10 10l.94 2.06.94-2.06 2.06-.94-2.06-.94-.94-2.06-.94 2.06-2.06.94z\"/><path d=\"M17.41 7.96l-1.37-1.37c-.4-.4-.92-.59-1.43-.59-.52 0-1.04.2-1.43.59L10.3 9.45l-7.72 7.72c-.78.78-.78 2.05 0 2.83L4 21.41c.39.39.9.59 1.41.59.51 0 1.02-.2 1.41-.59l7.78-7.78 2.81-2.81c.8-.78.8-2.07 0-2.86zM5.41 20L4 18.59l7.72-7.72 1.47 1.35L5.41 20z\"/>\n",
              "  </svg>\n",
              "      </button>\n",
              "      \n",
              "  <style>\n",
              "    .colab-df-container {\n",
              "      display:flex;\n",
              "      flex-wrap:wrap;\n",
              "      gap: 12px;\n",
              "    }\n",
              "\n",
              "    .colab-df-convert {\n",
              "      background-color: #E8F0FE;\n",
              "      border: none;\n",
              "      border-radius: 50%;\n",
              "      cursor: pointer;\n",
              "      display: none;\n",
              "      fill: #1967D2;\n",
              "      height: 32px;\n",
              "      padding: 0 0 0 0;\n",
              "      width: 32px;\n",
              "    }\n",
              "\n",
              "    .colab-df-convert:hover {\n",
              "      background-color: #E2EBFA;\n",
              "      box-shadow: 0px 1px 2px rgba(60, 64, 67, 0.3), 0px 1px 3px 1px rgba(60, 64, 67, 0.15);\n",
              "      fill: #174EA6;\n",
              "    }\n",
              "\n",
              "    [theme=dark] .colab-df-convert {\n",
              "      background-color: #3B4455;\n",
              "      fill: #D2E3FC;\n",
              "    }\n",
              "\n",
              "    [theme=dark] .colab-df-convert:hover {\n",
              "      background-color: #434B5C;\n",
              "      box-shadow: 0px 1px 3px 1px rgba(0, 0, 0, 0.15);\n",
              "      filter: drop-shadow(0px 1px 2px rgba(0, 0, 0, 0.3));\n",
              "      fill: #FFFFFF;\n",
              "    }\n",
              "  </style>\n",
              "\n",
              "      <script>\n",
              "        const buttonEl =\n",
              "          document.querySelector('#df-3fbeafb1-1cf0-422e-a005-ba434effdb87 button.colab-df-convert');\n",
              "        buttonEl.style.display =\n",
              "          google.colab.kernel.accessAllowed ? 'block' : 'none';\n",
              "\n",
              "        async function convertToInteractive(key) {\n",
              "          const element = document.querySelector('#df-3fbeafb1-1cf0-422e-a005-ba434effdb87');\n",
              "          const dataTable =\n",
              "            await google.colab.kernel.invokeFunction('convertToInteractive',\n",
              "                                                     [key], {});\n",
              "          if (!dataTable) return;\n",
              "\n",
              "          const docLinkHtml = 'Like what you see? Visit the ' +\n",
              "            '<a target=\"_blank\" href=https://colab.research.google.com/notebooks/data_table.ipynb>data table notebook</a>'\n",
              "            + ' to learn more about interactive tables.';\n",
              "          element.innerHTML = '';\n",
              "          dataTable['output_type'] = 'display_data';\n",
              "          await google.colab.output.renderOutput(dataTable, element);\n",
              "          const docLink = document.createElement('div');\n",
              "          docLink.innerHTML = docLinkHtml;\n",
              "          element.appendChild(docLink);\n",
              "        }\n",
              "      </script>\n",
              "    </div>\n",
              "  </div>\n",
              "  "
            ]
          },
          "metadata": {},
          "execution_count": 3
        }
      ]
    },
    {
      "cell_type": "markdown",
      "source": [
        "#### Explore the data"
      ],
      "metadata": {
        "id": "gOnk0cDb_B70"
      }
    },
    {
      "cell_type": "code",
      "source": [
        "display(df.info())\n",
        "display(df.describe())\n",
        "print(f'There are {df.shape[0]} rows, and {df.shape[1]} columns.')\n",
        "print(f'There are {df.duplicated().sum()} duplicate rows.')\n",
        "print(f'There are {df.isna().sum().sum()} missing values.')"
      ],
      "metadata": {
        "colab": {
          "base_uri": "https://localhost:8080/",
          "height": 1000
        },
        "id": "DzXpmLYo-yvP",
        "outputId": "a3ad664b-c6ac-40b2-e75f-f4aba253eb86"
      },
      "execution_count": null,
      "outputs": [
        {
          "output_type": "stream",
          "name": "stdout",
          "text": [
            "<class 'pandas.core.frame.DataFrame'>\n",
            "Int64Index: 569 entries, 842302 to 92751\n",
            "Data columns (total 31 columns):\n",
            " #   Column                   Non-Null Count  Dtype  \n",
            "---  ------                   --------------  -----  \n",
            " 0   diagnosis                569 non-null    object \n",
            " 1   radius_mean              569 non-null    float64\n",
            " 2   texture_mean             569 non-null    float64\n",
            " 3   perimeter_mean           569 non-null    float64\n",
            " 4   area_mean                569 non-null    float64\n",
            " 5   smoothness_mean          569 non-null    float64\n",
            " 6   compactness_mean         569 non-null    float64\n",
            " 7   concavity_mean           569 non-null    float64\n",
            " 8   concave points_mean      569 non-null    float64\n",
            " 9   symmetry_mean            569 non-null    float64\n",
            " 10  fractal_dimension_mean   569 non-null    float64\n",
            " 11  radius_se                569 non-null    float64\n",
            " 12  texture_se               569 non-null    float64\n",
            " 13  perimeter_se             569 non-null    float64\n",
            " 14  area_se                  569 non-null    float64\n",
            " 15  smoothness_se            569 non-null    float64\n",
            " 16  compactness_se           569 non-null    float64\n",
            " 17  concavity_se             569 non-null    float64\n",
            " 18  concave points_se        569 non-null    float64\n",
            " 19  symmetry_se              569 non-null    float64\n",
            " 20  fractal_dimension_se     569 non-null    float64\n",
            " 21  radius_worst             569 non-null    float64\n",
            " 22  texture_worst            569 non-null    float64\n",
            " 23  perimeter_worst          569 non-null    float64\n",
            " 24  area_worst               569 non-null    float64\n",
            " 25  smoothness_worst         569 non-null    float64\n",
            " 26  compactness_worst        569 non-null    float64\n",
            " 27  concavity_worst          569 non-null    float64\n",
            " 28  concave points_worst     569 non-null    float64\n",
            " 29  symmetry_worst           569 non-null    float64\n",
            " 30  fractal_dimension_worst  569 non-null    float64\n",
            "dtypes: float64(30), object(1)\n",
            "memory usage: 142.2+ KB\n"
          ]
        },
        {
          "output_type": "display_data",
          "data": {
            "text/plain": [
              "None"
            ]
          },
          "metadata": {}
        },
        {
          "output_type": "display_data",
          "data": {
            "text/plain": [
              "       radius_mean  texture_mean  perimeter_mean    area_mean  \\\n",
              "count   569.000000    569.000000      569.000000   569.000000   \n",
              "mean     14.127292     19.289649       91.969033   654.889104   \n",
              "std       3.524049      4.301036       24.298981   351.914129   \n",
              "min       6.981000      9.710000       43.790000   143.500000   \n",
              "25%      11.700000     16.170000       75.170000   420.300000   \n",
              "50%      13.370000     18.840000       86.240000   551.100000   \n",
              "75%      15.780000     21.800000      104.100000   782.700000   \n",
              "max      28.110000     39.280000      188.500000  2501.000000   \n",
              "\n",
              "       smoothness_mean  compactness_mean  concavity_mean  concave points_mean  \\\n",
              "count       569.000000        569.000000      569.000000           569.000000   \n",
              "mean          0.096360          0.104341        0.088799             0.048919   \n",
              "std           0.014064          0.052813        0.079720             0.038803   \n",
              "min           0.052630          0.019380        0.000000             0.000000   \n",
              "25%           0.086370          0.064920        0.029560             0.020310   \n",
              "50%           0.095870          0.092630        0.061540             0.033500   \n",
              "75%           0.105300          0.130400        0.130700             0.074000   \n",
              "max           0.163400          0.345400        0.426800             0.201200   \n",
              "\n",
              "       symmetry_mean  fractal_dimension_mean  ...  radius_worst  \\\n",
              "count     569.000000              569.000000  ...    569.000000   \n",
              "mean        0.181162                0.062798  ...     16.269190   \n",
              "std         0.027414                0.007060  ...      4.833242   \n",
              "min         0.106000                0.049960  ...      7.930000   \n",
              "25%         0.161900                0.057700  ...     13.010000   \n",
              "50%         0.179200                0.061540  ...     14.970000   \n",
              "75%         0.195700                0.066120  ...     18.790000   \n",
              "max         0.304000                0.097440  ...     36.040000   \n",
              "\n",
              "       texture_worst  perimeter_worst   area_worst  smoothness_worst  \\\n",
              "count     569.000000       569.000000   569.000000        569.000000   \n",
              "mean       25.677223       107.261213   880.583128          0.132369   \n",
              "std         6.146258        33.602542   569.356993          0.022832   \n",
              "min        12.020000        50.410000   185.200000          0.071170   \n",
              "25%        21.080000        84.110000   515.300000          0.116600   \n",
              "50%        25.410000        97.660000   686.500000          0.131300   \n",
              "75%        29.720000       125.400000  1084.000000          0.146000   \n",
              "max        49.540000       251.200000  4254.000000          0.222600   \n",
              "\n",
              "       compactness_worst  concavity_worst  concave points_worst  \\\n",
              "count         569.000000       569.000000            569.000000   \n",
              "mean            0.254265         0.272188              0.114606   \n",
              "std             0.157336         0.208624              0.065732   \n",
              "min             0.027290         0.000000              0.000000   \n",
              "25%             0.147200         0.114500              0.064930   \n",
              "50%             0.211900         0.226700              0.099930   \n",
              "75%             0.339100         0.382900              0.161400   \n",
              "max             1.058000         1.252000              0.291000   \n",
              "\n",
              "       symmetry_worst  fractal_dimension_worst  \n",
              "count      569.000000               569.000000  \n",
              "mean         0.290076                 0.083946  \n",
              "std          0.061867                 0.018061  \n",
              "min          0.156500                 0.055040  \n",
              "25%          0.250400                 0.071460  \n",
              "50%          0.282200                 0.080040  \n",
              "75%          0.317900                 0.092080  \n",
              "max          0.663800                 0.207500  \n",
              "\n",
              "[8 rows x 30 columns]"
            ],
            "text/html": [
              "\n",
              "  <div id=\"df-a5f68286-a0ca-4188-8f37-4d76e08d342a\">\n",
              "    <div class=\"colab-df-container\">\n",
              "      <div>\n",
              "<style scoped>\n",
              "    .dataframe tbody tr th:only-of-type {\n",
              "        vertical-align: middle;\n",
              "    }\n",
              "\n",
              "    .dataframe tbody tr th {\n",
              "        vertical-align: top;\n",
              "    }\n",
              "\n",
              "    .dataframe thead th {\n",
              "        text-align: right;\n",
              "    }\n",
              "</style>\n",
              "<table border=\"1\" class=\"dataframe\">\n",
              "  <thead>\n",
              "    <tr style=\"text-align: right;\">\n",
              "      <th></th>\n",
              "      <th>radius_mean</th>\n",
              "      <th>texture_mean</th>\n",
              "      <th>perimeter_mean</th>\n",
              "      <th>area_mean</th>\n",
              "      <th>smoothness_mean</th>\n",
              "      <th>compactness_mean</th>\n",
              "      <th>concavity_mean</th>\n",
              "      <th>concave points_mean</th>\n",
              "      <th>symmetry_mean</th>\n",
              "      <th>fractal_dimension_mean</th>\n",
              "      <th>...</th>\n",
              "      <th>radius_worst</th>\n",
              "      <th>texture_worst</th>\n",
              "      <th>perimeter_worst</th>\n",
              "      <th>area_worst</th>\n",
              "      <th>smoothness_worst</th>\n",
              "      <th>compactness_worst</th>\n",
              "      <th>concavity_worst</th>\n",
              "      <th>concave points_worst</th>\n",
              "      <th>symmetry_worst</th>\n",
              "      <th>fractal_dimension_worst</th>\n",
              "    </tr>\n",
              "  </thead>\n",
              "  <tbody>\n",
              "    <tr>\n",
              "      <th>count</th>\n",
              "      <td>569.000000</td>\n",
              "      <td>569.000000</td>\n",
              "      <td>569.000000</td>\n",
              "      <td>569.000000</td>\n",
              "      <td>569.000000</td>\n",
              "      <td>569.000000</td>\n",
              "      <td>569.000000</td>\n",
              "      <td>569.000000</td>\n",
              "      <td>569.000000</td>\n",
              "      <td>569.000000</td>\n",
              "      <td>...</td>\n",
              "      <td>569.000000</td>\n",
              "      <td>569.000000</td>\n",
              "      <td>569.000000</td>\n",
              "      <td>569.000000</td>\n",
              "      <td>569.000000</td>\n",
              "      <td>569.000000</td>\n",
              "      <td>569.000000</td>\n",
              "      <td>569.000000</td>\n",
              "      <td>569.000000</td>\n",
              "      <td>569.000000</td>\n",
              "    </tr>\n",
              "    <tr>\n",
              "      <th>mean</th>\n",
              "      <td>14.127292</td>\n",
              "      <td>19.289649</td>\n",
              "      <td>91.969033</td>\n",
              "      <td>654.889104</td>\n",
              "      <td>0.096360</td>\n",
              "      <td>0.104341</td>\n",
              "      <td>0.088799</td>\n",
              "      <td>0.048919</td>\n",
              "      <td>0.181162</td>\n",
              "      <td>0.062798</td>\n",
              "      <td>...</td>\n",
              "      <td>16.269190</td>\n",
              "      <td>25.677223</td>\n",
              "      <td>107.261213</td>\n",
              "      <td>880.583128</td>\n",
              "      <td>0.132369</td>\n",
              "      <td>0.254265</td>\n",
              "      <td>0.272188</td>\n",
              "      <td>0.114606</td>\n",
              "      <td>0.290076</td>\n",
              "      <td>0.083946</td>\n",
              "    </tr>\n",
              "    <tr>\n",
              "      <th>std</th>\n",
              "      <td>3.524049</td>\n",
              "      <td>4.301036</td>\n",
              "      <td>24.298981</td>\n",
              "      <td>351.914129</td>\n",
              "      <td>0.014064</td>\n",
              "      <td>0.052813</td>\n",
              "      <td>0.079720</td>\n",
              "      <td>0.038803</td>\n",
              "      <td>0.027414</td>\n",
              "      <td>0.007060</td>\n",
              "      <td>...</td>\n",
              "      <td>4.833242</td>\n",
              "      <td>6.146258</td>\n",
              "      <td>33.602542</td>\n",
              "      <td>569.356993</td>\n",
              "      <td>0.022832</td>\n",
              "      <td>0.157336</td>\n",
              "      <td>0.208624</td>\n",
              "      <td>0.065732</td>\n",
              "      <td>0.061867</td>\n",
              "      <td>0.018061</td>\n",
              "    </tr>\n",
              "    <tr>\n",
              "      <th>min</th>\n",
              "      <td>6.981000</td>\n",
              "      <td>9.710000</td>\n",
              "      <td>43.790000</td>\n",
              "      <td>143.500000</td>\n",
              "      <td>0.052630</td>\n",
              "      <td>0.019380</td>\n",
              "      <td>0.000000</td>\n",
              "      <td>0.000000</td>\n",
              "      <td>0.106000</td>\n",
              "      <td>0.049960</td>\n",
              "      <td>...</td>\n",
              "      <td>7.930000</td>\n",
              "      <td>12.020000</td>\n",
              "      <td>50.410000</td>\n",
              "      <td>185.200000</td>\n",
              "      <td>0.071170</td>\n",
              "      <td>0.027290</td>\n",
              "      <td>0.000000</td>\n",
              "      <td>0.000000</td>\n",
              "      <td>0.156500</td>\n",
              "      <td>0.055040</td>\n",
              "    </tr>\n",
              "    <tr>\n",
              "      <th>25%</th>\n",
              "      <td>11.700000</td>\n",
              "      <td>16.170000</td>\n",
              "      <td>75.170000</td>\n",
              "      <td>420.300000</td>\n",
              "      <td>0.086370</td>\n",
              "      <td>0.064920</td>\n",
              "      <td>0.029560</td>\n",
              "      <td>0.020310</td>\n",
              "      <td>0.161900</td>\n",
              "      <td>0.057700</td>\n",
              "      <td>...</td>\n",
              "      <td>13.010000</td>\n",
              "      <td>21.080000</td>\n",
              "      <td>84.110000</td>\n",
              "      <td>515.300000</td>\n",
              "      <td>0.116600</td>\n",
              "      <td>0.147200</td>\n",
              "      <td>0.114500</td>\n",
              "      <td>0.064930</td>\n",
              "      <td>0.250400</td>\n",
              "      <td>0.071460</td>\n",
              "    </tr>\n",
              "    <tr>\n",
              "      <th>50%</th>\n",
              "      <td>13.370000</td>\n",
              "      <td>18.840000</td>\n",
              "      <td>86.240000</td>\n",
              "      <td>551.100000</td>\n",
              "      <td>0.095870</td>\n",
              "      <td>0.092630</td>\n",
              "      <td>0.061540</td>\n",
              "      <td>0.033500</td>\n",
              "      <td>0.179200</td>\n",
              "      <td>0.061540</td>\n",
              "      <td>...</td>\n",
              "      <td>14.970000</td>\n",
              "      <td>25.410000</td>\n",
              "      <td>97.660000</td>\n",
              "      <td>686.500000</td>\n",
              "      <td>0.131300</td>\n",
              "      <td>0.211900</td>\n",
              "      <td>0.226700</td>\n",
              "      <td>0.099930</td>\n",
              "      <td>0.282200</td>\n",
              "      <td>0.080040</td>\n",
              "    </tr>\n",
              "    <tr>\n",
              "      <th>75%</th>\n",
              "      <td>15.780000</td>\n",
              "      <td>21.800000</td>\n",
              "      <td>104.100000</td>\n",
              "      <td>782.700000</td>\n",
              "      <td>0.105300</td>\n",
              "      <td>0.130400</td>\n",
              "      <td>0.130700</td>\n",
              "      <td>0.074000</td>\n",
              "      <td>0.195700</td>\n",
              "      <td>0.066120</td>\n",
              "      <td>...</td>\n",
              "      <td>18.790000</td>\n",
              "      <td>29.720000</td>\n",
              "      <td>125.400000</td>\n",
              "      <td>1084.000000</td>\n",
              "      <td>0.146000</td>\n",
              "      <td>0.339100</td>\n",
              "      <td>0.382900</td>\n",
              "      <td>0.161400</td>\n",
              "      <td>0.317900</td>\n",
              "      <td>0.092080</td>\n",
              "    </tr>\n",
              "    <tr>\n",
              "      <th>max</th>\n",
              "      <td>28.110000</td>\n",
              "      <td>39.280000</td>\n",
              "      <td>188.500000</td>\n",
              "      <td>2501.000000</td>\n",
              "      <td>0.163400</td>\n",
              "      <td>0.345400</td>\n",
              "      <td>0.426800</td>\n",
              "      <td>0.201200</td>\n",
              "      <td>0.304000</td>\n",
              "      <td>0.097440</td>\n",
              "      <td>...</td>\n",
              "      <td>36.040000</td>\n",
              "      <td>49.540000</td>\n",
              "      <td>251.200000</td>\n",
              "      <td>4254.000000</td>\n",
              "      <td>0.222600</td>\n",
              "      <td>1.058000</td>\n",
              "      <td>1.252000</td>\n",
              "      <td>0.291000</td>\n",
              "      <td>0.663800</td>\n",
              "      <td>0.207500</td>\n",
              "    </tr>\n",
              "  </tbody>\n",
              "</table>\n",
              "<p>8 rows × 30 columns</p>\n",
              "</div>\n",
              "      <button class=\"colab-df-convert\" onclick=\"convertToInteractive('df-a5f68286-a0ca-4188-8f37-4d76e08d342a')\"\n",
              "              title=\"Convert this dataframe to an interactive table.\"\n",
              "              style=\"display:none;\">\n",
              "        \n",
              "  <svg xmlns=\"http://www.w3.org/2000/svg\" height=\"24px\"viewBox=\"0 0 24 24\"\n",
              "       width=\"24px\">\n",
              "    <path d=\"M0 0h24v24H0V0z\" fill=\"none\"/>\n",
              "    <path d=\"M18.56 5.44l.94 2.06.94-2.06 2.06-.94-2.06-.94-.94-2.06-.94 2.06-2.06.94zm-11 1L8.5 8.5l.94-2.06 2.06-.94-2.06-.94L8.5 2.5l-.94 2.06-2.06.94zm10 10l.94 2.06.94-2.06 2.06-.94-2.06-.94-.94-2.06-.94 2.06-2.06.94z\"/><path d=\"M17.41 7.96l-1.37-1.37c-.4-.4-.92-.59-1.43-.59-.52 0-1.04.2-1.43.59L10.3 9.45l-7.72 7.72c-.78.78-.78 2.05 0 2.83L4 21.41c.39.39.9.59 1.41.59.51 0 1.02-.2 1.41-.59l7.78-7.78 2.81-2.81c.8-.78.8-2.07 0-2.86zM5.41 20L4 18.59l7.72-7.72 1.47 1.35L5.41 20z\"/>\n",
              "  </svg>\n",
              "      </button>\n",
              "      \n",
              "  <style>\n",
              "    .colab-df-container {\n",
              "      display:flex;\n",
              "      flex-wrap:wrap;\n",
              "      gap: 12px;\n",
              "    }\n",
              "\n",
              "    .colab-df-convert {\n",
              "      background-color: #E8F0FE;\n",
              "      border: none;\n",
              "      border-radius: 50%;\n",
              "      cursor: pointer;\n",
              "      display: none;\n",
              "      fill: #1967D2;\n",
              "      height: 32px;\n",
              "      padding: 0 0 0 0;\n",
              "      width: 32px;\n",
              "    }\n",
              "\n",
              "    .colab-df-convert:hover {\n",
              "      background-color: #E2EBFA;\n",
              "      box-shadow: 0px 1px 2px rgba(60, 64, 67, 0.3), 0px 1px 3px 1px rgba(60, 64, 67, 0.15);\n",
              "      fill: #174EA6;\n",
              "    }\n",
              "\n",
              "    [theme=dark] .colab-df-convert {\n",
              "      background-color: #3B4455;\n",
              "      fill: #D2E3FC;\n",
              "    }\n",
              "\n",
              "    [theme=dark] .colab-df-convert:hover {\n",
              "      background-color: #434B5C;\n",
              "      box-shadow: 0px 1px 3px 1px rgba(0, 0, 0, 0.15);\n",
              "      filter: drop-shadow(0px 1px 2px rgba(0, 0, 0, 0.3));\n",
              "      fill: #FFFFFF;\n",
              "    }\n",
              "  </style>\n",
              "\n",
              "      <script>\n",
              "        const buttonEl =\n",
              "          document.querySelector('#df-a5f68286-a0ca-4188-8f37-4d76e08d342a button.colab-df-convert');\n",
              "        buttonEl.style.display =\n",
              "          google.colab.kernel.accessAllowed ? 'block' : 'none';\n",
              "\n",
              "        async function convertToInteractive(key) {\n",
              "          const element = document.querySelector('#df-a5f68286-a0ca-4188-8f37-4d76e08d342a');\n",
              "          const dataTable =\n",
              "            await google.colab.kernel.invokeFunction('convertToInteractive',\n",
              "                                                     [key], {});\n",
              "          if (!dataTable) return;\n",
              "\n",
              "          const docLinkHtml = 'Like what you see? Visit the ' +\n",
              "            '<a target=\"_blank\" href=https://colab.research.google.com/notebooks/data_table.ipynb>data table notebook</a>'\n",
              "            + ' to learn more about interactive tables.';\n",
              "          element.innerHTML = '';\n",
              "          dataTable['output_type'] = 'display_data';\n",
              "          await google.colab.output.renderOutput(dataTable, element);\n",
              "          const docLink = document.createElement('div');\n",
              "          docLink.innerHTML = docLinkHtml;\n",
              "          element.appendChild(docLink);\n",
              "        }\n",
              "      </script>\n",
              "    </div>\n",
              "  </div>\n",
              "  "
            ]
          },
          "metadata": {}
        },
        {
          "output_type": "stream",
          "name": "stdout",
          "text": [
            "There are 569 rows, and 31 columns.\n",
            "There are 0 duplicate rows.\n",
            "There are 0 missing values.\n"
          ]
        }
      ]
    },
    {
      "cell_type": "markdown",
      "source": [
        "#### Logistic Regression with default parameters"
      ],
      "metadata": {
        "id": "Qo96Z_Ix__6v"
      }
    },
    {
      "cell_type": "markdown",
      "source": [
        "#### Convert the string names of the classes to numeric values"
      ],
      "metadata": {
        "id": "oRkfrr-J_Rwl"
      }
    },
    {
      "cell_type": "code",
      "source": [
        "df['diagnosis'] = df['diagnosis'].replace({'B':0, 'M':1})"
      ],
      "metadata": {
        "id": "uGgjssdj_G2o"
      },
      "execution_count": null,
      "outputs": []
    },
    {
      "cell_type": "markdown",
      "source": [
        "#### Arrange data into a features matrix and a target vector"
      ],
      "metadata": {
        "id": "3ToN-_bp_ZI9"
      }
    },
    {
      "cell_type": "code",
      "source": [
        "y = df['diagnosis']\n",
        "X = df.drop(columns='diagnosis')"
      ],
      "metadata": {
        "id": "SmXubYeX_Vf6"
      },
      "execution_count": null,
      "outputs": []
    },
    {
      "cell_type": "markdown",
      "source": [
        "#### Train test split (model validation)"
      ],
      "metadata": {
        "id": "k6qTaf1__f-M"
      }
    },
    {
      "cell_type": "code",
      "source": [
        "X_train, X_test, y_train, y_test = train_test_split(X, y, random_state=42)"
      ],
      "metadata": {
        "id": "p-oq-Bk4_dg_"
      },
      "execution_count": null,
      "outputs": []
    },
    {
      "cell_type": "markdown",
      "source": [
        "#### Scale the data using a model pipeline, fit the pipeline on the training data, evaluate the model's performance on the test set"
      ],
      "metadata": {
        "id": "9JxzoKDXBEin"
      }
    },
    {
      "cell_type": "code",
      "source": [
        "logreg = LogisticRegression()\n",
        "scaler = StandardScaler()\n",
        "logreg_pipe = make_pipeline(scaler, logreg)\n",
        "logreg_pipe.fit(X_train, y_train)\n",
        "print(logreg_pipe.score(X_train, y_train))\n",
        "print(logreg_pipe.score(X_test, y_test))"
      ],
      "metadata": {
        "colab": {
          "base_uri": "https://localhost:8080/"
        },
        "id": "Zrweri7I_j0S",
        "outputId": "47e374c5-961f-42ba-ca99-3c6d5b289df4"
      },
      "execution_count": null,
      "outputs": [
        {
          "output_type": "stream",
          "name": "stdout",
          "text": [
            "0.9859154929577465\n",
            "0.9790209790209791\n"
          ]
        }
      ]
    },
    {
      "cell_type": "markdown",
      "source": [
        "##### L1 tuning"
      ],
      "metadata": {
        "id": "inK7X3-uCIAr"
      }
    },
    {
      "cell_type": "code",
      "source": [
        "c_values = [0.0001, 0.001, 0.01, 0.1, 1, 10, 100, 1000]\n",
        "train_scores = []\n",
        "test_scores = []\n",
        "for c in c_values:\n",
        "  log_reg = LogisticRegression(C=c, max_iter=1000, solver='liblinear', penalty='l1')\n",
        "  log_reg_pipe = make_pipeline(scaler, log_reg)\n",
        "  log_reg_pipe.fit(X_train, y_train)\n",
        "  train_scores.append(log_reg_pipe.score(X_train, y_train))\n",
        "  test_scores.append(log_reg_pipe.score(X_test, y_test))\n",
        "fig, ax = plt.subplots(1,1)\n",
        "ax.plot(c_values, train_scores, label='Training Accuracy')\n",
        "ax.plot(c_values, test_scores, label='Testing Accuracy')\n",
        "ax.set_xticks(c_values)\n",
        "ax.set_title('Change in accuracy over C values for l1 regularization')\n",
        "ax.legend()\n",
        "ax.set_xscale('log')\n",
        "{c:score for c, score in zip(c_values, test_scores)}"
      ],
      "metadata": {
        "colab": {
          "base_uri": "https://localhost:8080/",
          "height": 428
        },
        "id": "kzHolSVQBVZD",
        "outputId": "15fb565d-c611-4c54-ff3c-fc3f0ea9a8c9"
      },
      "execution_count": null,
      "outputs": [
        {
          "output_type": "execute_result",
          "data": {
            "text/plain": [
              "{0.0001: 0.6223776223776224,\n",
              " 0.001: 0.6223776223776224,\n",
              " 0.01: 0.951048951048951,\n",
              " 0.1: 0.972027972027972,\n",
              " 1: 0.972027972027972,\n",
              " 10: 0.9440559440559441,\n",
              " 100: 0.9370629370629371,\n",
              " 1000: 0.9370629370629371}"
            ]
          },
          "metadata": {},
          "execution_count": 9
        },
        {
          "output_type": "display_data",
          "data": {
            "text/plain": [
              "<Figure size 432x288 with 1 Axes>"
            ],
            "image/png": "[encoded data removed]"
          },
          "metadata": {
            "needs_background": "light"
          }
        }
      ]
    },
    {
      "cell_type": "markdown",
      "source": [
        "  - When C = 0.1, the accuracy on the test set is highest."
      ],
      "metadata": {
        "id": "CG9Ls2vkCoML"
      }
    },
    {
      "cell_type": "markdown",
      "source": [
        "##### L2 tuning"
      ],
      "metadata": {
        "id": "wE7nBJWPDIVw"
      }
    },
    {
      "cell_type": "code",
      "source": [
        "c_values = [0.0001, 0.001, 0.01, 0.1, 1, 10, 100, 1000]\n",
        "train_scores = []\n",
        "test_scores = []\n",
        "for c in c_values:\n",
        "  log_reg = LogisticRegression(C=c, max_iter=1000, solver='liblinear', penalty='l2')\n",
        "  log_reg_pipe = make_pipeline(scaler, log_reg)\n",
        "  log_reg_pipe.fit(X_train, y_train)\n",
        "  train_scores.append(log_reg_pipe.score(X_train, y_train))\n",
        "  test_scores.append(log_reg_pipe.score(X_test, y_test))\n",
        "fix, ax = plt.subplots(1, 1)\n",
        "ax.plot(c_values, train_scores, label = 'Training Accuracy')\n",
        "ax.plot(c_values, test_scores, label = 'Testing Accuracy')\n",
        "ax.set_xticks(c_values)\n",
        "ax.set_title('Change in accuracy over C values for l2 regularization')\n",
        "ax.legend()\n",
        "ax.set_xscale('log')\n",
        "{c:score for c, score in zip(c_values, test_scores)}"
      ],
      "metadata": {
        "colab": {
          "base_uri": "https://localhost:8080/",
          "height": 428
        },
        "id": "n5D77F1YCeBm",
        "outputId": "1a416365-d6dd-4e83-b92b-ef5858bf744d"
      },
      "execution_count": null,
      "outputs": [
        {
          "output_type": "execute_result",
          "data": {
            "text/plain": [
              "{0.0001: 0.951048951048951,\n",
              " 0.001: 0.951048951048951,\n",
              " 0.01: 0.9790209790209791,\n",
              " 0.1: 0.993006993006993,\n",
              " 1: 0.9790209790209791,\n",
              " 10: 0.972027972027972,\n",
              " 100: 0.951048951048951,\n",
              " 1000: 0.9370629370629371}"
            ]
          },
          "metadata": {},
          "execution_count": 10
        },
        {
          "output_type": "display_data",
          "data": {
            "text/plain": [
              "<Figure size 432x288 with 1 Axes>"
            ],
            "image/png": "[encoded data removed]"
          },
          "metadata": {
            "needs_background": "light"
          }
        }
      ]
    },
    {
      "cell_type": "markdown",
      "source": [
        "  - When C = 0.1, the accuracy on the test set is highest."
      ],
      "metadata": {
        "id": "-UZ-vex4DmZK"
      }
    },
    {
      "cell_type": "markdown",
      "source": [
        "#### Solver tuning"
      ],
      "metadata": {
        "id": "81MbIqGiEiG6"
      }
    },
    {
      "cell_type": "code",
      "source": [
        "s_values = ['liblinear', 'lbfgs', 'newton-cg', 'sag', 'saga']\n",
        "train_scores = []\n",
        "test_scores = []\n",
        "for s in s_values:\n",
        "  log_reg = LogisticRegression(C=0.1, max_iter=1000, solver=s, penalty='l2')\n",
        "  log_reg_pipe = make_pipeline(scaler, log_reg)\n",
        "  log_reg_pipe.fit(X_train, y_train)\n",
        "  train_scores.append(log_reg_pipe.score(X_train, y_train))\n",
        "  test_scores.append(log_reg_pipe.score(X_test, y_test))\n",
        "fix, ax = plt.subplots(1, 1)\n",
        "ax.plot(s_values, train_scores, label = 'Training Accuracy')\n",
        "ax.plot(s_values, test_scores, label = 'Testing Accuracy')\n",
        "ax.set_xticks(s_values)\n",
        "ax.set_title('Change in accuracy')\n",
        "ax.legend()\n",
        "{s:score for s, score in zip(s_values, test_scores)}"
      ],
      "metadata": {
        "id": "AmIq-V03Dahz",
        "colab": {
          "base_uri": "https://localhost:8080/",
          "height": 370
        },
        "outputId": "c6d89852-38de-417b-e035-e0ff865d7306"
      },
      "execution_count": null,
      "outputs": [
        {
          "output_type": "execute_result",
          "data": {
            "text/plain": [
              "{'liblinear': 0.993006993006993,\n",
              " 'lbfgs': 0.986013986013986,\n",
              " 'newton-cg': 0.986013986013986,\n",
              " 'sag': 0.986013986013986,\n",
              " 'saga': 0.986013986013986}"
            ]
          },
          "metadata": {},
          "execution_count": 11
        },
        {
          "output_type": "display_data",
          "data": {
            "text/plain": [
              "<Figure size 432x288 with 1 Axes>"
            ],
            "image/png": "[encoded data removed]"
          },
          "metadata": {
            "needs_background": "light"
          }
        }
      ]
    },
    {
      "cell_type": "code",
      "source": [
        "s_values = ['liblinear', 'saga']\n",
        "train_scores = []\n",
        "test_scores = []\n",
        "for s in s_values:\n",
        "  log_reg = LogisticRegression(C=0.1, max_iter=1000, solver=s, penalty='l1')\n",
        "  log_reg_pipe = make_pipeline(scaler, log_reg)\n",
        "  log_reg_pipe.fit(X_train, y_train)\n",
        "  train_scores.append(log_reg_pipe.score(X_train, y_train))\n",
        "  test_scores.append(log_reg_pipe.score(X_test, y_test))\n",
        "fix, ax = plt.subplots(1, 1)\n",
        "ax.plot(s_values, train_scores, label = 'Training Accuracy')\n",
        "ax.plot(s_values, test_scores, label = 'Testing Accuracy')\n",
        "ax.set_xticks(s_values)\n",
        "ax.set_title('Change in accuracy')\n",
        "ax.legend()\n",
        "{s:score for s, score in zip(s_values, test_scores)}"
      ],
      "metadata": {
        "colab": {
          "base_uri": "https://localhost:8080/",
          "height": 299
        },
        "id": "xx_5YHMrR1Na",
        "outputId": "364f60f1-1dff-4c31-f7de-1bd332ebdcfe"
      },
      "execution_count": null,
      "outputs": [
        {
          "output_type": "execute_result",
          "data": {
            "text/plain": [
              "{'liblinear': 0.972027972027972, 'saga': 0.965034965034965}"
            ]
          },
          "metadata": {},
          "execution_count": 12
        },
        {
          "output_type": "display_data",
          "data": {
            "text/plain": [
              "<Figure size 432x288 with 1 Axes>"
            ],
            "image/png": "[encoded data removed]"
          },
          "metadata": {
            "needs_background": "light"
          }
        }
      ]
    },
    {
      "cell_type": "markdown",
      "source": [
        "  - When using the 'liblinear' solver and the 'l2' penalty, the accuracy on the test set is highest."
      ],
      "metadata": {
        "id": "gUY6ZLB5O01y"
      }
    },
    {
      "cell_type": "markdown",
      "source": [
        "#### Final Logistic Regression Model Evaluation"
      ],
      "metadata": {
        "id": "uqtqOCQsShxw"
      }
    },
    {
      "cell_type": "markdown",
      "source": [
        "##### Accuracy"
      ],
      "metadata": {
        "id": "wKVFpoUlU5R1"
      }
    },
    {
      "cell_type": "code",
      "source": [
        "lr_tuned = LogisticRegression(C=0.1, max_iter=1000, solver=s, penalty='l2')\n",
        "lr_tuned_pipe = make_pipeline(scaler, lr_tuned)\n",
        "lr_tuned_pipe.fit(X_train, y_train)\n",
        "train_preds_lr_tuned = lr_tuned_pipe.predict(X_train)\n",
        "test_preds_lr_tuned = lr_tuned_pipe.predict(X_test)\n",
        "accuracy_lr = accuracy_score(y_test, test_preds_lr_tuned)\n",
        "accuracy_lr"
      ],
      "metadata": {
        "colab": {
          "base_uri": "https://localhost:8080/"
        },
        "id": "fmiS51kQOaAc",
        "outputId": "dd421a88-b154-4b1b-d416-115138f2c3e0"
      },
      "execution_count": null,
      "outputs": [
        {
          "output_type": "execute_result",
          "data": {
            "text/plain": [
              "0.986013986013986"
            ]
          },
          "metadata": {},
          "execution_count": 13
        }
      ]
    },
    {
      "cell_type": "markdown",
      "source": [
        "  - The final Logistic Regression model is 98.60% accurate for making correct predictions on the test set."
      ],
      "metadata": {
        "id": "99Q5wDccWWM4"
      }
    },
    {
      "cell_type": "markdown",
      "source": [
        "##### Recall"
      ],
      "metadata": {
        "id": "RxaZ8tLJW33k"
      }
    },
    {
      "cell_type": "code",
      "source": [
        "recall_lr = recall_score(y_test, test_preds_lr_tuned)\n",
        "recall_lr"
      ],
      "metadata": {
        "colab": {
          "base_uri": "https://localhost:8080/"
        },
        "id": "4PCtalj5WSOJ",
        "outputId": "14f49ba3-d4c2-4a50-febe-378d702c2eed"
      },
      "execution_count": null,
      "outputs": [
        {
          "output_type": "execute_result",
          "data": {
            "text/plain": [
              "0.9629629629629629"
            ]
          },
          "metadata": {},
          "execution_count": 14
        }
      ]
    },
    {
      "cell_type": "markdown",
      "source": [
        "  - The final Logistic Regression model was 96.30% sensitive for predicting actual malignant tumors.\n"
      ],
      "metadata": {
        "id": "KZSSDDRTXJHL"
      }
    },
    {
      "cell_type": "markdown",
      "source": [
        "##### Precision"
      ],
      "metadata": {
        "id": "CZTdvMqlXwOq"
      }
    },
    {
      "cell_type": "code",
      "source": [
        "precision_lr = precision_score(y_test, test_preds_lr_tuned)\n",
        "precision_lr"
      ],
      "metadata": {
        "colab": {
          "base_uri": "https://localhost:8080/"
        },
        "id": "yCAaKAY-XIHB",
        "outputId": "f6f98a6c-89e7-4ffb-aa57-a1ca1ca9ee3d"
      },
      "execution_count": null,
      "outputs": [
        {
          "output_type": "execute_result",
          "data": {
            "text/plain": [
              "1.0"
            ]
          },
          "metadata": {},
          "execution_count": 15
        }
      ]
    },
    {
      "cell_type": "markdown",
      "source": [
        "  - The final Logistic Regression model had 100% specificity for predicting actual malignant tumors."
      ],
      "metadata": {
        "id": "E9BuWhy3YT-6"
      }
    },
    {
      "cell_type": "markdown",
      "source": [
        "##### Confusion Matrix Display"
      ],
      "metadata": {
        "id": "8r2dnZdXYjcC"
      }
    },
    {
      "cell_type": "code",
      "source": [
        "print('Logistic Regression Confusion Matrix')\n",
        "labels = ['Benign', 'Malignant']\n",
        "ConfusionMatrixDisplay.from_predictions(y_test, test_preds_lr_tuned, display_labels = labels, cmap = 'Reds', normalize = 'true');"
      ],
      "metadata": {
        "colab": {
          "base_uri": "https://localhost:8080/",
          "height": 301
        },
        "id": "QpbGcTEcX481",
        "outputId": "cb68f585-b8a4-4d59-b22d-3d508877813b"
      },
      "execution_count": null,
      "outputs": [
        {
          "output_type": "stream",
          "name": "stdout",
          "text": [
            "Logistic Regression Confusion Matrix\n"
          ]
        },
        {
          "output_type": "display_data",
          "data": {
            "text/plain": [
              "<Figure size 432x288 with 2 Axes>"
            ],
            "image/png": "[encoded data removed]"
          },
          "metadata": {
            "needs_background": "light"
          }
        }
      ]
    },
    {
      "cell_type": "markdown",
      "source": [
        "  - The final Logistic Regression model successfully classified 100% of the benign samples and 96% of the malignant samples."
      ],
      "metadata": {
        "id": "Ijsz4P0KaEx6"
      }
    },
    {
      "cell_type": "markdown",
      "source": [
        "##### Classification Report"
      ],
      "metadata": {
        "id": "8hFg2HGgZdGF"
      }
    },
    {
      "cell_type": "code",
      "source": [
        "print('Logistic Regression Classification Report')\n",
        "print(classification_report(y_test, test_preds_lr_tuned))"
      ],
      "metadata": {
        "colab": {
          "base_uri": "https://localhost:8080/"
        },
        "id": "k6wisrkKZBGr",
        "outputId": "2addf55f-aa5b-4f53-e1fc-20ec1bde2f7a"
      },
      "execution_count": null,
      "outputs": [
        {
          "output_type": "stream",
          "name": "stdout",
          "text": [
            "Logistic Regression Classification Report\n",
            "              precision    recall  f1-score   support\n",
            "\n",
            "           0       0.98      1.00      0.99        89\n",
            "           1       1.00      0.96      0.98        54\n",
            "\n",
            "    accuracy                           0.99       143\n",
            "   macro avg       0.99      0.98      0.99       143\n",
            "weighted avg       0.99      0.99      0.99       143\n",
            "\n"
          ]
        }
      ]
    },
    {
      "cell_type": "markdown",
      "source": [
        "  - The final Logistic Regression model had f1-scores of 99% for the benign class and 98% for the malignant class."
      ],
      "metadata": {
        "id": "jZGYAVylZ9d8"
      }
    },
    {
      "cell_type": "markdown",
      "source": [
        "#### KNN with default parameters"
      ],
      "metadata": {
        "id": "4Ne1OxCObA-Q"
      }
    },
    {
      "cell_type": "markdown",
      "source": [
        "#### Scale the data using a model pipeline, fit the pipeline on the training data, predict the values for the test set, evaluate the model's performance on the test set"
      ],
      "metadata": {
        "id": "O7ag4lFXArf1"
      }
    },
    {
      "cell_type": "code",
      "source": [
        "knn = KNeighborsClassifier()\n",
        "scaler = StandardScaler()\n",
        "knn_pipe = make_pipeline(scaler, knn)\n",
        "knn_pipe.fit(X_train, y_train)\n",
        "predictions = knn_pipe.predict(X_test)\n",
        "print(knn_pipe.score(X_train, y_train))\n",
        "print(knn_pipe.score(X_test, y_test))"
      ],
      "metadata": {
        "colab": {
          "base_uri": "https://localhost:8080/"
        },
        "id": "tAuvvJhv-gBi",
        "outputId": "754725cf-6144-418b-ec2a-19c67f99d684"
      },
      "execution_count": null,
      "outputs": [
        {
          "output_type": "stream",
          "name": "stdout",
          "text": [
            "0.9788732394366197\n",
            "0.958041958041958\n"
          ]
        }
      ]
    },
    {
      "cell_type": "markdown",
      "source": [
        "#### Tuning hyperparameters using GridSearchCV and pipelines"
      ],
      "metadata": {
        "id": "RcXZoRC6BKVB"
      }
    },
    {
      "cell_type": "markdown",
      "source": [
        "##### Choose parameters for tuning"
      ],
      "metadata": {
        "id": "FXy-QjtlBksA"
      }
    },
    {
      "cell_type": "code",
      "source": [
        "knn_pipe.get_params()"
      ],
      "metadata": {
        "colab": {
          "base_uri": "https://localhost:8080/"
        },
        "id": "klkMaiTGCvhF",
        "outputId": "21db0e02-fe56-4243-b900-cd9fdcfa25a5"
      },
      "execution_count": null,
      "outputs": [
        {
          "output_type": "execute_result",
          "data": {
            "text/plain": [
              "{'memory': None,\n",
              " 'steps': [('standardscaler', StandardScaler()),\n",
              "  ('kneighborsclassifier', KNeighborsClassifier())],\n",
              " 'verbose': False,\n",
              " 'standardscaler': StandardScaler(),\n",
              " 'kneighborsclassifier': KNeighborsClassifier(),\n",
              " 'standardscaler__copy': True,\n",
              " 'standardscaler__with_mean': True,\n",
              " 'standardscaler__with_std': True,\n",
              " 'kneighborsclassifier__algorithm': 'auto',\n",
              " 'kneighborsclassifier__leaf_size': 30,\n",
              " 'kneighborsclassifier__metric': 'minkowski',\n",
              " 'kneighborsclassifier__metric_params': None,\n",
              " 'kneighborsclassifier__n_jobs': None,\n",
              " 'kneighborsclassifier__n_neighbors': 5,\n",
              " 'kneighborsclassifier__p': 2,\n",
              " 'kneighborsclassifier__weights': 'uniform'}"
            ]
          },
          "metadata": {},
          "execution_count": 20
        }
      ]
    },
    {
      "cell_type": "markdown",
      "source": [
        "##### Create a parameter grid dictionary"
      ],
      "metadata": {
        "id": "Lw_f0l9NCtTJ"
      }
    },
    {
      "cell_type": "code",
      "source": [
        "pipe_param_grid = {'kneighborsclassifier__n_neighbors': range(1,50),\n",
        "              'kneighborsclassifier__p': range(1,10),\n",
        "              'kneighborsclassifier__weights': ['distance','uniform']}"
      ],
      "metadata": {
        "id": "BC2Qen8GBkJ7"
      },
      "execution_count": null,
      "outputs": []
    },
    {
      "cell_type": "markdown",
      "source": [
        "##### Instantiate the GridSearchCV Class."
      ],
      "metadata": {
        "id": "lzyIz0qkB4kJ"
      }
    },
    {
      "cell_type": "code",
      "source": [
        "knn_pipe_gs = GridSearchCV(knn_pipe, pipe_param_grid)"
      ],
      "metadata": {
        "id": "ln2wiFp8B6Zm"
      },
      "execution_count": null,
      "outputs": []
    },
    {
      "cell_type": "markdown",
      "source": [
        "##### Fit the GridSearchCV on the Training Data."
      ],
      "metadata": {
        "id": "QXF_BqstB9mQ"
      }
    },
    {
      "cell_type": "code",
      "source": [
        "knn_pipe_gs.fit(X_train, y_train)"
      ],
      "metadata": {
        "colab": {
          "base_uri": "https://localhost:8080/",
          "height": 127
        },
        "id": "yV_cO8lzCBVF",
        "outputId": "2f8940c7-0f3b-4c7d-cbcb-11f7e5418ba2"
      },
      "execution_count": null,
      "outputs": [
        {
          "output_type": "execute_result",
          "data": {
            "text/plain": [
              "GridSearchCV(estimator=Pipeline(steps=[('standardscaler', StandardScaler()),\n",
              "                                       ('kneighborsclassifier',\n",
              "                                        KNeighborsClassifier())]),\n",
              "             param_grid={'kneighborsclassifier__n_neighbors': range(1, 50),\n",
              "                         'kneighborsclassifier__p': range(1, 10),\n",
              "                         'kneighborsclassifier__weights': ['distance',\n",
              "                                                           'uniform']})"
            ],
            "text/html": [
              "<style>#sk-4332dc30-abb3-460d-b3a4-83392b854d4f {color: black;background-color: white;}#sk-4332dc30-abb3-460d-b3a4-83392b854d4f pre{padding: 0;}#sk-4332dc30-abb3-460d-b3a4-83392b854d4f div.sk-toggleable {background-color: white;}#sk-4332dc30-abb3-460d-b3a4-83392b854d4f label.sk-toggleable__label {cursor: pointer;display: block;width: 100%;margin-bottom: 0;padding: 0.3em;box-sizing: border-box;text-align: center;}#sk-4332dc30-abb3-460d-b3a4-83392b854d4f label.sk-toggleable__label-arrow:before {content: \"▸\";float: left;margin-right: 0.25em;color: #696969;}#sk-4332dc30-abb3-460d-b3a4-83392b854d4f label.sk-toggleable__label-arrow:hover:before {color: black;}#sk-4332dc30-abb3-460d-b3a4-83392b854d4f div.sk-estimator:hover label.sk-toggleable__label-arrow:before {color: black;}#sk-4332dc30-abb3-460d-b3a4-83392b854d4f div.sk-toggleable__content {max-height: 0;max-width: 0;overflow: hidden;text-align: left;background-color: #f0f8ff;}#sk-4332dc30-abb3-460d-b3a4-83392b854d4f div.sk-toggleable__content pre {margin: 0.2em;color: black;border-radius: 0.25em;background-color: #f0f8ff;}#sk-4332dc30-abb3-460d-b3a4-83392b854d4f input.sk-toggleable__control:checked~div.sk-toggleable__content {max-height: 200px;max-width: 100%;overflow: auto;}#sk-4332dc30-abb3-460d-b3a4-83392b854d4f input.sk-toggleable__control:checked~label.sk-toggleable__label-arrow:before {content: \"▾\";}#sk-4332dc30-abb3-460d-b3a4-83392b854d4f div.sk-estimator input.sk-toggleable__control:checked~label.sk-toggleable__label {background-color: #d4ebff;}#sk-4332dc30-abb3-460d-b3a4-83392b854d4f div.sk-label input.sk-toggleable__control:checked~label.sk-toggleable__label {background-color: #d4ebff;}#sk-4332dc30-abb3-460d-b3a4-83392b854d4f input.sk-hidden--visually {border: 0;clip: rect(1px 1px 1px 1px);clip: rect(1px, 1px, 1px, 1px);height: 1px;margin: -1px;overflow: hidden;padding: 0;position: absolute;width: 1px;}#sk-4332dc30-abb3-460d-b3a4-83392b854d4f div.sk-estimator {font-family: monospace;background-color: #f0f8ff;border: 1px dotted black;border-radius: 0.25em;box-sizing: border-box;margin-bottom: 0.5em;}#sk-4332dc30-abb3-460d-b3a4-83392b854d4f div.sk-estimator:hover {background-color: #d4ebff;}#sk-4332dc30-abb3-460d-b3a4-83392b854d4f div.sk-parallel-item::after {content: \"\";width: 100%;border-bottom: 1px solid gray;flex-grow: 1;}#sk-4332dc30-abb3-460d-b3a4-83392b854d4f div.sk-label:hover label.sk-toggleable__label {background-color: #d4ebff;}#sk-4332dc30-abb3-460d-b3a4-83392b854d4f div.sk-serial::before {content: \"\";position: absolute;border-left: 1px solid gray;box-sizing: border-box;top: 2em;bottom: 0;left: 50%;}#sk-4332dc30-abb3-460d-b3a4-83392b854d4f div.sk-serial {display: flex;flex-direction: column;align-items: center;background-color: white;padding-right: 0.2em;padding-left: 0.2em;}#sk-4332dc30-abb3-460d-b3a4-83392b854d4f div.sk-item {z-index: 1;}#sk-4332dc30-abb3-460d-b3a4-83392b854d4f div.sk-parallel {display: flex;align-items: stretch;justify-content: center;background-color: white;}#sk-4332dc30-abb3-460d-b3a4-83392b854d4f div.sk-parallel::before {content: \"\";position: absolute;border-left: 1px solid gray;box-sizing: border-box;top: 2em;bottom: 0;left: 50%;}#sk-4332dc30-abb3-460d-b3a4-83392b854d4f div.sk-parallel-item {display: flex;flex-direction: column;position: relative;background-color: white;}#sk-4332dc30-abb3-460d-b3a4-83392b854d4f div.sk-parallel-item:first-child::after {align-self: flex-end;width: 50%;}#sk-4332dc30-abb3-460d-b3a4-83392b854d4f div.sk-parallel-item:last-child::after {align-self: flex-start;width: 50%;}#sk-4332dc30-abb3-460d-b3a4-83392b854d4f div.sk-parallel-item:only-child::after {width: 0;}#sk-4332dc30-abb3-460d-b3a4-83392b854d4f div.sk-dashed-wrapped {border: 1px dashed gray;margin: 0 0.4em 0.5em 0.4em;box-sizing: border-box;padding-bottom: 0.4em;background-color: white;position: relative;}#sk-4332dc30-abb3-460d-b3a4-83392b854d4f div.sk-label label {font-family: monospace;font-weight: bold;background-color: white;display: inline-block;line-height: 1.2em;}#sk-4332dc30-abb3-460d-b3a4-83392b854d4f div.sk-label-container {position: relative;z-index: 2;text-align: center;}#sk-4332dc30-abb3-460d-b3a4-83392b854d4f div.sk-container {/* jupyter's `normalize.less` sets `[hidden] { display: none; }` but bootstrap.min.css set `[hidden] { display: none !important; }` so we also need the `!important` here to be able to override the default hidden behavior on the sphinx rendered scikit-learn.org. See: https://github.com/scikit-learn/scikit-learn/issues/21755 */display: inline-block !important;position: relative;}#sk-4332dc30-abb3-460d-b3a4-83392b854d4f div.sk-text-repr-fallback {display: none;}</style><div id=\"sk-4332dc30-abb3-460d-b3a4-83392b854d4f\" class=\"sk-top-container\"><div class=\"sk-text-repr-fallback\"><pre>GridSearchCV(estimator=Pipeline(steps=[(&#x27;standardscaler&#x27;, StandardScaler()),\n",
              "                                       (&#x27;kneighborsclassifier&#x27;,\n",
              "                                        KNeighborsClassifier())]),\n",
              "             param_grid={&#x27;kneighborsclassifier__n_neighbors&#x27;: range(1, 50),\n",
              "                         &#x27;kneighborsclassifier__p&#x27;: range(1, 10),\n",
              "                         &#x27;kneighborsclassifier__weights&#x27;: [&#x27;distance&#x27;,\n",
              "                                                           &#x27;uniform&#x27;]})</pre><b>Please rerun this cell to show the HTML repr or trust the notebook.</b></div><div class=\"sk-container\" hidden><div class=\"sk-item sk-dashed-wrapped\"><div class=\"sk-label-container\"><div class=\"sk-label sk-toggleable\"><input class=\"sk-toggleable__control sk-hidden--visually\" id=\"d225e2a9-89ab-484a-ae0d-d7763b0f92ee\" type=\"checkbox\" ><label for=\"d225e2a9-89ab-484a-ae0d-d7763b0f92ee\" class=\"sk-toggleable__label sk-toggleable__label-arrow\">GridSearchCV</label><div class=\"sk-toggleable__content\"><pre>GridSearchCV(estimator=Pipeline(steps=[(&#x27;standardscaler&#x27;, StandardScaler()),\n",
              "                                       (&#x27;kneighborsclassifier&#x27;,\n",
              "                                        KNeighborsClassifier())]),\n",
              "             param_grid={&#x27;kneighborsclassifier__n_neighbors&#x27;: range(1, 50),\n",
              "                         &#x27;kneighborsclassifier__p&#x27;: range(1, 10),\n",
              "                         &#x27;kneighborsclassifier__weights&#x27;: [&#x27;distance&#x27;,\n",
              "                                                           &#x27;uniform&#x27;]})</pre></div></div></div><div class=\"sk-parallel\"><div class=\"sk-parallel-item\"><div class=\"sk-item\"><div class=\"sk-serial\"><div class=\"sk-item\"><div class=\"sk-serial\"><div class=\"sk-item\"><div class=\"sk-estimator sk-toggleable\"><input class=\"sk-toggleable__control sk-hidden--visually\" id=\"0877693c-99db-4e3d-9d14-c6ea4e343c4c\" type=\"checkbox\" ><label for=\"0877693c-99db-4e3d-9d14-c6ea4e343c4c\" class=\"sk-toggleable__label sk-toggleable__label-arrow\">StandardScaler</label><div class=\"sk-toggleable__content\"><pre>StandardScaler()</pre></div></div></div><div class=\"sk-item\"><div class=\"sk-estimator sk-toggleable\"><input class=\"sk-toggleable__control sk-hidden--visually\" id=\"a98f188a-5521-4b3b-8c61-337b92a75471\" type=\"checkbox\" ><label for=\"a98f188a-5521-4b3b-8c61-337b92a75471\" class=\"sk-toggleable__label sk-toggleable__label-arrow\">KNeighborsClassifier</label><div class=\"sk-toggleable__content\"><pre>KNeighborsClassifier()</pre></div></div></div></div></div></div></div></div></div></div></div></div>"
            ]
          },
          "metadata": {},
          "execution_count": 23
        }
      ]
    },
    {
      "cell_type": "markdown",
      "source": [
        "##### Find the best parameters"
      ],
      "metadata": {
        "id": "3zcks01YCHCc"
      }
    },
    {
      "cell_type": "code",
      "source": [
        "print('Best KNN Parameters:')\n",
        "print(knn_pipe_gs.best_params_)\n",
        "best_pipe = knn_pipe_gs.best_estimator_\n",
        "print(f'Accuracy of best KNN model is: {best_pipe.score(X_test, y_test)}')"
      ],
      "metadata": {
        "colab": {
          "base_uri": "https://localhost:8080/"
        },
        "id": "2Zna1N1dCKvL",
        "outputId": "a36df1ba-21c5-4466-bd9c-ceafbc8995a3"
      },
      "execution_count": null,
      "outputs": [
        {
          "output_type": "stream",
          "name": "stdout",
          "text": [
            "Best KNN Parameters:\n",
            "{'kneighborsclassifier__n_neighbors': 5, 'kneighborsclassifier__p': 4, 'kneighborsclassifier__weights': 'distance'}\n",
            "Accuracy of best KNN model is: 0.958041958041958\n"
          ]
        }
      ]
    },
    {
      "cell_type": "markdown",
      "source": [
        "#### Final KNN Model Evaluation"
      ],
      "metadata": {
        "id": "5E0cgdWmIVSJ"
      }
    },
    {
      "cell_type": "markdown",
      "source": [
        "##### Accuracy"
      ],
      "metadata": {
        "id": "7Iwvde4mIco_"
      }
    },
    {
      "cell_type": "code",
      "source": [
        "knn_tuned = KNeighborsClassifier(n_neighbors = 5, p = 4, weights = 'distance')\n",
        "knn_tuned_pipe = make_pipeline(scaler, knn_tuned)\n",
        "knn_tuned_pipe.fit(X_train, y_train)\n",
        "train_preds_knn_tuned = knn_tuned_pipe.predict(X_train)\n",
        "test_preds_knn_tuned = knn_tuned_pipe.predict(X_test)\n",
        "accuracy_knn = accuracy_score(y_test, test_preds_knn_tuned)\n",
        "accuracy_knn"
      ],
      "metadata": {
        "colab": {
          "base_uri": "https://localhost:8080/"
        },
        "id": "CE8qgs7oIjB2",
        "outputId": "27a9a0d2-6eea-405c-c7ac-e42033ef0548"
      },
      "execution_count": null,
      "outputs": [
        {
          "output_type": "execute_result",
          "data": {
            "text/plain": [
              "0.958041958041958"
            ]
          },
          "metadata": {},
          "execution_count": 25
        }
      ]
    },
    {
      "cell_type": "markdown",
      "source": [
        "  - The final KNN model is 95.80% accurate for making correct predictions on the test set.  The final Logistic Regression model was more accurate."
      ],
      "metadata": {
        "id": "MkhNRnexJIWp"
      }
    },
    {
      "cell_type": "markdown",
      "source": [
        "##### Recall"
      ],
      "metadata": {
        "id": "5zMd0ZEeJbs_"
      }
    },
    {
      "cell_type": "code",
      "source": [
        "recall_knn = recall_score(y_test, test_preds_knn_tuned)\n",
        "recall_knn"
      ],
      "metadata": {
        "colab": {
          "base_uri": "https://localhost:8080/"
        },
        "id": "dZcDHxl4JdGi",
        "outputId": "c4eea340-576b-46f7-bc7f-785bae57f0ae"
      },
      "execution_count": null,
      "outputs": [
        {
          "output_type": "execute_result",
          "data": {
            "text/plain": [
              "0.9444444444444444"
            ]
          },
          "metadata": {},
          "execution_count": 26
        }
      ]
    },
    {
      "cell_type": "markdown",
      "source": [
        "  - The final KNN model had 94.44% recall.  The final Logistic Regression model had higher recall."
      ],
      "metadata": {
        "id": "ODYSdFpSJqnX"
      }
    },
    {
      "cell_type": "markdown",
      "source": [
        "##### Precision"
      ],
      "metadata": {
        "id": "wMkjeNq7J6AB"
      }
    },
    {
      "cell_type": "code",
      "source": [
        "precision_knn = precision_score(y_test, test_preds_knn_tuned)\n",
        "precision_knn"
      ],
      "metadata": {
        "colab": {
          "base_uri": "https://localhost:8080/"
        },
        "id": "3zJZMsWPJ7tJ",
        "outputId": "7a99565a-1024-4fc6-a7ba-cacad448f607"
      },
      "execution_count": null,
      "outputs": [
        {
          "output_type": "execute_result",
          "data": {
            "text/plain": [
              "0.9444444444444444"
            ]
          },
          "metadata": {},
          "execution_count": 27
        }
      ]
    },
    {
      "cell_type": "markdown",
      "source": [
        "  - The final KNN model had 94.44% precision.  The final Logistic Regression model was more precise."
      ],
      "metadata": {
        "id": "0SNLD5WVKE6s"
      }
    },
    {
      "cell_type": "markdown",
      "source": [
        "##### Confusion Matrix Display"
      ],
      "metadata": {
        "id": "sq8xWo5zKTPY"
      }
    },
    {
      "cell_type": "code",
      "source": [
        "print('KNN Confusion Matrix')\n",
        "labels = ['Benign', 'Malignant']\n",
        "ConfusionMatrixDisplay.from_predictions(y_test, test_preds_knn_tuned, display_labels = labels, cmap = 'Oranges', normalize = 'true');"
      ],
      "metadata": {
        "colab": {
          "base_uri": "https://localhost:8080/",
          "height": 297
        },
        "id": "l2JlT9PIKUtp",
        "outputId": "5067b29f-6cf3-4472-ec85-88084b44abd3"
      },
      "execution_count": null,
      "outputs": [
        {
          "output_type": "stream",
          "name": "stdout",
          "text": [
            "KNN Confusion Matrix\n"
          ]
        },
        {
          "output_type": "display_data",
          "data": {
            "text/plain": [
              "<Figure size 432x288 with 2 Axes>"
            ],
            "image/png": "[encoded data removed]"
          },
          "metadata": {
            "needs_background": "light"
          }
        }
      ]
    },
    {
      "cell_type": "markdown",
      "source": [
        "  - The final KNN model successfully classified 97% of the benign samples and 94% of the malignant samples.  The final Logistic Regression model was more successful at classifying both classes."
      ],
      "metadata": {
        "id": "Lxt7SNytKu71"
      }
    },
    {
      "cell_type": "markdown",
      "source": [
        "##### Classification Report"
      ],
      "metadata": {
        "id": "Jr-HpIVTLH7m"
      }
    },
    {
      "cell_type": "code",
      "source": [
        "print('KNN Classification Report')\n",
        "print(classification_report(y_test, test_preds_knn_tuned))"
      ],
      "metadata": {
        "colab": {
          "base_uri": "https://localhost:8080/"
        },
        "id": "5C9YwxXcLJhI",
        "outputId": "73400bd4-e29f-4911-afd0-3360c6f5eea4"
      },
      "execution_count": null,
      "outputs": [
        {
          "output_type": "stream",
          "name": "stdout",
          "text": [
            "KNN Classification Report\n",
            "              precision    recall  f1-score   support\n",
            "\n",
            "           0       0.97      0.97      0.97        89\n",
            "           1       0.94      0.94      0.94        54\n",
            "\n",
            "    accuracy                           0.96       143\n",
            "   macro avg       0.96      0.96      0.96       143\n",
            "weighted avg       0.96      0.96      0.96       143\n",
            "\n"
          ]
        }
      ]
    },
    {
      "cell_type": "markdown",
      "source": [
        "  - The final KNN model had f1-scores of 97% for the benign class and 94% for the malignant class.\n",
        "  - The final Logistic Regression model had higher f1-scores for both classes."
      ],
      "metadata": {
        "id": "1Wlj2lLhLVXg"
      }
    },
    {
      "cell_type": "markdown",
      "source": [
        "#### Random Forest Classification with default parameters"
      ],
      "metadata": {
        "id": "kQx529DibLbz"
      }
    },
    {
      "cell_type": "markdown",
      "source": [
        "#### Instantiate the model, fit the model on the training data, predict the values for the test set, evaluate the model's performance on the test set"
      ],
      "metadata": {
        "id": "IZOBpG0wZiQg"
      }
    },
    {
      "cell_type": "code",
      "source": [
        "rf = RandomForestClassifier(random_state=42)\n",
        "rf.fit(X_train, y_train)\n",
        "rf_pred = rf.predict(X_test)\n",
        "print(rf.score(X_train, y_train))\n",
        "print(rf.score(X_test, y_test))"
      ],
      "metadata": {
        "colab": {
          "base_uri": "https://localhost:8080/"
        },
        "id": "6eAKg-ckZpb4",
        "outputId": "5585c445-0860-4d45-9cfa-7caaad8910ef"
      },
      "execution_count": null,
      "outputs": [
        {
          "output_type": "stream",
          "name": "stdout",
          "text": [
            "1.0\n",
            "0.965034965034965\n"
          ]
        }
      ]
    },
    {
      "cell_type": "markdown",
      "source": [
        "#### Tuning hyperparameters using GridSearchCV"
      ],
      "metadata": {
        "id": "ZcEdtPHkdKXr"
      }
    },
    {
      "cell_type": "markdown",
      "source": [
        "##### Choose parameters for tuning"
      ],
      "metadata": {
        "id": "up0MKkQOdaQG"
      }
    },
    {
      "cell_type": "code",
      "source": [
        "rf.get_params()"
      ],
      "metadata": {
        "colab": {
          "base_uri": "https://localhost:8080/"
        },
        "id": "or5S15q8dft1",
        "outputId": "bdb4ba04-4547-447f-d430-b45faab17f3c"
      },
      "execution_count": null,
      "outputs": [
        {
          "output_type": "execute_result",
          "data": {
            "text/plain": [
              "{'bootstrap': True,\n",
              " 'ccp_alpha': 0.0,\n",
              " 'class_weight': None,\n",
              " 'criterion': 'gini',\n",
              " 'max_depth': None,\n",
              " 'max_features': 'auto',\n",
              " 'max_leaf_nodes': None,\n",
              " 'max_samples': None,\n",
              " 'min_impurity_decrease': 0.0,\n",
              " 'min_samples_leaf': 1,\n",
              " 'min_samples_split': 2,\n",
              " 'min_weight_fraction_leaf': 0.0,\n",
              " 'n_estimators': 100,\n",
              " 'n_jobs': None,\n",
              " 'oob_score': False,\n",
              " 'random_state': 42,\n",
              " 'verbose': 0,\n",
              " 'warm_start': False}"
            ]
          },
          "metadata": {},
          "execution_count": 31
        }
      ]
    },
    {
      "cell_type": "markdown",
      "source": [
        "##### Create a parameter grid dictionary"
      ],
      "metadata": {
        "id": "YhtaPXLielt6"
      }
    },
    {
      "cell_type": "code",
      "source": [
        "param_grid = {'max_depth': range(1,11),\n",
        "              'n_estimators': [50, 100, 150, 200, 250],\n",
        "              'min_samples_split': [2, 10, 100]}"
      ],
      "metadata": {
        "id": "Io-cpCmUdKwK"
      },
      "execution_count": null,
      "outputs": []
    },
    {
      "cell_type": "markdown",
      "source": [
        "##### Instantiate the GridSearchCV Class."
      ],
      "metadata": {
        "id": "cHdlB-u_g_a8"
      }
    },
    {
      "cell_type": "code",
      "source": [
        "rf_grid_search = GridSearchCV(rf, param_grid)"
      ],
      "metadata": {
        "id": "mGDcXtPvhFQ5"
      },
      "execution_count": null,
      "outputs": []
    },
    {
      "cell_type": "markdown",
      "source": [
        "##### Fit the GridSearchCV on the Training Data."
      ],
      "metadata": {
        "id": "SZZOAZhGhabd"
      }
    },
    {
      "cell_type": "code",
      "source": [
        "rf_grid_search.fit(X_train, y_train)"
      ],
      "metadata": {
        "colab": {
          "base_uri": "https://localhost:8080/",
          "height": 93
        },
        "id": "jwsbafhjhlmh",
        "outputId": "93de3a77-6151-4c87-ab58-f117cfb8189d"
      },
      "execution_count": null,
      "outputs": [
        {
          "output_type": "execute_result",
          "data": {
            "text/plain": [
              "GridSearchCV(estimator=RandomForestClassifier(random_state=42),\n",
              "             param_grid={'max_depth': range(1, 11),\n",
              "                         'min_samples_split': [2, 10, 100],\n",
              "                         'n_estimators': [50, 100, 150, 200, 250]})"
            ],
            "text/html": [
              "<style>#sk-3ab7ee9a-2692-4ccf-a156-d050fcbfd76e {color: black;background-color: white;}#sk-3ab7ee9a-2692-4ccf-a156-d050fcbfd76e pre{padding: 0;}#sk-3ab7ee9a-2692-4ccf-a156-d050fcbfd76e div.sk-toggleable {background-color: white;}#sk-3ab7ee9a-2692-4ccf-a156-d050fcbfd76e label.sk-toggleable__label {cursor: pointer;display: block;width: 100%;margin-bottom: 0;padding: 0.3em;box-sizing: border-box;text-align: center;}#sk-3ab7ee9a-2692-4ccf-a156-d050fcbfd76e label.sk-toggleable__label-arrow:before {content: \"▸\";float: left;margin-right: 0.25em;color: #696969;}#sk-3ab7ee9a-2692-4ccf-a156-d050fcbfd76e label.sk-toggleable__label-arrow:hover:before {color: black;}#sk-3ab7ee9a-2692-4ccf-a156-d050fcbfd76e div.sk-estimator:hover label.sk-toggleable__label-arrow:before {color: black;}#sk-3ab7ee9a-2692-4ccf-a156-d050fcbfd76e div.sk-toggleable__content {max-height: 0;max-width: 0;overflow: hidden;text-align: left;background-color: #f0f8ff;}#sk-3ab7ee9a-2692-4ccf-a156-d050fcbfd76e div.sk-toggleable__content pre {margin: 0.2em;color: black;border-radius: 0.25em;background-color: #f0f8ff;}#sk-3ab7ee9a-2692-4ccf-a156-d050fcbfd76e input.sk-toggleable__control:checked~div.sk-toggleable__content {max-height: 200px;max-width: 100%;overflow: auto;}#sk-3ab7ee9a-2692-4ccf-a156-d050fcbfd76e input.sk-toggleable__control:checked~label.sk-toggleable__label-arrow:before {content: \"▾\";}#sk-3ab7ee9a-2692-4ccf-a156-d050fcbfd76e div.sk-estimator input.sk-toggleable__control:checked~label.sk-toggleable__label {background-color: #d4ebff;}#sk-3ab7ee9a-2692-4ccf-a156-d050fcbfd76e div.sk-label input.sk-toggleable__control:checked~label.sk-toggleable__label {background-color: #d4ebff;}#sk-3ab7ee9a-2692-4ccf-a156-d050fcbfd76e input.sk-hidden--visually {border: 0;clip: rect(1px 1px 1px 1px);clip: rect(1px, 1px, 1px, 1px);height: 1px;margin: -1px;overflow: hidden;padding: 0;position: absolute;width: 1px;}#sk-3ab7ee9a-2692-4ccf-a156-d050fcbfd76e div.sk-estimator {font-family: monospace;background-color: #f0f8ff;border: 1px dotted black;border-radius: 0.25em;box-sizing: border-box;margin-bottom: 0.5em;}#sk-3ab7ee9a-2692-4ccf-a156-d050fcbfd76e div.sk-estimator:hover {background-color: #d4ebff;}#sk-3ab7ee9a-2692-4ccf-a156-d050fcbfd76e div.sk-parallel-item::after {content: \"\";width: 100%;border-bottom: 1px solid gray;flex-grow: 1;}#sk-3ab7ee9a-2692-4ccf-a156-d050fcbfd76e div.sk-label:hover label.sk-toggleable__label {background-color: #d4ebff;}#sk-3ab7ee9a-2692-4ccf-a156-d050fcbfd76e div.sk-serial::before {content: \"\";position: absolute;border-left: 1px solid gray;box-sizing: border-box;top: 2em;bottom: 0;left: 50%;}#sk-3ab7ee9a-2692-4ccf-a156-d050fcbfd76e div.sk-serial {display: flex;flex-direction: column;align-items: center;background-color: white;padding-right: 0.2em;padding-left: 0.2em;}#sk-3ab7ee9a-2692-4ccf-a156-d050fcbfd76e div.sk-item {z-index: 1;}#sk-3ab7ee9a-2692-4ccf-a156-d050fcbfd76e div.sk-parallel {display: flex;align-items: stretch;justify-content: center;background-color: white;}#sk-3ab7ee9a-2692-4ccf-a156-d050fcbfd76e div.sk-parallel::before {content: \"\";position: absolute;border-left: 1px solid gray;box-sizing: border-box;top: 2em;bottom: 0;left: 50%;}#sk-3ab7ee9a-2692-4ccf-a156-d050fcbfd76e div.sk-parallel-item {display: flex;flex-direction: column;position: relative;background-color: white;}#sk-3ab7ee9a-2692-4ccf-a156-d050fcbfd76e div.sk-parallel-item:first-child::after {align-self: flex-end;width: 50%;}#sk-3ab7ee9a-2692-4ccf-a156-d050fcbfd76e div.sk-parallel-item:last-child::after {align-self: flex-start;width: 50%;}#sk-3ab7ee9a-2692-4ccf-a156-d050fcbfd76e div.sk-parallel-item:only-child::after {width: 0;}#sk-3ab7ee9a-2692-4ccf-a156-d050fcbfd76e div.sk-dashed-wrapped {border: 1px dashed gray;margin: 0 0.4em 0.5em 0.4em;box-sizing: border-box;padding-bottom: 0.4em;background-color: white;position: relative;}#sk-3ab7ee9a-2692-4ccf-a156-d050fcbfd76e div.sk-label label {font-family: monospace;font-weight: bold;background-color: white;display: inline-block;line-height: 1.2em;}#sk-3ab7ee9a-2692-4ccf-a156-d050fcbfd76e div.sk-label-container {position: relative;z-index: 2;text-align: center;}#sk-3ab7ee9a-2692-4ccf-a156-d050fcbfd76e div.sk-container {/* jupyter's `normalize.less` sets `[hidden] { display: none; }` but bootstrap.min.css set `[hidden] { display: none !important; }` so we also need the `!important` here to be able to override the default hidden behavior on the sphinx rendered scikit-learn.org. See: https://github.com/scikit-learn/scikit-learn/issues/21755 */display: inline-block !important;position: relative;}#sk-3ab7ee9a-2692-4ccf-a156-d050fcbfd76e div.sk-text-repr-fallback {display: none;}</style><div id=\"sk-3ab7ee9a-2692-4ccf-a156-d050fcbfd76e\" class=\"sk-top-container\"><div class=\"sk-text-repr-fallback\"><pre>GridSearchCV(estimator=RandomForestClassifier(random_state=42),\n",
              "             param_grid={&#x27;max_depth&#x27;: range(1, 11),\n",
              "                         &#x27;min_samples_split&#x27;: [2, 10, 100],\n",
              "                         &#x27;n_estimators&#x27;: [50, 100, 150, 200, 250]})</pre><b>Please rerun this cell to show the HTML repr or trust the notebook.</b></div><div class=\"sk-container\" hidden><div class=\"sk-item sk-dashed-wrapped\"><div class=\"sk-label-container\"><div class=\"sk-label sk-toggleable\"><input class=\"sk-toggleable__control sk-hidden--visually\" id=\"185c249a-0e4f-4199-ba20-4c808a7bc758\" type=\"checkbox\" ><label for=\"185c249a-0e4f-4199-ba20-4c808a7bc758\" class=\"sk-toggleable__label sk-toggleable__label-arrow\">GridSearchCV</label><div class=\"sk-toggleable__content\"><pre>GridSearchCV(estimator=RandomForestClassifier(random_state=42),\n",
              "             param_grid={&#x27;max_depth&#x27;: range(1, 11),\n",
              "                         &#x27;min_samples_split&#x27;: [2, 10, 100],\n",
              "                         &#x27;n_estimators&#x27;: [50, 100, 150, 200, 250]})</pre></div></div></div><div class=\"sk-parallel\"><div class=\"sk-parallel-item\"><div class=\"sk-item\"><div class=\"sk-serial\"><div class=\"sk-item\"><div class=\"sk-estimator sk-toggleable\"><input class=\"sk-toggleable__control sk-hidden--visually\" id=\"d81dc8e1-ed32-45e8-92fd-675c1a3c9dd0\" type=\"checkbox\" ><label for=\"d81dc8e1-ed32-45e8-92fd-675c1a3c9dd0\" class=\"sk-toggleable__label sk-toggleable__label-arrow\">RandomForestClassifier</label><div class=\"sk-toggleable__content\"><pre>RandomForestClassifier(random_state=42)</pre></div></div></div></div></div></div></div></div></div></div>"
            ]
          },
          "metadata": {},
          "execution_count": 34
        }
      ]
    },
    {
      "cell_type": "markdown",
      "source": [
        "##### Find the best parameters"
      ],
      "metadata": {
        "id": "JQHjtAAMh0GH"
      }
    },
    {
      "cell_type": "code",
      "source": [
        "print('Best Random Forest Classifier Parameters:')\n",
        "print(rf_grid_search.best_params_)\n",
        "best_model = rf_grid_search.best_estimator_\n",
        "print(f'Accuracy of best Random Forest Classifier model is: {best_model.score(X_test, y_test)}')"
      ],
      "metadata": {
        "colab": {
          "base_uri": "https://localhost:8080/"
        },
        "id": "3_nLU-Vth1kJ",
        "outputId": "3c72a81d-f2b2-4bc6-e4ba-f9cd4ea16203"
      },
      "execution_count": null,
      "outputs": [
        {
          "output_type": "stream",
          "name": "stdout",
          "text": [
            "Best Random Forest Classifier Parameters:\n",
            "{'max_depth': 7, 'min_samples_split': 2, 'n_estimators': 50}\n",
            "Accuracy of best Random Forest Classifier model is: 0.965034965034965\n"
          ]
        }
      ]
    },
    {
      "cell_type": "markdown",
      "source": [
        "##### Examine the best parameters found by the GridSearchCV object"
      ],
      "metadata": {
        "id": "lLIjf-B2jDiQ"
      }
    },
    {
      "cell_type": "code",
      "source": [
        "param_grid2 = {'max_depth': range(7,15),\n",
        "              'n_estimators': range(40,50),\n",
        "              'min_samples_split': range(2,5)}\n",
        "rf_grid_search2 = GridSearchCV(rf, param_grid2)\n",
        "rf_grid_search2.fit(X_train, y_train)\n",
        "print(rf_grid_search2.best_params_)\n",
        "best_rf = rf_grid_search2.best_estimator_\n",
        "print(f'Accuracy of best Random Forest Classifier model is: {best_rf.score(X_test, y_test)}')"
      ],
      "metadata": {
        "colab": {
          "base_uri": "https://localhost:8080/"
        },
        "id": "tq-DN--DjSBF",
        "outputId": "0342e7d2-b55f-4ab5-d467-3c6a79085918"
      },
      "execution_count": null,
      "outputs": [
        {
          "output_type": "stream",
          "name": "stdout",
          "text": [
            "{'max_depth': 8, 'min_samples_split': 4, 'n_estimators': 42}\n",
            "Accuracy of best Random Forest Classifier model is: 0.965034965034965\n"
          ]
        }
      ]
    },
    {
      "cell_type": "markdown",
      "source": [
        "#### Final Random Forest Classifier Model Evaluation"
      ],
      "metadata": {
        "id": "XBFZKrMlmMl9"
      }
    },
    {
      "cell_type": "markdown",
      "source": [
        "##### Accuracy"
      ],
      "metadata": {
        "id": "b_joHJIjmZC1"
      }
    },
    {
      "cell_type": "code",
      "source": [
        "rf_tuned = RandomForestClassifier(max_depth = 8, min_samples_split = 4, n_estimators = 42, random_state=42)\n",
        "rf_tuned.fit(X_train, y_train)\n",
        "train_preds_rf_tuned = rf_tuned.predict(X_train)\n",
        "test_preds_rf_tuned = rf_tuned.predict(X_test)\n",
        "accuracy_rf = accuracy_score(y_test, test_preds_rf_tuned)\n",
        "accuracy_rf"
      ],
      "metadata": {
        "colab": {
          "base_uri": "https://localhost:8080/"
        },
        "id": "W8W5oCW1mbAW",
        "outputId": "48e8cd1f-7ca3-4370-9055-7824d1e47001"
      },
      "execution_count": null,
      "outputs": [
        {
          "output_type": "execute_result",
          "data": {
            "text/plain": [
              "0.965034965034965"
            ]
          },
          "metadata": {},
          "execution_count": 37
        }
      ]
    },
    {
      "cell_type": "markdown",
      "source": [
        "  - The final Random Forest Classifier model is 96.5% accurate for making correct predictions on the test set.\n",
        "  - The final KNN model was less accurate, and the final Logistic Regression model was more accurate. "
      ],
      "metadata": {
        "id": "QLBpD28coXHb"
      }
    },
    {
      "cell_type": "markdown",
      "source": [
        "##### Recall"
      ],
      "metadata": {
        "id": "GGH_bOqnpAXS"
      }
    },
    {
      "cell_type": "code",
      "source": [
        "recall_rf = recall_score(y_test, test_preds_rf_tuned)\n",
        "recall_rf"
      ],
      "metadata": {
        "colab": {
          "base_uri": "https://localhost:8080/"
        },
        "id": "euWOUJgFpCDX",
        "outputId": "e01b69b6-2fe4-452e-f68d-3ba95fc3af34"
      },
      "execution_count": null,
      "outputs": [
        {
          "output_type": "execute_result",
          "data": {
            "text/plain": [
              "0.9444444444444444"
            ]
          },
          "metadata": {},
          "execution_count": 38
        }
      ]
    },
    {
      "cell_type": "markdown",
      "source": [
        "  - The final Random Forest Classifier model had 94.44% recall.\n",
        "  - The final KNN model had the same recall, and the final Logistic Regression model had higher recall."
      ],
      "metadata": {
        "id": "Ug01uNw8pLMy"
      }
    },
    {
      "cell_type": "markdown",
      "source": [
        "##### Precision"
      ],
      "metadata": {
        "id": "gedCfm8opkhE"
      }
    },
    {
      "cell_type": "code",
      "source": [
        "precision_rf = precision_score(y_test, test_preds_rf_tuned)\n",
        "precision_rf"
      ],
      "metadata": {
        "colab": {
          "base_uri": "https://localhost:8080/"
        },
        "id": "zn6S4V-RpmlI",
        "outputId": "e59493c7-8d7e-472c-f918-0934a9177d51"
      },
      "execution_count": null,
      "outputs": [
        {
          "output_type": "execute_result",
          "data": {
            "text/plain": [
              "0.9622641509433962"
            ]
          },
          "metadata": {},
          "execution_count": 39
        }
      ]
    },
    {
      "cell_type": "markdown",
      "source": [
        "  - The final Random Forest Classifier model had 96.23% precision.  \n",
        "  - The final KNN model was less precise, and the final Logistic Regression model was more precise."
      ],
      "metadata": {
        "id": "uPSxudqqpvYK"
      }
    },
    {
      "cell_type": "markdown",
      "source": [
        "##### Confusion Matrix Display"
      ],
      "metadata": {
        "id": "gIEQ7rrIqRq-"
      }
    },
    {
      "cell_type": "code",
      "source": [
        "print('Random Forest Classifier Confusion Matrix')\n",
        "labels = ['Benign', 'Malignant']\n",
        "ConfusionMatrixDisplay.from_predictions(y_test, test_preds_rf_tuned, display_labels = labels, cmap = 'Purples', normalize = 'true');"
      ],
      "metadata": {
        "colab": {
          "base_uri": "https://localhost:8080/",
          "height": 297
        },
        "id": "zBl-73DYqWU3",
        "outputId": "8d620e81-7941-4bd4-c2e4-f376bcd2c255"
      },
      "execution_count": null,
      "outputs": [
        {
          "output_type": "stream",
          "name": "stdout",
          "text": [
            "Random Forest Classifier Confusion Matrix\n"
          ]
        },
        {
          "output_type": "display_data",
          "data": {
            "text/plain": [
              "<Figure size 432x288 with 2 Axes>"
            ],
            "image/png": "[encoded data removed]"
          },
          "metadata": {
            "needs_background": "light"
          }
        }
      ]
    },
    {
      "cell_type": "markdown",
      "source": [
        "  - The final Random Forest Classifier successfully classified 98% of the benign samples and 94% of the malignant samples.\n",
        "  - The final KNN model was less successful at classifying the benign samples and equally successful at classifying the malignant samples.\n",
        "  - The final Logistic Regression model was more successful at classifying both classes."
      ],
      "metadata": {
        "id": "24Hcw6fwqufO"
      }
    },
    {
      "cell_type": "markdown",
      "source": [
        "##### Classification Report"
      ],
      "metadata": {
        "id": "cWjLW_k2rQum"
      }
    },
    {
      "cell_type": "code",
      "source": [
        "print('Random Forest Classifier Classification Report')\n",
        "print(classification_report(y_test, test_preds_rf_tuned))"
      ],
      "metadata": {
        "colab": {
          "base_uri": "https://localhost:8080/"
        },
        "id": "SO8SxZjQrVmZ",
        "outputId": "37bc58b6-fdc6-4276-fcb3-ccd9dac51bcc"
      },
      "execution_count": null,
      "outputs": [
        {
          "output_type": "stream",
          "name": "stdout",
          "text": [
            "Random Forest Classifier Classification Report\n",
            "              precision    recall  f1-score   support\n",
            "\n",
            "           0       0.97      0.98      0.97        89\n",
            "           1       0.96      0.94      0.95        54\n",
            "\n",
            "    accuracy                           0.97       143\n",
            "   macro avg       0.96      0.96      0.96       143\n",
            "weighted avg       0.97      0.97      0.96       143\n",
            "\n"
          ]
        }
      ]
    },
    {
      "cell_type": "markdown",
      "source": [
        "  - The final Random Forest Classifier model had f1-scores of 97% for the benign class and 95% for the malignant class.\n",
        "  - The final KNN model had the same f1-score for the benign class and a lower f1-score for the malignant class.\n",
        "  - The final Logistic Regression model had higher f1-scores for both classes."
      ],
      "metadata": {
        "id": "PFQbcbsWrj_t"
      }
    },
    {
      "cell_type": "markdown",
      "source": [
        "## Which hyperparameters did you tune for each of the models?"
      ],
      "metadata": {
        "id": "h__0xRY1bPlJ"
      }
    },
    {
      "cell_type": "markdown",
      "source": [
        "- The Logistic Regression model was tuned for c_value (the weight of the training data vs the weight of the complexity penalty), max_iter (the maximum number of iterations taken for the solvers to converge), solver (the algorithm to use in the optimization problem), and penalty (the penalty term added to the weights that the model uses to make predictions).\n",
        "- The KNN model was tuned for n_neighbors (the number of neighbors), p (the power parameter for the Minkowski metric), and weights (the weight function used in prediction).\n",
        "- The Random Forest Classifier was tuned for max_depth (the number of splits that each decision tree is allowed to make), n_estimators (the number of trees to build before making predictions), and min_samples_split (the minimum number of samples required to split an internal node). \n"
      ],
      "metadata": {
        "id": "hOvwwGkYsWRx"
      }
    },
    {
      "cell_type": "markdown",
      "source": [
        "## Which model would you put into production to diagnose malignant tumors?"
      ],
      "metadata": {
        "id": "xJQYs3XQbXON"
      }
    },
    {
      "cell_type": "markdown",
      "source": [
        "- The Logistic Regression model performed best for all evaluation metrics in this task.  It was 98.60% accurate for making correct predictions on the test set, it had 96.30% recall, and it had 100% precision.  It successfully classified 100% of the benign samples and 96% of the malignant samples."
      ],
      "metadata": {
        "id": "vy0p-iN1xq0v"
      }
    },
    {
      "cell_type": "markdown",
      "source": [
        "## How does consideration of the meaning of false positive and false negative errors affect how you determine what 'best' means in this case?"
      ],
      "metadata": {
        "id": "U-0K3ZsUbbgs"
      }
    },
    {
      "cell_type": "markdown",
      "source": [
        "- A false positive error occurs when a benign tumor is misdiagnosed as malignant, and a false negative error occurs when a malignant tumor is misdiagnosed as benign.  For this task, a false negative error is worse, because necessary treatment would likely not be given.  All three models had some false negative errors, but the Logistic Regression had fewer than the other two models."
      ],
      "metadata": {
        "id": "AGe8fsAdo936"
      }
    },
    {
      "cell_type": "code",
      "source": [],
      "metadata": {
        "id": "U3yytxEjZqK1"
      },
      "execution_count": null,
      "outputs": []
    }
  ]
}